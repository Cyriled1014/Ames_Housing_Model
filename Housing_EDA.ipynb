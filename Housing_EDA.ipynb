{
  "cells": [
    {
      "cell_type": "code",
      "execution_count": 2,
      "metadata": {
        "id": "EbGV4bB8JekH"
      },
      "outputs": [],
      "source": [
        "import pandas as pd\n",
        "import matplotlib.pyplot as plt\n",
        "import plotly.express as px\n",
        "import seaborn as sns\n",
        "import numpy as np\n",
        "\n",
        "color_palette = sns.color_palette(\"husl\")\n",
        "import random"
      ]
    },
    {
      "cell_type": "code",
      "execution_count": 3,
      "metadata": {
        "id": "G1u0wDBrKNb5"
      },
      "outputs": [],
      "source": [
        "train = pd.read_csv(\"train.csv\")\n",
        "test = pd.read_csv(\"test.csv\")"
      ]
    },
    {
      "cell_type": "markdown",
      "metadata": {
        "id": "dRtJRKu6KoKq"
      },
      "source": [
        "# EDA"
      ]
    },
    {
      "cell_type": "code",
      "execution_count": 4,
      "metadata": {
        "colab": {
          "base_uri": "https://localhost:8080/",
          "height": 236
        },
        "id": "8EjFDkZSKlZK",
        "outputId": "15e7377d-b105-4cd5-8002-9a1dc2e96bf0"
      },
      "outputs": [
        {
          "data": {
            "text/html": [
              "<div>\n",
              "<style scoped>\n",
              "    .dataframe tbody tr th:only-of-type {\n",
              "        vertical-align: middle;\n",
              "    }\n",
              "\n",
              "    .dataframe tbody tr th {\n",
              "        vertical-align: top;\n",
              "    }\n",
              "\n",
              "    .dataframe thead th {\n",
              "        text-align: right;\n",
              "    }\n",
              "</style>\n",
              "<table border=\"1\" class=\"dataframe\">\n",
              "  <thead>\n",
              "    <tr style=\"text-align: right;\">\n",
              "      <th></th>\n",
              "      <th>Id</th>\n",
              "      <th>MSSubClass</th>\n",
              "      <th>MSZoning</th>\n",
              "      <th>LotFrontage</th>\n",
              "      <th>LotArea</th>\n",
              "      <th>Street</th>\n",
              "      <th>Alley</th>\n",
              "      <th>LotShape</th>\n",
              "      <th>LandContour</th>\n",
              "      <th>Utilities</th>\n",
              "      <th>...</th>\n",
              "      <th>PoolArea</th>\n",
              "      <th>PoolQC</th>\n",
              "      <th>Fence</th>\n",
              "      <th>MiscFeature</th>\n",
              "      <th>MiscVal</th>\n",
              "      <th>MoSold</th>\n",
              "      <th>YrSold</th>\n",
              "      <th>SaleType</th>\n",
              "      <th>SaleCondition</th>\n",
              "      <th>SalePrice</th>\n",
              "    </tr>\n",
              "  </thead>\n",
              "  <tbody>\n",
              "    <tr>\n",
              "      <th>0</th>\n",
              "      <td>1</td>\n",
              "      <td>60</td>\n",
              "      <td>RL</td>\n",
              "      <td>65.0</td>\n",
              "      <td>8450</td>\n",
              "      <td>Pave</td>\n",
              "      <td>NaN</td>\n",
              "      <td>Reg</td>\n",
              "      <td>Lvl</td>\n",
              "      <td>AllPub</td>\n",
              "      <td>...</td>\n",
              "      <td>0</td>\n",
              "      <td>NaN</td>\n",
              "      <td>NaN</td>\n",
              "      <td>NaN</td>\n",
              "      <td>0</td>\n",
              "      <td>2</td>\n",
              "      <td>2008</td>\n",
              "      <td>WD</td>\n",
              "      <td>Normal</td>\n",
              "      <td>208500</td>\n",
              "    </tr>\n",
              "    <tr>\n",
              "      <th>1</th>\n",
              "      <td>2</td>\n",
              "      <td>20</td>\n",
              "      <td>RL</td>\n",
              "      <td>80.0</td>\n",
              "      <td>9600</td>\n",
              "      <td>Pave</td>\n",
              "      <td>NaN</td>\n",
              "      <td>Reg</td>\n",
              "      <td>Lvl</td>\n",
              "      <td>AllPub</td>\n",
              "      <td>...</td>\n",
              "      <td>0</td>\n",
              "      <td>NaN</td>\n",
              "      <td>NaN</td>\n",
              "      <td>NaN</td>\n",
              "      <td>0</td>\n",
              "      <td>5</td>\n",
              "      <td>2007</td>\n",
              "      <td>WD</td>\n",
              "      <td>Normal</td>\n",
              "      <td>181500</td>\n",
              "    </tr>\n",
              "    <tr>\n",
              "      <th>2</th>\n",
              "      <td>3</td>\n",
              "      <td>60</td>\n",
              "      <td>RL</td>\n",
              "      <td>68.0</td>\n",
              "      <td>11250</td>\n",
              "      <td>Pave</td>\n",
              "      <td>NaN</td>\n",
              "      <td>IR1</td>\n",
              "      <td>Lvl</td>\n",
              "      <td>AllPub</td>\n",
              "      <td>...</td>\n",
              "      <td>0</td>\n",
              "      <td>NaN</td>\n",
              "      <td>NaN</td>\n",
              "      <td>NaN</td>\n",
              "      <td>0</td>\n",
              "      <td>9</td>\n",
              "      <td>2008</td>\n",
              "      <td>WD</td>\n",
              "      <td>Normal</td>\n",
              "      <td>223500</td>\n",
              "    </tr>\n",
              "    <tr>\n",
              "      <th>3</th>\n",
              "      <td>4</td>\n",
              "      <td>70</td>\n",
              "      <td>RL</td>\n",
              "      <td>60.0</td>\n",
              "      <td>9550</td>\n",
              "      <td>Pave</td>\n",
              "      <td>NaN</td>\n",
              "      <td>IR1</td>\n",
              "      <td>Lvl</td>\n",
              "      <td>AllPub</td>\n",
              "      <td>...</td>\n",
              "      <td>0</td>\n",
              "      <td>NaN</td>\n",
              "      <td>NaN</td>\n",
              "      <td>NaN</td>\n",
              "      <td>0</td>\n",
              "      <td>2</td>\n",
              "      <td>2006</td>\n",
              "      <td>WD</td>\n",
              "      <td>Abnorml</td>\n",
              "      <td>140000</td>\n",
              "    </tr>\n",
              "    <tr>\n",
              "      <th>4</th>\n",
              "      <td>5</td>\n",
              "      <td>60</td>\n",
              "      <td>RL</td>\n",
              "      <td>84.0</td>\n",
              "      <td>14260</td>\n",
              "      <td>Pave</td>\n",
              "      <td>NaN</td>\n",
              "      <td>IR1</td>\n",
              "      <td>Lvl</td>\n",
              "      <td>AllPub</td>\n",
              "      <td>...</td>\n",
              "      <td>0</td>\n",
              "      <td>NaN</td>\n",
              "      <td>NaN</td>\n",
              "      <td>NaN</td>\n",
              "      <td>0</td>\n",
              "      <td>12</td>\n",
              "      <td>2008</td>\n",
              "      <td>WD</td>\n",
              "      <td>Normal</td>\n",
              "      <td>250000</td>\n",
              "    </tr>\n",
              "  </tbody>\n",
              "</table>\n",
              "<p>5 rows × 81 columns</p>\n",
              "</div>"
            ],
            "text/plain": [
              "   Id  MSSubClass MSZoning  LotFrontage  LotArea Street Alley LotShape  \\\n",
              "0   1          60       RL         65.0     8450   Pave   NaN      Reg   \n",
              "1   2          20       RL         80.0     9600   Pave   NaN      Reg   \n",
              "2   3          60       RL         68.0    11250   Pave   NaN      IR1   \n",
              "3   4          70       RL         60.0     9550   Pave   NaN      IR1   \n",
              "4   5          60       RL         84.0    14260   Pave   NaN      IR1   \n",
              "\n",
              "  LandContour Utilities  ... PoolArea PoolQC Fence MiscFeature MiscVal MoSold  \\\n",
              "0         Lvl    AllPub  ...        0    NaN   NaN         NaN       0      2   \n",
              "1         Lvl    AllPub  ...        0    NaN   NaN         NaN       0      5   \n",
              "2         Lvl    AllPub  ...        0    NaN   NaN         NaN       0      9   \n",
              "3         Lvl    AllPub  ...        0    NaN   NaN         NaN       0      2   \n",
              "4         Lvl    AllPub  ...        0    NaN   NaN         NaN       0     12   \n",
              "\n",
              "  YrSold  SaleType  SaleCondition  SalePrice  \n",
              "0   2008        WD         Normal     208500  \n",
              "1   2007        WD         Normal     181500  \n",
              "2   2008        WD         Normal     223500  \n",
              "3   2006        WD        Abnorml     140000  \n",
              "4   2008        WD         Normal     250000  \n",
              "\n",
              "[5 rows x 81 columns]"
            ]
          },
          "execution_count": 4,
          "metadata": {},
          "output_type": "execute_result"
        }
      ],
      "source": [
        "train.head()"
      ]
    },
    {
      "cell_type": "code",
      "execution_count": 5,
      "metadata": {
        "colab": {
          "base_uri": "https://localhost:8080/",
          "height": 350
        },
        "id": "sgk_E8m8i0xU",
        "outputId": "1a7264a6-1d09-455a-c007-6ac2889067fd"
      },
      "outputs": [
        {
          "data": {
            "text/html": [
              "<div>\n",
              "<style scoped>\n",
              "    .dataframe tbody tr th:only-of-type {\n",
              "        vertical-align: middle;\n",
              "    }\n",
              "\n",
              "    .dataframe tbody tr th {\n",
              "        vertical-align: top;\n",
              "    }\n",
              "\n",
              "    .dataframe thead th {\n",
              "        text-align: right;\n",
              "    }\n",
              "</style>\n",
              "<table border=\"1\" class=\"dataframe\">\n",
              "  <thead>\n",
              "    <tr style=\"text-align: right;\">\n",
              "      <th></th>\n",
              "      <th>Id</th>\n",
              "      <th>MSSubClass</th>\n",
              "      <th>LotFrontage</th>\n",
              "      <th>LotArea</th>\n",
              "      <th>OverallQual</th>\n",
              "      <th>OverallCond</th>\n",
              "      <th>YearBuilt</th>\n",
              "      <th>YearRemodAdd</th>\n",
              "      <th>MasVnrArea</th>\n",
              "      <th>BsmtFinSF1</th>\n",
              "      <th>...</th>\n",
              "      <th>WoodDeckSF</th>\n",
              "      <th>OpenPorchSF</th>\n",
              "      <th>EnclosedPorch</th>\n",
              "      <th>3SsnPorch</th>\n",
              "      <th>ScreenPorch</th>\n",
              "      <th>PoolArea</th>\n",
              "      <th>MiscVal</th>\n",
              "      <th>MoSold</th>\n",
              "      <th>YrSold</th>\n",
              "      <th>SalePrice</th>\n",
              "    </tr>\n",
              "  </thead>\n",
              "  <tbody>\n",
              "    <tr>\n",
              "      <th>count</th>\n",
              "      <td>1460.000000</td>\n",
              "      <td>1460.000000</td>\n",
              "      <td>1201.000000</td>\n",
              "      <td>1460.000000</td>\n",
              "      <td>1460.000000</td>\n",
              "      <td>1460.000000</td>\n",
              "      <td>1460.000000</td>\n",
              "      <td>1460.000000</td>\n",
              "      <td>1452.000000</td>\n",
              "      <td>1460.000000</td>\n",
              "      <td>...</td>\n",
              "      <td>1460.000000</td>\n",
              "      <td>1460.000000</td>\n",
              "      <td>1460.000000</td>\n",
              "      <td>1460.000000</td>\n",
              "      <td>1460.000000</td>\n",
              "      <td>1460.000000</td>\n",
              "      <td>1460.000000</td>\n",
              "      <td>1460.000000</td>\n",
              "      <td>1460.000000</td>\n",
              "      <td>1460.000000</td>\n",
              "    </tr>\n",
              "    <tr>\n",
              "      <th>mean</th>\n",
              "      <td>730.500000</td>\n",
              "      <td>56.897260</td>\n",
              "      <td>70.049958</td>\n",
              "      <td>10516.828082</td>\n",
              "      <td>6.099315</td>\n",
              "      <td>5.575342</td>\n",
              "      <td>1971.267808</td>\n",
              "      <td>1984.865753</td>\n",
              "      <td>103.685262</td>\n",
              "      <td>443.639726</td>\n",
              "      <td>...</td>\n",
              "      <td>94.244521</td>\n",
              "      <td>46.660274</td>\n",
              "      <td>21.954110</td>\n",
              "      <td>3.409589</td>\n",
              "      <td>15.060959</td>\n",
              "      <td>2.758904</td>\n",
              "      <td>43.489041</td>\n",
              "      <td>6.321918</td>\n",
              "      <td>2007.815753</td>\n",
              "      <td>180921.195890</td>\n",
              "    </tr>\n",
              "    <tr>\n",
              "      <th>std</th>\n",
              "      <td>421.610009</td>\n",
              "      <td>42.300571</td>\n",
              "      <td>24.284752</td>\n",
              "      <td>9981.264932</td>\n",
              "      <td>1.382997</td>\n",
              "      <td>1.112799</td>\n",
              "      <td>30.202904</td>\n",
              "      <td>20.645407</td>\n",
              "      <td>181.066207</td>\n",
              "      <td>456.098091</td>\n",
              "      <td>...</td>\n",
              "      <td>125.338794</td>\n",
              "      <td>66.256028</td>\n",
              "      <td>61.119149</td>\n",
              "      <td>29.317331</td>\n",
              "      <td>55.757415</td>\n",
              "      <td>40.177307</td>\n",
              "      <td>496.123024</td>\n",
              "      <td>2.703626</td>\n",
              "      <td>1.328095</td>\n",
              "      <td>79442.502883</td>\n",
              "    </tr>\n",
              "    <tr>\n",
              "      <th>min</th>\n",
              "      <td>1.000000</td>\n",
              "      <td>20.000000</td>\n",
              "      <td>21.000000</td>\n",
              "      <td>1300.000000</td>\n",
              "      <td>1.000000</td>\n",
              "      <td>1.000000</td>\n",
              "      <td>1872.000000</td>\n",
              "      <td>1950.000000</td>\n",
              "      <td>0.000000</td>\n",
              "      <td>0.000000</td>\n",
              "      <td>...</td>\n",
              "      <td>0.000000</td>\n",
              "      <td>0.000000</td>\n",
              "      <td>0.000000</td>\n",
              "      <td>0.000000</td>\n",
              "      <td>0.000000</td>\n",
              "      <td>0.000000</td>\n",
              "      <td>0.000000</td>\n",
              "      <td>1.000000</td>\n",
              "      <td>2006.000000</td>\n",
              "      <td>34900.000000</td>\n",
              "    </tr>\n",
              "    <tr>\n",
              "      <th>25%</th>\n",
              "      <td>365.750000</td>\n",
              "      <td>20.000000</td>\n",
              "      <td>59.000000</td>\n",
              "      <td>7553.500000</td>\n",
              "      <td>5.000000</td>\n",
              "      <td>5.000000</td>\n",
              "      <td>1954.000000</td>\n",
              "      <td>1967.000000</td>\n",
              "      <td>0.000000</td>\n",
              "      <td>0.000000</td>\n",
              "      <td>...</td>\n",
              "      <td>0.000000</td>\n",
              "      <td>0.000000</td>\n",
              "      <td>0.000000</td>\n",
              "      <td>0.000000</td>\n",
              "      <td>0.000000</td>\n",
              "      <td>0.000000</td>\n",
              "      <td>0.000000</td>\n",
              "      <td>5.000000</td>\n",
              "      <td>2007.000000</td>\n",
              "      <td>129975.000000</td>\n",
              "    </tr>\n",
              "    <tr>\n",
              "      <th>50%</th>\n",
              "      <td>730.500000</td>\n",
              "      <td>50.000000</td>\n",
              "      <td>69.000000</td>\n",
              "      <td>9478.500000</td>\n",
              "      <td>6.000000</td>\n",
              "      <td>5.000000</td>\n",
              "      <td>1973.000000</td>\n",
              "      <td>1994.000000</td>\n",
              "      <td>0.000000</td>\n",
              "      <td>383.500000</td>\n",
              "      <td>...</td>\n",
              "      <td>0.000000</td>\n",
              "      <td>25.000000</td>\n",
              "      <td>0.000000</td>\n",
              "      <td>0.000000</td>\n",
              "      <td>0.000000</td>\n",
              "      <td>0.000000</td>\n",
              "      <td>0.000000</td>\n",
              "      <td>6.000000</td>\n",
              "      <td>2008.000000</td>\n",
              "      <td>163000.000000</td>\n",
              "    </tr>\n",
              "    <tr>\n",
              "      <th>75%</th>\n",
              "      <td>1095.250000</td>\n",
              "      <td>70.000000</td>\n",
              "      <td>80.000000</td>\n",
              "      <td>11601.500000</td>\n",
              "      <td>7.000000</td>\n",
              "      <td>6.000000</td>\n",
              "      <td>2000.000000</td>\n",
              "      <td>2004.000000</td>\n",
              "      <td>166.000000</td>\n",
              "      <td>712.250000</td>\n",
              "      <td>...</td>\n",
              "      <td>168.000000</td>\n",
              "      <td>68.000000</td>\n",
              "      <td>0.000000</td>\n",
              "      <td>0.000000</td>\n",
              "      <td>0.000000</td>\n",
              "      <td>0.000000</td>\n",
              "      <td>0.000000</td>\n",
              "      <td>8.000000</td>\n",
              "      <td>2009.000000</td>\n",
              "      <td>214000.000000</td>\n",
              "    </tr>\n",
              "    <tr>\n",
              "      <th>max</th>\n",
              "      <td>1460.000000</td>\n",
              "      <td>190.000000</td>\n",
              "      <td>313.000000</td>\n",
              "      <td>215245.000000</td>\n",
              "      <td>10.000000</td>\n",
              "      <td>9.000000</td>\n",
              "      <td>2010.000000</td>\n",
              "      <td>2010.000000</td>\n",
              "      <td>1600.000000</td>\n",
              "      <td>5644.000000</td>\n",
              "      <td>...</td>\n",
              "      <td>857.000000</td>\n",
              "      <td>547.000000</td>\n",
              "      <td>552.000000</td>\n",
              "      <td>508.000000</td>\n",
              "      <td>480.000000</td>\n",
              "      <td>738.000000</td>\n",
              "      <td>15500.000000</td>\n",
              "      <td>12.000000</td>\n",
              "      <td>2010.000000</td>\n",
              "      <td>755000.000000</td>\n",
              "    </tr>\n",
              "  </tbody>\n",
              "</table>\n",
              "<p>8 rows × 38 columns</p>\n",
              "</div>"
            ],
            "text/plain": [
              "                Id   MSSubClass  LotFrontage        LotArea  OverallQual  \\\n",
              "count  1460.000000  1460.000000  1201.000000    1460.000000  1460.000000   \n",
              "mean    730.500000    56.897260    70.049958   10516.828082     6.099315   \n",
              "std     421.610009    42.300571    24.284752    9981.264932     1.382997   \n",
              "min       1.000000    20.000000    21.000000    1300.000000     1.000000   \n",
              "25%     365.750000    20.000000    59.000000    7553.500000     5.000000   \n",
              "50%     730.500000    50.000000    69.000000    9478.500000     6.000000   \n",
              "75%    1095.250000    70.000000    80.000000   11601.500000     7.000000   \n",
              "max    1460.000000   190.000000   313.000000  215245.000000    10.000000   \n",
              "\n",
              "       OverallCond    YearBuilt  YearRemodAdd   MasVnrArea   BsmtFinSF1  ...  \\\n",
              "count  1460.000000  1460.000000   1460.000000  1452.000000  1460.000000  ...   \n",
              "mean      5.575342  1971.267808   1984.865753   103.685262   443.639726  ...   \n",
              "std       1.112799    30.202904     20.645407   181.066207   456.098091  ...   \n",
              "min       1.000000  1872.000000   1950.000000     0.000000     0.000000  ...   \n",
              "25%       5.000000  1954.000000   1967.000000     0.000000     0.000000  ...   \n",
              "50%       5.000000  1973.000000   1994.000000     0.000000   383.500000  ...   \n",
              "75%       6.000000  2000.000000   2004.000000   166.000000   712.250000  ...   \n",
              "max       9.000000  2010.000000   2010.000000  1600.000000  5644.000000  ...   \n",
              "\n",
              "        WoodDeckSF  OpenPorchSF  EnclosedPorch    3SsnPorch  ScreenPorch  \\\n",
              "count  1460.000000  1460.000000    1460.000000  1460.000000  1460.000000   \n",
              "mean     94.244521    46.660274      21.954110     3.409589    15.060959   \n",
              "std     125.338794    66.256028      61.119149    29.317331    55.757415   \n",
              "min       0.000000     0.000000       0.000000     0.000000     0.000000   \n",
              "25%       0.000000     0.000000       0.000000     0.000000     0.000000   \n",
              "50%       0.000000    25.000000       0.000000     0.000000     0.000000   \n",
              "75%     168.000000    68.000000       0.000000     0.000000     0.000000   \n",
              "max     857.000000   547.000000     552.000000   508.000000   480.000000   \n",
              "\n",
              "          PoolArea       MiscVal       MoSold       YrSold      SalePrice  \n",
              "count  1460.000000   1460.000000  1460.000000  1460.000000    1460.000000  \n",
              "mean      2.758904     43.489041     6.321918  2007.815753  180921.195890  \n",
              "std      40.177307    496.123024     2.703626     1.328095   79442.502883  \n",
              "min       0.000000      0.000000     1.000000  2006.000000   34900.000000  \n",
              "25%       0.000000      0.000000     5.000000  2007.000000  129975.000000  \n",
              "50%       0.000000      0.000000     6.000000  2008.000000  163000.000000  \n",
              "75%       0.000000      0.000000     8.000000  2009.000000  214000.000000  \n",
              "max     738.000000  15500.000000    12.000000  2010.000000  755000.000000  \n",
              "\n",
              "[8 rows x 38 columns]"
            ]
          },
          "execution_count": 5,
          "metadata": {},
          "output_type": "execute_result"
        }
      ],
      "source": [
        "train.describe()"
      ]
    },
    {
      "cell_type": "code",
      "execution_count": 6,
      "metadata": {
        "colab": {
          "base_uri": "https://localhost:8080/"
        },
        "id": "RKA2MvbyK08P",
        "outputId": "3f19d44f-c4f9-4f9c-d9dc-1448a11a30f5"
      },
      "outputs": [
        {
          "name": "stdout",
          "output_type": "stream",
          "text": [
            "<class 'pandas.core.frame.DataFrame'>\n",
            "RangeIndex: 1460 entries, 0 to 1459\n",
            "Data columns (total 81 columns):\n",
            " #   Column         Non-Null Count  Dtype  \n",
            "---  ------         --------------  -----  \n",
            " 0   Id             1460 non-null   int64  \n",
            " 1   MSSubClass     1460 non-null   int64  \n",
            " 2   MSZoning       1460 non-null   object \n",
            " 3   LotFrontage    1201 non-null   float64\n",
            " 4   LotArea        1460 non-null   int64  \n",
            " 5   Street         1460 non-null   object \n",
            " 6   Alley          91 non-null     object \n",
            " 7   LotShape       1460 non-null   object \n",
            " 8   LandContour    1460 non-null   object \n",
            " 9   Utilities      1460 non-null   object \n",
            " 10  LotConfig      1460 non-null   object \n",
            " 11  LandSlope      1460 non-null   object \n",
            " 12  Neighborhood   1460 non-null   object \n",
            " 13  Condition1     1460 non-null   object \n",
            " 14  Condition2     1460 non-null   object \n",
            " 15  BldgType       1460 non-null   object \n",
            " 16  HouseStyle     1460 non-null   object \n",
            " 17  OverallQual    1460 non-null   int64  \n",
            " 18  OverallCond    1460 non-null   int64  \n",
            " 19  YearBuilt      1460 non-null   int64  \n",
            " 20  YearRemodAdd   1460 non-null   int64  \n",
            " 21  RoofStyle      1460 non-null   object \n",
            " 22  RoofMatl       1460 non-null   object \n",
            " 23  Exterior1st    1460 non-null   object \n",
            " 24  Exterior2nd    1460 non-null   object \n",
            " 25  MasVnrType     588 non-null    object \n",
            " 26  MasVnrArea     1452 non-null   float64\n",
            " 27  ExterQual      1460 non-null   object \n",
            " 28  ExterCond      1460 non-null   object \n",
            " 29  Foundation     1460 non-null   object \n",
            " 30  BsmtQual       1423 non-null   object \n",
            " 31  BsmtCond       1423 non-null   object \n",
            " 32  BsmtExposure   1422 non-null   object \n",
            " 33  BsmtFinType1   1423 non-null   object \n",
            " 34  BsmtFinSF1     1460 non-null   int64  \n",
            " 35  BsmtFinType2   1422 non-null   object \n",
            " 36  BsmtFinSF2     1460 non-null   int64  \n",
            " 37  BsmtUnfSF      1460 non-null   int64  \n",
            " 38  TotalBsmtSF    1460 non-null   int64  \n",
            " 39  Heating        1460 non-null   object \n",
            " 40  HeatingQC      1460 non-null   object \n",
            " 41  CentralAir     1460 non-null   object \n",
            " 42  Electrical     1459 non-null   object \n",
            " 43  1stFlrSF       1460 non-null   int64  \n",
            " 44  2ndFlrSF       1460 non-null   int64  \n",
            " 45  LowQualFinSF   1460 non-null   int64  \n",
            " 46  GrLivArea      1460 non-null   int64  \n",
            " 47  BsmtFullBath   1460 non-null   int64  \n",
            " 48  BsmtHalfBath   1460 non-null   int64  \n",
            " 49  FullBath       1460 non-null   int64  \n",
            " 50  HalfBath       1460 non-null   int64  \n",
            " 51  BedroomAbvGr   1460 non-null   int64  \n",
            " 52  KitchenAbvGr   1460 non-null   int64  \n",
            " 53  KitchenQual    1460 non-null   object \n",
            " 54  TotRmsAbvGrd   1460 non-null   int64  \n",
            " 55  Functional     1460 non-null   object \n",
            " 56  Fireplaces     1460 non-null   int64  \n",
            " 57  FireplaceQu    770 non-null    object \n",
            " 58  GarageType     1379 non-null   object \n",
            " 59  GarageYrBlt    1379 non-null   float64\n",
            " 60  GarageFinish   1379 non-null   object \n",
            " 61  GarageCars     1460 non-null   int64  \n",
            " 62  GarageArea     1460 non-null   int64  \n",
            " 63  GarageQual     1379 non-null   object \n",
            " 64  GarageCond     1379 non-null   object \n",
            " 65  PavedDrive     1460 non-null   object \n",
            " 66  WoodDeckSF     1460 non-null   int64  \n",
            " 67  OpenPorchSF    1460 non-null   int64  \n",
            " 68  EnclosedPorch  1460 non-null   int64  \n",
            " 69  3SsnPorch      1460 non-null   int64  \n",
            " 70  ScreenPorch    1460 non-null   int64  \n",
            " 71  PoolArea       1460 non-null   int64  \n",
            " 72  PoolQC         7 non-null      object \n",
            " 73  Fence          281 non-null    object \n",
            " 74  MiscFeature    54 non-null     object \n",
            " 75  MiscVal        1460 non-null   int64  \n",
            " 76  MoSold         1460 non-null   int64  \n",
            " 77  YrSold         1460 non-null   int64  \n",
            " 78  SaleType       1460 non-null   object \n",
            " 79  SaleCondition  1460 non-null   object \n",
            " 80  SalePrice      1460 non-null   int64  \n",
            "dtypes: float64(3), int64(35), object(43)\n",
            "memory usage: 924.0+ KB\n"
          ]
        }
      ],
      "source": [
        "train.info()"
      ]
    },
    {
      "cell_type": "markdown",
      "metadata": {
        "id": "CA9UCphvL9J_"
      },
      "source": [
        "## Converting data types:\n",
        "Need to convert the data into objects instead of numbers (float/int64) because for example the year and the month can be a category. Also the MSSubClass is listed down to have a numeric data type, a class is a category, it means it needs to be an object."
      ]
    },
    {
      "cell_type": "code",
      "execution_count": 7,
      "metadata": {
        "id": "bCtxlbCKMk5Q"
      },
      "outputs": [],
      "source": [
        "def convert_features(data):\n",
        "  data[\"MSSubClass\"] = data[\"MSSubClass\"].astype(str)\n",
        "  data[\"YearBuilt_obj\"] = data[\"YearBuilt\"].astype(str)\n",
        "  data[\"YearRemodAdd_obj\"] = data[\"YearRemodAdd\"].astype(str)\n",
        "  data[\"MoSold_obj\"] = data[\"MoSold\"].astype(str)\n",
        "  data[\"YrSold_obj\"] = data[\"YrSold\"].astype(str)\n",
        "  data[\"Bldg_Age\"] =  data[\"YrSold\"] - data[\"YearBuilt\"]\n",
        "  return data"
      ]
    },
    {
      "cell_type": "code",
      "execution_count": 8,
      "metadata": {
        "colab": {
          "base_uri": "https://localhost:8080/",
          "height": 424
        },
        "id": "8O3Trle0NrYK",
        "outputId": "a857ecdd-c364-48bd-8538-35a749b61ede"
      },
      "outputs": [
        {
          "data": {
            "text/html": [
              "<div>\n",
              "<style scoped>\n",
              "    .dataframe tbody tr th:only-of-type {\n",
              "        vertical-align: middle;\n",
              "    }\n",
              "\n",
              "    .dataframe tbody tr th {\n",
              "        vertical-align: top;\n",
              "    }\n",
              "\n",
              "    .dataframe thead th {\n",
              "        text-align: right;\n",
              "    }\n",
              "</style>\n",
              "<table border=\"1\" class=\"dataframe\">\n",
              "  <thead>\n",
              "    <tr style=\"text-align: right;\">\n",
              "      <th></th>\n",
              "      <th>Id</th>\n",
              "      <th>MSSubClass</th>\n",
              "      <th>MSZoning</th>\n",
              "      <th>LotFrontage</th>\n",
              "      <th>LotArea</th>\n",
              "      <th>Street</th>\n",
              "      <th>Alley</th>\n",
              "      <th>LotShape</th>\n",
              "      <th>LandContour</th>\n",
              "      <th>Utilities</th>\n",
              "      <th>...</th>\n",
              "      <th>MiscVal</th>\n",
              "      <th>MoSold</th>\n",
              "      <th>YrSold</th>\n",
              "      <th>SaleType</th>\n",
              "      <th>SaleCondition</th>\n",
              "      <th>YearBuilt_obj</th>\n",
              "      <th>YearRemodAdd_obj</th>\n",
              "      <th>MoSold_obj</th>\n",
              "      <th>YrSold_obj</th>\n",
              "      <th>Bldg_Age</th>\n",
              "    </tr>\n",
              "  </thead>\n",
              "  <tbody>\n",
              "    <tr>\n",
              "      <th>0</th>\n",
              "      <td>1461</td>\n",
              "      <td>20</td>\n",
              "      <td>RH</td>\n",
              "      <td>80.0</td>\n",
              "      <td>11622</td>\n",
              "      <td>Pave</td>\n",
              "      <td>NaN</td>\n",
              "      <td>Reg</td>\n",
              "      <td>Lvl</td>\n",
              "      <td>AllPub</td>\n",
              "      <td>...</td>\n",
              "      <td>0</td>\n",
              "      <td>6</td>\n",
              "      <td>2010</td>\n",
              "      <td>WD</td>\n",
              "      <td>Normal</td>\n",
              "      <td>1961</td>\n",
              "      <td>1961</td>\n",
              "      <td>6</td>\n",
              "      <td>2010</td>\n",
              "      <td>49</td>\n",
              "    </tr>\n",
              "    <tr>\n",
              "      <th>1</th>\n",
              "      <td>1462</td>\n",
              "      <td>20</td>\n",
              "      <td>RL</td>\n",
              "      <td>81.0</td>\n",
              "      <td>14267</td>\n",
              "      <td>Pave</td>\n",
              "      <td>NaN</td>\n",
              "      <td>IR1</td>\n",
              "      <td>Lvl</td>\n",
              "      <td>AllPub</td>\n",
              "      <td>...</td>\n",
              "      <td>12500</td>\n",
              "      <td>6</td>\n",
              "      <td>2010</td>\n",
              "      <td>WD</td>\n",
              "      <td>Normal</td>\n",
              "      <td>1958</td>\n",
              "      <td>1958</td>\n",
              "      <td>6</td>\n",
              "      <td>2010</td>\n",
              "      <td>52</td>\n",
              "    </tr>\n",
              "    <tr>\n",
              "      <th>2</th>\n",
              "      <td>1463</td>\n",
              "      <td>60</td>\n",
              "      <td>RL</td>\n",
              "      <td>74.0</td>\n",
              "      <td>13830</td>\n",
              "      <td>Pave</td>\n",
              "      <td>NaN</td>\n",
              "      <td>IR1</td>\n",
              "      <td>Lvl</td>\n",
              "      <td>AllPub</td>\n",
              "      <td>...</td>\n",
              "      <td>0</td>\n",
              "      <td>3</td>\n",
              "      <td>2010</td>\n",
              "      <td>WD</td>\n",
              "      <td>Normal</td>\n",
              "      <td>1997</td>\n",
              "      <td>1998</td>\n",
              "      <td>3</td>\n",
              "      <td>2010</td>\n",
              "      <td>13</td>\n",
              "    </tr>\n",
              "    <tr>\n",
              "      <th>3</th>\n",
              "      <td>1464</td>\n",
              "      <td>60</td>\n",
              "      <td>RL</td>\n",
              "      <td>78.0</td>\n",
              "      <td>9978</td>\n",
              "      <td>Pave</td>\n",
              "      <td>NaN</td>\n",
              "      <td>IR1</td>\n",
              "      <td>Lvl</td>\n",
              "      <td>AllPub</td>\n",
              "      <td>...</td>\n",
              "      <td>0</td>\n",
              "      <td>6</td>\n",
              "      <td>2010</td>\n",
              "      <td>WD</td>\n",
              "      <td>Normal</td>\n",
              "      <td>1998</td>\n",
              "      <td>1998</td>\n",
              "      <td>6</td>\n",
              "      <td>2010</td>\n",
              "      <td>12</td>\n",
              "    </tr>\n",
              "    <tr>\n",
              "      <th>4</th>\n",
              "      <td>1465</td>\n",
              "      <td>120</td>\n",
              "      <td>RL</td>\n",
              "      <td>43.0</td>\n",
              "      <td>5005</td>\n",
              "      <td>Pave</td>\n",
              "      <td>NaN</td>\n",
              "      <td>IR1</td>\n",
              "      <td>HLS</td>\n",
              "      <td>AllPub</td>\n",
              "      <td>...</td>\n",
              "      <td>0</td>\n",
              "      <td>1</td>\n",
              "      <td>2010</td>\n",
              "      <td>WD</td>\n",
              "      <td>Normal</td>\n",
              "      <td>1992</td>\n",
              "      <td>1992</td>\n",
              "      <td>1</td>\n",
              "      <td>2010</td>\n",
              "      <td>18</td>\n",
              "    </tr>\n",
              "    <tr>\n",
              "      <th>...</th>\n",
              "      <td>...</td>\n",
              "      <td>...</td>\n",
              "      <td>...</td>\n",
              "      <td>...</td>\n",
              "      <td>...</td>\n",
              "      <td>...</td>\n",
              "      <td>...</td>\n",
              "      <td>...</td>\n",
              "      <td>...</td>\n",
              "      <td>...</td>\n",
              "      <td>...</td>\n",
              "      <td>...</td>\n",
              "      <td>...</td>\n",
              "      <td>...</td>\n",
              "      <td>...</td>\n",
              "      <td>...</td>\n",
              "      <td>...</td>\n",
              "      <td>...</td>\n",
              "      <td>...</td>\n",
              "      <td>...</td>\n",
              "      <td>...</td>\n",
              "    </tr>\n",
              "    <tr>\n",
              "      <th>1454</th>\n",
              "      <td>2915</td>\n",
              "      <td>160</td>\n",
              "      <td>RM</td>\n",
              "      <td>21.0</td>\n",
              "      <td>1936</td>\n",
              "      <td>Pave</td>\n",
              "      <td>NaN</td>\n",
              "      <td>Reg</td>\n",
              "      <td>Lvl</td>\n",
              "      <td>AllPub</td>\n",
              "      <td>...</td>\n",
              "      <td>0</td>\n",
              "      <td>6</td>\n",
              "      <td>2006</td>\n",
              "      <td>WD</td>\n",
              "      <td>Normal</td>\n",
              "      <td>1970</td>\n",
              "      <td>1970</td>\n",
              "      <td>6</td>\n",
              "      <td>2006</td>\n",
              "      <td>36</td>\n",
              "    </tr>\n",
              "    <tr>\n",
              "      <th>1455</th>\n",
              "      <td>2916</td>\n",
              "      <td>160</td>\n",
              "      <td>RM</td>\n",
              "      <td>21.0</td>\n",
              "      <td>1894</td>\n",
              "      <td>Pave</td>\n",
              "      <td>NaN</td>\n",
              "      <td>Reg</td>\n",
              "      <td>Lvl</td>\n",
              "      <td>AllPub</td>\n",
              "      <td>...</td>\n",
              "      <td>0</td>\n",
              "      <td>4</td>\n",
              "      <td>2006</td>\n",
              "      <td>WD</td>\n",
              "      <td>Abnorml</td>\n",
              "      <td>1970</td>\n",
              "      <td>1970</td>\n",
              "      <td>4</td>\n",
              "      <td>2006</td>\n",
              "      <td>36</td>\n",
              "    </tr>\n",
              "    <tr>\n",
              "      <th>1456</th>\n",
              "      <td>2917</td>\n",
              "      <td>20</td>\n",
              "      <td>RL</td>\n",
              "      <td>160.0</td>\n",
              "      <td>20000</td>\n",
              "      <td>Pave</td>\n",
              "      <td>NaN</td>\n",
              "      <td>Reg</td>\n",
              "      <td>Lvl</td>\n",
              "      <td>AllPub</td>\n",
              "      <td>...</td>\n",
              "      <td>0</td>\n",
              "      <td>9</td>\n",
              "      <td>2006</td>\n",
              "      <td>WD</td>\n",
              "      <td>Abnorml</td>\n",
              "      <td>1960</td>\n",
              "      <td>1996</td>\n",
              "      <td>9</td>\n",
              "      <td>2006</td>\n",
              "      <td>46</td>\n",
              "    </tr>\n",
              "    <tr>\n",
              "      <th>1457</th>\n",
              "      <td>2918</td>\n",
              "      <td>85</td>\n",
              "      <td>RL</td>\n",
              "      <td>62.0</td>\n",
              "      <td>10441</td>\n",
              "      <td>Pave</td>\n",
              "      <td>NaN</td>\n",
              "      <td>Reg</td>\n",
              "      <td>Lvl</td>\n",
              "      <td>AllPub</td>\n",
              "      <td>...</td>\n",
              "      <td>700</td>\n",
              "      <td>7</td>\n",
              "      <td>2006</td>\n",
              "      <td>WD</td>\n",
              "      <td>Normal</td>\n",
              "      <td>1992</td>\n",
              "      <td>1992</td>\n",
              "      <td>7</td>\n",
              "      <td>2006</td>\n",
              "      <td>14</td>\n",
              "    </tr>\n",
              "    <tr>\n",
              "      <th>1458</th>\n",
              "      <td>2919</td>\n",
              "      <td>60</td>\n",
              "      <td>RL</td>\n",
              "      <td>74.0</td>\n",
              "      <td>9627</td>\n",
              "      <td>Pave</td>\n",
              "      <td>NaN</td>\n",
              "      <td>Reg</td>\n",
              "      <td>Lvl</td>\n",
              "      <td>AllPub</td>\n",
              "      <td>...</td>\n",
              "      <td>0</td>\n",
              "      <td>11</td>\n",
              "      <td>2006</td>\n",
              "      <td>WD</td>\n",
              "      <td>Normal</td>\n",
              "      <td>1993</td>\n",
              "      <td>1994</td>\n",
              "      <td>11</td>\n",
              "      <td>2006</td>\n",
              "      <td>13</td>\n",
              "    </tr>\n",
              "  </tbody>\n",
              "</table>\n",
              "<p>1459 rows × 85 columns</p>\n",
              "</div>"
            ],
            "text/plain": [
              "        Id MSSubClass MSZoning  LotFrontage  LotArea Street Alley LotShape  \\\n",
              "0     1461         20       RH         80.0    11622   Pave   NaN      Reg   \n",
              "1     1462         20       RL         81.0    14267   Pave   NaN      IR1   \n",
              "2     1463         60       RL         74.0    13830   Pave   NaN      IR1   \n",
              "3     1464         60       RL         78.0     9978   Pave   NaN      IR1   \n",
              "4     1465        120       RL         43.0     5005   Pave   NaN      IR1   \n",
              "...    ...        ...      ...          ...      ...    ...   ...      ...   \n",
              "1454  2915        160       RM         21.0     1936   Pave   NaN      Reg   \n",
              "1455  2916        160       RM         21.0     1894   Pave   NaN      Reg   \n",
              "1456  2917         20       RL        160.0    20000   Pave   NaN      Reg   \n",
              "1457  2918         85       RL         62.0    10441   Pave   NaN      Reg   \n",
              "1458  2919         60       RL         74.0     9627   Pave   NaN      Reg   \n",
              "\n",
              "     LandContour Utilities  ... MiscVal MoSold YrSold SaleType SaleCondition  \\\n",
              "0            Lvl    AllPub  ...       0      6   2010       WD        Normal   \n",
              "1            Lvl    AllPub  ...   12500      6   2010       WD        Normal   \n",
              "2            Lvl    AllPub  ...       0      3   2010       WD        Normal   \n",
              "3            Lvl    AllPub  ...       0      6   2010       WD        Normal   \n",
              "4            HLS    AllPub  ...       0      1   2010       WD        Normal   \n",
              "...          ...       ...  ...     ...    ...    ...      ...           ...   \n",
              "1454         Lvl    AllPub  ...       0      6   2006       WD        Normal   \n",
              "1455         Lvl    AllPub  ...       0      4   2006       WD       Abnorml   \n",
              "1456         Lvl    AllPub  ...       0      9   2006       WD       Abnorml   \n",
              "1457         Lvl    AllPub  ...     700      7   2006       WD        Normal   \n",
              "1458         Lvl    AllPub  ...       0     11   2006       WD        Normal   \n",
              "\n",
              "     YearBuilt_obj YearRemodAdd_obj  MoSold_obj  YrSold_obj  Bldg_Age  \n",
              "0             1961             1961           6        2010        49  \n",
              "1             1958             1958           6        2010        52  \n",
              "2             1997             1998           3        2010        13  \n",
              "3             1998             1998           6        2010        12  \n",
              "4             1992             1992           1        2010        18  \n",
              "...            ...              ...         ...         ...       ...  \n",
              "1454          1970             1970           6        2006        36  \n",
              "1455          1970             1970           4        2006        36  \n",
              "1456          1960             1996           9        2006        46  \n",
              "1457          1992             1992           7        2006        14  \n",
              "1458          1993             1994          11        2006        13  \n",
              "\n",
              "[1459 rows x 85 columns]"
            ]
          },
          "execution_count": 8,
          "metadata": {},
          "output_type": "execute_result"
        }
      ],
      "source": [
        "convert_features(train)\n",
        "convert_features(test)"
      ]
    },
    {
      "cell_type": "markdown",
      "metadata": {
        "id": "OCT_zmdYOEcO"
      },
      "source": [
        "Splitting the data into numerical and categorical features"
      ]
    },
    {
      "cell_type": "code",
      "execution_count": 9,
      "metadata": {
        "id": "nVCtHXUgO-rG"
      },
      "outputs": [],
      "source": [
        "num_cols = [col for col in train.columns if train[col].dtype in [\"int64\", \"float32\"]]\n",
        "cat_cols = [col for col in train.columns if train[col].dtype in [\"object\"]]\n",
        "num_train = train[num_cols]"
      ]
    },
    {
      "cell_type": "code",
      "execution_count": 10,
      "metadata": {
        "colab": {
          "base_uri": "https://localhost:8080/",
          "height": 774
        },
        "id": "abeZmkD6QpJv",
        "outputId": "dcd699f6-96df-4a88-e3ce-a9778ecee562"
      },
      "outputs": [
        {
          "data": {
            "image/png": "[encoded data removed]",
            "text/plain": [
              "<Figure size 864x576 with 2 Axes>"
            ]
          },
          "metadata": {
            "needs_background": "light"
          },
          "output_type": "display_data"
        }
      ],
      "source": [
        "# num_train.corr()\n",
        "# Increase figure size\n",
        "plt.figure(figsize=(12, 8))\n",
        "\n",
        "# Create the heatmap\n",
        "sns.heatmap(num_train.corr())\n",
        "plt.show()"
      ]
    },
    {
      "cell_type": "markdown",
      "metadata": {
        "id": "6m4WIMo5Q6YF"
      },
      "source": [
        "From the heatmap, it states that the OverallQuall, GrLivArea, TotalBsmtSF, 1stFlr, GaraageCars and GarageArea are the top 6 columns that has a high relationships with the SalePrice"
      ]
    },
    {
      "cell_type": "code",
      "execution_count": 11,
      "metadata": {
        "colab": {
          "base_uri": "https://localhost:8080/",
          "height": 542
        },
        "id": "TWRBquhmhBDt",
        "outputId": "8750682a-b27f-4ecb-bd8f-d04de9c98046"
      },
      "outputs": [
        {
          "data": {
            "application/vnd.plotly.v1+json": {
              "config": {
                "plotlyServerURL": "https://plot.ly"
              },
              "data": [
                {
                  "hovertemplate": "Bldg_Age=%{x}<br>SalePrice=%{y}<extra></extra>",
                  "legendgroup": "",
                  "marker": {
                    "color": "#636efa",
                    "symbol": "circle"
                  },
                  "mode": "markers",
                  "name": "",
                  "showlegend": false,
                  "type": "scattergl",
                  "x": [
                    5,
                    31,
                    7,
                    91,
                    8,
                    16,
                    3,
                    36,
                    77,
                    69,
                    43,
                    1,
                    46,
                    1,
                    48,
                    78,
                    40,
                    39,
                    4,
                    51,
                    1,
                    77,
                    6,
                    31,
                    42,
                    2,
                    59,
                    3,
                    49,
                    81,
                    88,
                    42,
                    1,
                    51,
                    2,
                    2,
                    15,
                    55,
                    57,
                    53,
                    41,
                    48,
                    24,
                    33,
                    47,
                    5,
                    6,
                    1,
                    89,
                    41,
                    10,
                    72,
                    47,
                    25,
                    52,
                    44,
                    10,
                    2,
                    0,
                    36,
                    2,
                    87,
                    1,
                    89,
                    12,
                    3,
                    40,
                    4,
                    65,
                    53,
                    34,
                    25,
                    11,
                    56,
                    95,
                    36,
                    52,
                    60,
                    42,
                    99,
                    41,
                    8,
                    1,
                    47,
                    14,
                    15,
                    4,
                    0,
                    94,
                    13,
                    56,
                    45,
                    88,
                    97,
                    10,
                    16,
                    7,
                    42,
                    90,
                    51,
                    33,
                    25,
                    30,
                    1,
                    76,
                    5,
                    122,
                    60,
                    88,
                    33,
                    52,
                    10,
                    0,
                    54,
                    62,
                    8,
                    47,
                    1,
                    20,
                    1,
                    37,
                    68,
                    50,
                    15,
                    30,
                    71,
                    31,
                    77,
                    40,
                    48,
                    40,
                    9,
                    48,
                    8,
                    38,
                    38,
                    40,
                    18,
                    9,
                    12,
                    39,
                    1,
                    58,
                    10,
                    43,
                    2,
                    78,
                    9,
                    4,
                    70,
                    32,
                    1,
                    35,
                    48,
                    83,
                    84,
                    56,
                    1,
                    6,
                    1,
                    24,
                    5,
                    5,
                    51,
                    81,
                    68,
                    54,
                    0,
                    3,
                    25,
                    66,
                    50,
                    19,
                    47,
                    22,
                    57,
                    19,
                    48,
                    1,
                    84,
                    7,
                    86,
                    50,
                    5,
                    98,
                    114,
                    19,
                    93,
                    30,
                    7,
                    75,
                    35,
                    10,
                    2,
                    36,
                    33,
                    0,
                    88,
                    97,
                    5,
                    7,
                    31,
                    82,
                    4,
                    62,
                    19,
                    45,
                    48,
                    19,
                    44,
                    83,
                    1,
                    0,
                    11,
                    33,
                    49,
                    4,
                    81,
                    69,
                    1,
                    0,
                    7,
                    31,
                    38,
                    6,
                    38,
                    12,
                    38,
                    43,
                    4,
                    51,
                    14,
                    34,
                    34,
                    8,
                    37,
                    6,
                    17,
                    0,
                    65,
                    2,
                    62,
                    106,
                    29,
                    16,
                    18,
                    96,
                    52,
                    4,
                    49,
                    70,
                    1,
                    4,
                    43,
                    53,
                    7,
                    5,
                    3,
                    7,
                    52,
                    47,
                    0,
                    29,
                    81,
                    83,
                    27,
                    9,
                    69,
                    68,
                    31,
                    0,
                    54,
                    11,
                    51,
                    25,
                    84,
                    7,
                    59,
                    1,
                    31,
                    18,
                    0,
                    2,
                    1,
                    15,
                    1,
                    44,
                    35,
                    43,
                    92,
                    0,
                    96,
                    60,
                    29,
                    56,
                    22,
                    57,
                    10,
                    39,
                    59,
                    53,
                    9,
                    5,
                    34,
                    128,
                    3,
                    17,
                    88,
                    69,
                    3,
                    13,
                    61,
                    67,
                    44,
                    81,
                    5,
                    29,
                    1,
                    16,
                    29,
                    0,
                    3,
                    21,
                    51,
                    43,
                    66,
                    15,
                    46,
                    93,
                    89,
                    43,
                    49,
                    6,
                    4,
                    10,
                    43,
                    2,
                    6,
                    22,
                    51,
                    8,
                    59,
                    57,
                    3,
                    34,
                    67,
                    47,
                    49,
                    5,
                    1,
                    0,
                    20,
                    67,
                    82,
                    66,
                    12,
                    17,
                    31,
                    48,
                    8,
                    29,
                    68,
                    6,
                    37,
                    30,
                    89,
                    46,
                    46,
                    56,
                    51,
                    6,
                    49,
                    26,
                    56,
                    4,
                    87,
                    10,
                    3,
                    0,
                    9,
                    86,
                    0,
                    1,
                    81,
                    15,
                    6,
                    96,
                    33,
                    9,
                    1,
                    108,
                    8,
                    48,
                    65,
                    67,
                    54,
                    37,
                    45,
                    87,
                    3,
                    12,
                    1,
                    68,
                    8,
                    12,
                    33,
                    72,
                    93,
                    1,
                    1,
                    51,
                    51,
                    1,
                    83,
                    15,
                    0,
                    28,
                    89,
                    67,
                    42,
                    11,
                    32,
                    54,
                    10,
                    52,
                    63,
                    20,
                    51,
                    0,
                    21,
                    37,
                    88,
                    36,
                    11,
                    36,
                    13,
                    86,
                    83,
                    94,
                    89,
                    1,
                    53,
                    78,
                    1,
                    14,
                    53,
                    44,
                    8,
                    69,
                    59,
                    76,
                    31,
                    11,
                    1,
                    30,
                    34,
                    92,
                    54,
                    83,
                    59,
                    0,
                    73,
                    44,
                    74,
                    31,
                    2,
                    37,
                    65,
                    1,
                    15,
                    25,
                    30,
                    3,
                    1,
                    7,
                    44,
                    11,
                    1,
                    2,
                    70,
                    2,
                    3,
                    94,
                    8,
                    45,
                    59,
                    42,
                    36,
                    106,
                    39,
                    32,
                    65,
                    0,
                    48,
                    71,
                    89,
                    15,
                    83,
                    42,
                    49,
                    34,
                    3,
                    42,
                    51,
                    35,
                    57,
                    13,
                    0,
                    80,
                    50,
                    58,
                    1,
                    48,
                    24,
                    81,
                    0,
                    37,
                    13,
                    9,
                    83,
                    108,
                    50,
                    59,
                    0,
                    11,
                    1,
                    51,
                    0,
                    87,
                    50,
                    20,
                    88,
                    55,
                    61,
                    2,
                    98,
                    10,
                    36,
                    38,
                    9,
                    3,
                    7,
                    11,
                    9,
                    0,
                    18,
                    84,
                    37,
                    53,
                    6,
                    31,
                    51,
                    3,
                    60,
                    5,
                    84,
                    49,
                    86,
                    12,
                    3,
                    53,
                    32,
                    68,
                    90,
                    14,
                    95,
                    3,
                    6,
                    26,
                    27,
                    43,
                    47,
                    0,
                    7,
                    36,
                    61,
                    81,
                    40,
                    1,
                    54,
                    47,
                    1,
                    17,
                    115,
                    74,
                    1,
                    90,
                    27,
                    41,
                    78,
                    4,
                    1,
                    26,
                    6,
                    33,
                    1,
                    96,
                    1,
                    29,
                    28,
                    1,
                    70,
                    14,
                    6,
                    6,
                    44,
                    13,
                    58,
                    73,
                    46,
                    9,
                    29,
                    8,
                    0,
                    38,
                    47,
                    4,
                    54,
                    0,
                    5,
                    94,
                    34,
                    32,
                    7,
                    34,
                    48,
                    47,
                    55,
                    38,
                    44,
                    126,
                    1,
                    32,
                    53,
                    30,
                    93,
                    73,
                    55,
                    98,
                    0,
                    5,
                    6,
                    37,
                    38,
                    0,
                    36,
                    58,
                    55,
                    44,
                    37,
                    1,
                    69,
                    13,
                    102,
                    13,
                    39,
                    49,
                    77,
                    62,
                    45,
                    31,
                    15,
                    41,
                    36,
                    1,
                    6,
                    42,
                    14,
                    50,
                    84,
                    4,
                    84,
                    29,
                    50,
                    43,
                    31,
                    106,
                    85,
                    1,
                    46,
                    30,
                    77,
                    12,
                    5,
                    12,
                    23,
                    0,
                    3,
                    0,
                    2,
                    4,
                    13,
                    17,
                    85,
                    73,
                    19,
                    85,
                    54,
                    45,
                    4,
                    4,
                    37,
                    0,
                    110,
                    6,
                    80,
                    36,
                    3,
                    0,
                    42,
                    73,
                    110,
                    20,
                    36,
                    34,
                    35,
                    117,
                    35,
                    15,
                    37,
                    21,
                    6,
                    39,
                    54,
                    2,
                    39,
                    21,
                    2,
                    51,
                    84,
                    15,
                    4,
                    10,
                    48,
                    39,
                    92,
                    56,
                    1,
                    22,
                    5,
                    97,
                    47,
                    7,
                    46,
                    15,
                    32,
                    9,
                    129,
                    14,
                    64,
                    100,
                    4,
                    9,
                    1,
                    40,
                    10,
                    2,
                    32,
                    9,
                    12,
                    50,
                    85,
                    1,
                    10,
                    11,
                    0,
                    22,
                    68,
                    2,
                    7,
                    27,
                    55,
                    34,
                    49,
                    1,
                    11,
                    1,
                    32,
                    30,
                    29,
                    12,
                    14,
                    8,
                    31,
                    94,
                    42,
                    95,
                    6,
                    54,
                    41,
                    4,
                    31,
                    11,
                    0,
                    14,
                    30,
                    30,
                    55,
                    1,
                    70,
                    11,
                    91,
                    3,
                    1,
                    52,
                    0,
                    39,
                    86,
                    40,
                    111,
                    32,
                    4,
                    58,
                    49,
                    88,
                    12,
                    52,
                    6,
                    39,
                    1,
                    5,
                    56,
                    4,
                    69,
                    0,
                    1,
                    84,
                    8,
                    42,
                    1,
                    51,
                    1,
                    7,
                    45,
                    47,
                    60,
                    59,
                    35,
                    13,
                    62,
                    83,
                    104,
                    42,
                    46,
                    93,
                    32,
                    16,
                    37,
                    100,
                    31,
                    4,
                    3,
                    66,
                    45,
                    51,
                    48,
                    30,
                    15,
                    33,
                    38,
                    89,
                    45,
                    26,
                    50,
                    1,
                    39,
                    1,
                    46,
                    58,
                    17,
                    47,
                    12,
                    55,
                    60,
                    68,
                    0,
                    44,
                    5,
                    49,
                    31,
                    2,
                    17,
                    17,
                    94,
                    42,
                    9,
                    47,
                    53,
                    37,
                    56,
                    58,
                    31,
                    43,
                    54,
                    30,
                    45,
                    70,
                    30,
                    1,
                    45,
                    36,
                    52,
                    3,
                    0,
                    40,
                    56,
                    1,
                    70,
                    23,
                    4,
                    50,
                    32,
                    81,
                    58,
                    0,
                    37,
                    57,
                    53,
                    16,
                    50,
                    13,
                    108,
                    1,
                    15,
                    26,
                    31,
                    4,
                    40,
                    8,
                    9,
                    2,
                    44,
                    1,
                    5,
                    48,
                    80,
                    6,
                    4,
                    0,
                    70,
                    30,
                    10,
                    30,
                    40,
                    51,
                    119,
                    47,
                    5,
                    4,
                    38,
                    57,
                    41,
                    37,
                    39,
                    31,
                    61,
                    29,
                    45,
                    4,
                    11,
                    52,
                    31,
                    31,
                    2,
                    8,
                    2,
                    69,
                    53,
                    99,
                    48,
                    57,
                    6,
                    31,
                    1,
                    99,
                    6,
                    83,
                    1,
                    53,
                    46,
                    47,
                    11,
                    1,
                    6,
                    32,
                    58,
                    96,
                    1,
                    31,
                    0,
                    9,
                    127,
                    43,
                    1,
                    3,
                    60,
                    45,
                    39,
                    84,
                    4,
                    57,
                    87,
                    2,
                    31,
                    4,
                    31,
                    37,
                    39,
                    5,
                    80,
                    60,
                    45,
                    84,
                    99,
                    59,
                    8,
                    13,
                    25,
                    16,
                    1,
                    3,
                    0,
                    77,
                    3,
                    32,
                    35,
                    50,
                    1,
                    66,
                    34,
                    90,
                    89,
                    13,
                    4,
                    69,
                    52,
                    2,
                    7,
                    39,
                    39,
                    49,
                    42,
                    4,
                    18,
                    28,
                    54,
                    1,
                    14,
                    49,
                    64,
                    0,
                    0,
                    43,
                    53,
                    4,
                    32,
                    1,
                    15,
                    1,
                    75,
                    9,
                    73,
                    107,
                    81,
                    43,
                    14,
                    16,
                    44,
                    33,
                    58,
                    51,
                    41,
                    58,
                    32,
                    1,
                    67,
                    70,
                    37,
                    2,
                    13,
                    37,
                    47,
                    5,
                    42,
                    11,
                    18,
                    37,
                    4,
                    2,
                    1,
                    59,
                    9,
                    83,
                    41,
                    54,
                    1,
                    93,
                    21,
                    73,
                    31,
                    89,
                    36,
                    47,
                    47,
                    37,
                    16,
                    17,
                    0,
                    7,
                    5,
                    13,
                    32,
                    49,
                    54,
                    52,
                    0,
                    7,
                    41,
                    50,
                    47,
                    87,
                    1,
                    53,
                    62,
                    15,
                    54,
                    2,
                    3,
                    3,
                    27,
                    81,
                    16,
                    127,
                    14,
                    10,
                    81,
                    58,
                    135,
                    32,
                    87,
                    57,
                    33,
                    1,
                    49,
                    69,
                    78,
                    21,
                    68,
                    82,
                    89,
                    57,
                    47,
                    50,
                    78,
                    43,
                    31,
                    43,
                    2,
                    1,
                    34,
                    32,
                    54,
                    39,
                    39,
                    29,
                    0,
                    2,
                    6,
                    73,
                    11,
                    31,
                    50,
                    2,
                    61,
                    74,
                    15,
                    24,
                    83,
                    88,
                    52,
                    16,
                    0,
                    11,
                    86,
                    44,
                    82,
                    109,
                    12,
                    7,
                    11,
                    46,
                    8,
                    82,
                    10,
                    41,
                    3,
                    0,
                    90,
                    8,
                    43,
                    36,
                    11,
                    84,
                    9,
                    31,
                    19,
                    40,
                    3,
                    46,
                    0,
                    18,
                    22,
                    68,
                    41,
                    44,
                    41,
                    32,
                    0,
                    59,
                    35,
                    42,
                    40,
                    58,
                    55,
                    4,
                    49,
                    1,
                    43,
                    0,
                    48,
                    30,
                    44,
                    45,
                    51,
                    97,
                    92,
                    7,
                    2,
                    1,
                    1,
                    5,
                    0,
                    36,
                    0,
                    77,
                    23,
                    1,
                    34,
                    91,
                    57,
                    42,
                    3,
                    41,
                    33,
                    5,
                    76,
                    14,
                    87,
                    3,
                    39,
                    10,
                    53,
                    52,
                    88,
                    10,
                    7,
                    97,
                    2,
                    73,
                    49,
                    31,
                    41,
                    41,
                    49,
                    97,
                    59,
                    37,
                    42,
                    6,
                    90,
                    7,
                    16,
                    32,
                    39,
                    91,
                    70,
                    47,
                    42,
                    9,
                    0,
                    46,
                    37,
                    117,
                    30,
                    51,
                    38,
                    45,
                    1,
                    0,
                    51,
                    10,
                    67,
                    12,
                    1,
                    2,
                    3,
                    1,
                    15,
                    60,
                    17,
                    51,
                    2,
                    17,
                    11,
                    53,
                    39,
                    1,
                    1,
                    5,
                    53,
                    52,
                    59,
                    18,
                    69,
                    1,
                    86,
                    76,
                    26,
                    88,
                    8,
                    1,
                    30,
                    71,
                    68,
                    39,
                    32,
                    35,
                    65,
                    4,
                    34,
                    36,
                    5,
                    5,
                    81,
                    1,
                    87,
                    38,
                    1,
                    9,
                    136,
                    40,
                    46,
                    72,
                    15,
                    8,
                    38,
                    42,
                    39,
                    10,
                    2,
                    87,
                    4,
                    89,
                    1,
                    1,
                    10,
                    9,
                    29,
                    6,
                    7,
                    89,
                    53,
                    8,
                    6,
                    3,
                    0,
                    78,
                    68,
                    33,
                    2,
                    96,
                    38,
                    86,
                    89,
                    70,
                    88,
                    28,
                    91,
                    3,
                    66,
                    6,
                    42,
                    39,
                    103,
                    0,
                    2,
                    62,
                    87,
                    59,
                    84,
                    79,
                    4,
                    0,
                    0,
                    91,
                    4,
                    37,
                    24,
                    100,
                    22,
                    8,
                    59,
                    60,
                    4,
                    85,
                    2,
                    125,
                    11,
                    45,
                    37,
                    38,
                    33,
                    5,
                    40,
                    49,
                    49,
                    14,
                    63,
                    70,
                    26,
                    1,
                    33,
                    80,
                    8,
                    29,
                    46,
                    36,
                    0,
                    53,
                    28,
                    86,
                    4,
                    1,
                    93,
                    3,
                    41,
                    48,
                    12,
                    97,
                    36,
                    35,
                    1,
                    1,
                    0,
                    5,
                    8,
                    32,
                    69,
                    60,
                    43
                  ],
                  "xaxis": "x",
                  "y": [
                    208500,
                    181500,
                    223500,
                    140000,
                    250000,
                    143000,
                    307000,
                    200000,
                    129900,
                    118000,
                    129500,
                    345000,
                    144000,
                    279500,
                    157000,
                    132000,
                    149000,
                    90000,
                    159000,
                    139000,
                    325300,
                    139400,
                    230000,
                    129900,
                    154000,
                    256300,
                    134800,
                    306000,
                    207500,
                    68500,
                    40000,
                    149350,
                    179900,
                    165500,
                    277500,
                    309000,
                    145000,
                    153000,
                    109000,
                    82000,
                    160000,
                    170000,
                    144000,
                    130250,
                    141000,
                    319900,
                    239686,
                    249700,
                    113000,
                    127000,
                    177000,
                    114500,
                    110000,
                    385000,
                    130000,
                    180500,
                    172500,
                    196500,
                    438780,
                    124900,
                    158000,
                    101000,
                    202500,
                    140000,
                    219500,
                    317000,
                    180000,
                    226000,
                    80000,
                    225000,
                    244000,
                    129500,
                    185000,
                    144900,
                    107400,
                    91000,
                    135750,
                    127000,
                    136500,
                    110000,
                    193500,
                    153500,
                    245000,
                    126500,
                    168500,
                    260000,
                    174000,
                    164500,
                    85000,
                    123600,
                    109900,
                    98600,
                    163500,
                    133900,
                    204750,
                    185000,
                    214000,
                    94750,
                    83000,
                    128950,
                    205000,
                    178000,
                    118964,
                    198900,
                    169500,
                    250000,
                    100000,
                    115000,
                    115000,
                    190000,
                    136900,
                    180000,
                    383970,
                    217000,
                    259500,
                    176000,
                    139000,
                    155000,
                    320000,
                    163990,
                    180000,
                    100000,
                    136000,
                    153900,
                    181000,
                    84500,
                    128000,
                    87000,
                    155000,
                    150000,
                    226000,
                    244000,
                    150750,
                    220000,
                    180000,
                    174000,
                    143000,
                    171000,
                    230000,
                    231500,
                    115000,
                    260000,
                    166000,
                    204000,
                    125000,
                    130000,
                    105000,
                    222500,
                    141000,
                    115000,
                    122000,
                    372402,
                    190000,
                    235000,
                    125000,
                    79000,
                    109500,
                    269500,
                    254900,
                    320000,
                    162500,
                    412500,
                    220000,
                    103200,
                    152000,
                    127500,
                    190000,
                    325624,
                    183500,
                    228000,
                    128500,
                    215000,
                    239000,
                    163000,
                    184000,
                    243000,
                    211000,
                    172500,
                    501837,
                    100000,
                    177000,
                    200100,
                    120000,
                    200000,
                    127000,
                    475000,
                    173000,
                    135000,
                    153337,
                    286000,
                    315000,
                    184000,
                    192000,
                    130000,
                    127000,
                    148500,
                    311872,
                    235000,
                    104000,
                    274900,
                    140000,
                    171500,
                    112000,
                    149000,
                    110000,
                    180500,
                    143900,
                    141000,
                    277000,
                    145000,
                    98000,
                    186000,
                    252678,
                    156000,
                    161750,
                    134450,
                    210000,
                    107000,
                    311500,
                    167240,
                    204900,
                    200000,
                    179900,
                    97000,
                    386250,
                    112000,
                    290000,
                    106000,
                    125000,
                    192500,
                    148000,
                    403000,
                    94500,
                    128200,
                    216500,
                    89500,
                    185500,
                    194500,
                    318000,
                    113000,
                    262500,
                    110500,
                    79000,
                    120000,
                    205000,
                    241500,
                    137000,
                    140000,
                    180000,
                    277000,
                    76500,
                    235000,
                    173000,
                    158000,
                    145000,
                    230000,
                    207500,
                    220000,
                    231500,
                    97000,
                    176000,
                    276000,
                    151000,
                    130000,
                    73000,
                    175500,
                    185000,
                    179500,
                    120500,
                    148000,
                    266000,
                    241500,
                    290000,
                    139000,
                    124500,
                    205000,
                    201000,
                    141000,
                    415298,
                    192000,
                    228500,
                    185000,
                    207500,
                    244600,
                    179200,
                    164700,
                    159000,
                    88000,
                    122000,
                    153575,
                    233230,
                    135900,
                    131000,
                    235000,
                    167000,
                    142500,
                    152000,
                    239000,
                    175000,
                    158500,
                    157000,
                    267000,
                    205000,
                    149900,
                    295000,
                    305900,
                    225000,
                    89500,
                    82500,
                    360000,
                    165600,
                    132000,
                    119900,
                    375000,
                    178000,
                    188500,
                    260000,
                    270000,
                    260000,
                    187500,
                    342643,
                    354000,
                    301000,
                    126175,
                    242000,
                    87000,
                    324000,
                    145250,
                    214500,
                    78000,
                    119000,
                    139000,
                    284000,
                    207000,
                    192000,
                    228950,
                    377426,
                    214000,
                    202500,
                    155000,
                    202900,
                    82000,
                    87500,
                    266000,
                    85000,
                    140200,
                    151500,
                    157500,
                    154000,
                    437154,
                    318061,
                    190000,
                    95000,
                    105900,
                    140000,
                    177500,
                    173000,
                    134000,
                    130000,
                    280000,
                    156000,
                    145000,
                    198500,
                    118000,
                    190000,
                    147000,
                    159000,
                    165000,
                    132000,
                    162000,
                    172400,
                    134432,
                    125000,
                    123000,
                    219500,
                    61000,
                    148000,
                    340000,
                    394432,
                    179000,
                    127000,
                    187750,
                    213500,
                    76000,
                    240000,
                    192000,
                    81000,
                    125000,
                    191000,
                    426000,
                    119000,
                    215000,
                    106500,
                    100000,
                    109000,
                    129000,
                    123000,
                    169500,
                    67000,
                    241000,
                    245500,
                    164990,
                    108000,
                    258000,
                    168000,
                    150000,
                    115000,
                    177000,
                    280000,
                    339750,
                    60000,
                    145000,
                    222000,
                    115000,
                    228000,
                    181134,
                    149500,
                    239000,
                    126000,
                    142000,
                    206300,
                    215000,
                    113000,
                    315000,
                    139000,
                    135000,
                    275000,
                    109008,
                    195400,
                    175000,
                    85400,
                    79900,
                    122500,
                    181000,
                    81000,
                    212000,
                    116000,
                    119000,
                    90350,
                    110000,
                    555000,
                    118000,
                    162900,
                    172500,
                    210000,
                    127500,
                    190000,
                    199900,
                    119500,
                    120000,
                    110000,
                    280000,
                    204000,
                    210000,
                    188000,
                    175500,
                    98000,
                    256000,
                    161000,
                    110000,
                    263435,
                    155000,
                    62383,
                    188700,
                    124000,
                    178740,
                    167000,
                    146500,
                    250000,
                    187000,
                    212000,
                    190000,
                    148000,
                    440000,
                    251000,
                    132500,
                    208900,
                    380000,
                    297000,
                    89471,
                    326000,
                    374000,
                    155000,
                    164000,
                    132500,
                    147000,
                    156000,
                    175000,
                    160000,
                    86000,
                    115000,
                    133000,
                    172785,
                    155000,
                    91300,
                    34900,
                    430000,
                    184000,
                    130000,
                    120000,
                    113000,
                    226700,
                    140000,
                    289000,
                    147000,
                    124500,
                    215000,
                    208300,
                    161000,
                    124500,
                    164900,
                    202665,
                    129900,
                    134000,
                    96500,
                    402861,
                    158000,
                    265000,
                    211000,
                    234000,
                    106250,
                    150000,
                    159000,
                    184750,
                    315750,
                    176000,
                    132000,
                    446261,
                    86000,
                    200624,
                    175000,
                    128000,
                    107500,
                    39300,
                    178000,
                    107500,
                    188000,
                    111250,
                    158000,
                    272000,
                    315000,
                    248000,
                    213250,
                    133000,
                    179665,
                    229000,
                    210000,
                    129500,
                    125000,
                    263000,
                    140000,
                    112500,
                    255500,
                    108000,
                    284000,
                    113000,
                    141000,
                    108000,
                    175000,
                    234000,
                    121500,
                    170000,
                    108000,
                    185000,
                    268000,
                    128000,
                    325000,
                    214000,
                    316600,
                    135960,
                    142600,
                    120000,
                    224500,
                    170000,
                    139000,
                    118500,
                    145000,
                    164500,
                    146000,
                    131500,
                    181900,
                    253293,
                    118500,
                    325000,
                    133000,
                    369900,
                    130000,
                    137000,
                    143000,
                    79500,
                    185900,
                    451950,
                    138000,
                    140000,
                    110000,
                    319000,
                    114504,
                    194201,
                    217500,
                    151000,
                    275000,
                    141000,
                    220000,
                    151000,
                    221000,
                    205000,
                    152000,
                    225000,
                    359100,
                    118500,
                    313000,
                    148000,
                    261500,
                    147000,
                    75500,
                    137500,
                    183200,
                    105500,
                    314813,
                    305000,
                    67000,
                    240000,
                    135000,
                    168500,
                    165150,
                    160000,
                    139900,
                    153000,
                    135000,
                    168500,
                    124000,
                    209500,
                    82500,
                    139400,
                    144000,
                    200000,
                    60000,
                    93000,
                    85000,
                    264561,
                    274000,
                    226000,
                    345000,
                    152000,
                    370878,
                    143250,
                    98300,
                    155000,
                    155000,
                    84500,
                    205950,
                    108000,
                    191000,
                    135000,
                    350000,
                    88000,
                    145500,
                    149000,
                    97500,
                    167000,
                    197900,
                    402000,
                    110000,
                    137500,
                    423000,
                    230500,
                    129000,
                    193500,
                    168000,
                    137500,
                    173500,
                    103600,
                    165000,
                    257500,
                    140000,
                    148500,
                    87000,
                    109500,
                    372500,
                    128500,
                    143000,
                    159434,
                    173000,
                    285000,
                    221000,
                    207500,
                    227875,
                    148800,
                    392000,
                    194700,
                    141000,
                    755000,
                    335000,
                    108480,
                    141500,
                    176000,
                    89000,
                    123500,
                    138500,
                    196000,
                    312500,
                    140000,
                    361919,
                    140000,
                    213000,
                    55000,
                    302000,
                    254000,
                    179540,
                    109900,
                    52000,
                    102776,
                    189000,
                    129000,
                    130500,
                    165000,
                    159500,
                    157000,
                    341000,
                    128500,
                    275000,
                    143000,
                    124500,
                    135000,
                    320000,
                    120500,
                    222000,
                    194500,
                    110000,
                    103000,
                    236500,
                    187500,
                    222500,
                    131400,
                    108000,
                    163000,
                    93500,
                    239900,
                    179000,
                    190000,
                    132000,
                    142000,
                    179000,
                    175000,
                    180000,
                    299800,
                    236000,
                    265979,
                    260400,
                    98000,
                    96500,
                    162000,
                    217000,
                    275500,
                    156000,
                    172500,
                    212000,
                    158900,
                    179400,
                    290000,
                    127500,
                    100000,
                    215200,
                    337000,
                    270000,
                    264132,
                    196500,
                    160000,
                    216837,
                    538000,
                    134900,
                    102000,
                    107000,
                    114500,
                    395000,
                    162000,
                    221500,
                    142500,
                    144000,
                    135000,
                    176000,
                    175900,
                    187100,
                    165500,
                    128000,
                    161500,
                    139000,
                    233000,
                    107900,
                    187500,
                    160200,
                    146800,
                    269790,
                    225000,
                    194500,
                    171000,
                    143500,
                    110000,
                    485000,
                    175000,
                    200000,
                    109900,
                    189000,
                    582933,
                    118000,
                    227680,
                    135500,
                    223500,
                    159950,
                    106000,
                    181000,
                    144500,
                    55993,
                    157900,
                    116000,
                    224900,
                    137000,
                    271000,
                    155000,
                    224000,
                    183000,
                    93000,
                    225000,
                    139500,
                    232600,
                    385000,
                    109500,
                    189000,
                    185000,
                    147400,
                    166000,
                    151000,
                    237000,
                    167000,
                    139950,
                    128000,
                    153500,
                    100000,
                    144000,
                    130500,
                    140000,
                    157500,
                    174900,
                    141000,
                    153900,
                    171000,
                    213000,
                    133500,
                    240000,
                    187000,
                    131500,
                    215000,
                    164000,
                    158000,
                    170000,
                    127000,
                    147000,
                    174000,
                    152000,
                    250000,
                    189950,
                    131500,
                    152000,
                    132500,
                    250580,
                    148500,
                    248900,
                    129000,
                    169000,
                    236000,
                    109500,
                    200500,
                    116000,
                    133000,
                    66500,
                    303477,
                    132250,
                    350000,
                    148000,
                    136500,
                    157000,
                    187500,
                    178000,
                    118500,
                    100000,
                    328900,
                    145000,
                    135500,
                    268000,
                    149500,
                    122900,
                    172500,
                    154500,
                    165000,
                    118858,
                    140000,
                    106500,
                    142953,
                    611657,
                    135000,
                    110000,
                    153000,
                    180000,
                    240000,
                    125500,
                    128000,
                    255000,
                    250000,
                    131000,
                    174000,
                    154300,
                    143500,
                    88000,
                    145000,
                    173733,
                    75000,
                    35311,
                    135000,
                    238000,
                    176500,
                    201000,
                    145900,
                    169990,
                    193000,
                    207500,
                    175000,
                    285000,
                    176000,
                    236500,
                    222000,
                    201000,
                    117500,
                    320000,
                    190000,
                    242000,
                    79900,
                    184900,
                    253000,
                    239799,
                    244400,
                    150900,
                    214000,
                    150000,
                    143000,
                    137500,
                    124900,
                    143000,
                    270000,
                    192500,
                    197500,
                    129000,
                    119900,
                    133900,
                    172000,
                    127500,
                    145000,
                    124000,
                    132000,
                    185000,
                    155000,
                    116500,
                    272000,
                    155000,
                    239000,
                    214900,
                    178900,
                    160000,
                    135000,
                    37900,
                    140000,
                    135000,
                    173000,
                    99500,
                    182000,
                    167500,
                    165000,
                    85500,
                    199900,
                    110000,
                    139000,
                    178400,
                    336000,
                    159895,
                    255900,
                    126000,
                    125000,
                    117000,
                    395192,
                    195000,
                    197000,
                    348000,
                    168000,
                    187000,
                    173900,
                    337500,
                    121600,
                    136500,
                    185000,
                    91000,
                    206000,
                    82000,
                    86000,
                    232000,
                    136905,
                    181000,
                    149900,
                    163500,
                    88000,
                    240000,
                    102000,
                    135000,
                    100000,
                    165000,
                    85000,
                    119200,
                    227000,
                    203000,
                    187500,
                    160000,
                    213490,
                    176000,
                    194000,
                    87000,
                    191000,
                    287000,
                    112500,
                    167500,
                    293077,
                    105000,
                    118000,
                    160000,
                    197000,
                    310000,
                    230000,
                    119750,
                    84000,
                    315500,
                    287000,
                    97000,
                    80000,
                    155000,
                    173000,
                    196000,
                    262280,
                    278000,
                    139600,
                    556581,
                    145000,
                    115000,
                    84900,
                    176485,
                    200141,
                    165000,
                    144500,
                    255000,
                    180000,
                    185850,
                    248000,
                    335000,
                    220000,
                    213500,
                    81000,
                    90000,
                    110500,
                    154000,
                    328000,
                    178000,
                    167900,
                    151400,
                    135000,
                    135000,
                    154000,
                    91500,
                    159500,
                    194000,
                    219500,
                    170000,
                    138800,
                    155900,
                    126000,
                    145000,
                    133000,
                    192000,
                    160000,
                    187500,
                    147000,
                    83500,
                    252000,
                    137500,
                    197000,
                    92900,
                    160000,
                    136500,
                    146000,
                    129000,
                    176432,
                    127000,
                    170000,
                    128000,
                    157000,
                    60000,
                    119500,
                    135000,
                    159500,
                    106000,
                    325000,
                    179900,
                    274725,
                    181000,
                    280000,
                    188000,
                    205000,
                    129900,
                    134500,
                    117000,
                    318000,
                    184100,
                    130000,
                    140000,
                    133700,
                    118400,
                    212900,
                    112000,
                    118000,
                    163900,
                    115000,
                    174000,
                    259000,
                    215000,
                    140000,
                    135000,
                    93500,
                    117500,
                    239500,
                    169000,
                    102000,
                    119000,
                    94000,
                    196000,
                    144000,
                    139000,
                    197500,
                    424870,
                    80000,
                    80000,
                    149000,
                    180000,
                    174500,
                    116900,
                    143000,
                    124000,
                    149900,
                    230000,
                    120500,
                    201800,
                    218000,
                    179900,
                    230000,
                    235128,
                    185000,
                    146000,
                    224000,
                    129000,
                    108959,
                    194000,
                    233170,
                    245350,
                    173000,
                    235000,
                    625000,
                    171000,
                    163000,
                    171900,
                    200500,
                    239000,
                    285000,
                    119500,
                    115000,
                    154900,
                    93000,
                    250000,
                    392500,
                    745000,
                    120000,
                    186700,
                    104900,
                    95000,
                    262000,
                    195000,
                    189000,
                    168000,
                    174000,
                    125000,
                    165000,
                    158000,
                    176000,
                    219210,
                    144000,
                    178000,
                    148000,
                    116050,
                    197900,
                    117000,
                    213000,
                    153500,
                    271900,
                    107000,
                    200000,
                    140000,
                    290000,
                    189000,
                    164000,
                    113000,
                    145000,
                    134500,
                    125000,
                    112000,
                    229456,
                    80500,
                    91500,
                    115000,
                    134000,
                    143000,
                    137900,
                    184000,
                    145000,
                    214000,
                    147000,
                    367294,
                    127000,
                    190000,
                    132500,
                    101800,
                    142000,
                    130000,
                    138887,
                    175500,
                    195000,
                    142500,
                    265900,
                    224900,
                    248328,
                    170000,
                    465000,
                    230000,
                    178000,
                    186500,
                    169900,
                    129500,
                    119000,
                    244000,
                    171750,
                    130000,
                    294000,
                    165400,
                    127500,
                    301500,
                    99900,
                    190000,
                    151000,
                    181000,
                    128900,
                    161500,
                    180500,
                    181000,
                    183900,
                    122000,
                    378500,
                    381000,
                    144000,
                    260000,
                    185750,
                    137000,
                    177000,
                    139000,
                    137000,
                    162000,
                    197900,
                    237000,
                    68400,
                    227000,
                    180000,
                    150500,
                    139000,
                    169000,
                    132500,
                    143000,
                    190000,
                    278000,
                    281000,
                    180500,
                    119500,
                    107500,
                    162900,
                    115000,
                    138500,
                    155000,
                    140000,
                    160000,
                    154000,
                    225000,
                    177500,
                    290000,
                    232000,
                    130000,
                    325000,
                    202500,
                    138000,
                    147000,
                    179200,
                    335000,
                    203000,
                    302000,
                    333168,
                    119000,
                    206900,
                    295493,
                    208900,
                    275000,
                    111000,
                    156500,
                    72500,
                    190000,
                    82500,
                    147000,
                    55000,
                    79000,
                    130500,
                    256000,
                    176500,
                    227000,
                    132500,
                    100000,
                    125500,
                    125000,
                    167900,
                    135000,
                    52500,
                    200000,
                    128500,
                    123000,
                    155000,
                    228500,
                    177000,
                    155835,
                    108500,
                    262500,
                    283463,
                    215000,
                    122000,
                    200000,
                    171000,
                    134900,
                    410000,
                    235000,
                    170000,
                    110000,
                    149900,
                    177500,
                    315000,
                    189000,
                    260000,
                    104900,
                    156932,
                    144152,
                    216000,
                    193000,
                    127000,
                    144000,
                    232000,
                    105000,
                    165500,
                    274300,
                    466500,
                    250000,
                    239000,
                    91000,
                    117000,
                    83000,
                    167500,
                    58500,
                    237500,
                    157000,
                    112000,
                    105000,
                    125500,
                    250000,
                    136000,
                    377500,
                    131000,
                    235000,
                    124000,
                    123000,
                    163000,
                    246578,
                    281213,
                    160000,
                    137500,
                    138000,
                    137450,
                    120000,
                    193000,
                    193879,
                    282922,
                    105000,
                    275000,
                    133000,
                    112000,
                    125500,
                    215000,
                    230000,
                    140000,
                    90000,
                    257000,
                    207000,
                    175900,
                    122500,
                    340000,
                    124000,
                    223000,
                    179900,
                    127500,
                    136500,
                    274970,
                    144000,
                    142000,
                    271000,
                    140000,
                    119000,
                    182900,
                    192140,
                    143750,
                    64500,
                    186500,
                    160000,
                    174000,
                    120500,
                    394617,
                    149700,
                    197000,
                    191000,
                    149300,
                    310000,
                    121000,
                    179600,
                    129000,
                    157900,
                    240000,
                    112000,
                    92000,
                    136000,
                    287090,
                    145000,
                    84500,
                    185000,
                    175000,
                    210000,
                    266500,
                    142125,
                    147500
                  ],
                  "yaxis": "y"
                }
              ],
              "layout": {
                "legend": {
                  "tracegroupgap": 0
                },
                "template": {
                  "data": {
                    "bar": [
                      {
                        "error_x": {
                          "color": "#2a3f5f"
                        },
                        "error_y": {
                          "color": "#2a3f5f"
                        },
                        "marker": {
                          "line": {
                            "color": "#E5ECF6",
                            "width": 0.5
                          },
                          "pattern": {
                            "fillmode": "overlay",
                            "size": 10,
                            "solidity": 0.2
                          }
                        },
                        "type": "bar"
                      }
                    ],
                    "barpolar": [
                      {
                        "marker": {
                          "line": {
                            "color": "#E5ECF6",
                            "width": 0.5
                          },
                          "pattern": {
                            "fillmode": "overlay",
                            "size": 10,
                            "solidity": 0.2
                          }
                        },
                        "type": "barpolar"
                      }
                    ],
                    "carpet": [
                      {
                        "aaxis": {
                          "endlinecolor": "#2a3f5f",
                          "gridcolor": "white",
                          "linecolor": "white",
                          "minorgridcolor": "white",
                          "startlinecolor": "#2a3f5f"
                        },
                        "baxis": {
                          "endlinecolor": "#2a3f5f",
                          "gridcolor": "white",
                          "linecolor": "white",
                          "minorgridcolor": "white",
                          "startlinecolor": "#2a3f5f"
                        },
                        "type": "carpet"
                      }
                    ],
                    "choropleth": [
                      {
                        "colorbar": {
                          "outlinewidth": 0,
                          "ticks": ""
                        },
                        "type": "choropleth"
                      }
                    ],
                    "contour": [
                      {
                        "colorbar": {
                          "outlinewidth": 0,
                          "ticks": ""
                        },
                        "colorscale": [
                          [
                            0,
                            "#0d0887"
                          ],
                          [
                            0.1111111111111111,
                            "#46039f"
                          ],
                          [
                            0.2222222222222222,
                            "#7201a8"
                          ],
                          [
                            0.3333333333333333,
                            "#9c179e"
                          ],
                          [
                            0.4444444444444444,
                            "#bd3786"
                          ],
                          [
                            0.5555555555555556,
                            "#d8576b"
                          ],
                          [
                            0.6666666666666666,
                            "#ed7953"
                          ],
                          [
                            0.7777777777777778,
                            "#fb9f3a"
                          ],
                          [
                            0.8888888888888888,
                            "#fdca26"
                          ],
                          [
                            1,
                            "#f0f921"
                          ]
                        ],
                        "type": "contour"
                      }
                    ],
                    "contourcarpet": [
                      {
                        "colorbar": {
                          "outlinewidth": 0,
                          "ticks": ""
                        },
                        "type": "contourcarpet"
                      }
                    ],
                    "heatmap": [
                      {
                        "colorbar": {
                          "outlinewidth": 0,
                          "ticks": ""
                        },
                        "colorscale": [
                          [
                            0,
                            "#0d0887"
                          ],
                          [
                            0.1111111111111111,
                            "#46039f"
                          ],
                          [
                            0.2222222222222222,
                            "#7201a8"
                          ],
                          [
                            0.3333333333333333,
                            "#9c179e"
                          ],
                          [
                            0.4444444444444444,
                            "#bd3786"
                          ],
                          [
                            0.5555555555555556,
                            "#d8576b"
                          ],
                          [
                            0.6666666666666666,
                            "#ed7953"
                          ],
                          [
                            0.7777777777777778,
                            "#fb9f3a"
                          ],
                          [
                            0.8888888888888888,
                            "#fdca26"
                          ],
                          [
                            1,
                            "#f0f921"
                          ]
                        ],
                        "type": "heatmap"
                      }
                    ],
                    "heatmapgl": [
                      {
                        "colorbar": {
                          "outlinewidth": 0,
                          "ticks": ""
                        },
                        "colorscale": [
                          [
                            0,
                            "#0d0887"
                          ],
                          [
                            0.1111111111111111,
                            "#46039f"
                          ],
                          [
                            0.2222222222222222,
                            "#7201a8"
                          ],
                          [
                            0.3333333333333333,
                            "#9c179e"
                          ],
                          [
                            0.4444444444444444,
                            "#bd3786"
                          ],
                          [
                            0.5555555555555556,
                            "#d8576b"
                          ],
                          [
                            0.6666666666666666,
                            "#ed7953"
                          ],
                          [
                            0.7777777777777778,
                            "#fb9f3a"
                          ],
                          [
                            0.8888888888888888,
                            "#fdca26"
                          ],
                          [
                            1,
                            "#f0f921"
                          ]
                        ],
                        "type": "heatmapgl"
                      }
                    ],
                    "histogram": [
                      {
                        "marker": {
                          "pattern": {
                            "fillmode": "overlay",
                            "size": 10,
                            "solidity": 0.2
                          }
                        },
                        "type": "histogram"
                      }
                    ],
                    "histogram2d": [
                      {
                        "colorbar": {
                          "outlinewidth": 0,
                          "ticks": ""
                        },
                        "colorscale": [
                          [
                            0,
                            "#0d0887"
                          ],
                          [
                            0.1111111111111111,
                            "#46039f"
                          ],
                          [
                            0.2222222222222222,
                            "#7201a8"
                          ],
                          [
                            0.3333333333333333,
                            "#9c179e"
                          ],
                          [
                            0.4444444444444444,
                            "#bd3786"
                          ],
                          [
                            0.5555555555555556,
                            "#d8576b"
                          ],
                          [
                            0.6666666666666666,
                            "#ed7953"
                          ],
                          [
                            0.7777777777777778,
                            "#fb9f3a"
                          ],
                          [
                            0.8888888888888888,
                            "#fdca26"
                          ],
                          [
                            1,
                            "#f0f921"
                          ]
                        ],
                        "type": "histogram2d"
                      }
                    ],
                    "histogram2dcontour": [
                      {
                        "colorbar": {
                          "outlinewidth": 0,
                          "ticks": ""
                        },
                        "colorscale": [
                          [
                            0,
                            "#0d0887"
                          ],
                          [
                            0.1111111111111111,
                            "#46039f"
                          ],
                          [
                            0.2222222222222222,
                            "#7201a8"
                          ],
                          [
                            0.3333333333333333,
                            "#9c179e"
                          ],
                          [
                            0.4444444444444444,
                            "#bd3786"
                          ],
                          [
                            0.5555555555555556,
                            "#d8576b"
                          ],
                          [
                            0.6666666666666666,
                            "#ed7953"
                          ],
                          [
                            0.7777777777777778,
                            "#fb9f3a"
                          ],
                          [
                            0.8888888888888888,
                            "#fdca26"
                          ],
                          [
                            1,
                            "#f0f921"
                          ]
                        ],
                        "type": "histogram2dcontour"
                      }
                    ],
                    "mesh3d": [
                      {
                        "colorbar": {
                          "outlinewidth": 0,
                          "ticks": ""
                        },
                        "type": "mesh3d"
                      }
                    ],
                    "parcoords": [
                      {
                        "line": {
                          "colorbar": {
                            "outlinewidth": 0,
                            "ticks": ""
                          }
                        },
                        "type": "parcoords"
                      }
                    ],
                    "pie": [
                      {
                        "automargin": true,
                        "type": "pie"
                      }
                    ],
                    "scatter": [
                      {
                        "fillpattern": {
                          "fillmode": "overlay",
                          "size": 10,
                          "solidity": 0.2
                        },
                        "type": "scatter"
                      }
                    ],
                    "scatter3d": [
                      {
                        "line": {
                          "colorbar": {
                            "outlinewidth": 0,
                            "ticks": ""
                          }
                        },
                        "marker": {
                          "colorbar": {
                            "outlinewidth": 0,
                            "ticks": ""
                          }
                        },
                        "type": "scatter3d"
                      }
                    ],
                    "scattercarpet": [
                      {
                        "marker": {
                          "colorbar": {
                            "outlinewidth": 0,
                            "ticks": ""
                          }
                        },
                        "type": "scattercarpet"
                      }
                    ],
                    "scattergeo": [
                      {
                        "marker": {
                          "colorbar": {
                            "outlinewidth": 0,
                            "ticks": ""
                          }
                        },
                        "type": "scattergeo"
                      }
                    ],
                    "scattergl": [
                      {
                        "marker": {
                          "colorbar": {
                            "outlinewidth": 0,
                            "ticks": ""
                          }
                        },
                        "type": "scattergl"
                      }
                    ],
                    "scattermapbox": [
                      {
                        "marker": {
                          "colorbar": {
                            "outlinewidth": 0,
                            "ticks": ""
                          }
                        },
                        "type": "scattermapbox"
                      }
                    ],
                    "scatterpolar": [
                      {
                        "marker": {
                          "colorbar": {
                            "outlinewidth": 0,
                            "ticks": ""
                          }
                        },
                        "type": "scatterpolar"
                      }
                    ],
                    "scatterpolargl": [
                      {
                        "marker": {
                          "colorbar": {
                            "outlinewidth": 0,
                            "ticks": ""
                          }
                        },
                        "type": "scatterpolargl"
                      }
                    ],
                    "scatterternary": [
                      {
                        "marker": {
                          "colorbar": {
                            "outlinewidth": 0,
                            "ticks": ""
                          }
                        },
                        "type": "scatterternary"
                      }
                    ],
                    "surface": [
                      {
                        "colorbar": {
                          "outlinewidth": 0,
                          "ticks": ""
                        },
                        "colorscale": [
                          [
                            0,
                            "#0d0887"
                          ],
                          [
                            0.1111111111111111,
                            "#46039f"
                          ],
                          [
                            0.2222222222222222,
                            "#7201a8"
                          ],
                          [
                            0.3333333333333333,
                            "#9c179e"
                          ],
                          [
                            0.4444444444444444,
                            "#bd3786"
                          ],
                          [
                            0.5555555555555556,
                            "#d8576b"
                          ],
                          [
                            0.6666666666666666,
                            "#ed7953"
                          ],
                          [
                            0.7777777777777778,
                            "#fb9f3a"
                          ],
                          [
                            0.8888888888888888,
                            "#fdca26"
                          ],
                          [
                            1,
                            "#f0f921"
                          ]
                        ],
                        "type": "surface"
                      }
                    ],
                    "table": [
                      {
                        "cells": {
                          "fill": {
                            "color": "#EBF0F8"
                          },
                          "line": {
                            "color": "white"
                          }
                        },
                        "header": {
                          "fill": {
                            "color": "#C8D4E3"
                          },
                          "line": {
                            "color": "white"
                          }
                        },
                        "type": "table"
                      }
                    ]
                  },
                  "layout": {
                    "annotationdefaults": {
                      "arrowcolor": "#2a3f5f",
                      "arrowhead": 0,
                      "arrowwidth": 1
                    },
                    "autotypenumbers": "strict",
                    "coloraxis": {
                      "colorbar": {
                        "outlinewidth": 0,
                        "ticks": ""
                      }
                    },
                    "colorscale": {
                      "diverging": [
                        [
                          0,
                          "#8e0152"
                        ],
                        [
                          0.1,
                          "#c51b7d"
                        ],
                        [
                          0.2,
                          "#de77ae"
                        ],
                        [
                          0.3,
                          "#f1b6da"
                        ],
                        [
                          0.4,
                          "#fde0ef"
                        ],
                        [
                          0.5,
                          "#f7f7f7"
                        ],
                        [
                          0.6,
                          "#e6f5d0"
                        ],
                        [
                          0.7,
                          "#b8e186"
                        ],
                        [
                          0.8,
                          "#7fbc41"
                        ],
                        [
                          0.9,
                          "#4d9221"
                        ],
                        [
                          1,
                          "#276419"
                        ]
                      ],
                      "sequential": [
                        [
                          0,
                          "#0d0887"
                        ],
                        [
                          0.1111111111111111,
                          "#46039f"
                        ],
                        [
                          0.2222222222222222,
                          "#7201a8"
                        ],
                        [
                          0.3333333333333333,
                          "#9c179e"
                        ],
                        [
                          0.4444444444444444,
                          "#bd3786"
                        ],
                        [
                          0.5555555555555556,
                          "#d8576b"
                        ],
                        [
                          0.6666666666666666,
                          "#ed7953"
                        ],
                        [
                          0.7777777777777778,
                          "#fb9f3a"
                        ],
                        [
                          0.8888888888888888,
                          "#fdca26"
                        ],
                        [
                          1,
                          "#f0f921"
                        ]
                      ],
                      "sequentialminus": [
                        [
                          0,
                          "#0d0887"
                        ],
                        [
                          0.1111111111111111,
                          "#46039f"
                        ],
                        [
                          0.2222222222222222,
                          "#7201a8"
                        ],
                        [
                          0.3333333333333333,
                          "#9c179e"
                        ],
                        [
                          0.4444444444444444,
                          "#bd3786"
                        ],
                        [
                          0.5555555555555556,
                          "#d8576b"
                        ],
                        [
                          0.6666666666666666,
                          "#ed7953"
                        ],
                        [
                          0.7777777777777778,
                          "#fb9f3a"
                        ],
                        [
                          0.8888888888888888,
                          "#fdca26"
                        ],
                        [
                          1,
                          "#f0f921"
                        ]
                      ]
                    },
                    "colorway": [
                      "#636efa",
                      "#EF553B",
                      "#00cc96",
                      "#ab63fa",
                      "#FFA15A",
                      "#19d3f3",
                      "#FF6692",
                      "#B6E880",
                      "#FF97FF",
                      "#FECB52"
                    ],
                    "font": {
                      "color": "#2a3f5f"
                    },
                    "geo": {
                      "bgcolor": "white",
                      "lakecolor": "white",
                      "landcolor": "#E5ECF6",
                      "showlakes": true,
                      "showland": true,
                      "subunitcolor": "white"
                    },
                    "hoverlabel": {
                      "align": "left"
                    },
                    "hovermode": "closest",
                    "mapbox": {
                      "style": "light"
                    },
                    "paper_bgcolor": "white",
                    "plot_bgcolor": "#E5ECF6",
                    "polar": {
                      "angularaxis": {
                        "gridcolor": "white",
                        "linecolor": "white",
                        "ticks": ""
                      },
                      "bgcolor": "#E5ECF6",
                      "radialaxis": {
                        "gridcolor": "white",
                        "linecolor": "white",
                        "ticks": ""
                      }
                    },
                    "scene": {
                      "xaxis": {
                        "backgroundcolor": "#E5ECF6",
                        "gridcolor": "white",
                        "gridwidth": 2,
                        "linecolor": "white",
                        "showbackground": true,
                        "ticks": "",
                        "zerolinecolor": "white"
                      },
                      "yaxis": {
                        "backgroundcolor": "#E5ECF6",
                        "gridcolor": "white",
                        "gridwidth": 2,
                        "linecolor": "white",
                        "showbackground": true,
                        "ticks": "",
                        "zerolinecolor": "white"
                      },
                      "zaxis": {
                        "backgroundcolor": "#E5ECF6",
                        "gridcolor": "white",
                        "gridwidth": 2,
                        "linecolor": "white",
                        "showbackground": true,
                        "ticks": "",
                        "zerolinecolor": "white"
                      }
                    },
                    "shapedefaults": {
                      "line": {
                        "color": "#2a3f5f"
                      }
                    },
                    "ternary": {
                      "aaxis": {
                        "gridcolor": "white",
                        "linecolor": "white",
                        "ticks": ""
                      },
                      "baxis": {
                        "gridcolor": "white",
                        "linecolor": "white",
                        "ticks": ""
                      },
                      "bgcolor": "#E5ECF6",
                      "caxis": {
                        "gridcolor": "white",
                        "linecolor": "white",
                        "ticks": ""
                      }
                    },
                    "title": {
                      "x": 0.05
                    },
                    "xaxis": {
                      "automargin": true,
                      "gridcolor": "white",
                      "linecolor": "white",
                      "ticks": "",
                      "title": {
                        "standoff": 15
                      },
                      "zerolinecolor": "white",
                      "zerolinewidth": 2
                    },
                    "yaxis": {
                      "automargin": true,
                      "gridcolor": "white",
                      "linecolor": "white",
                      "ticks": "",
                      "title": {
                        "standoff": 15
                      },
                      "zerolinecolor": "white",
                      "zerolinewidth": 2
                    }
                  }
                },
                "title": {
                  "text": "Property Age vs Sale Price"
                },
                "xaxis": {
                  "anchor": "y",
                  "domain": [
                    0,
                    1
                  ],
                  "title": {
                    "text": "Bldg_Age"
                  }
                },
                "yaxis": {
                  "anchor": "x",
                  "domain": [
                    0,
                    1
                  ],
                  "title": {
                    "text": "SalePrice"
                  }
                }
              }
            }
          },
          "metadata": {},
          "output_type": "display_data"
        }
      ],
      "source": [
        "price_age = px.scatter(num_train, x= num_train['Bldg_Age'], y='SalePrice', title='Property Age vs Sale Price')\n",
        "price_age.show()"
      ]
    },
    {
      "cell_type": "code",
      "execution_count": 12,
      "metadata": {
        "colab": {
          "base_uri": "https://localhost:8080/",
          "height": 542
        },
        "id": "EN9BSTU3lHZ1",
        "outputId": "a42c6840-0f1c-4cc6-b13a-e2e724afc1fc"
      },
      "outputs": [
        {
          "data": {
            "application/vnd.plotly.v1+json": {
              "config": {
                "plotlyServerURL": "https://plot.ly"
              },
              "data": [
                {
                  "hovertemplate": "GrLivArea=%{x}<br>SalePrice=%{y}<extra></extra>",
                  "legendgroup": "",
                  "marker": {
                    "color": "#636efa",
                    "symbol": "circle"
                  },
                  "mode": "markers",
                  "name": "",
                  "showlegend": false,
                  "type": "scattergl",
                  "x": [
                    1710,
                    1262,
                    1786,
                    1717,
                    2198,
                    1362,
                    1694,
                    2090,
                    1774,
                    1077,
                    1040,
                    2324,
                    912,
                    1494,
                    1253,
                    854,
                    1004,
                    1296,
                    1114,
                    1339,
                    2376,
                    1108,
                    1795,
                    1060,
                    1060,
                    1600,
                    900,
                    1704,
                    1600,
                    520,
                    1317,
                    1228,
                    1234,
                    1700,
                    1561,
                    2452,
                    1097,
                    1297,
                    1057,
                    1152,
                    1324,
                    1328,
                    884,
                    938,
                    1150,
                    1752,
                    2149,
                    1656,
                    1452,
                    955,
                    1470,
                    1176,
                    816,
                    1842,
                    1360,
                    1425,
                    1739,
                    1720,
                    2945,
                    780,
                    1158,
                    1111,
                    1370,
                    1710,
                    2034,
                    2473,
                    2207,
                    1479,
                    747,
                    2287,
                    2223,
                    845,
                    1718,
                    1086,
                    1605,
                    988,
                    952,
                    1285,
                    1768,
                    1230,
                    2142,
                    1337,
                    1563,
                    1065,
                    1474,
                    2417,
                    1560,
                    1224,
                    1526,
                    990,
                    1040,
                    1235,
                    964,
                    2291,
                    1786,
                    1470,
                    1588,
                    960,
                    835,
                    1225,
                    1610,
                    1732,
                    1535,
                    1226,
                    1818,
                    1992,
                    1047,
                    789,
                    1517,
                    1844,
                    1855,
                    1430,
                    2696,
                    2259,
                    2320,
                    1458,
                    1092,
                    1125,
                    3222,
                    1456,
                    988,
                    1123,
                    1080,
                    1199,
                    1586,
                    754,
                    958,
                    840,
                    1348,
                    1053,
                    2157,
                    2054,
                    1327,
                    1296,
                    1721,
                    1682,
                    1214,
                    1959,
                    1852,
                    1764,
                    864,
                    1734,
                    1385,
                    1501,
                    1728,
                    1709,
                    875,
                    2035,
                    1080,
                    1344,
                    969,
                    1710,
                    1993,
                    1252,
                    1200,
                    1096,
                    1040,
                    1968,
                    1947,
                    2462,
                    1232,
                    2668,
                    1541,
                    882,
                    1616,
                    1355,
                    1867,
                    2161,
                    1720,
                    1707,
                    1382,
                    1656,
                    1767,
                    1362,
                    1651,
                    2158,
                    2060,
                    1920,
                    2234,
                    968,
                    1525,
                    1802,
                    1340,
                    2082,
                    1252,
                    3608,
                    1217,
                    1656,
                    1224,
                    1593,
                    2727,
                    1479,
                    1431,
                    1709,
                    864,
                    1456,
                    1726,
                    3112,
                    2229,
                    1713,
                    1121,
                    1279,
                    1310,
                    848,
                    1284,
                    1442,
                    1696,
                    1100,
                    2062,
                    1092,
                    864,
                    1212,
                    1852,
                    990,
                    1392,
                    1236,
                    1436,
                    1328,
                    1954,
                    1248,
                    1498,
                    2267,
                    1552,
                    864,
                    2392,
                    1302,
                    2520,
                    987,
                    912,
                    1555,
                    1194,
                    2794,
                    987,
                    894,
                    1960,
                    987,
                    1414,
                    1744,
                    1694,
                    1487,
                    1566,
                    866,
                    1440,
                    1217,
                    2110,
                    1872,
                    1928,
                    1375,
                    1668,
                    2144,
                    1306,
                    1625,
                    1640,
                    1302,
                    1314,
                    2291,
                    1728,
                    1604,
                    1792,
                    882,
                    1382,
                    2574,
                    1212,
                    1316,
                    764,
                    1422,
                    1511,
                    2192,
                    778,
                    1113,
                    1939,
                    1363,
                    2270,
                    1632,
                    816,
                    1548,
                    1560,
                    864,
                    2121,
                    2022,
                    1982,
                    1262,
                    1314,
                    1468,
                    1575,
                    1250,
                    1734,
                    858,
                    900,
                    1396,
                    1919,
                    1716,
                    1716,
                    2263,
                    1644,
                    1003,
                    1558,
                    1950,
                    1743,
                    1152,
                    1336,
                    2452,
                    1541,
                    894,
                    3493,
                    2000,
                    2243,
                    1406,
                    861,
                    1944,
                    1501,
                    972,
                    1118,
                    2036,
                    1641,
                    1432,
                    2353,
                    1959,
                    2646,
                    1472,
                    2596,
                    2468,
                    2730,
                    1163,
                    2978,
                    803,
                    1719,
                    1383,
                    2134,
                    1192,
                    1728,
                    1056,
                    1629,
                    1358,
                    1638,
                    1786,
                    1922,
                    1536,
                    1621,
                    1215,
                    1908,
                    841,
                    1040,
                    1684,
                    1112,
                    1577,
                    958,
                    1478,
                    1626,
                    2728,
                    1869,
                    1453,
                    1111,
                    720,
                    1595,
                    1200,
                    1167,
                    1142,
                    1352,
                    1924,
                    912,
                    1505,
                    1922,
                    987,
                    1574,
                    1344,
                    1394,
                    1431,
                    1268,
                    1287,
                    1664,
                    1588,
                    752,
                    1319,
                    1928,
                    904,
                    914,
                    2466,
                    1856,
                    1800,
                    1691,
                    1301,
                    1797,
                    784,
                    1953,
                    1269,
                    1184,
                    1125,
                    1479,
                    2332,
                    1367,
                    1961,
                    882,
                    788,
                    1034,
                    1144,
                    894,
                    1812,
                    1077,
                    1550,
                    1288,
                    1310,
                    672,
                    2263,
                    1572,
                    1620,
                    1639,
                    1680,
                    2172,
                    2078,
                    1276,
                    1056,
                    1478,
                    1028,
                    2097,
                    1340,
                    1400,
                    2624,
                    1134,
                    1056,
                    1344,
                    1602,
                    988,
                    2630,
                    1196,
                    1389,
                    1644,
                    907,
                    1208,
                    1412,
                    987,
                    1198,
                    1365,
                    1604,
                    630,
                    1661,
                    1118,
                    904,
                    694,
                    1196,
                    2402,
                    1440,
                    1573,
                    1258,
                    1908,
                    1689,
                    1888,
                    1886,
                    1376,
                    1183,
                    813,
                    1533,
                    1756,
                    1590,
                    1728,
                    1242,
                    1344,
                    1663,
                    1666,
                    1203,
                    1935,
                    1135,
                    864,
                    1660,
                    1040,
                    1414,
                    1277,
                    1644,
                    1634,
                    1710,
                    1502,
                    1969,
                    1072,
                    1976,
                    1652,
                    970,
                    1493,
                    2643,
                    1718,
                    1131,
                    1850,
                    1792,
                    1826,
                    1216,
                    999,
                    1113,
                    1073,
                    1484,
                    2414,
                    630,
                    1304,
                    1578,
                    1456,
                    1269,
                    886,
                    720,
                    3228,
                    1820,
                    899,
                    912,
                    1218,
                    1768,
                    1214,
                    1801,
                    1322,
                    1960,
                    1911,
                    1218,
                    1378,
                    1041,
                    1363,
                    1368,
                    864,
                    1080,
                    789,
                    2020,
                    2119,
                    2344,
                    1796,
                    2080,
                    1294,
                    1244,
                    1664,
                    4676,
                    2398,
                    1266,
                    928,
                    2713,
                    605,
                    2515,
                    1509,
                    1362,
                    827,
                    334,
                    1414,
                    1347,
                    1724,
                    864,
                    1159,
                    1601,
                    1838,
                    2285,
                    1680,
                    767,
                    1496,
                    2183,
                    1635,
                    768,
                    825,
                    2094,
                    1069,
                    928,
                    1717,
                    1126,
                    2046,
                    1048,
                    1092,
                    1336,
                    1446,
                    1557,
                    1392,
                    1389,
                    996,
                    1674,
                    2295,
                    1647,
                    2504,
                    1535,
                    2132,
                    943,
                    1728,
                    864,
                    1692,
                    1430,
                    1109,
                    1216,
                    1477,
                    1320,
                    1392,
                    1795,
                    1429,
                    2042,
                    816,
                    2775,
                    1573,
                    2028,
                    838,
                    860,
                    1473,
                    935,
                    1582,
                    2296,
                    816,
                    848,
                    924,
                    1826,
                    1368,
                    1402,
                    1647,
                    1556,
                    1904,
                    1375,
                    1915,
                    1200,
                    1494,
                    1986,
                    1040,
                    2008,
                    3194,
                    1029,
                    2153,
                    1032,
                    1872,
                    1120,
                    630,
                    1054,
                    1509,
                    832,
                    1828,
                    2262,
                    864,
                    2614,
                    980,
                    1512,
                    1790,
                    1116,
                    1422,
                    1520,
                    2080,
                    1350,
                    1750,
                    1554,
                    1411,
                    1056,
                    1056,
                    3395,
                    800,
                    1387,
                    796,
                    1567,
                    1518,
                    1929,
                    2704,
                    1620,
                    1766,
                    981,
                    1048,
                    1094,
                    1839,
                    630,
                    1665,
                    1510,
                    1716,
                    1469,
                    2113,
                    1092,
                    1053,
                    1502,
                    1458,
                    1486,
                    1935,
                    2448,
                    1392,
                    1181,
                    2097,
                    1936,
                    2380,
                    1679,
                    1437,
                    1180,
                    1476,
                    1369,
                    1208,
                    1839,
                    1136,
                    1441,
                    1774,
                    792,
                    2046,
                    988,
                    923,
                    1520,
                    1291,
                    1668,
                    1839,
                    2090,
                    1761,
                    1102,
                    1419,
                    1362,
                    848,
                    4316,
                    2519,
                    1073,
                    1539,
                    1137,
                    616,
                    1148,
                    894,
                    1391,
                    1800,
                    1164,
                    2576,
                    1812,
                    1484,
                    1092,
                    1824,
                    1324,
                    1456,
                    904,
                    729,
                    1178,
                    1228,
                    960,
                    1479,
                    1350,
                    2554,
                    1178,
                    2418,
                    971,
                    1742,
                    848,
                    864,
                    1470,
                    1698,
                    864,
                    1680,
                    1232,
                    1776,
                    1208,
                    1616,
                    1146,
                    2031,
                    1144,
                    948,
                    1768,
                    1040,
                    1801,
                    1200,
                    1728,
                    1432,
                    912,
                    1349,
                    1464,
                    1337,
                    2715,
                    2256,
                    2640,
                    1720,
                    1529,
                    1140,
                    1320,
                    1494,
                    2098,
                    1026,
                    1471,
                    1768,
                    1386,
                    1501,
                    2531,
                    864,
                    1301,
                    1547,
                    2365,
                    1494,
                    1506,
                    1714,
                    1750,
                    1836,
                    3279,
                    858,
                    1220,
                    1117,
                    912,
                    1973,
                    1204,
                    1614,
                    894,
                    2020,
                    1004,
                    1253,
                    1603,
                    1430,
                    1110,
                    1484,
                    1342,
                    1652,
                    2084,
                    901,
                    2087,
                    1145,
                    1062,
                    2013,
                    1496,
                    1895,
                    1564,
                    1285,
                    773,
                    3140,
                    1768,
                    1688,
                    1196,
                    1456,
                    2822,
                    1128,
                    1428,
                    980,
                    1576,
                    1086,
                    2138,
                    1309,
                    848,
                    1044,
                    1442,
                    1250,
                    1661,
                    1008,
                    1689,
                    1052,
                    1358,
                    1640,
                    936,
                    1733,
                    1489,
                    1489,
                    2084,
                    784,
                    1434,
                    2126,
                    1223,
                    1392,
                    1200,
                    1829,
                    1516,
                    1144,
                    1067,
                    1559,
                    987,
                    1099,
                    1200,
                    1482,
                    1539,
                    1165,
                    1800,
                    1416,
                    1701,
                    1775,
                    864,
                    2358,
                    1855,
                    848,
                    1456,
                    1646,
                    1445,
                    1779,
                    1040,
                    1026,
                    1481,
                    1370,
                    2654,
                    1426,
                    1039,
                    1097,
                    1148,
                    1372,
                    1002,
                    1646,
                    1120,
                    2320,
                    1949,
                    894,
                    1682,
                    910,
                    1268,
                    1131,
                    2610,
                    1040,
                    2224,
                    1155,
                    864,
                    1090,
                    1717,
                    1593,
                    2230,
                    892,
                    1709,
                    1712,
                    1393,
                    2217,
                    1505,
                    924,
                    1683,
                    1068,
                    1383,
                    1535,
                    1796,
                    951,
                    2240,
                    2364,
                    1236,
                    858,
                    1306,
                    1509,
                    1670,
                    902,
                    1063,
                    1636,
                    2057,
                    902,
                    1484,
                    2274,
                    1268,
                    1015,
                    2002,
                    1224,
                    1092,
                    480,
                    1229,
                    2127,
                    1414,
                    1721,
                    2200,
                    1316,
                    1617,
                    1686,
                    1126,
                    2374,
                    1978,
                    1788,
                    2236,
                    1466,
                    925,
                    1905,
                    1500,
                    2069,
                    747,
                    1200,
                    1971,
                    1962,
                    2403,
                    1728,
                    2060,
                    1440,
                    1632,
                    1344,
                    1869,
                    1144,
                    1629,
                    1776,
                    1381,
                    864,
                    965,
                    768,
                    1968,
                    980,
                    1958,
                    1229,
                    1057,
                    1337,
                    1416,
                    858,
                    2872,
                    1548,
                    1800,
                    1894,
                    1484,
                    1308,
                    1098,
                    968,
                    1095,
                    1192,
                    1626,
                    918,
                    1428,
                    2019,
                    1382,
                    869,
                    1241,
                    894,
                    1121,
                    999,
                    2612,
                    1266,
                    2290,
                    1734,
                    1164,
                    1635,
                    1940,
                    2030,
                    1576,
                    2392,
                    1742,
                    1851,
                    1500,
                    1718,
                    1230,
                    1050,
                    1442,
                    1077,
                    1208,
                    944,
                    691,
                    1574,
                    1680,
                    1504,
                    985,
                    1657,
                    1092,
                    1710,
                    1522,
                    1271,
                    1664,
                    1502,
                    1022,
                    1082,
                    1665,
                    1504,
                    1360,
                    1472,
                    1506,
                    1132,
                    1220,
                    1248,
                    1504,
                    2898,
                    882,
                    1264,
                    1646,
                    1376,
                    1218,
                    1928,
                    3082,
                    2520,
                    1654,
                    954,
                    845,
                    1620,
                    2263,
                    1344,
                    630,
                    1803,
                    1632,
                    1306,
                    2329,
                    2524,
                    1733,
                    2868,
                    990,
                    1771,
                    930,
                    1302,
                    1316,
                    1977,
                    1526,
                    1989,
                    1523,
                    1364,
                    1850,
                    2184,
                    1991,
                    1338,
                    894,
                    2337,
                    1103,
                    1154,
                    2260,
                    1571,
                    1611,
                    2521,
                    893,
                    1048,
                    1556,
                    1456,
                    1426,
                    1240,
                    1740,
                    1466,
                    1096,
                    848,
                    990,
                    1258,
                    1040,
                    1459,
                    1251,
                    1498,
                    996,
                    1092,
                    1953,
                    1709,
                    1247,
                    1040,
                    1252,
                    1694,
                    1200,
                    936,
                    1314,
                    1355,
                    1088,
                    1324,
                    1601,
                    438,
                    950,
                    1134,
                    1194,
                    1302,
                    2622,
                    1442,
                    2021,
                    1690,
                    1836,
                    1658,
                    1964,
                    816,
                    1008,
                    833,
                    1734,
                    1419,
                    894,
                    1601,
                    1040,
                    1012,
                    1552,
                    960,
                    698,
                    1482,
                    1005,
                    1555,
                    1530,
                    1959,
                    936,
                    1981,
                    974,
                    2210,
                    2020,
                    1600,
                    986,
                    1252,
                    1020,
                    1567,
                    1167,
                    952,
                    1868,
                    2828,
                    1006,
                    924,
                    1576,
                    1298,
                    1564,
                    1111,
                    1482,
                    932,
                    1466,
                    1811,
                    816,
                    1820,
                    1437,
                    1265,
                    1314,
                    1580,
                    1876,
                    1456,
                    1640,
                    894,
                    1258,
                    1432,
                    1502,
                    1694,
                    1671,
                    2108,
                    3627,
                    1118,
                    1261,
                    1250,
                    3086,
                    2345,
                    2872,
                    923,
                    1224,
                    1343,
                    1124,
                    2514,
                    1652,
                    4476,
                    1130,
                    1572,
                    1221,
                    1699,
                    1624,
                    1660,
                    1804,
                    1622,
                    1441,
                    1472,
                    1224,
                    1352,
                    1456,
                    1863,
                    1690,
                    1212,
                    1382,
                    864,
                    1779,
                    1348,
                    1630,
                    1074,
                    2196,
                    1056,
                    1700,
                    1283,
                    1660,
                    1845,
                    1752,
                    672,
                    960,
                    999,
                    894,
                    1902,
                    1314,
                    912,
                    1218,
                    912,
                    1211,
                    1846,
                    2136,
                    1490,
                    1138,
                    1933,
                    912,
                    1702,
                    1507,
                    2620,
                    1190,
                    1224,
                    1188,
                    1964,
                    1784,
                    1626,
                    1948,
                    1141,
                    1484,
                    1768,
                    1689,
                    1173,
                    2076,
                    1517,
                    1868,
                    1553,
                    1034,
                    2058,
                    988,
                    2110,
                    1405,
                    874,
                    2167,
                    1656,
                    1367,
                    1987,
                    864,
                    1166,
                    1054,
                    1675,
                    1050,
                    1788,
                    1824,
                    1337,
                    1452,
                    1889,
                    2018,
                    3447,
                    1524,
                    1524,
                    1489,
                    935,
                    1357,
                    1250,
                    1920,
                    1395,
                    1724,
                    2031,
                    1128,
                    1573,
                    1339,
                    1040,
                    1824,
                    2447,
                    1412,
                    1328,
                    1582,
                    1659,
                    1970,
                    1152,
                    1302,
                    2372,
                    1664,
                    864,
                    1052,
                    1128,
                    1072,
                    5642,
                    1246,
                    1983,
                    1494,
                    2526,
                    1616,
                    1708,
                    1652,
                    1368,
                    990,
                    1122,
                    1294,
                    1902,
                    1274,
                    2810,
                    2599,
                    948,
                    2112,
                    1630,
                    1352,
                    1787,
                    948,
                    1478,
                    720,
                    1923,
                    708,
                    1795,
                    796,
                    774,
                    816,
                    2792,
                    1632,
                    1588,
                    954,
                    816,
                    1360,
                    1365,
                    1334,
                    1656,
                    693,
                    1861,
                    864,
                    872,
                    1114,
                    2169,
                    1913,
                    1456,
                    960,
                    2156,
                    1776,
                    1494,
                    2358,
                    2634,
                    1716,
                    1176,
                    3238,
                    1865,
                    1920,
                    892,
                    1078,
                    1573,
                    1980,
                    2601,
                    1530,
                    1738,
                    1412,
                    1200,
                    1674,
                    1790,
                    1475,
                    848,
                    1668,
                    1374,
                    1661,
                    2097,
                    2633,
                    1958,
                    1571,
                    790,
                    1604,
                    987,
                    1394,
                    864,
                    2117,
                    1762,
                    1416,
                    1258,
                    1154,
                    2784,
                    2526,
                    1746,
                    1218,
                    1525,
                    1584,
                    900,
                    1912,
                    1500,
                    2482,
                    1687,
                    1513,
                    1904,
                    1608,
                    1158,
                    1593,
                    1294,
                    1464,
                    1214,
                    1646,
                    768,
                    833,
                    1363,
                    2093,
                    1840,
                    1668,
                    1040,
                    1844,
                    1848,
                    1569,
                    2290,
                    2450,
                    1144,
                    1844,
                    1416,
                    1069,
                    848,
                    2201,
                    1344,
                    1252,
                    2127,
                    1558,
                    804,
                    1440,
                    1838,
                    958,
                    968,
                    1792,
                    1126,
                    1537,
                    864,
                    1932,
                    1236,
                    1725,
                    2555,
                    848,
                    2007,
                    952,
                    1422,
                    913,
                    1188,
                    2090,
                    1346,
                    630,
                    1792,
                    1578,
                    1072,
                    1140,
                    1221,
                    1647,
                    2073,
                    2340,
                    1078,
                    1256
                  ],
                  "xaxis": "x",
                  "y": [
                    208500,
                    181500,
                    223500,
                    140000,
                    250000,
                    143000,
                    307000,
                    200000,
                    129900,
                    118000,
                    129500,
                    345000,
                    144000,
                    279500,
                    157000,
                    132000,
                    149000,
                    90000,
                    159000,
                    139000,
                    325300,
                    139400,
                    230000,
                    129900,
                    154000,
                    256300,
                    134800,
                    306000,
                    207500,
                    68500,
                    40000,
                    149350,
                    179900,
                    165500,
                    277500,
                    309000,
                    145000,
                    153000,
                    109000,
                    82000,
                    160000,
                    170000,
                    144000,
                    130250,
                    141000,
                    319900,
                    239686,
                    249700,
                    113000,
                    127000,
                    177000,
                    114500,
                    110000,
                    385000,
                    130000,
                    180500,
                    172500,
                    196500,
                    438780,
                    124900,
                    158000,
                    101000,
                    202500,
                    140000,
                    219500,
                    317000,
                    180000,
                    226000,
                    80000,
                    225000,
                    244000,
                    129500,
                    185000,
                    144900,
                    107400,
                    91000,
                    135750,
                    127000,
                    136500,
                    110000,
                    193500,
                    153500,
                    245000,
                    126500,
                    168500,
                    260000,
                    174000,
                    164500,
                    85000,
                    123600,
                    109900,
                    98600,
                    163500,
                    133900,
                    204750,
                    185000,
                    214000,
                    94750,
                    83000,
                    128950,
                    205000,
                    178000,
                    118964,
                    198900,
                    169500,
                    250000,
                    100000,
                    115000,
                    115000,
                    190000,
                    136900,
                    180000,
                    383970,
                    217000,
                    259500,
                    176000,
                    139000,
                    155000,
                    320000,
                    163990,
                    180000,
                    100000,
                    136000,
                    153900,
                    181000,
                    84500,
                    128000,
                    87000,
                    155000,
                    150000,
                    226000,
                    244000,
                    150750,
                    220000,
                    180000,
                    174000,
                    143000,
                    171000,
                    230000,
                    231500,
                    115000,
                    260000,
                    166000,
                    204000,
                    125000,
                    130000,
                    105000,
                    222500,
                    141000,
                    115000,
                    122000,
                    372402,
                    190000,
                    235000,
                    125000,
                    79000,
                    109500,
                    269500,
                    254900,
                    320000,
                    162500,
                    412500,
                    220000,
                    103200,
                    152000,
                    127500,
                    190000,
                    325624,
                    183500,
                    228000,
                    128500,
                    215000,
                    239000,
                    163000,
                    184000,
                    243000,
                    211000,
                    172500,
                    501837,
                    100000,
                    177000,
                    200100,
                    120000,
                    200000,
                    127000,
                    475000,
                    173000,
                    135000,
                    153337,
                    286000,
                    315000,
                    184000,
                    192000,
                    130000,
                    127000,
                    148500,
                    311872,
                    235000,
                    104000,
                    274900,
                    140000,
                    171500,
                    112000,
                    149000,
                    110000,
                    180500,
                    143900,
                    141000,
                    277000,
                    145000,
                    98000,
                    186000,
                    252678,
                    156000,
                    161750,
                    134450,
                    210000,
                    107000,
                    311500,
                    167240,
                    204900,
                    200000,
                    179900,
                    97000,
                    386250,
                    112000,
                    290000,
                    106000,
                    125000,
                    192500,
                    148000,
                    403000,
                    94500,
                    128200,
                    216500,
                    89500,
                    185500,
                    194500,
                    318000,
                    113000,
                    262500,
                    110500,
                    79000,
                    120000,
                    205000,
                    241500,
                    137000,
                    140000,
                    180000,
                    277000,
                    76500,
                    235000,
                    173000,
                    158000,
                    145000,
                    230000,
                    207500,
                    220000,
                    231500,
                    97000,
                    176000,
                    276000,
                    151000,
                    130000,
                    73000,
                    175500,
                    185000,
                    179500,
                    120500,
                    148000,
                    266000,
                    241500,
                    290000,
                    139000,
                    124500,
                    205000,
                    201000,
                    141000,
                    415298,
                    192000,
                    228500,
                    185000,
                    207500,
                    244600,
                    179200,
                    164700,
                    159000,
                    88000,
                    122000,
                    153575,
                    233230,
                    135900,
                    131000,
                    235000,
                    167000,
                    142500,
                    152000,
                    239000,
                    175000,
                    158500,
                    157000,
                    267000,
                    205000,
                    149900,
                    295000,
                    305900,
                    225000,
                    89500,
                    82500,
                    360000,
                    165600,
                    132000,
                    119900,
                    375000,
                    178000,
                    188500,
                    260000,
                    270000,
                    260000,
                    187500,
                    342643,
                    354000,
                    301000,
                    126175,
                    242000,
                    87000,
                    324000,
                    145250,
                    214500,
                    78000,
                    119000,
                    139000,
                    284000,
                    207000,
                    192000,
                    228950,
                    377426,
                    214000,
                    202500,
                    155000,
                    202900,
                    82000,
                    87500,
                    266000,
                    85000,
                    140200,
                    151500,
                    157500,
                    154000,
                    437154,
                    318061,
                    190000,
                    95000,
                    105900,
                    140000,
                    177500,
                    173000,
                    134000,
                    130000,
                    280000,
                    156000,
                    145000,
                    198500,
                    118000,
                    190000,
                    147000,
                    159000,
                    165000,
                    132000,
                    162000,
                    172400,
                    134432,
                    125000,
                    123000,
                    219500,
                    61000,
                    148000,
                    340000,
                    394432,
                    179000,
                    127000,
                    187750,
                    213500,
                    76000,
                    240000,
                    192000,
                    81000,
                    125000,
                    191000,
                    426000,
                    119000,
                    215000,
                    106500,
                    100000,
                    109000,
                    129000,
                    123000,
                    169500,
                    67000,
                    241000,
                    245500,
                    164990,
                    108000,
                    258000,
                    168000,
                    150000,
                    115000,
                    177000,
                    280000,
                    339750,
                    60000,
                    145000,
                    222000,
                    115000,
                    228000,
                    181134,
                    149500,
                    239000,
                    126000,
                    142000,
                    206300,
                    215000,
                    113000,
                    315000,
                    139000,
                    135000,
                    275000,
                    109008,
                    195400,
                    175000,
                    85400,
                    79900,
                    122500,
                    181000,
                    81000,
                    212000,
                    116000,
                    119000,
                    90350,
                    110000,
                    555000,
                    118000,
                    162900,
                    172500,
                    210000,
                    127500,
                    190000,
                    199900,
                    119500,
                    120000,
                    110000,
                    280000,
                    204000,
                    210000,
                    188000,
                    175500,
                    98000,
                    256000,
                    161000,
                    110000,
                    263435,
                    155000,
                    62383,
                    188700,
                    124000,
                    178740,
                    167000,
                    146500,
                    250000,
                    187000,
                    212000,
                    190000,
                    148000,
                    440000,
                    251000,
                    132500,
                    208900,
                    380000,
                    297000,
                    89471,
                    326000,
                    374000,
                    155000,
                    164000,
                    132500,
                    147000,
                    156000,
                    175000,
                    160000,
                    86000,
                    115000,
                    133000,
                    172785,
                    155000,
                    91300,
                    34900,
                    430000,
                    184000,
                    130000,
                    120000,
                    113000,
                    226700,
                    140000,
                    289000,
                    147000,
                    124500,
                    215000,
                    208300,
                    161000,
                    124500,
                    164900,
                    202665,
                    129900,
                    134000,
                    96500,
                    402861,
                    158000,
                    265000,
                    211000,
                    234000,
                    106250,
                    150000,
                    159000,
                    184750,
                    315750,
                    176000,
                    132000,
                    446261,
                    86000,
                    200624,
                    175000,
                    128000,
                    107500,
                    39300,
                    178000,
                    107500,
                    188000,
                    111250,
                    158000,
                    272000,
                    315000,
                    248000,
                    213250,
                    133000,
                    179665,
                    229000,
                    210000,
                    129500,
                    125000,
                    263000,
                    140000,
                    112500,
                    255500,
                    108000,
                    284000,
                    113000,
                    141000,
                    108000,
                    175000,
                    234000,
                    121500,
                    170000,
                    108000,
                    185000,
                    268000,
                    128000,
                    325000,
                    214000,
                    316600,
                    135960,
                    142600,
                    120000,
                    224500,
                    170000,
                    139000,
                    118500,
                    145000,
                    164500,
                    146000,
                    131500,
                    181900,
                    253293,
                    118500,
                    325000,
                    133000,
                    369900,
                    130000,
                    137000,
                    143000,
                    79500,
                    185900,
                    451950,
                    138000,
                    140000,
                    110000,
                    319000,
                    114504,
                    194201,
                    217500,
                    151000,
                    275000,
                    141000,
                    220000,
                    151000,
                    221000,
                    205000,
                    152000,
                    225000,
                    359100,
                    118500,
                    313000,
                    148000,
                    261500,
                    147000,
                    75500,
                    137500,
                    183200,
                    105500,
                    314813,
                    305000,
                    67000,
                    240000,
                    135000,
                    168500,
                    165150,
                    160000,
                    139900,
                    153000,
                    135000,
                    168500,
                    124000,
                    209500,
                    82500,
                    139400,
                    144000,
                    200000,
                    60000,
                    93000,
                    85000,
                    264561,
                    274000,
                    226000,
                    345000,
                    152000,
                    370878,
                    143250,
                    98300,
                    155000,
                    155000,
                    84500,
                    205950,
                    108000,
                    191000,
                    135000,
                    350000,
                    88000,
                    145500,
                    149000,
                    97500,
                    167000,
                    197900,
                    402000,
                    110000,
                    137500,
                    423000,
                    230500,
                    129000,
                    193500,
                    168000,
                    137500,
                    173500,
                    103600,
                    165000,
                    257500,
                    140000,
                    148500,
                    87000,
                    109500,
                    372500,
                    128500,
                    143000,
                    159434,
                    173000,
                    285000,
                    221000,
                    207500,
                    227875,
                    148800,
                    392000,
                    194700,
                    141000,
                    755000,
                    335000,
                    108480,
                    141500,
                    176000,
                    89000,
                    123500,
                    138500,
                    196000,
                    312500,
                    140000,
                    361919,
                    140000,
                    213000,
                    55000,
                    302000,
                    254000,
                    179540,
                    109900,
                    52000,
                    102776,
                    189000,
                    129000,
                    130500,
                    165000,
                    159500,
                    157000,
                    341000,
                    128500,
                    275000,
                    143000,
                    124500,
                    135000,
                    320000,
                    120500,
                    222000,
                    194500,
                    110000,
                    103000,
                    236500,
                    187500,
                    222500,
                    131400,
                    108000,
                    163000,
                    93500,
                    239900,
                    179000,
                    190000,
                    132000,
                    142000,
                    179000,
                    175000,
                    180000,
                    299800,
                    236000,
                    265979,
                    260400,
                    98000,
                    96500,
                    162000,
                    217000,
                    275500,
                    156000,
                    172500,
                    212000,
                    158900,
                    179400,
                    290000,
                    127500,
                    100000,
                    215200,
                    337000,
                    270000,
                    264132,
                    196500,
                    160000,
                    216837,
                    538000,
                    134900,
                    102000,
                    107000,
                    114500,
                    395000,
                    162000,
                    221500,
                    142500,
                    144000,
                    135000,
                    176000,
                    175900,
                    187100,
                    165500,
                    128000,
                    161500,
                    139000,
                    233000,
                    107900,
                    187500,
                    160200,
                    146800,
                    269790,
                    225000,
                    194500,
                    171000,
                    143500,
                    110000,
                    485000,
                    175000,
                    200000,
                    109900,
                    189000,
                    582933,
                    118000,
                    227680,
                    135500,
                    223500,
                    159950,
                    106000,
                    181000,
                    144500,
                    55993,
                    157900,
                    116000,
                    224900,
                    137000,
                    271000,
                    155000,
                    224000,
                    183000,
                    93000,
                    225000,
                    139500,
                    232600,
                    385000,
                    109500,
                    189000,
                    185000,
                    147400,
                    166000,
                    151000,
                    237000,
                    167000,
                    139950,
                    128000,
                    153500,
                    100000,
                    144000,
                    130500,
                    140000,
                    157500,
                    174900,
                    141000,
                    153900,
                    171000,
                    213000,
                    133500,
                    240000,
                    187000,
                    131500,
                    215000,
                    164000,
                    158000,
                    170000,
                    127000,
                    147000,
                    174000,
                    152000,
                    250000,
                    189950,
                    131500,
                    152000,
                    132500,
                    250580,
                    148500,
                    248900,
                    129000,
                    169000,
                    236000,
                    109500,
                    200500,
                    116000,
                    133000,
                    66500,
                    303477,
                    132250,
                    350000,
                    148000,
                    136500,
                    157000,
                    187500,
                    178000,
                    118500,
                    100000,
                    328900,
                    145000,
                    135500,
                    268000,
                    149500,
                    122900,
                    172500,
                    154500,
                    165000,
                    118858,
                    140000,
                    106500,
                    142953,
                    611657,
                    135000,
                    110000,
                    153000,
                    180000,
                    240000,
                    125500,
                    128000,
                    255000,
                    250000,
                    131000,
                    174000,
                    154300,
                    143500,
                    88000,
                    145000,
                    173733,
                    75000,
                    35311,
                    135000,
                    238000,
                    176500,
                    201000,
                    145900,
                    169990,
                    193000,
                    207500,
                    175000,
                    285000,
                    176000,
                    236500,
                    222000,
                    201000,
                    117500,
                    320000,
                    190000,
                    242000,
                    79900,
                    184900,
                    253000,
                    239799,
                    244400,
                    150900,
                    214000,
                    150000,
                    143000,
                    137500,
                    124900,
                    143000,
                    270000,
                    192500,
                    197500,
                    129000,
                    119900,
                    133900,
                    172000,
                    127500,
                    145000,
                    124000,
                    132000,
                    185000,
                    155000,
                    116500,
                    272000,
                    155000,
                    239000,
                    214900,
                    178900,
                    160000,
                    135000,
                    37900,
                    140000,
                    135000,
                    173000,
                    99500,
                    182000,
                    167500,
                    165000,
                    85500,
                    199900,
                    110000,
                    139000,
                    178400,
                    336000,
                    159895,
                    255900,
                    126000,
                    125000,
                    117000,
                    395192,
                    195000,
                    197000,
                    348000,
                    168000,
                    187000,
                    173900,
                    337500,
                    121600,
                    136500,
                    185000,
                    91000,
                    206000,
                    82000,
                    86000,
                    232000,
                    136905,
                    181000,
                    149900,
                    163500,
                    88000,
                    240000,
                    102000,
                    135000,
                    100000,
                    165000,
                    85000,
                    119200,
                    227000,
                    203000,
                    187500,
                    160000,
                    213490,
                    176000,
                    194000,
                    87000,
                    191000,
                    287000,
                    112500,
                    167500,
                    293077,
                    105000,
                    118000,
                    160000,
                    197000,
                    310000,
                    230000,
                    119750,
                    84000,
                    315500,
                    287000,
                    97000,
                    80000,
                    155000,
                    173000,
                    196000,
                    262280,
                    278000,
                    139600,
                    556581,
                    145000,
                    115000,
                    84900,
                    176485,
                    200141,
                    165000,
                    144500,
                    255000,
                    180000,
                    185850,
                    248000,
                    335000,
                    220000,
                    213500,
                    81000,
                    90000,
                    110500,
                    154000,
                    328000,
                    178000,
                    167900,
                    151400,
                    135000,
                    135000,
                    154000,
                    91500,
                    159500,
                    194000,
                    219500,
                    170000,
                    138800,
                    155900,
                    126000,
                    145000,
                    133000,
                    192000,
                    160000,
                    187500,
                    147000,
                    83500,
                    252000,
                    137500,
                    197000,
                    92900,
                    160000,
                    136500,
                    146000,
                    129000,
                    176432,
                    127000,
                    170000,
                    128000,
                    157000,
                    60000,
                    119500,
                    135000,
                    159500,
                    106000,
                    325000,
                    179900,
                    274725,
                    181000,
                    280000,
                    188000,
                    205000,
                    129900,
                    134500,
                    117000,
                    318000,
                    184100,
                    130000,
                    140000,
                    133700,
                    118400,
                    212900,
                    112000,
                    118000,
                    163900,
                    115000,
                    174000,
                    259000,
                    215000,
                    140000,
                    135000,
                    93500,
                    117500,
                    239500,
                    169000,
                    102000,
                    119000,
                    94000,
                    196000,
                    144000,
                    139000,
                    197500,
                    424870,
                    80000,
                    80000,
                    149000,
                    180000,
                    174500,
                    116900,
                    143000,
                    124000,
                    149900,
                    230000,
                    120500,
                    201800,
                    218000,
                    179900,
                    230000,
                    235128,
                    185000,
                    146000,
                    224000,
                    129000,
                    108959,
                    194000,
                    233170,
                    245350,
                    173000,
                    235000,
                    625000,
                    171000,
                    163000,
                    171900,
                    200500,
                    239000,
                    285000,
                    119500,
                    115000,
                    154900,
                    93000,
                    250000,
                    392500,
                    745000,
                    120000,
                    186700,
                    104900,
                    95000,
                    262000,
                    195000,
                    189000,
                    168000,
                    174000,
                    125000,
                    165000,
                    158000,
                    176000,
                    219210,
                    144000,
                    178000,
                    148000,
                    116050,
                    197900,
                    117000,
                    213000,
                    153500,
                    271900,
                    107000,
                    200000,
                    140000,
                    290000,
                    189000,
                    164000,
                    113000,
                    145000,
                    134500,
                    125000,
                    112000,
                    229456,
                    80500,
                    91500,
                    115000,
                    134000,
                    143000,
                    137900,
                    184000,
                    145000,
                    214000,
                    147000,
                    367294,
                    127000,
                    190000,
                    132500,
                    101800,
                    142000,
                    130000,
                    138887,
                    175500,
                    195000,
                    142500,
                    265900,
                    224900,
                    248328,
                    170000,
                    465000,
                    230000,
                    178000,
                    186500,
                    169900,
                    129500,
                    119000,
                    244000,
                    171750,
                    130000,
                    294000,
                    165400,
                    127500,
                    301500,
                    99900,
                    190000,
                    151000,
                    181000,
                    128900,
                    161500,
                    180500,
                    181000,
                    183900,
                    122000,
                    378500,
                    381000,
                    144000,
                    260000,
                    185750,
                    137000,
                    177000,
                    139000,
                    137000,
                    162000,
                    197900,
                    237000,
                    68400,
                    227000,
                    180000,
                    150500,
                    139000,
                    169000,
                    132500,
                    143000,
                    190000,
                    278000,
                    281000,
                    180500,
                    119500,
                    107500,
                    162900,
                    115000,
                    138500,
                    155000,
                    140000,
                    160000,
                    154000,
                    225000,
                    177500,
                    290000,
                    232000,
                    130000,
                    325000,
                    202500,
                    138000,
                    147000,
                    179200,
                    335000,
                    203000,
                    302000,
                    333168,
                    119000,
                    206900,
                    295493,
                    208900,
                    275000,
                    111000,
                    156500,
                    72500,
                    190000,
                    82500,
                    147000,
                    55000,
                    79000,
                    130500,
                    256000,
                    176500,
                    227000,
                    132500,
                    100000,
                    125500,
                    125000,
                    167900,
                    135000,
                    52500,
                    200000,
                    128500,
                    123000,
                    155000,
                    228500,
                    177000,
                    155835,
                    108500,
                    262500,
                    283463,
                    215000,
                    122000,
                    200000,
                    171000,
                    134900,
                    410000,
                    235000,
                    170000,
                    110000,
                    149900,
                    177500,
                    315000,
                    189000,
                    260000,
                    104900,
                    156932,
                    144152,
                    216000,
                    193000,
                    127000,
                    144000,
                    232000,
                    105000,
                    165500,
                    274300,
                    466500,
                    250000,
                    239000,
                    91000,
                    117000,
                    83000,
                    167500,
                    58500,
                    237500,
                    157000,
                    112000,
                    105000,
                    125500,
                    250000,
                    136000,
                    377500,
                    131000,
                    235000,
                    124000,
                    123000,
                    163000,
                    246578,
                    281213,
                    160000,
                    137500,
                    138000,
                    137450,
                    120000,
                    193000,
                    193879,
                    282922,
                    105000,
                    275000,
                    133000,
                    112000,
                    125500,
                    215000,
                    230000,
                    140000,
                    90000,
                    257000,
                    207000,
                    175900,
                    122500,
                    340000,
                    124000,
                    223000,
                    179900,
                    127500,
                    136500,
                    274970,
                    144000,
                    142000,
                    271000,
                    140000,
                    119000,
                    182900,
                    192140,
                    143750,
                    64500,
                    186500,
                    160000,
                    174000,
                    120500,
                    394617,
                    149700,
                    197000,
                    191000,
                    149300,
                    310000,
                    121000,
                    179600,
                    129000,
                    157900,
                    240000,
                    112000,
                    92000,
                    136000,
                    287090,
                    145000,
                    84500,
                    185000,
                    175000,
                    210000,
                    266500,
                    142125,
                    147500
                  ],
                  "yaxis": "y"
                }
              ],
              "layout": {
                "legend": {
                  "tracegroupgap": 0
                },
                "template": {
                  "data": {
                    "bar": [
                      {
                        "error_x": {
                          "color": "#2a3f5f"
                        },
                        "error_y": {
                          "color": "#2a3f5f"
                        },
                        "marker": {
                          "line": {
                            "color": "#E5ECF6",
                            "width": 0.5
                          },
                          "pattern": {
                            "fillmode": "overlay",
                            "size": 10,
                            "solidity": 0.2
                          }
                        },
                        "type": "bar"
                      }
                    ],
                    "barpolar": [
                      {
                        "marker": {
                          "line": {
                            "color": "#E5ECF6",
                            "width": 0.5
                          },
                          "pattern": {
                            "fillmode": "overlay",
                            "size": 10,
                            "solidity": 0.2
                          }
                        },
                        "type": "barpolar"
                      }
                    ],
                    "carpet": [
                      {
                        "aaxis": {
                          "endlinecolor": "#2a3f5f",
                          "gridcolor": "white",
                          "linecolor": "white",
                          "minorgridcolor": "white",
                          "startlinecolor": "#2a3f5f"
                        },
                        "baxis": {
                          "endlinecolor": "#2a3f5f",
                          "gridcolor": "white",
                          "linecolor": "white",
                          "minorgridcolor": "white",
                          "startlinecolor": "#2a3f5f"
                        },
                        "type": "carpet"
                      }
                    ],
                    "choropleth": [
                      {
                        "colorbar": {
                          "outlinewidth": 0,
                          "ticks": ""
                        },
                        "type": "choropleth"
                      }
                    ],
                    "contour": [
                      {
                        "colorbar": {
                          "outlinewidth": 0,
                          "ticks": ""
                        },
                        "colorscale": [
                          [
                            0,
                            "#0d0887"
                          ],
                          [
                            0.1111111111111111,
                            "#46039f"
                          ],
                          [
                            0.2222222222222222,
                            "#7201a8"
                          ],
                          [
                            0.3333333333333333,
                            "#9c179e"
                          ],
                          [
                            0.4444444444444444,
                            "#bd3786"
                          ],
                          [
                            0.5555555555555556,
                            "#d8576b"
                          ],
                          [
                            0.6666666666666666,
                            "#ed7953"
                          ],
                          [
                            0.7777777777777778,
                            "#fb9f3a"
                          ],
                          [
                            0.8888888888888888,
                            "#fdca26"
                          ],
                          [
                            1,
                            "#f0f921"
                          ]
                        ],
                        "type": "contour"
                      }
                    ],
                    "contourcarpet": [
                      {
                        "colorbar": {
                          "outlinewidth": 0,
                          "ticks": ""
                        },
                        "type": "contourcarpet"
                      }
                    ],
                    "heatmap": [
                      {
                        "colorbar": {
                          "outlinewidth": 0,
                          "ticks": ""
                        },
                        "colorscale": [
                          [
                            0,
                            "#0d0887"
                          ],
                          [
                            0.1111111111111111,
                            "#46039f"
                          ],
                          [
                            0.2222222222222222,
                            "#7201a8"
                          ],
                          [
                            0.3333333333333333,
                            "#9c179e"
                          ],
                          [
                            0.4444444444444444,
                            "#bd3786"
                          ],
                          [
                            0.5555555555555556,
                            "#d8576b"
                          ],
                          [
                            0.6666666666666666,
                            "#ed7953"
                          ],
                          [
                            0.7777777777777778,
                            "#fb9f3a"
                          ],
                          [
                            0.8888888888888888,
                            "#fdca26"
                          ],
                          [
                            1,
                            "#f0f921"
                          ]
                        ],
                        "type": "heatmap"
                      }
                    ],
                    "heatmapgl": [
                      {
                        "colorbar": {
                          "outlinewidth": 0,
                          "ticks": ""
                        },
                        "colorscale": [
                          [
                            0,
                            "#0d0887"
                          ],
                          [
                            0.1111111111111111,
                            "#46039f"
                          ],
                          [
                            0.2222222222222222,
                            "#7201a8"
                          ],
                          [
                            0.3333333333333333,
                            "#9c179e"
                          ],
                          [
                            0.4444444444444444,
                            "#bd3786"
                          ],
                          [
                            0.5555555555555556,
                            "#d8576b"
                          ],
                          [
                            0.6666666666666666,
                            "#ed7953"
                          ],
                          [
                            0.7777777777777778,
                            "#fb9f3a"
                          ],
                          [
                            0.8888888888888888,
                            "#fdca26"
                          ],
                          [
                            1,
                            "#f0f921"
                          ]
                        ],
                        "type": "heatmapgl"
                      }
                    ],
                    "histogram": [
                      {
                        "marker": {
                          "pattern": {
                            "fillmode": "overlay",
                            "size": 10,
                            "solidity": 0.2
                          }
                        },
                        "type": "histogram"
                      }
                    ],
                    "histogram2d": [
                      {
                        "colorbar": {
                          "outlinewidth": 0,
                          "ticks": ""
                        },
                        "colorscale": [
                          [
                            0,
                            "#0d0887"
                          ],
                          [
                            0.1111111111111111,
                            "#46039f"
                          ],
                          [
                            0.2222222222222222,
                            "#7201a8"
                          ],
                          [
                            0.3333333333333333,
                            "#9c179e"
                          ],
                          [
                            0.4444444444444444,
                            "#bd3786"
                          ],
                          [
                            0.5555555555555556,
                            "#d8576b"
                          ],
                          [
                            0.6666666666666666,
                            "#ed7953"
                          ],
                          [
                            0.7777777777777778,
                            "#fb9f3a"
                          ],
                          [
                            0.8888888888888888,
                            "#fdca26"
                          ],
                          [
                            1,
                            "#f0f921"
                          ]
                        ],
                        "type": "histogram2d"
                      }
                    ],
                    "histogram2dcontour": [
                      {
                        "colorbar": {
                          "outlinewidth": 0,
                          "ticks": ""
                        },
                        "colorscale": [
                          [
                            0,
                            "#0d0887"
                          ],
                          [
                            0.1111111111111111,
                            "#46039f"
                          ],
                          [
                            0.2222222222222222,
                            "#7201a8"
                          ],
                          [
                            0.3333333333333333,
                            "#9c179e"
                          ],
                          [
                            0.4444444444444444,
                            "#bd3786"
                          ],
                          [
                            0.5555555555555556,
                            "#d8576b"
                          ],
                          [
                            0.6666666666666666,
                            "#ed7953"
                          ],
                          [
                            0.7777777777777778,
                            "#fb9f3a"
                          ],
                          [
                            0.8888888888888888,
                            "#fdca26"
                          ],
                          [
                            1,
                            "#f0f921"
                          ]
                        ],
                        "type": "histogram2dcontour"
                      }
                    ],
                    "mesh3d": [
                      {
                        "colorbar": {
                          "outlinewidth": 0,
                          "ticks": ""
                        },
                        "type": "mesh3d"
                      }
                    ],
                    "parcoords": [
                      {
                        "line": {
                          "colorbar": {
                            "outlinewidth": 0,
                            "ticks": ""
                          }
                        },
                        "type": "parcoords"
                      }
                    ],
                    "pie": [
                      {
                        "automargin": true,
                        "type": "pie"
                      }
                    ],
                    "scatter": [
                      {
                        "fillpattern": {
                          "fillmode": "overlay",
                          "size": 10,
                          "solidity": 0.2
                        },
                        "type": "scatter"
                      }
                    ],
                    "scatter3d": [
                      {
                        "line": {
                          "colorbar": {
                            "outlinewidth": 0,
                            "ticks": ""
                          }
                        },
                        "marker": {
                          "colorbar": {
                            "outlinewidth": 0,
                            "ticks": ""
                          }
                        },
                        "type": "scatter3d"
                      }
                    ],
                    "scattercarpet": [
                      {
                        "marker": {
                          "colorbar": {
                            "outlinewidth": 0,
                            "ticks": ""
                          }
                        },
                        "type": "scattercarpet"
                      }
                    ],
                    "scattergeo": [
                      {
                        "marker": {
                          "colorbar": {
                            "outlinewidth": 0,
                            "ticks": ""
                          }
                        },
                        "type": "scattergeo"
                      }
                    ],
                    "scattergl": [
                      {
                        "marker": {
                          "colorbar": {
                            "outlinewidth": 0,
                            "ticks": ""
                          }
                        },
                        "type": "scattergl"
                      }
                    ],
                    "scattermapbox": [
                      {
                        "marker": {
                          "colorbar": {
                            "outlinewidth": 0,
                            "ticks": ""
                          }
                        },
                        "type": "scattermapbox"
                      }
                    ],
                    "scatterpolar": [
                      {
                        "marker": {
                          "colorbar": {
                            "outlinewidth": 0,
                            "ticks": ""
                          }
                        },
                        "type": "scatterpolar"
                      }
                    ],
                    "scatterpolargl": [
                      {
                        "marker": {
                          "colorbar": {
                            "outlinewidth": 0,
                            "ticks": ""
                          }
                        },
                        "type": "scatterpolargl"
                      }
                    ],
                    "scatterternary": [
                      {
                        "marker": {
                          "colorbar": {
                            "outlinewidth": 0,
                            "ticks": ""
                          }
                        },
                        "type": "scatterternary"
                      }
                    ],
                    "surface": [
                      {
                        "colorbar": {
                          "outlinewidth": 0,
                          "ticks": ""
                        },
                        "colorscale": [
                          [
                            0,
                            "#0d0887"
                          ],
                          [
                            0.1111111111111111,
                            "#46039f"
                          ],
                          [
                            0.2222222222222222,
                            "#7201a8"
                          ],
                          [
                            0.3333333333333333,
                            "#9c179e"
                          ],
                          [
                            0.4444444444444444,
                            "#bd3786"
                          ],
                          [
                            0.5555555555555556,
                            "#d8576b"
                          ],
                          [
                            0.6666666666666666,
                            "#ed7953"
                          ],
                          [
                            0.7777777777777778,
                            "#fb9f3a"
                          ],
                          [
                            0.8888888888888888,
                            "#fdca26"
                          ],
                          [
                            1,
                            "#f0f921"
                          ]
                        ],
                        "type": "surface"
                      }
                    ],
                    "table": [
                      {
                        "cells": {
                          "fill": {
                            "color": "#EBF0F8"
                          },
                          "line": {
                            "color": "white"
                          }
                        },
                        "header": {
                          "fill": {
                            "color": "#C8D4E3"
                          },
                          "line": {
                            "color": "white"
                          }
                        },
                        "type": "table"
                      }
                    ]
                  },
                  "layout": {
                    "annotationdefaults": {
                      "arrowcolor": "#2a3f5f",
                      "arrowhead": 0,
                      "arrowwidth": 1
                    },
                    "autotypenumbers": "strict",
                    "coloraxis": {
                      "colorbar": {
                        "outlinewidth": 0,
                        "ticks": ""
                      }
                    },
                    "colorscale": {
                      "diverging": [
                        [
                          0,
                          "#8e0152"
                        ],
                        [
                          0.1,
                          "#c51b7d"
                        ],
                        [
                          0.2,
                          "#de77ae"
                        ],
                        [
                          0.3,
                          "#f1b6da"
                        ],
                        [
                          0.4,
                          "#fde0ef"
                        ],
                        [
                          0.5,
                          "#f7f7f7"
                        ],
                        [
                          0.6,
                          "#e6f5d0"
                        ],
                        [
                          0.7,
                          "#b8e186"
                        ],
                        [
                          0.8,
                          "#7fbc41"
                        ],
                        [
                          0.9,
                          "#4d9221"
                        ],
                        [
                          1,
                          "#276419"
                        ]
                      ],
                      "sequential": [
                        [
                          0,
                          "#0d0887"
                        ],
                        [
                          0.1111111111111111,
                          "#46039f"
                        ],
                        [
                          0.2222222222222222,
                          "#7201a8"
                        ],
                        [
                          0.3333333333333333,
                          "#9c179e"
                        ],
                        [
                          0.4444444444444444,
                          "#bd3786"
                        ],
                        [
                          0.5555555555555556,
                          "#d8576b"
                        ],
                        [
                          0.6666666666666666,
                          "#ed7953"
                        ],
                        [
                          0.7777777777777778,
                          "#fb9f3a"
                        ],
                        [
                          0.8888888888888888,
                          "#fdca26"
                        ],
                        [
                          1,
                          "#f0f921"
                        ]
                      ],
                      "sequentialminus": [
                        [
                          0,
                          "#0d0887"
                        ],
                        [
                          0.1111111111111111,
                          "#46039f"
                        ],
                        [
                          0.2222222222222222,
                          "#7201a8"
                        ],
                        [
                          0.3333333333333333,
                          "#9c179e"
                        ],
                        [
                          0.4444444444444444,
                          "#bd3786"
                        ],
                        [
                          0.5555555555555556,
                          "#d8576b"
                        ],
                        [
                          0.6666666666666666,
                          "#ed7953"
                        ],
                        [
                          0.7777777777777778,
                          "#fb9f3a"
                        ],
                        [
                          0.8888888888888888,
                          "#fdca26"
                        ],
                        [
                          1,
                          "#f0f921"
                        ]
                      ]
                    },
                    "colorway": [
                      "#636efa",
                      "#EF553B",
                      "#00cc96",
                      "#ab63fa",
                      "#FFA15A",
                      "#19d3f3",
                      "#FF6692",
                      "#B6E880",
                      "#FF97FF",
                      "#FECB52"
                    ],
                    "font": {
                      "color": "#2a3f5f"
                    },
                    "geo": {
                      "bgcolor": "white",
                      "lakecolor": "white",
                      "landcolor": "#E5ECF6",
                      "showlakes": true,
                      "showland": true,
                      "subunitcolor": "white"
                    },
                    "hoverlabel": {
                      "align": "left"
                    },
                    "hovermode": "closest",
                    "mapbox": {
                      "style": "light"
                    },
                    "paper_bgcolor": "white",
                    "plot_bgcolor": "#E5ECF6",
                    "polar": {
                      "angularaxis": {
                        "gridcolor": "white",
                        "linecolor": "white",
                        "ticks": ""
                      },
                      "bgcolor": "#E5ECF6",
                      "radialaxis": {
                        "gridcolor": "white",
                        "linecolor": "white",
                        "ticks": ""
                      }
                    },
                    "scene": {
                      "xaxis": {
                        "backgroundcolor": "#E5ECF6",
                        "gridcolor": "white",
                        "gridwidth": 2,
                        "linecolor": "white",
                        "showbackground": true,
                        "ticks": "",
                        "zerolinecolor": "white"
                      },
                      "yaxis": {
                        "backgroundcolor": "#E5ECF6",
                        "gridcolor": "white",
                        "gridwidth": 2,
                        "linecolor": "white",
                        "showbackground": true,
                        "ticks": "",
                        "zerolinecolor": "white"
                      },
                      "zaxis": {
                        "backgroundcolor": "#E5ECF6",
                        "gridcolor": "white",
                        "gridwidth": 2,
                        "linecolor": "white",
                        "showbackground": true,
                        "ticks": "",
                        "zerolinecolor": "white"
                      }
                    },
                    "shapedefaults": {
                      "line": {
                        "color": "#2a3f5f"
                      }
                    },
                    "ternary": {
                      "aaxis": {
                        "gridcolor": "white",
                        "linecolor": "white",
                        "ticks": ""
                      },
                      "baxis": {
                        "gridcolor": "white",
                        "linecolor": "white",
                        "ticks": ""
                      },
                      "bgcolor": "#E5ECF6",
                      "caxis": {
                        "gridcolor": "white",
                        "linecolor": "white",
                        "ticks": ""
                      }
                    },
                    "title": {
                      "x": 0.05
                    },
                    "xaxis": {
                      "automargin": true,
                      "gridcolor": "white",
                      "linecolor": "white",
                      "ticks": "",
                      "title": {
                        "standoff": 15
                      },
                      "zerolinecolor": "white",
                      "zerolinewidth": 2
                    },
                    "yaxis": {
                      "automargin": true,
                      "gridcolor": "white",
                      "linecolor": "white",
                      "ticks": "",
                      "title": {
                        "standoff": 15
                      },
                      "zerolinecolor": "white",
                      "zerolinewidth": 2
                    }
                  }
                },
                "title": {
                  "text": "GrLivArea vs Sale Price"
                },
                "xaxis": {
                  "anchor": "y",
                  "domain": [
                    0,
                    1
                  ],
                  "title": {
                    "text": "GrLivArea"
                  }
                },
                "yaxis": {
                  "anchor": "x",
                  "domain": [
                    0,
                    1
                  ],
                  "title": {
                    "text": "SalePrice"
                  }
                }
              }
            }
          },
          "metadata": {},
          "output_type": "display_data"
        }
      ],
      "source": [
        "price_grliveare = px.scatter(num_train, x= num_train['GrLivArea'], y='SalePrice', title='GrLivArea vs Sale Price')\n",
        "price_grliveare.show()"
      ]
    },
    {
      "cell_type": "code",
      "execution_count": 13,
      "metadata": {
        "colab": {
          "base_uri": "https://localhost:8080/"
        },
        "id": "j72kz2hAmb20",
        "outputId": "04263d53-e0aa-4263-eea6-d798737a2cc6"
      },
      "outputs": [
        {
          "data": {
            "text/plain": [
              "1.8828757597682129"
            ]
          },
          "execution_count": 13,
          "metadata": {},
          "output_type": "execute_result"
        }
      ],
      "source": [
        "# Calculate skewness of the 'SalePrice' column\n",
        "skewness = num_train['SalePrice'].skew()\n",
        "skewness"
      ]
    },
    {
      "cell_type": "code",
      "execution_count": 14,
      "metadata": {
        "colab": {
          "base_uri": "https://localhost:8080/",
          "height": 542
        },
        "id": "oKGpCJAeehj_",
        "outputId": "4bee7e01-5be5-4a50-89be-f753245ae23b"
      },
      "outputs": [
        {
          "data": {
            "application/vnd.plotly.v1+json": {
              "config": {
                "plotlyServerURL": "https://plot.ly"
              },
              "data": [
                {
                  "alignmentgroup": "True",
                  "bingroup": "x",
                  "hovertemplate": "SalePrice=%{x}<br>count=%{y}<extra></extra>",
                  "legendgroup": "",
                  "marker": {
                    "color": "#636efa",
                    "opacity": 0.8,
                    "pattern": {
                      "shape": ""
                    }
                  },
                  "name": "",
                  "offsetgroup": "",
                  "orientation": "v",
                  "showlegend": false,
                  "type": "histogram",
                  "x": [
                    208500,
                    181500,
                    223500,
                    140000,
                    250000,
                    143000,
                    307000,
                    200000,
                    129900,
                    118000,
                    129500,
                    345000,
                    144000,
                    279500,
                    157000,
                    132000,
                    149000,
                    90000,
                    159000,
                    139000,
                    325300,
                    139400,
                    230000,
                    129900,
                    154000,
                    256300,
                    134800,
                    306000,
                    207500,
                    68500,
                    40000,
                    149350,
                    179900,
                    165500,
                    277500,
                    309000,
                    145000,
                    153000,
                    109000,
                    82000,
                    160000,
                    170000,
                    144000,
                    130250,
                    141000,
                    319900,
                    239686,
                    249700,
                    113000,
                    127000,
                    177000,
                    114500,
                    110000,
                    385000,
                    130000,
                    180500,
                    172500,
                    196500,
                    438780,
                    124900,
                    158000,
                    101000,
                    202500,
                    140000,
                    219500,
                    317000,
                    180000,
                    226000,
                    80000,
                    225000,
                    244000,
                    129500,
                    185000,
                    144900,
                    107400,
                    91000,
                    135750,
                    127000,
                    136500,
                    110000,
                    193500,
                    153500,
                    245000,
                    126500,
                    168500,
                    260000,
                    174000,
                    164500,
                    85000,
                    123600,
                    109900,
                    98600,
                    163500,
                    133900,
                    204750,
                    185000,
                    214000,
                    94750,
                    83000,
                    128950,
                    205000,
                    178000,
                    118964,
                    198900,
                    169500,
                    250000,
                    100000,
                    115000,
                    115000,
                    190000,
                    136900,
                    180000,
                    383970,
                    217000,
                    259500,
                    176000,
                    139000,
                    155000,
                    320000,
                    163990,
                    180000,
                    100000,
                    136000,
                    153900,
                    181000,
                    84500,
                    128000,
                    87000,
                    155000,
                    150000,
                    226000,
                    244000,
                    150750,
                    220000,
                    180000,
                    174000,
                    143000,
                    171000,
                    230000,
                    231500,
                    115000,
                    260000,
                    166000,
                    204000,
                    125000,
                    130000,
                    105000,
                    222500,
                    141000,
                    115000,
                    122000,
                    372402,
                    190000,
                    235000,
                    125000,
                    79000,
                    109500,
                    269500,
                    254900,
                    320000,
                    162500,
                    412500,
                    220000,
                    103200,
                    152000,
                    127500,
                    190000,
                    325624,
                    183500,
                    228000,
                    128500,
                    215000,
                    239000,
                    163000,
                    184000,
                    243000,
                    211000,
                    172500,
                    501837,
                    100000,
                    177000,
                    200100,
                    120000,
                    200000,
                    127000,
                    475000,
                    173000,
                    135000,
                    153337,
                    286000,
                    315000,
                    184000,
                    192000,
                    130000,
                    127000,
                    148500,
                    311872,
                    235000,
                    104000,
                    274900,
                    140000,
                    171500,
                    112000,
                    149000,
                    110000,
                    180500,
                    143900,
                    141000,
                    277000,
                    145000,
                    98000,
                    186000,
                    252678,
                    156000,
                    161750,
                    134450,
                    210000,
                    107000,
                    311500,
                    167240,
                    204900,
                    200000,
                    179900,
                    97000,
                    386250,
                    112000,
                    290000,
                    106000,
                    125000,
                    192500,
                    148000,
                    403000,
                    94500,
                    128200,
                    216500,
                    89500,
                    185500,
                    194500,
                    318000,
                    113000,
                    262500,
                    110500,
                    79000,
                    120000,
                    205000,
                    241500,
                    137000,
                    140000,
                    180000,
                    277000,
                    76500,
                    235000,
                    173000,
                    158000,
                    145000,
                    230000,
                    207500,
                    220000,
                    231500,
                    97000,
                    176000,
                    276000,
                    151000,
                    130000,
                    73000,
                    175500,
                    185000,
                    179500,
                    120500,
                    148000,
                    266000,
                    241500,
                    290000,
                    139000,
                    124500,
                    205000,
                    201000,
                    141000,
                    415298,
                    192000,
                    228500,
                    185000,
                    207500,
                    244600,
                    179200,
                    164700,
                    159000,
                    88000,
                    122000,
                    153575,
                    233230,
                    135900,
                    131000,
                    235000,
                    167000,
                    142500,
                    152000,
                    239000,
                    175000,
                    158500,
                    157000,
                    267000,
                    205000,
                    149900,
                    295000,
                    305900,
                    225000,
                    89500,
                    82500,
                    360000,
                    165600,
                    132000,
                    119900,
                    375000,
                    178000,
                    188500,
                    260000,
                    270000,
                    260000,
                    187500,
                    342643,
                    354000,
                    301000,
                    126175,
                    242000,
                    87000,
                    324000,
                    145250,
                    214500,
                    78000,
                    119000,
                    139000,
                    284000,
                    207000,
                    192000,
                    228950,
                    377426,
                    214000,
                    202500,
                    155000,
                    202900,
                    82000,
                    87500,
                    266000,
                    85000,
                    140200,
                    151500,
                    157500,
                    154000,
                    437154,
                    318061,
                    190000,
                    95000,
                    105900,
                    140000,
                    177500,
                    173000,
                    134000,
                    130000,
                    280000,
                    156000,
                    145000,
                    198500,
                    118000,
                    190000,
                    147000,
                    159000,
                    165000,
                    132000,
                    162000,
                    172400,
                    134432,
                    125000,
                    123000,
                    219500,
                    61000,
                    148000,
                    340000,
                    394432,
                    179000,
                    127000,
                    187750,
                    213500,
                    76000,
                    240000,
                    192000,
                    81000,
                    125000,
                    191000,
                    426000,
                    119000,
                    215000,
                    106500,
                    100000,
                    109000,
                    129000,
                    123000,
                    169500,
                    67000,
                    241000,
                    245500,
                    164990,
                    108000,
                    258000,
                    168000,
                    150000,
                    115000,
                    177000,
                    280000,
                    339750,
                    60000,
                    145000,
                    222000,
                    115000,
                    228000,
                    181134,
                    149500,
                    239000,
                    126000,
                    142000,
                    206300,
                    215000,
                    113000,
                    315000,
                    139000,
                    135000,
                    275000,
                    109008,
                    195400,
                    175000,
                    85400,
                    79900,
                    122500,
                    181000,
                    81000,
                    212000,
                    116000,
                    119000,
                    90350,
                    110000,
                    555000,
                    118000,
                    162900,
                    172500,
                    210000,
                    127500,
                    190000,
                    199900,
                    119500,
                    120000,
                    110000,
                    280000,
                    204000,
                    210000,
                    188000,
                    175500,
                    98000,
                    256000,
                    161000,
                    110000,
                    263435,
                    155000,
                    62383,
                    188700,
                    124000,
                    178740,
                    167000,
                    146500,
                    250000,
                    187000,
                    212000,
                    190000,
                    148000,
                    440000,
                    251000,
                    132500,
                    208900,
                    380000,
                    297000,
                    89471,
                    326000,
                    374000,
                    155000,
                    164000,
                    132500,
                    147000,
                    156000,
                    175000,
                    160000,
                    86000,
                    115000,
                    133000,
                    172785,
                    155000,
                    91300,
                    34900,
                    430000,
                    184000,
                    130000,
                    120000,
                    113000,
                    226700,
                    140000,
                    289000,
                    147000,
                    124500,
                    215000,
                    208300,
                    161000,
                    124500,
                    164900,
                    202665,
                    129900,
                    134000,
                    96500,
                    402861,
                    158000,
                    265000,
                    211000,
                    234000,
                    106250,
                    150000,
                    159000,
                    184750,
                    315750,
                    176000,
                    132000,
                    446261,
                    86000,
                    200624,
                    175000,
                    128000,
                    107500,
                    39300,
                    178000,
                    107500,
                    188000,
                    111250,
                    158000,
                    272000,
                    315000,
                    248000,
                    213250,
                    133000,
                    179665,
                    229000,
                    210000,
                    129500,
                    125000,
                    263000,
                    140000,
                    112500,
                    255500,
                    108000,
                    284000,
                    113000,
                    141000,
                    108000,
                    175000,
                    234000,
                    121500,
                    170000,
                    108000,
                    185000,
                    268000,
                    128000,
                    325000,
                    214000,
                    316600,
                    135960,
                    142600,
                    120000,
                    224500,
                    170000,
                    139000,
                    118500,
                    145000,
                    164500,
                    146000,
                    131500,
                    181900,
                    253293,
                    118500,
                    325000,
                    133000,
                    369900,
                    130000,
                    137000,
                    143000,
                    79500,
                    185900,
                    451950,
                    138000,
                    140000,
                    110000,
                    319000,
                    114504,
                    194201,
                    217500,
                    151000,
                    275000,
                    141000,
                    220000,
                    151000,
                    221000,
                    205000,
                    152000,
                    225000,
                    359100,
                    118500,
                    313000,
                    148000,
                    261500,
                    147000,
                    75500,
                    137500,
                    183200,
                    105500,
                    314813,
                    305000,
                    67000,
                    240000,
                    135000,
                    168500,
                    165150,
                    160000,
                    139900,
                    153000,
                    135000,
                    168500,
                    124000,
                    209500,
                    82500,
                    139400,
                    144000,
                    200000,
                    60000,
                    93000,
                    85000,
                    264561,
                    274000,
                    226000,
                    345000,
                    152000,
                    370878,
                    143250,
                    98300,
                    155000,
                    155000,
                    84500,
                    205950,
                    108000,
                    191000,
                    135000,
                    350000,
                    88000,
                    145500,
                    149000,
                    97500,
                    167000,
                    197900,
                    402000,
                    110000,
                    137500,
                    423000,
                    230500,
                    129000,
                    193500,
                    168000,
                    137500,
                    173500,
                    103600,
                    165000,
                    257500,
                    140000,
                    148500,
                    87000,
                    109500,
                    372500,
                    128500,
                    143000,
                    159434,
                    173000,
                    285000,
                    221000,
                    207500,
                    227875,
                    148800,
                    392000,
                    194700,
                    141000,
                    755000,
                    335000,
                    108480,
                    141500,
                    176000,
                    89000,
                    123500,
                    138500,
                    196000,
                    312500,
                    140000,
                    361919,
                    140000,
                    213000,
                    55000,
                    302000,
                    254000,
                    179540,
                    109900,
                    52000,
                    102776,
                    189000,
                    129000,
                    130500,
                    165000,
                    159500,
                    157000,
                    341000,
                    128500,
                    275000,
                    143000,
                    124500,
                    135000,
                    320000,
                    120500,
                    222000,
                    194500,
                    110000,
                    103000,
                    236500,
                    187500,
                    222500,
                    131400,
                    108000,
                    163000,
                    93500,
                    239900,
                    179000,
                    190000,
                    132000,
                    142000,
                    179000,
                    175000,
                    180000,
                    299800,
                    236000,
                    265979,
                    260400,
                    98000,
                    96500,
                    162000,
                    217000,
                    275500,
                    156000,
                    172500,
                    212000,
                    158900,
                    179400,
                    290000,
                    127500,
                    100000,
                    215200,
                    337000,
                    270000,
                    264132,
                    196500,
                    160000,
                    216837,
                    538000,
                    134900,
                    102000,
                    107000,
                    114500,
                    395000,
                    162000,
                    221500,
                    142500,
                    144000,
                    135000,
                    176000,
                    175900,
                    187100,
                    165500,
                    128000,
                    161500,
                    139000,
                    233000,
                    107900,
                    187500,
                    160200,
                    146800,
                    269790,
                    225000,
                    194500,
                    171000,
                    143500,
                    110000,
                    485000,
                    175000,
                    200000,
                    109900,
                    189000,
                    582933,
                    118000,
                    227680,
                    135500,
                    223500,
                    159950,
                    106000,
                    181000,
                    144500,
                    55993,
                    157900,
                    116000,
                    224900,
                    137000,
                    271000,
                    155000,
                    224000,
                    183000,
                    93000,
                    225000,
                    139500,
                    232600,
                    385000,
                    109500,
                    189000,
                    185000,
                    147400,
                    166000,
                    151000,
                    237000,
                    167000,
                    139950,
                    128000,
                    153500,
                    100000,
                    144000,
                    130500,
                    140000,
                    157500,
                    174900,
                    141000,
                    153900,
                    171000,
                    213000,
                    133500,
                    240000,
                    187000,
                    131500,
                    215000,
                    164000,
                    158000,
                    170000,
                    127000,
                    147000,
                    174000,
                    152000,
                    250000,
                    189950,
                    131500,
                    152000,
                    132500,
                    250580,
                    148500,
                    248900,
                    129000,
                    169000,
                    236000,
                    109500,
                    200500,
                    116000,
                    133000,
                    66500,
                    303477,
                    132250,
                    350000,
                    148000,
                    136500,
                    157000,
                    187500,
                    178000,
                    118500,
                    100000,
                    328900,
                    145000,
                    135500,
                    268000,
                    149500,
                    122900,
                    172500,
                    154500,
                    165000,
                    118858,
                    140000,
                    106500,
                    142953,
                    611657,
                    135000,
                    110000,
                    153000,
                    180000,
                    240000,
                    125500,
                    128000,
                    255000,
                    250000,
                    131000,
                    174000,
                    154300,
                    143500,
                    88000,
                    145000,
                    173733,
                    75000,
                    35311,
                    135000,
                    238000,
                    176500,
                    201000,
                    145900,
                    169990,
                    193000,
                    207500,
                    175000,
                    285000,
                    176000,
                    236500,
                    222000,
                    201000,
                    117500,
                    320000,
                    190000,
                    242000,
                    79900,
                    184900,
                    253000,
                    239799,
                    244400,
                    150900,
                    214000,
                    150000,
                    143000,
                    137500,
                    124900,
                    143000,
                    270000,
                    192500,
                    197500,
                    129000,
                    119900,
                    133900,
                    172000,
                    127500,
                    145000,
                    124000,
                    132000,
                    185000,
                    155000,
                    116500,
                    272000,
                    155000,
                    239000,
                    214900,
                    178900,
                    160000,
                    135000,
                    37900,
                    140000,
                    135000,
                    173000,
                    99500,
                    182000,
                    167500,
                    165000,
                    85500,
                    199900,
                    110000,
                    139000,
                    178400,
                    336000,
                    159895,
                    255900,
                    126000,
                    125000,
                    117000,
                    395192,
                    195000,
                    197000,
                    348000,
                    168000,
                    187000,
                    173900,
                    337500,
                    121600,
                    136500,
                    185000,
                    91000,
                    206000,
                    82000,
                    86000,
                    232000,
                    136905,
                    181000,
                    149900,
                    163500,
                    88000,
                    240000,
                    102000,
                    135000,
                    100000,
                    165000,
                    85000,
                    119200,
                    227000,
                    203000,
                    187500,
                    160000,
                    213490,
                    176000,
                    194000,
                    87000,
                    191000,
                    287000,
                    112500,
                    167500,
                    293077,
                    105000,
                    118000,
                    160000,
                    197000,
                    310000,
                    230000,
                    119750,
                    84000,
                    315500,
                    287000,
                    97000,
                    80000,
                    155000,
                    173000,
                    196000,
                    262280,
                    278000,
                    139600,
                    556581,
                    145000,
                    115000,
                    84900,
                    176485,
                    200141,
                    165000,
                    144500,
                    255000,
                    180000,
                    185850,
                    248000,
                    335000,
                    220000,
                    213500,
                    81000,
                    90000,
                    110500,
                    154000,
                    328000,
                    178000,
                    167900,
                    151400,
                    135000,
                    135000,
                    154000,
                    91500,
                    159500,
                    194000,
                    219500,
                    170000,
                    138800,
                    155900,
                    126000,
                    145000,
                    133000,
                    192000,
                    160000,
                    187500,
                    147000,
                    83500,
                    252000,
                    137500,
                    197000,
                    92900,
                    160000,
                    136500,
                    146000,
                    129000,
                    176432,
                    127000,
                    170000,
                    128000,
                    157000,
                    60000,
                    119500,
                    135000,
                    159500,
                    106000,
                    325000,
                    179900,
                    274725,
                    181000,
                    280000,
                    188000,
                    205000,
                    129900,
                    134500,
                    117000,
                    318000,
                    184100,
                    130000,
                    140000,
                    133700,
                    118400,
                    212900,
                    112000,
                    118000,
                    163900,
                    115000,
                    174000,
                    259000,
                    215000,
                    140000,
                    135000,
                    93500,
                    117500,
                    239500,
                    169000,
                    102000,
                    119000,
                    94000,
                    196000,
                    144000,
                    139000,
                    197500,
                    424870,
                    80000,
                    80000,
                    149000,
                    180000,
                    174500,
                    116900,
                    143000,
                    124000,
                    149900,
                    230000,
                    120500,
                    201800,
                    218000,
                    179900,
                    230000,
                    235128,
                    185000,
                    146000,
                    224000,
                    129000,
                    108959,
                    194000,
                    233170,
                    245350,
                    173000,
                    235000,
                    625000,
                    171000,
                    163000,
                    171900,
                    200500,
                    239000,
                    285000,
                    119500,
                    115000,
                    154900,
                    93000,
                    250000,
                    392500,
                    745000,
                    120000,
                    186700,
                    104900,
                    95000,
                    262000,
                    195000,
                    189000,
                    168000,
                    174000,
                    125000,
                    165000,
                    158000,
                    176000,
                    219210,
                    144000,
                    178000,
                    148000,
                    116050,
                    197900,
                    117000,
                    213000,
                    153500,
                    271900,
                    107000,
                    200000,
                    140000,
                    290000,
                    189000,
                    164000,
                    113000,
                    145000,
                    134500,
                    125000,
                    112000,
                    229456,
                    80500,
                    91500,
                    115000,
                    134000,
                    143000,
                    137900,
                    184000,
                    145000,
                    214000,
                    147000,
                    367294,
                    127000,
                    190000,
                    132500,
                    101800,
                    142000,
                    130000,
                    138887,
                    175500,
                    195000,
                    142500,
                    265900,
                    224900,
                    248328,
                    170000,
                    465000,
                    230000,
                    178000,
                    186500,
                    169900,
                    129500,
                    119000,
                    244000,
                    171750,
                    130000,
                    294000,
                    165400,
                    127500,
                    301500,
                    99900,
                    190000,
                    151000,
                    181000,
                    128900,
                    161500,
                    180500,
                    181000,
                    183900,
                    122000,
                    378500,
                    381000,
                    144000,
                    260000,
                    185750,
                    137000,
                    177000,
                    139000,
                    137000,
                    162000,
                    197900,
                    237000,
                    68400,
                    227000,
                    180000,
                    150500,
                    139000,
                    169000,
                    132500,
                    143000,
                    190000,
                    278000,
                    281000,
                    180500,
                    119500,
                    107500,
                    162900,
                    115000,
                    138500,
                    155000,
                    140000,
                    160000,
                    154000,
                    225000,
                    177500,
                    290000,
                    232000,
                    130000,
                    325000,
                    202500,
                    138000,
                    147000,
                    179200,
                    335000,
                    203000,
                    302000,
                    333168,
                    119000,
                    206900,
                    295493,
                    208900,
                    275000,
                    111000,
                    156500,
                    72500,
                    190000,
                    82500,
                    147000,
                    55000,
                    79000,
                    130500,
                    256000,
                    176500,
                    227000,
                    132500,
                    100000,
                    125500,
                    125000,
                    167900,
                    135000,
                    52500,
                    200000,
                    128500,
                    123000,
                    155000,
                    228500,
                    177000,
                    155835,
                    108500,
                    262500,
                    283463,
                    215000,
                    122000,
                    200000,
                    171000,
                    134900,
                    410000,
                    235000,
                    170000,
                    110000,
                    149900,
                    177500,
                    315000,
                    189000,
                    260000,
                    104900,
                    156932,
                    144152,
                    216000,
                    193000,
                    127000,
                    144000,
                    232000,
                    105000,
                    165500,
                    274300,
                    466500,
                    250000,
                    239000,
                    91000,
                    117000,
                    83000,
                    167500,
                    58500,
                    237500,
                    157000,
                    112000,
                    105000,
                    125500,
                    250000,
                    136000,
                    377500,
                    131000,
                    235000,
                    124000,
                    123000,
                    163000,
                    246578,
                    281213,
                    160000,
                    137500,
                    138000,
                    137450,
                    120000,
                    193000,
                    193879,
                    282922,
                    105000,
                    275000,
                    133000,
                    112000,
                    125500,
                    215000,
                    230000,
                    140000,
                    90000,
                    257000,
                    207000,
                    175900,
                    122500,
                    340000,
                    124000,
                    223000,
                    179900,
                    127500,
                    136500,
                    274970,
                    144000,
                    142000,
                    271000,
                    140000,
                    119000,
                    182900,
                    192140,
                    143750,
                    64500,
                    186500,
                    160000,
                    174000,
                    120500,
                    394617,
                    149700,
                    197000,
                    191000,
                    149300,
                    310000,
                    121000,
                    179600,
                    129000,
                    157900,
                    240000,
                    112000,
                    92000,
                    136000,
                    287090,
                    145000,
                    84500,
                    185000,
                    175000,
                    210000,
                    266500,
                    142125,
                    147500
                  ],
                  "xaxis": "x",
                  "yaxis": "y"
                }
              ],
              "layout": {
                "barmode": "relative",
                "legend": {
                  "tracegroupgap": 0
                },
                "template": {
                  "data": {
                    "bar": [
                      {
                        "error_x": {
                          "color": "#2a3f5f"
                        },
                        "error_y": {
                          "color": "#2a3f5f"
                        },
                        "marker": {
                          "line": {
                            "color": "#E5ECF6",
                            "width": 0.5
                          },
                          "pattern": {
                            "fillmode": "overlay",
                            "size": 10,
                            "solidity": 0.2
                          }
                        },
                        "type": "bar"
                      }
                    ],
                    "barpolar": [
                      {
                        "marker": {
                          "line": {
                            "color": "#E5ECF6",
                            "width": 0.5
                          },
                          "pattern": {
                            "fillmode": "overlay",
                            "size": 10,
                            "solidity": 0.2
                          }
                        },
                        "type": "barpolar"
                      }
                    ],
                    "carpet": [
                      {
                        "aaxis": {
                          "endlinecolor": "#2a3f5f",
                          "gridcolor": "white",
                          "linecolor": "white",
                          "minorgridcolor": "white",
                          "startlinecolor": "#2a3f5f"
                        },
                        "baxis": {
                          "endlinecolor": "#2a3f5f",
                          "gridcolor": "white",
                          "linecolor": "white",
                          "minorgridcolor": "white",
                          "startlinecolor": "#2a3f5f"
                        },
                        "type": "carpet"
                      }
                    ],
                    "choropleth": [
                      {
                        "colorbar": {
                          "outlinewidth": 0,
                          "ticks": ""
                        },
                        "type": "choropleth"
                      }
                    ],
                    "contour": [
                      {
                        "colorbar": {
                          "outlinewidth": 0,
                          "ticks": ""
                        },
                        "colorscale": [
                          [
                            0,
                            "#0d0887"
                          ],
                          [
                            0.1111111111111111,
                            "#46039f"
                          ],
                          [
                            0.2222222222222222,
                            "#7201a8"
                          ],
                          [
                            0.3333333333333333,
                            "#9c179e"
                          ],
                          [
                            0.4444444444444444,
                            "#bd3786"
                          ],
                          [
                            0.5555555555555556,
                            "#d8576b"
                          ],
                          [
                            0.6666666666666666,
                            "#ed7953"
                          ],
                          [
                            0.7777777777777778,
                            "#fb9f3a"
                          ],
                          [
                            0.8888888888888888,
                            "#fdca26"
                          ],
                          [
                            1,
                            "#f0f921"
                          ]
                        ],
                        "type": "contour"
                      }
                    ],
                    "contourcarpet": [
                      {
                        "colorbar": {
                          "outlinewidth": 0,
                          "ticks": ""
                        },
                        "type": "contourcarpet"
                      }
                    ],
                    "heatmap": [
                      {
                        "colorbar": {
                          "outlinewidth": 0,
                          "ticks": ""
                        },
                        "colorscale": [
                          [
                            0,
                            "#0d0887"
                          ],
                          [
                            0.1111111111111111,
                            "#46039f"
                          ],
                          [
                            0.2222222222222222,
                            "#7201a8"
                          ],
                          [
                            0.3333333333333333,
                            "#9c179e"
                          ],
                          [
                            0.4444444444444444,
                            "#bd3786"
                          ],
                          [
                            0.5555555555555556,
                            "#d8576b"
                          ],
                          [
                            0.6666666666666666,
                            "#ed7953"
                          ],
                          [
                            0.7777777777777778,
                            "#fb9f3a"
                          ],
                          [
                            0.8888888888888888,
                            "#fdca26"
                          ],
                          [
                            1,
                            "#f0f921"
                          ]
                        ],
                        "type": "heatmap"
                      }
                    ],
                    "heatmapgl": [
                      {
                        "colorbar": {
                          "outlinewidth": 0,
                          "ticks": ""
                        },
                        "colorscale": [
                          [
                            0,
                            "#0d0887"
                          ],
                          [
                            0.1111111111111111,
                            "#46039f"
                          ],
                          [
                            0.2222222222222222,
                            "#7201a8"
                          ],
                          [
                            0.3333333333333333,
                            "#9c179e"
                          ],
                          [
                            0.4444444444444444,
                            "#bd3786"
                          ],
                          [
                            0.5555555555555556,
                            "#d8576b"
                          ],
                          [
                            0.6666666666666666,
                            "#ed7953"
                          ],
                          [
                            0.7777777777777778,
                            "#fb9f3a"
                          ],
                          [
                            0.8888888888888888,
                            "#fdca26"
                          ],
                          [
                            1,
                            "#f0f921"
                          ]
                        ],
                        "type": "heatmapgl"
                      }
                    ],
                    "histogram": [
                      {
                        "marker": {
                          "pattern": {
                            "fillmode": "overlay",
                            "size": 10,
                            "solidity": 0.2
                          }
                        },
                        "type": "histogram"
                      }
                    ],
                    "histogram2d": [
                      {
                        "colorbar": {
                          "outlinewidth": 0,
                          "ticks": ""
                        },
                        "colorscale": [
                          [
                            0,
                            "#0d0887"
                          ],
                          [
                            0.1111111111111111,
                            "#46039f"
                          ],
                          [
                            0.2222222222222222,
                            "#7201a8"
                          ],
                          [
                            0.3333333333333333,
                            "#9c179e"
                          ],
                          [
                            0.4444444444444444,
                            "#bd3786"
                          ],
                          [
                            0.5555555555555556,
                            "#d8576b"
                          ],
                          [
                            0.6666666666666666,
                            "#ed7953"
                          ],
                          [
                            0.7777777777777778,
                            "#fb9f3a"
                          ],
                          [
                            0.8888888888888888,
                            "#fdca26"
                          ],
                          [
                            1,
                            "#f0f921"
                          ]
                        ],
                        "type": "histogram2d"
                      }
                    ],
                    "histogram2dcontour": [
                      {
                        "colorbar": {
                          "outlinewidth": 0,
                          "ticks": ""
                        },
                        "colorscale": [
                          [
                            0,
                            "#0d0887"
                          ],
                          [
                            0.1111111111111111,
                            "#46039f"
                          ],
                          [
                            0.2222222222222222,
                            "#7201a8"
                          ],
                          [
                            0.3333333333333333,
                            "#9c179e"
                          ],
                          [
                            0.4444444444444444,
                            "#bd3786"
                          ],
                          [
                            0.5555555555555556,
                            "#d8576b"
                          ],
                          [
                            0.6666666666666666,
                            "#ed7953"
                          ],
                          [
                            0.7777777777777778,
                            "#fb9f3a"
                          ],
                          [
                            0.8888888888888888,
                            "#fdca26"
                          ],
                          [
                            1,
                            "#f0f921"
                          ]
                        ],
                        "type": "histogram2dcontour"
                      }
                    ],
                    "mesh3d": [
                      {
                        "colorbar": {
                          "outlinewidth": 0,
                          "ticks": ""
                        },
                        "type": "mesh3d"
                      }
                    ],
                    "parcoords": [
                      {
                        "line": {
                          "colorbar": {
                            "outlinewidth": 0,
                            "ticks": ""
                          }
                        },
                        "type": "parcoords"
                      }
                    ],
                    "pie": [
                      {
                        "automargin": true,
                        "type": "pie"
                      }
                    ],
                    "scatter": [
                      {
                        "fillpattern": {
                          "fillmode": "overlay",
                          "size": 10,
                          "solidity": 0.2
                        },
                        "type": "scatter"
                      }
                    ],
                    "scatter3d": [
                      {
                        "line": {
                          "colorbar": {
                            "outlinewidth": 0,
                            "ticks": ""
                          }
                        },
                        "marker": {
                          "colorbar": {
                            "outlinewidth": 0,
                            "ticks": ""
                          }
                        },
                        "type": "scatter3d"
                      }
                    ],
                    "scattercarpet": [
                      {
                        "marker": {
                          "colorbar": {
                            "outlinewidth": 0,
                            "ticks": ""
                          }
                        },
                        "type": "scattercarpet"
                      }
                    ],
                    "scattergeo": [
                      {
                        "marker": {
                          "colorbar": {
                            "outlinewidth": 0,
                            "ticks": ""
                          }
                        },
                        "type": "scattergeo"
                      }
                    ],
                    "scattergl": [
                      {
                        "marker": {
                          "colorbar": {
                            "outlinewidth": 0,
                            "ticks": ""
                          }
                        },
                        "type": "scattergl"
                      }
                    ],
                    "scattermapbox": [
                      {
                        "marker": {
                          "colorbar": {
                            "outlinewidth": 0,
                            "ticks": ""
                          }
                        },
                        "type": "scattermapbox"
                      }
                    ],
                    "scatterpolar": [
                      {
                        "marker": {
                          "colorbar": {
                            "outlinewidth": 0,
                            "ticks": ""
                          }
                        },
                        "type": "scatterpolar"
                      }
                    ],
                    "scatterpolargl": [
                      {
                        "marker": {
                          "colorbar": {
                            "outlinewidth": 0,
                            "ticks": ""
                          }
                        },
                        "type": "scatterpolargl"
                      }
                    ],
                    "scatterternary": [
                      {
                        "marker": {
                          "colorbar": {
                            "outlinewidth": 0,
                            "ticks": ""
                          }
                        },
                        "type": "scatterternary"
                      }
                    ],
                    "surface": [
                      {
                        "colorbar": {
                          "outlinewidth": 0,
                          "ticks": ""
                        },
                        "colorscale": [
                          [
                            0,
                            "#0d0887"
                          ],
                          [
                            0.1111111111111111,
                            "#46039f"
                          ],
                          [
                            0.2222222222222222,
                            "#7201a8"
                          ],
                          [
                            0.3333333333333333,
                            "#9c179e"
                          ],
                          [
                            0.4444444444444444,
                            "#bd3786"
                          ],
                          [
                            0.5555555555555556,
                            "#d8576b"
                          ],
                          [
                            0.6666666666666666,
                            "#ed7953"
                          ],
                          [
                            0.7777777777777778,
                            "#fb9f3a"
                          ],
                          [
                            0.8888888888888888,
                            "#fdca26"
                          ],
                          [
                            1,
                            "#f0f921"
                          ]
                        ],
                        "type": "surface"
                      }
                    ],
                    "table": [
                      {
                        "cells": {
                          "fill": {
                            "color": "#EBF0F8"
                          },
                          "line": {
                            "color": "white"
                          }
                        },
                        "header": {
                          "fill": {
                            "color": "#C8D4E3"
                          },
                          "line": {
                            "color": "white"
                          }
                        },
                        "type": "table"
                      }
                    ]
                  },
                  "layout": {
                    "annotationdefaults": {
                      "arrowcolor": "#2a3f5f",
                      "arrowhead": 0,
                      "arrowwidth": 1
                    },
                    "autotypenumbers": "strict",
                    "coloraxis": {
                      "colorbar": {
                        "outlinewidth": 0,
                        "ticks": ""
                      }
                    },
                    "colorscale": {
                      "diverging": [
                        [
                          0,
                          "#8e0152"
                        ],
                        [
                          0.1,
                          "#c51b7d"
                        ],
                        [
                          0.2,
                          "#de77ae"
                        ],
                        [
                          0.3,
                          "#f1b6da"
                        ],
                        [
                          0.4,
                          "#fde0ef"
                        ],
                        [
                          0.5,
                          "#f7f7f7"
                        ],
                        [
                          0.6,
                          "#e6f5d0"
                        ],
                        [
                          0.7,
                          "#b8e186"
                        ],
                        [
                          0.8,
                          "#7fbc41"
                        ],
                        [
                          0.9,
                          "#4d9221"
                        ],
                        [
                          1,
                          "#276419"
                        ]
                      ],
                      "sequential": [
                        [
                          0,
                          "#0d0887"
                        ],
                        [
                          0.1111111111111111,
                          "#46039f"
                        ],
                        [
                          0.2222222222222222,
                          "#7201a8"
                        ],
                        [
                          0.3333333333333333,
                          "#9c179e"
                        ],
                        [
                          0.4444444444444444,
                          "#bd3786"
                        ],
                        [
                          0.5555555555555556,
                          "#d8576b"
                        ],
                        [
                          0.6666666666666666,
                          "#ed7953"
                        ],
                        [
                          0.7777777777777778,
                          "#fb9f3a"
                        ],
                        [
                          0.8888888888888888,
                          "#fdca26"
                        ],
                        [
                          1,
                          "#f0f921"
                        ]
                      ],
                      "sequentialminus": [
                        [
                          0,
                          "#0d0887"
                        ],
                        [
                          0.1111111111111111,
                          "#46039f"
                        ],
                        [
                          0.2222222222222222,
                          "#7201a8"
                        ],
                        [
                          0.3333333333333333,
                          "#9c179e"
                        ],
                        [
                          0.4444444444444444,
                          "#bd3786"
                        ],
                        [
                          0.5555555555555556,
                          "#d8576b"
                        ],
                        [
                          0.6666666666666666,
                          "#ed7953"
                        ],
                        [
                          0.7777777777777778,
                          "#fb9f3a"
                        ],
                        [
                          0.8888888888888888,
                          "#fdca26"
                        ],
                        [
                          1,
                          "#f0f921"
                        ]
                      ]
                    },
                    "colorway": [
                      "#636efa",
                      "#EF553B",
                      "#00cc96",
                      "#ab63fa",
                      "#FFA15A",
                      "#19d3f3",
                      "#FF6692",
                      "#B6E880",
                      "#FF97FF",
                      "#FECB52"
                    ],
                    "font": {
                      "color": "#2a3f5f"
                    },
                    "geo": {
                      "bgcolor": "white",
                      "lakecolor": "white",
                      "landcolor": "#E5ECF6",
                      "showlakes": true,
                      "showland": true,
                      "subunitcolor": "white"
                    },
                    "hoverlabel": {
                      "align": "left"
                    },
                    "hovermode": "closest",
                    "mapbox": {
                      "style": "light"
                    },
                    "paper_bgcolor": "white",
                    "plot_bgcolor": "#E5ECF6",
                    "polar": {
                      "angularaxis": {
                        "gridcolor": "white",
                        "linecolor": "white",
                        "ticks": ""
                      },
                      "bgcolor": "#E5ECF6",
                      "radialaxis": {
                        "gridcolor": "white",
                        "linecolor": "white",
                        "ticks": ""
                      }
                    },
                    "scene": {
                      "xaxis": {
                        "backgroundcolor": "#E5ECF6",
                        "gridcolor": "white",
                        "gridwidth": 2,
                        "linecolor": "white",
                        "showbackground": true,
                        "ticks": "",
                        "zerolinecolor": "white"
                      },
                      "yaxis": {
                        "backgroundcolor": "#E5ECF6",
                        "gridcolor": "white",
                        "gridwidth": 2,
                        "linecolor": "white",
                        "showbackground": true,
                        "ticks": "",
                        "zerolinecolor": "white"
                      },
                      "zaxis": {
                        "backgroundcolor": "#E5ECF6",
                        "gridcolor": "white",
                        "gridwidth": 2,
                        "linecolor": "white",
                        "showbackground": true,
                        "ticks": "",
                        "zerolinecolor": "white"
                      }
                    },
                    "shapedefaults": {
                      "line": {
                        "color": "#2a3f5f"
                      }
                    },
                    "ternary": {
                      "aaxis": {
                        "gridcolor": "white",
                        "linecolor": "white",
                        "ticks": ""
                      },
                      "baxis": {
                        "gridcolor": "white",
                        "linecolor": "white",
                        "ticks": ""
                      },
                      "bgcolor": "#E5ECF6",
                      "caxis": {
                        "gridcolor": "white",
                        "linecolor": "white",
                        "ticks": ""
                      }
                    },
                    "title": {
                      "x": 0.05
                    },
                    "xaxis": {
                      "automargin": true,
                      "gridcolor": "white",
                      "linecolor": "white",
                      "ticks": "",
                      "title": {
                        "standoff": 15
                      },
                      "zerolinecolor": "white",
                      "zerolinewidth": 2
                    },
                    "yaxis": {
                      "automargin": true,
                      "gridcolor": "white",
                      "linecolor": "white",
                      "ticks": "",
                      "title": {
                        "standoff": 15
                      },
                      "zerolinecolor": "white",
                      "zerolinewidth": 2
                    }
                  }
                },
                "title": {
                  "text": "Sale Price Distribution (Skewness: 1.9)"
                },
                "xaxis": {
                  "anchor": "y",
                  "domain": [
                    0,
                    1
                  ],
                  "title": {
                    "text": "SalePrice"
                  }
                },
                "yaxis": {
                  "anchor": "x",
                  "domain": [
                    0,
                    1
                  ],
                  "title": {
                    "text": "Frequency"
                  }
                }
              }
            }
          },
          "metadata": {},
          "output_type": "display_data"
        }
      ],
      "source": [
        "fig = px.histogram(num_train, x = \"SalePrice\",\n",
        "                   title=(f'Sale Price Distribution (Skewness: {skewness:.2})'),\n",
        "                   opacity=0.8,)\n",
        "\n",
        "\n",
        "# Set x and y axis labels\n",
        "fig.update_xaxes(title_text='SalePrice')\n",
        "fig.update_yaxes(title_text='Frequency')\n",
        "\n",
        "\n",
        "fig.show()"
      ]
    },
    {
      "cell_type": "code",
      "execution_count": 15,
      "metadata": {
        "colab": {
          "base_uri": "https://localhost:8080/",
          "height": 236
        },
        "id": "2wJLDhR0U4Us",
        "outputId": "4c1566b7-0095-4b00-84a1-08a3c0e758f2"
      },
      "outputs": [
        {
          "data": {
            "text/html": [
              "<div>\n",
              "<style scoped>\n",
              "    .dataframe tbody tr th:only-of-type {\n",
              "        vertical-align: middle;\n",
              "    }\n",
              "\n",
              "    .dataframe tbody tr th {\n",
              "        vertical-align: top;\n",
              "    }\n",
              "\n",
              "    .dataframe thead th {\n",
              "        text-align: right;\n",
              "    }\n",
              "</style>\n",
              "<table border=\"1\" class=\"dataframe\">\n",
              "  <thead>\n",
              "    <tr style=\"text-align: right;\">\n",
              "      <th></th>\n",
              "      <th>MSSubClass</th>\n",
              "      <th>MSZoning</th>\n",
              "      <th>Street</th>\n",
              "      <th>Alley</th>\n",
              "      <th>LotShape</th>\n",
              "      <th>LandContour</th>\n",
              "      <th>Utilities</th>\n",
              "      <th>LotConfig</th>\n",
              "      <th>LandSlope</th>\n",
              "      <th>Neighborhood</th>\n",
              "      <th>...</th>\n",
              "      <th>PoolQC</th>\n",
              "      <th>Fence</th>\n",
              "      <th>MiscFeature</th>\n",
              "      <th>SaleType</th>\n",
              "      <th>SaleCondition</th>\n",
              "      <th>YearBuilt_obj</th>\n",
              "      <th>YearRemodAdd_obj</th>\n",
              "      <th>MoSold_obj</th>\n",
              "      <th>YrSold_obj</th>\n",
              "      <th>SalePrice</th>\n",
              "    </tr>\n",
              "  </thead>\n",
              "  <tbody>\n",
              "    <tr>\n",
              "      <th>0</th>\n",
              "      <td>60</td>\n",
              "      <td>RL</td>\n",
              "      <td>Pave</td>\n",
              "      <td>NaN</td>\n",
              "      <td>Reg</td>\n",
              "      <td>Lvl</td>\n",
              "      <td>AllPub</td>\n",
              "      <td>Inside</td>\n",
              "      <td>Gtl</td>\n",
              "      <td>CollgCr</td>\n",
              "      <td>...</td>\n",
              "      <td>NaN</td>\n",
              "      <td>NaN</td>\n",
              "      <td>NaN</td>\n",
              "      <td>WD</td>\n",
              "      <td>Normal</td>\n",
              "      <td>2003</td>\n",
              "      <td>2003</td>\n",
              "      <td>2</td>\n",
              "      <td>2008</td>\n",
              "      <td>208500</td>\n",
              "    </tr>\n",
              "    <tr>\n",
              "      <th>1</th>\n",
              "      <td>20</td>\n",
              "      <td>RL</td>\n",
              "      <td>Pave</td>\n",
              "      <td>NaN</td>\n",
              "      <td>Reg</td>\n",
              "      <td>Lvl</td>\n",
              "      <td>AllPub</td>\n",
              "      <td>FR2</td>\n",
              "      <td>Gtl</td>\n",
              "      <td>Veenker</td>\n",
              "      <td>...</td>\n",
              "      <td>NaN</td>\n",
              "      <td>NaN</td>\n",
              "      <td>NaN</td>\n",
              "      <td>WD</td>\n",
              "      <td>Normal</td>\n",
              "      <td>1976</td>\n",
              "      <td>1976</td>\n",
              "      <td>5</td>\n",
              "      <td>2007</td>\n",
              "      <td>181500</td>\n",
              "    </tr>\n",
              "    <tr>\n",
              "      <th>2</th>\n",
              "      <td>60</td>\n",
              "      <td>RL</td>\n",
              "      <td>Pave</td>\n",
              "      <td>NaN</td>\n",
              "      <td>IR1</td>\n",
              "      <td>Lvl</td>\n",
              "      <td>AllPub</td>\n",
              "      <td>Inside</td>\n",
              "      <td>Gtl</td>\n",
              "      <td>CollgCr</td>\n",
              "      <td>...</td>\n",
              "      <td>NaN</td>\n",
              "      <td>NaN</td>\n",
              "      <td>NaN</td>\n",
              "      <td>WD</td>\n",
              "      <td>Normal</td>\n",
              "      <td>2001</td>\n",
              "      <td>2002</td>\n",
              "      <td>9</td>\n",
              "      <td>2008</td>\n",
              "      <td>223500</td>\n",
              "    </tr>\n",
              "    <tr>\n",
              "      <th>3</th>\n",
              "      <td>70</td>\n",
              "      <td>RL</td>\n",
              "      <td>Pave</td>\n",
              "      <td>NaN</td>\n",
              "      <td>IR1</td>\n",
              "      <td>Lvl</td>\n",
              "      <td>AllPub</td>\n",
              "      <td>Corner</td>\n",
              "      <td>Gtl</td>\n",
              "      <td>Crawfor</td>\n",
              "      <td>...</td>\n",
              "      <td>NaN</td>\n",
              "      <td>NaN</td>\n",
              "      <td>NaN</td>\n",
              "      <td>WD</td>\n",
              "      <td>Abnorml</td>\n",
              "      <td>1915</td>\n",
              "      <td>1970</td>\n",
              "      <td>2</td>\n",
              "      <td>2006</td>\n",
              "      <td>140000</td>\n",
              "    </tr>\n",
              "    <tr>\n",
              "      <th>4</th>\n",
              "      <td>60</td>\n",
              "      <td>RL</td>\n",
              "      <td>Pave</td>\n",
              "      <td>NaN</td>\n",
              "      <td>IR1</td>\n",
              "      <td>Lvl</td>\n",
              "      <td>AllPub</td>\n",
              "      <td>FR2</td>\n",
              "      <td>Gtl</td>\n",
              "      <td>NoRidge</td>\n",
              "      <td>...</td>\n",
              "      <td>NaN</td>\n",
              "      <td>NaN</td>\n",
              "      <td>NaN</td>\n",
              "      <td>WD</td>\n",
              "      <td>Normal</td>\n",
              "      <td>2000</td>\n",
              "      <td>2000</td>\n",
              "      <td>12</td>\n",
              "      <td>2008</td>\n",
              "      <td>250000</td>\n",
              "    </tr>\n",
              "  </tbody>\n",
              "</table>\n",
              "<p>5 rows × 49 columns</p>\n",
              "</div>"
            ],
            "text/plain": [
              "  MSSubClass MSZoning Street Alley LotShape LandContour Utilities LotConfig  \\\n",
              "0         60       RL   Pave   NaN      Reg         Lvl    AllPub    Inside   \n",
              "1         20       RL   Pave   NaN      Reg         Lvl    AllPub       FR2   \n",
              "2         60       RL   Pave   NaN      IR1         Lvl    AllPub    Inside   \n",
              "3         70       RL   Pave   NaN      IR1         Lvl    AllPub    Corner   \n",
              "4         60       RL   Pave   NaN      IR1         Lvl    AllPub       FR2   \n",
              "\n",
              "  LandSlope Neighborhood  ... PoolQC Fence MiscFeature SaleType SaleCondition  \\\n",
              "0       Gtl      CollgCr  ...    NaN   NaN         NaN       WD        Normal   \n",
              "1       Gtl      Veenker  ...    NaN   NaN         NaN       WD        Normal   \n",
              "2       Gtl      CollgCr  ...    NaN   NaN         NaN       WD        Normal   \n",
              "3       Gtl      Crawfor  ...    NaN   NaN         NaN       WD       Abnorml   \n",
              "4       Gtl      NoRidge  ...    NaN   NaN         NaN       WD        Normal   \n",
              "\n",
              "  YearBuilt_obj YearRemodAdd_obj MoSold_obj YrSold_obj SalePrice  \n",
              "0          2003             2003          2       2008    208500  \n",
              "1          1976             1976          5       2007    181500  \n",
              "2          2001             2002          9       2008    223500  \n",
              "3          1915             1970          2       2006    140000  \n",
              "4          2000             2000         12       2008    250000  \n",
              "\n",
              "[5 rows x 49 columns]"
            ]
          },
          "execution_count": 15,
          "metadata": {},
          "output_type": "execute_result"
        }
      ],
      "source": [
        "cat_cols.append(\"SalePrice\")\n",
        "cat_train = train[cat_cols]\n",
        "cat_train.head()"
      ]
    },
    {
      "cell_type": "code",
      "execution_count": 16,
      "metadata": {
        "id": "ofEGLRg3YN5U"
      },
      "outputs": [],
      "source": [
        "year = cat_train[\"YearBuilt_obj\"].value_counts()\n",
        "year_avgprice = cat_train.groupby(\"YearBuilt_obj\")[\"SalePrice\"].mean()"
      ]
    },
    {
      "cell_type": "code",
      "execution_count": 17,
      "metadata": {
        "colab": {
          "base_uri": "https://localhost:8080/",
          "height": 542
        },
        "id": "eQpCGOYDhn4Y",
        "outputId": "1ddcb202-b6d3-4c59-96af-cd0d1d3a01ed"
      },
      "outputs": [
        {
          "data": {
            "application/vnd.plotly.v1+json": {
              "config": {
                "plotlyServerURL": "https://plot.ly"
              },
              "data": [
                {
                  "alignmentgroup": "True",
                  "hovertemplate": "x=%{x}<br>y=%{y}<extra></extra>",
                  "legendgroup": "",
                  "marker": {
                    "color": "#636efa",
                    "pattern": {
                      "shape": ""
                    }
                  },
                  "name": "",
                  "offsetgroup": "",
                  "orientation": "v",
                  "showlegend": false,
                  "textposition": "auto",
                  "type": "bar",
                  "x": [
                    "2006",
                    "2005",
                    "2004",
                    "2007",
                    "2003",
                    "1976",
                    "1977",
                    "1920",
                    "1959",
                    "1998",
                    "1999",
                    "1965",
                    "2000",
                    "1970",
                    "1954",
                    "1958",
                    "2008",
                    "2002",
                    "1972",
                    "1971",
                    "1968",
                    "1950",
                    "1957",
                    "2001",
                    "1994",
                    "1962",
                    "1940",
                    "1966",
                    "2009",
                    "1995",
                    "1910",
                    "1993",
                    "1960",
                    "1963",
                    "1978",
                    "1925",
                    "1955",
                    "1967",
                    "1996",
                    "1941",
                    "1964",
                    "1961",
                    "1948",
                    "1956",
                    "1969",
                    "1997",
                    "1992",
                    "1953",
                    "1990",
                    "1949",
                    "1973",
                    "1988",
                    "1900",
                    "1974",
                    "1915",
                    "1980",
                    "1984",
                    "1926",
                    "1936",
                    "1979",
                    "1930",
                    "1922",
                    "1975",
                    "1939",
                    "1916",
                    "1928",
                    "1914",
                    "1923",
                    "1924",
                    "1918",
                    "1946",
                    "1935",
                    "1951",
                    "1921",
                    "1945",
                    "1982",
                    "1931",
                    "1986",
                    "1937",
                    "1981",
                    "1991",
                    "1947",
                    "1952",
                    "1985",
                    "1929",
                    "1938",
                    "1983",
                    "1932",
                    "1880",
                    "1919",
                    "1989",
                    "1912",
                    "1927",
                    "1987",
                    "1934",
                    "1942",
                    "1890",
                    "1885",
                    "1908",
                    "1892",
                    "1913",
                    "1893",
                    "1906",
                    "2010",
                    "1898",
                    "1904",
                    "1882",
                    "1875",
                    "1911",
                    "1917",
                    "1872",
                    "1905"
                  ],
                  "xaxis": "x",
                  "y": [
                    122000,
                    94000,
                    200619.75,
                    168000,
                    111250,
                    142200,
                    291250,
                    325000,
                    106000,
                    112492.6,
                    157500,
                    163000,
                    135000,
                    183500,
                    111959.05882352941,
                    130000,
                    119466.66666666667,
                    90350,
                    126055.28571428571,
                    134387.5,
                    139800,
                    129500,
                    172421.42857142858,
                    154833.33333333334,
                    112903.33333333333,
                    140813.33333333334,
                    109237.5,
                    159428.57142857142,
                    105985.71428571429,
                    129190.625,
                    124144.44444444444,
                    82666.66666666667,
                    135557.14285714287,
                    153000,
                    103588.88888888889,
                    126650,
                    233358.5,
                    220766.66666666666,
                    161083.33333333334,
                    137888.88888888888,
                    131974.2,
                    109137.5,
                    150825,
                    131994.44444444444,
                    120900,
                    162000,
                    133500,
                    122400,
                    117200,
                    137764.2857142857,
                    111517.58333333333,
                    128036.25,
                    136600,
                    110398.6,
                    146333.33333333334,
                    139650,
                    134517.1875,
                    135810.7142857143,
                    149959.1,
                    143179.16666666666,
                    154124.3076923077,
                    161550,
                    139846.42857142858,
                    145742.1052631579,
                    143403.125,
                    161893.33333333334,
                    153115.95833333334,
                    159559.44444444444,
                    142337.5,
                    166075,
                    160725.64285714287,
                    134647.91666666666,
                    131820.45454545456,
                    140569.5652173913,
                    139400,
                    183050,
                    159268.75,
                    163831.9696969697,
                    166860.9375,
                    160962.5,
                    156396.88888888888,
                    164800,
                    249880,
                    132400,
                    181400,
                    164111.11111111112,
                    191400,
                    212000,
                    198000,
                    204636.36363636365,
                    279500,
                    220881.66666666666,
                    186140,
                    218384.61538461538,
                    218058.82352941178,
                    247900,
                    262194.44444444444,
                    259162.66666666666,
                    214925,
                    220450,
                    210614.72,
                    210766.66666666666,
                    242630,
                    226869.5652173913,
                    227408.57777777777,
                    210347.72222222222,
                    229680.953125,
                    251775.44776119402,
                    255362.73469387754,
                    348849.1304347826,
                    269220,
                    394432
                  ],
                  "yaxis": "y"
                }
              ],
              "layout": {
                "barmode": "relative",
                "legend": {
                  "tracegroupgap": 0
                },
                "template": {
                  "data": {
                    "bar": [
                      {
                        "error_x": {
                          "color": "#2a3f5f"
                        },
                        "error_y": {
                          "color": "#2a3f5f"
                        },
                        "marker": {
                          "line": {
                            "color": "#E5ECF6",
                            "width": 0.5
                          },
                          "pattern": {
                            "fillmode": "overlay",
                            "size": 10,
                            "solidity": 0.2
                          }
                        },
                        "type": "bar"
                      }
                    ],
                    "barpolar": [
                      {
                        "marker": {
                          "line": {
                            "color": "#E5ECF6",
                            "width": 0.5
                          },
                          "pattern": {
                            "fillmode": "overlay",
                            "size": 10,
                            "solidity": 0.2
                          }
                        },
                        "type": "barpolar"
                      }
                    ],
                    "carpet": [
                      {
                        "aaxis": {
                          "endlinecolor": "#2a3f5f",
                          "gridcolor": "white",
                          "linecolor": "white",
                          "minorgridcolor": "white",
                          "startlinecolor": "#2a3f5f"
                        },
                        "baxis": {
                          "endlinecolor": "#2a3f5f",
                          "gridcolor": "white",
                          "linecolor": "white",
                          "minorgridcolor": "white",
                          "startlinecolor": "#2a3f5f"
                        },
                        "type": "carpet"
                      }
                    ],
                    "choropleth": [
                      {
                        "colorbar": {
                          "outlinewidth": 0,
                          "ticks": ""
                        },
                        "type": "choropleth"
                      }
                    ],
                    "contour": [
                      {
                        "colorbar": {
                          "outlinewidth": 0,
                          "ticks": ""
                        },
                        "colorscale": [
                          [
                            0,
                            "#0d0887"
                          ],
                          [
                            0.1111111111111111,
                            "#46039f"
                          ],
                          [
                            0.2222222222222222,
                            "#7201a8"
                          ],
                          [
                            0.3333333333333333,
                            "#9c179e"
                          ],
                          [
                            0.4444444444444444,
                            "#bd3786"
                          ],
                          [
                            0.5555555555555556,
                            "#d8576b"
                          ],
                          [
                            0.6666666666666666,
                            "#ed7953"
                          ],
                          [
                            0.7777777777777778,
                            "#fb9f3a"
                          ],
                          [
                            0.8888888888888888,
                            "#fdca26"
                          ],
                          [
                            1,
                            "#f0f921"
                          ]
                        ],
                        "type": "contour"
                      }
                    ],
                    "contourcarpet": [
                      {
                        "colorbar": {
                          "outlinewidth": 0,
                          "ticks": ""
                        },
                        "type": "contourcarpet"
                      }
                    ],
                    "heatmap": [
                      {
                        "colorbar": {
                          "outlinewidth": 0,
                          "ticks": ""
                        },
                        "colorscale": [
                          [
                            0,
                            "#0d0887"
                          ],
                          [
                            0.1111111111111111,
                            "#46039f"
                          ],
                          [
                            0.2222222222222222,
                            "#7201a8"
                          ],
                          [
                            0.3333333333333333,
                            "#9c179e"
                          ],
                          [
                            0.4444444444444444,
                            "#bd3786"
                          ],
                          [
                            0.5555555555555556,
                            "#d8576b"
                          ],
                          [
                            0.6666666666666666,
                            "#ed7953"
                          ],
                          [
                            0.7777777777777778,
                            "#fb9f3a"
                          ],
                          [
                            0.8888888888888888,
                            "#fdca26"
                          ],
                          [
                            1,
                            "#f0f921"
                          ]
                        ],
                        "type": "heatmap"
                      }
                    ],
                    "heatmapgl": [
                      {
                        "colorbar": {
                          "outlinewidth": 0,
                          "ticks": ""
                        },
                        "colorscale": [
                          [
                            0,
                            "#0d0887"
                          ],
                          [
                            0.1111111111111111,
                            "#46039f"
                          ],
                          [
                            0.2222222222222222,
                            "#7201a8"
                          ],
                          [
                            0.3333333333333333,
                            "#9c179e"
                          ],
                          [
                            0.4444444444444444,
                            "#bd3786"
                          ],
                          [
                            0.5555555555555556,
                            "#d8576b"
                          ],
                          [
                            0.6666666666666666,
                            "#ed7953"
                          ],
                          [
                            0.7777777777777778,
                            "#fb9f3a"
                          ],
                          [
                            0.8888888888888888,
                            "#fdca26"
                          ],
                          [
                            1,
                            "#f0f921"
                          ]
                        ],
                        "type": "heatmapgl"
                      }
                    ],
                    "histogram": [
                      {
                        "marker": {
                          "pattern": {
                            "fillmode": "overlay",
                            "size": 10,
                            "solidity": 0.2
                          }
                        },
                        "type": "histogram"
                      }
                    ],
                    "histogram2d": [
                      {
                        "colorbar": {
                          "outlinewidth": 0,
                          "ticks": ""
                        },
                        "colorscale": [
                          [
                            0,
                            "#0d0887"
                          ],
                          [
                            0.1111111111111111,
                            "#46039f"
                          ],
                          [
                            0.2222222222222222,
                            "#7201a8"
                          ],
                          [
                            0.3333333333333333,
                            "#9c179e"
                          ],
                          [
                            0.4444444444444444,
                            "#bd3786"
                          ],
                          [
                            0.5555555555555556,
                            "#d8576b"
                          ],
                          [
                            0.6666666666666666,
                            "#ed7953"
                          ],
                          [
                            0.7777777777777778,
                            "#fb9f3a"
                          ],
                          [
                            0.8888888888888888,
                            "#fdca26"
                          ],
                          [
                            1,
                            "#f0f921"
                          ]
                        ],
                        "type": "histogram2d"
                      }
                    ],
                    "histogram2dcontour": [
                      {
                        "colorbar": {
                          "outlinewidth": 0,
                          "ticks": ""
                        },
                        "colorscale": [
                          [
                            0,
                            "#0d0887"
                          ],
                          [
                            0.1111111111111111,
                            "#46039f"
                          ],
                          [
                            0.2222222222222222,
                            "#7201a8"
                          ],
                          [
                            0.3333333333333333,
                            "#9c179e"
                          ],
                          [
                            0.4444444444444444,
                            "#bd3786"
                          ],
                          [
                            0.5555555555555556,
                            "#d8576b"
                          ],
                          [
                            0.6666666666666666,
                            "#ed7953"
                          ],
                          [
                            0.7777777777777778,
                            "#fb9f3a"
                          ],
                          [
                            0.8888888888888888,
                            "#fdca26"
                          ],
                          [
                            1,
                            "#f0f921"
                          ]
                        ],
                        "type": "histogram2dcontour"
                      }
                    ],
                    "mesh3d": [
                      {
                        "colorbar": {
                          "outlinewidth": 0,
                          "ticks": ""
                        },
                        "type": "mesh3d"
                      }
                    ],
                    "parcoords": [
                      {
                        "line": {
                          "colorbar": {
                            "outlinewidth": 0,
                            "ticks": ""
                          }
                        },
                        "type": "parcoords"
                      }
                    ],
                    "pie": [
                      {
                        "automargin": true,
                        "type": "pie"
                      }
                    ],
                    "scatter": [
                      {
                        "fillpattern": {
                          "fillmode": "overlay",
                          "size": 10,
                          "solidity": 0.2
                        },
                        "type": "scatter"
                      }
                    ],
                    "scatter3d": [
                      {
                        "line": {
                          "colorbar": {
                            "outlinewidth": 0,
                            "ticks": ""
                          }
                        },
                        "marker": {
                          "colorbar": {
                            "outlinewidth": 0,
                            "ticks": ""
                          }
                        },
                        "type": "scatter3d"
                      }
                    ],
                    "scattercarpet": [
                      {
                        "marker": {
                          "colorbar": {
                            "outlinewidth": 0,
                            "ticks": ""
                          }
                        },
                        "type": "scattercarpet"
                      }
                    ],
                    "scattergeo": [
                      {
                        "marker": {
                          "colorbar": {
                            "outlinewidth": 0,
                            "ticks": ""
                          }
                        },
                        "type": "scattergeo"
                      }
                    ],
                    "scattergl": [
                      {
                        "marker": {
                          "colorbar": {
                            "outlinewidth": 0,
                            "ticks": ""
                          }
                        },
                        "type": "scattergl"
                      }
                    ],
                    "scattermapbox": [
                      {
                        "marker": {
                          "colorbar": {
                            "outlinewidth": 0,
                            "ticks": ""
                          }
                        },
                        "type": "scattermapbox"
                      }
                    ],
                    "scatterpolar": [
                      {
                        "marker": {
                          "colorbar": {
                            "outlinewidth": 0,
                            "ticks": ""
                          }
                        },
                        "type": "scatterpolar"
                      }
                    ],
                    "scatterpolargl": [
                      {
                        "marker": {
                          "colorbar": {
                            "outlinewidth": 0,
                            "ticks": ""
                          }
                        },
                        "type": "scatterpolargl"
                      }
                    ],
                    "scatterternary": [
                      {
                        "marker": {
                          "colorbar": {
                            "outlinewidth": 0,
                            "ticks": ""
                          }
                        },
                        "type": "scatterternary"
                      }
                    ],
                    "surface": [
                      {
                        "colorbar": {
                          "outlinewidth": 0,
                          "ticks": ""
                        },
                        "colorscale": [
                          [
                            0,
                            "#0d0887"
                          ],
                          [
                            0.1111111111111111,
                            "#46039f"
                          ],
                          [
                            0.2222222222222222,
                            "#7201a8"
                          ],
                          [
                            0.3333333333333333,
                            "#9c179e"
                          ],
                          [
                            0.4444444444444444,
                            "#bd3786"
                          ],
                          [
                            0.5555555555555556,
                            "#d8576b"
                          ],
                          [
                            0.6666666666666666,
                            "#ed7953"
                          ],
                          [
                            0.7777777777777778,
                            "#fb9f3a"
                          ],
                          [
                            0.8888888888888888,
                            "#fdca26"
                          ],
                          [
                            1,
                            "#f0f921"
                          ]
                        ],
                        "type": "surface"
                      }
                    ],
                    "table": [
                      {
                        "cells": {
                          "fill": {
                            "color": "#EBF0F8"
                          },
                          "line": {
                            "color": "white"
                          }
                        },
                        "header": {
                          "fill": {
                            "color": "#C8D4E3"
                          },
                          "line": {
                            "color": "white"
                          }
                        },
                        "type": "table"
                      }
                    ]
                  },
                  "layout": {
                    "annotationdefaults": {
                      "arrowcolor": "#2a3f5f",
                      "arrowhead": 0,
                      "arrowwidth": 1
                    },
                    "autotypenumbers": "strict",
                    "coloraxis": {
                      "colorbar": {
                        "outlinewidth": 0,
                        "ticks": ""
                      }
                    },
                    "colorscale": {
                      "diverging": [
                        [
                          0,
                          "#8e0152"
                        ],
                        [
                          0.1,
                          "#c51b7d"
                        ],
                        [
                          0.2,
                          "#de77ae"
                        ],
                        [
                          0.3,
                          "#f1b6da"
                        ],
                        [
                          0.4,
                          "#fde0ef"
                        ],
                        [
                          0.5,
                          "#f7f7f7"
                        ],
                        [
                          0.6,
                          "#e6f5d0"
                        ],
                        [
                          0.7,
                          "#b8e186"
                        ],
                        [
                          0.8,
                          "#7fbc41"
                        ],
                        [
                          0.9,
                          "#4d9221"
                        ],
                        [
                          1,
                          "#276419"
                        ]
                      ],
                      "sequential": [
                        [
                          0,
                          "#0d0887"
                        ],
                        [
                          0.1111111111111111,
                          "#46039f"
                        ],
                        [
                          0.2222222222222222,
                          "#7201a8"
                        ],
                        [
                          0.3333333333333333,
                          "#9c179e"
                        ],
                        [
                          0.4444444444444444,
                          "#bd3786"
                        ],
                        [
                          0.5555555555555556,
                          "#d8576b"
                        ],
                        [
                          0.6666666666666666,
                          "#ed7953"
                        ],
                        [
                          0.7777777777777778,
                          "#fb9f3a"
                        ],
                        [
                          0.8888888888888888,
                          "#fdca26"
                        ],
                        [
                          1,
                          "#f0f921"
                        ]
                      ],
                      "sequentialminus": [
                        [
                          0,
                          "#0d0887"
                        ],
                        [
                          0.1111111111111111,
                          "#46039f"
                        ],
                        [
                          0.2222222222222222,
                          "#7201a8"
                        ],
                        [
                          0.3333333333333333,
                          "#9c179e"
                        ],
                        [
                          0.4444444444444444,
                          "#bd3786"
                        ],
                        [
                          0.5555555555555556,
                          "#d8576b"
                        ],
                        [
                          0.6666666666666666,
                          "#ed7953"
                        ],
                        [
                          0.7777777777777778,
                          "#fb9f3a"
                        ],
                        [
                          0.8888888888888888,
                          "#fdca26"
                        ],
                        [
                          1,
                          "#f0f921"
                        ]
                      ]
                    },
                    "colorway": [
                      "#636efa",
                      "#EF553B",
                      "#00cc96",
                      "#ab63fa",
                      "#FFA15A",
                      "#19d3f3",
                      "#FF6692",
                      "#B6E880",
                      "#FF97FF",
                      "#FECB52"
                    ],
                    "font": {
                      "color": "#2a3f5f"
                    },
                    "geo": {
                      "bgcolor": "white",
                      "lakecolor": "white",
                      "landcolor": "#E5ECF6",
                      "showlakes": true,
                      "showland": true,
                      "subunitcolor": "white"
                    },
                    "hoverlabel": {
                      "align": "left"
                    },
                    "hovermode": "closest",
                    "mapbox": {
                      "style": "light"
                    },
                    "paper_bgcolor": "white",
                    "plot_bgcolor": "#E5ECF6",
                    "polar": {
                      "angularaxis": {
                        "gridcolor": "white",
                        "linecolor": "white",
                        "ticks": ""
                      },
                      "bgcolor": "#E5ECF6",
                      "radialaxis": {
                        "gridcolor": "white",
                        "linecolor": "white",
                        "ticks": ""
                      }
                    },
                    "scene": {
                      "xaxis": {
                        "backgroundcolor": "#E5ECF6",
                        "gridcolor": "white",
                        "gridwidth": 2,
                        "linecolor": "white",
                        "showbackground": true,
                        "ticks": "",
                        "zerolinecolor": "white"
                      },
                      "yaxis": {
                        "backgroundcolor": "#E5ECF6",
                        "gridcolor": "white",
                        "gridwidth": 2,
                        "linecolor": "white",
                        "showbackground": true,
                        "ticks": "",
                        "zerolinecolor": "white"
                      },
                      "zaxis": {
                        "backgroundcolor": "#E5ECF6",
                        "gridcolor": "white",
                        "gridwidth": 2,
                        "linecolor": "white",
                        "showbackground": true,
                        "ticks": "",
                        "zerolinecolor": "white"
                      }
                    },
                    "shapedefaults": {
                      "line": {
                        "color": "#2a3f5f"
                      }
                    },
                    "ternary": {
                      "aaxis": {
                        "gridcolor": "white",
                        "linecolor": "white",
                        "ticks": ""
                      },
                      "baxis": {
                        "gridcolor": "white",
                        "linecolor": "white",
                        "ticks": ""
                      },
                      "bgcolor": "#E5ECF6",
                      "caxis": {
                        "gridcolor": "white",
                        "linecolor": "white",
                        "ticks": ""
                      }
                    },
                    "title": {
                      "x": 0.05
                    },
                    "xaxis": {
                      "automargin": true,
                      "gridcolor": "white",
                      "linecolor": "white",
                      "ticks": "",
                      "title": {
                        "standoff": 15
                      },
                      "zerolinecolor": "white",
                      "zerolinewidth": 2
                    },
                    "yaxis": {
                      "automargin": true,
                      "gridcolor": "white",
                      "linecolor": "white",
                      "ticks": "",
                      "title": {
                        "standoff": 15
                      },
                      "zerolinecolor": "white",
                      "zerolinewidth": 2
                    }
                  }
                },
                "title": {
                  "text": "Average Sale Price by Year Built"
                },
                "xaxis": {
                  "anchor": "y",
                  "domain": [
                    0,
                    1
                  ],
                  "title": {
                    "text": "x"
                  }
                },
                "yaxis": {
                  "anchor": "x",
                  "domain": [
                    0,
                    1
                  ],
                  "title": {
                    "text": "y"
                  }
                }
              }
            }
          },
          "metadata": {},
          "output_type": "display_data"
        }
      ],
      "source": [
        "fig = px.bar(cat_train, x=year.index, y=year_avgprice, title=\"Average Sale Price by Year Built\")\n",
        "fig.show()"
      ]
    },
    {
      "cell_type": "code",
      "execution_count": 18,
      "metadata": {
        "id": "AVJBjG5_Y7A0"
      },
      "outputs": [],
      "source": [
        "neigborhood= cat_train[\"Neighborhood\"].value_counts()\n",
        "neigborhood_avgprice = cat_train.groupby(\"Neighborhood\")[\"SalePrice\"].mean()"
      ]
    },
    {
      "cell_type": "code",
      "execution_count": 19,
      "metadata": {
        "colab": {
          "base_uri": "https://localhost:8080/",
          "height": 542
        },
        "id": "0bsfmx3NiEw5",
        "outputId": "01176a5e-6dc8-4c33-8e92-b3d558863a4c"
      },
      "outputs": [
        {
          "data": {
            "application/vnd.plotly.v1+json": {
              "config": {
                "plotlyServerURL": "https://plot.ly"
              },
              "data": [
                {
                  "alignmentgroup": "True",
                  "hovertemplate": "x=%{x}<br>y=%{y}<extra></extra>",
                  "legendgroup": "",
                  "marker": {
                    "color": "#636efa",
                    "pattern": {
                      "shape": ""
                    }
                  },
                  "name": "",
                  "offsetgroup": "",
                  "orientation": "v",
                  "showlegend": false,
                  "textposition": "auto",
                  "type": "bar",
                  "x": [
                    "NAmes",
                    "CollgCr",
                    "OldTown",
                    "Edwards",
                    "Somerst",
                    "Gilbert",
                    "NridgHt",
                    "Sawyer",
                    "NWAmes",
                    "SawyerW",
                    "BrkSide",
                    "Crawfor",
                    "Mitchel",
                    "NoRidge",
                    "Timber",
                    "IDOTRR",
                    "ClearCr",
                    "StoneBr",
                    "SWISU",
                    "MeadowV",
                    "Blmngtn",
                    "BrDale",
                    "Veenker",
                    "NPkVill",
                    "Blueste"
                  ],
                  "xaxis": "x",
                  "y": [
                    194870.88235294117,
                    137500,
                    104493.75,
                    124834.05172413793,
                    212565.42857142858,
                    197965.77333333335,
                    210624.72549019608,
                    128219.7,
                    192854.50632911394,
                    100123.78378378379,
                    98576.4705882353,
                    156270.1224489796,
                    145847.08,
                    142694.44444444444,
                    189050.0684931507,
                    335295.31707317074,
                    316270.6233766234,
                    128225.30088495575,
                    142591.36,
                    136793.13513513515,
                    186555.7966101695,
                    225379.83720930232,
                    310499,
                    242247.44736842104,
                    238772.72727272726
                  ],
                  "yaxis": "y"
                }
              ],
              "layout": {
                "barmode": "relative",
                "legend": {
                  "tracegroupgap": 0
                },
                "template": {
                  "data": {
                    "bar": [
                      {
                        "error_x": {
                          "color": "#2a3f5f"
                        },
                        "error_y": {
                          "color": "#2a3f5f"
                        },
                        "marker": {
                          "line": {
                            "color": "#E5ECF6",
                            "width": 0.5
                          },
                          "pattern": {
                            "fillmode": "overlay",
                            "size": 10,
                            "solidity": 0.2
                          }
                        },
                        "type": "bar"
                      }
                    ],
                    "barpolar": [
                      {
                        "marker": {
                          "line": {
                            "color": "#E5ECF6",
                            "width": 0.5
                          },
                          "pattern": {
                            "fillmode": "overlay",
                            "size": 10,
                            "solidity": 0.2
                          }
                        },
                        "type": "barpolar"
                      }
                    ],
                    "carpet": [
                      {
                        "aaxis": {
                          "endlinecolor": "#2a3f5f",
                          "gridcolor": "white",
                          "linecolor": "white",
                          "minorgridcolor": "white",
                          "startlinecolor": "#2a3f5f"
                        },
                        "baxis": {
                          "endlinecolor": "#2a3f5f",
                          "gridcolor": "white",
                          "linecolor": "white",
                          "minorgridcolor": "white",
                          "startlinecolor": "#2a3f5f"
                        },
                        "type": "carpet"
                      }
                    ],
                    "choropleth": [
                      {
                        "colorbar": {
                          "outlinewidth": 0,
                          "ticks": ""
                        },
                        "type": "choropleth"
                      }
                    ],
                    "contour": [
                      {
                        "colorbar": {
                          "outlinewidth": 0,
                          "ticks": ""
                        },
                        "colorscale": [
                          [
                            0,
                            "#0d0887"
                          ],
                          [
                            0.1111111111111111,
                            "#46039f"
                          ],
                          [
                            0.2222222222222222,
                            "#7201a8"
                          ],
                          [
                            0.3333333333333333,
                            "#9c179e"
                          ],
                          [
                            0.4444444444444444,
                            "#bd3786"
                          ],
                          [
                            0.5555555555555556,
                            "#d8576b"
                          ],
                          [
                            0.6666666666666666,
                            "#ed7953"
                          ],
                          [
                            0.7777777777777778,
                            "#fb9f3a"
                          ],
                          [
                            0.8888888888888888,
                            "#fdca26"
                          ],
                          [
                            1,
                            "#f0f921"
                          ]
                        ],
                        "type": "contour"
                      }
                    ],
                    "contourcarpet": [
                      {
                        "colorbar": {
                          "outlinewidth": 0,
                          "ticks": ""
                        },
                        "type": "contourcarpet"
                      }
                    ],
                    "heatmap": [
                      {
                        "colorbar": {
                          "outlinewidth": 0,
                          "ticks": ""
                        },
                        "colorscale": [
                          [
                            0,
                            "#0d0887"
                          ],
                          [
                            0.1111111111111111,
                            "#46039f"
                          ],
                          [
                            0.2222222222222222,
                            "#7201a8"
                          ],
                          [
                            0.3333333333333333,
                            "#9c179e"
                          ],
                          [
                            0.4444444444444444,
                            "#bd3786"
                          ],
                          [
                            0.5555555555555556,
                            "#d8576b"
                          ],
                          [
                            0.6666666666666666,
                            "#ed7953"
                          ],
                          [
                            0.7777777777777778,
                            "#fb9f3a"
                          ],
                          [
                            0.8888888888888888,
                            "#fdca26"
                          ],
                          [
                            1,
                            "#f0f921"
                          ]
                        ],
                        "type": "heatmap"
                      }
                    ],
                    "heatmapgl": [
                      {
                        "colorbar": {
                          "outlinewidth": 0,
                          "ticks": ""
                        },
                        "colorscale": [
                          [
                            0,
                            "#0d0887"
                          ],
                          [
                            0.1111111111111111,
                            "#46039f"
                          ],
                          [
                            0.2222222222222222,
                            "#7201a8"
                          ],
                          [
                            0.3333333333333333,
                            "#9c179e"
                          ],
                          [
                            0.4444444444444444,
                            "#bd3786"
                          ],
                          [
                            0.5555555555555556,
                            "#d8576b"
                          ],
                          [
                            0.6666666666666666,
                            "#ed7953"
                          ],
                          [
                            0.7777777777777778,
                            "#fb9f3a"
                          ],
                          [
                            0.8888888888888888,
                            "#fdca26"
                          ],
                          [
                            1,
                            "#f0f921"
                          ]
                        ],
                        "type": "heatmapgl"
                      }
                    ],
                    "histogram": [
                      {
                        "marker": {
                          "pattern": {
                            "fillmode": "overlay",
                            "size": 10,
                            "solidity": 0.2
                          }
                        },
                        "type": "histogram"
                      }
                    ],
                    "histogram2d": [
                      {
                        "colorbar": {
                          "outlinewidth": 0,
                          "ticks": ""
                        },
                        "colorscale": [
                          [
                            0,
                            "#0d0887"
                          ],
                          [
                            0.1111111111111111,
                            "#46039f"
                          ],
                          [
                            0.2222222222222222,
                            "#7201a8"
                          ],
                          [
                            0.3333333333333333,
                            "#9c179e"
                          ],
                          [
                            0.4444444444444444,
                            "#bd3786"
                          ],
                          [
                            0.5555555555555556,
                            "#d8576b"
                          ],
                          [
                            0.6666666666666666,
                            "#ed7953"
                          ],
                          [
                            0.7777777777777778,
                            "#fb9f3a"
                          ],
                          [
                            0.8888888888888888,
                            "#fdca26"
                          ],
                          [
                            1,
                            "#f0f921"
                          ]
                        ],
                        "type": "histogram2d"
                      }
                    ],
                    "histogram2dcontour": [
                      {
                        "colorbar": {
                          "outlinewidth": 0,
                          "ticks": ""
                        },
                        "colorscale": [
                          [
                            0,
                            "#0d0887"
                          ],
                          [
                            0.1111111111111111,
                            "#46039f"
                          ],
                          [
                            0.2222222222222222,
                            "#7201a8"
                          ],
                          [
                            0.3333333333333333,
                            "#9c179e"
                          ],
                          [
                            0.4444444444444444,
                            "#bd3786"
                          ],
                          [
                            0.5555555555555556,
                            "#d8576b"
                          ],
                          [
                            0.6666666666666666,
                            "#ed7953"
                          ],
                          [
                            0.7777777777777778,
                            "#fb9f3a"
                          ],
                          [
                            0.8888888888888888,
                            "#fdca26"
                          ],
                          [
                            1,
                            "#f0f921"
                          ]
                        ],
                        "type": "histogram2dcontour"
                      }
                    ],
                    "mesh3d": [
                      {
                        "colorbar": {
                          "outlinewidth": 0,
                          "ticks": ""
                        },
                        "type": "mesh3d"
                      }
                    ],
                    "parcoords": [
                      {
                        "line": {
                          "colorbar": {
                            "outlinewidth": 0,
                            "ticks": ""
                          }
                        },
                        "type": "parcoords"
                      }
                    ],
                    "pie": [
                      {
                        "automargin": true,
                        "type": "pie"
                      }
                    ],
                    "scatter": [
                      {
                        "fillpattern": {
                          "fillmode": "overlay",
                          "size": 10,
                          "solidity": 0.2
                        },
                        "type": "scatter"
                      }
                    ],
                    "scatter3d": [
                      {
                        "line": {
                          "colorbar": {
                            "outlinewidth": 0,
                            "ticks": ""
                          }
                        },
                        "marker": {
                          "colorbar": {
                            "outlinewidth": 0,
                            "ticks": ""
                          }
                        },
                        "type": "scatter3d"
                      }
                    ],
                    "scattercarpet": [
                      {
                        "marker": {
                          "colorbar": {
                            "outlinewidth": 0,
                            "ticks": ""
                          }
                        },
                        "type": "scattercarpet"
                      }
                    ],
                    "scattergeo": [
                      {
                        "marker": {
                          "colorbar": {
                            "outlinewidth": 0,
                            "ticks": ""
                          }
                        },
                        "type": "scattergeo"
                      }
                    ],
                    "scattergl": [
                      {
                        "marker": {
                          "colorbar": {
                            "outlinewidth": 0,
                            "ticks": ""
                          }
                        },
                        "type": "scattergl"
                      }
                    ],
                    "scattermapbox": [
                      {
                        "marker": {
                          "colorbar": {
                            "outlinewidth": 0,
                            "ticks": ""
                          }
                        },
                        "type": "scattermapbox"
                      }
                    ],
                    "scatterpolar": [
                      {
                        "marker": {
                          "colorbar": {
                            "outlinewidth": 0,
                            "ticks": ""
                          }
                        },
                        "type": "scatterpolar"
                      }
                    ],
                    "scatterpolargl": [
                      {
                        "marker": {
                          "colorbar": {
                            "outlinewidth": 0,
                            "ticks": ""
                          }
                        },
                        "type": "scatterpolargl"
                      }
                    ],
                    "scatterternary": [
                      {
                        "marker": {
                          "colorbar": {
                            "outlinewidth": 0,
                            "ticks": ""
                          }
                        },
                        "type": "scatterternary"
                      }
                    ],
                    "surface": [
                      {
                        "colorbar": {
                          "outlinewidth": 0,
                          "ticks": ""
                        },
                        "colorscale": [
                          [
                            0,
                            "#0d0887"
                          ],
                          [
                            0.1111111111111111,
                            "#46039f"
                          ],
                          [
                            0.2222222222222222,
                            "#7201a8"
                          ],
                          [
                            0.3333333333333333,
                            "#9c179e"
                          ],
                          [
                            0.4444444444444444,
                            "#bd3786"
                          ],
                          [
                            0.5555555555555556,
                            "#d8576b"
                          ],
                          [
                            0.6666666666666666,
                            "#ed7953"
                          ],
                          [
                            0.7777777777777778,
                            "#fb9f3a"
                          ],
                          [
                            0.8888888888888888,
                            "#fdca26"
                          ],
                          [
                            1,
                            "#f0f921"
                          ]
                        ],
                        "type": "surface"
                      }
                    ],
                    "table": [
                      {
                        "cells": {
                          "fill": {
                            "color": "#EBF0F8"
                          },
                          "line": {
                            "color": "white"
                          }
                        },
                        "header": {
                          "fill": {
                            "color": "#C8D4E3"
                          },
                          "line": {
                            "color": "white"
                          }
                        },
                        "type": "table"
                      }
                    ]
                  },
                  "layout": {
                    "annotationdefaults": {
                      "arrowcolor": "#2a3f5f",
                      "arrowhead": 0,
                      "arrowwidth": 1
                    },
                    "autotypenumbers": "strict",
                    "coloraxis": {
                      "colorbar": {
                        "outlinewidth": 0,
                        "ticks": ""
                      }
                    },
                    "colorscale": {
                      "diverging": [
                        [
                          0,
                          "#8e0152"
                        ],
                        [
                          0.1,
                          "#c51b7d"
                        ],
                        [
                          0.2,
                          "#de77ae"
                        ],
                        [
                          0.3,
                          "#f1b6da"
                        ],
                        [
                          0.4,
                          "#fde0ef"
                        ],
                        [
                          0.5,
                          "#f7f7f7"
                        ],
                        [
                          0.6,
                          "#e6f5d0"
                        ],
                        [
                          0.7,
                          "#b8e186"
                        ],
                        [
                          0.8,
                          "#7fbc41"
                        ],
                        [
                          0.9,
                          "#4d9221"
                        ],
                        [
                          1,
                          "#276419"
                        ]
                      ],
                      "sequential": [
                        [
                          0,
                          "#0d0887"
                        ],
                        [
                          0.1111111111111111,
                          "#46039f"
                        ],
                        [
                          0.2222222222222222,
                          "#7201a8"
                        ],
                        [
                          0.3333333333333333,
                          "#9c179e"
                        ],
                        [
                          0.4444444444444444,
                          "#bd3786"
                        ],
                        [
                          0.5555555555555556,
                          "#d8576b"
                        ],
                        [
                          0.6666666666666666,
                          "#ed7953"
                        ],
                        [
                          0.7777777777777778,
                          "#fb9f3a"
                        ],
                        [
                          0.8888888888888888,
                          "#fdca26"
                        ],
                        [
                          1,
                          "#f0f921"
                        ]
                      ],
                      "sequentialminus": [
                        [
                          0,
                          "#0d0887"
                        ],
                        [
                          0.1111111111111111,
                          "#46039f"
                        ],
                        [
                          0.2222222222222222,
                          "#7201a8"
                        ],
                        [
                          0.3333333333333333,
                          "#9c179e"
                        ],
                        [
                          0.4444444444444444,
                          "#bd3786"
                        ],
                        [
                          0.5555555555555556,
                          "#d8576b"
                        ],
                        [
                          0.6666666666666666,
                          "#ed7953"
                        ],
                        [
                          0.7777777777777778,
                          "#fb9f3a"
                        ],
                        [
                          0.8888888888888888,
                          "#fdca26"
                        ],
                        [
                          1,
                          "#f0f921"
                        ]
                      ]
                    },
                    "colorway": [
                      "#636efa",
                      "#EF553B",
                      "#00cc96",
                      "#ab63fa",
                      "#FFA15A",
                      "#19d3f3",
                      "#FF6692",
                      "#B6E880",
                      "#FF97FF",
                      "#FECB52"
                    ],
                    "font": {
                      "color": "#2a3f5f"
                    },
                    "geo": {
                      "bgcolor": "white",
                      "lakecolor": "white",
                      "landcolor": "#E5ECF6",
                      "showlakes": true,
                      "showland": true,
                      "subunitcolor": "white"
                    },
                    "hoverlabel": {
                      "align": "left"
                    },
                    "hovermode": "closest",
                    "mapbox": {
                      "style": "light"
                    },
                    "paper_bgcolor": "white",
                    "plot_bgcolor": "#E5ECF6",
                    "polar": {
                      "angularaxis": {
                        "gridcolor": "white",
                        "linecolor": "white",
                        "ticks": ""
                      },
                      "bgcolor": "#E5ECF6",
                      "radialaxis": {
                        "gridcolor": "white",
                        "linecolor": "white",
                        "ticks": ""
                      }
                    },
                    "scene": {
                      "xaxis": {
                        "backgroundcolor": "#E5ECF6",
                        "gridcolor": "white",
                        "gridwidth": 2,
                        "linecolor": "white",
                        "showbackground": true,
                        "ticks": "",
                        "zerolinecolor": "white"
                      },
                      "yaxis": {
                        "backgroundcolor": "#E5ECF6",
                        "gridcolor": "white",
                        "gridwidth": 2,
                        "linecolor": "white",
                        "showbackground": true,
                        "ticks": "",
                        "zerolinecolor": "white"
                      },
                      "zaxis": {
                        "backgroundcolor": "#E5ECF6",
                        "gridcolor": "white",
                        "gridwidth": 2,
                        "linecolor": "white",
                        "showbackground": true,
                        "ticks": "",
                        "zerolinecolor": "white"
                      }
                    },
                    "shapedefaults": {
                      "line": {
                        "color": "#2a3f5f"
                      }
                    },
                    "ternary": {
                      "aaxis": {
                        "gridcolor": "white",
                        "linecolor": "white",
                        "ticks": ""
                      },
                      "baxis": {
                        "gridcolor": "white",
                        "linecolor": "white",
                        "ticks": ""
                      },
                      "bgcolor": "#E5ECF6",
                      "caxis": {
                        "gridcolor": "white",
                        "linecolor": "white",
                        "ticks": ""
                      }
                    },
                    "title": {
                      "x": 0.05
                    },
                    "xaxis": {
                      "automargin": true,
                      "gridcolor": "white",
                      "linecolor": "white",
                      "ticks": "",
                      "title": {
                        "standoff": 15
                      },
                      "zerolinecolor": "white",
                      "zerolinewidth": 2
                    },
                    "yaxis": {
                      "automargin": true,
                      "gridcolor": "white",
                      "linecolor": "white",
                      "ticks": "",
                      "title": {
                        "standoff": 15
                      },
                      "zerolinecolor": "white",
                      "zerolinewidth": 2
                    }
                  }
                },
                "title": {
                  "text": "Average Sale Price by Neigborhood"
                },
                "xaxis": {
                  "anchor": "y",
                  "domain": [
                    0,
                    1
                  ],
                  "title": {
                    "text": "x"
                  }
                },
                "yaxis": {
                  "anchor": "x",
                  "domain": [
                    0,
                    1
                  ],
                  "title": {
                    "text": "y"
                  }
                }
              }
            }
          },
          "metadata": {},
          "output_type": "display_data"
        }
      ],
      "source": [
        "fig = px.bar(cat_train, x=neigborhood.index, y=neigborhood_avgprice , title='Average Sale Price by Neigborhood')\n",
        "fig.show()"
      ]
    },
    {
      "cell_type": "code",
      "execution_count": 20,
      "metadata": {
        "colab": {
          "base_uri": "https://localhost:8080/",
          "height": 542
        },
        "id": "AlZy7lTqkX1x",
        "outputId": "9dd143f1-f833-416e-bbee-62b5f31a4695"
      },
      "outputs": [
        {
          "data": {
            "application/vnd.plotly.v1+json": {
              "config": {
                "plotlyServerURL": "https://plot.ly"
              },
              "data": [
                {
                  "alignmentgroup": "True",
                  "hovertemplate": "Neighborhood=%{x}<br>SalePrice=%{y}<extra></extra>",
                  "legendgroup": "",
                  "marker": {
                    "color": "#636efa"
                  },
                  "name": "",
                  "notched": false,
                  "offsetgroup": "",
                  "orientation": "v",
                  "showlegend": false,
                  "type": "box",
                  "x": [
                    "CollgCr",
                    "Veenker",
                    "CollgCr",
                    "Crawfor",
                    "NoRidge",
                    "Mitchel",
                    "Somerst",
                    "NWAmes",
                    "OldTown",
                    "BrkSide",
                    "Sawyer",
                    "NridgHt",
                    "Sawyer",
                    "CollgCr",
                    "NAmes",
                    "BrkSide",
                    "NAmes",
                    "Sawyer",
                    "SawyerW",
                    "NAmes",
                    "NridgHt",
                    "IDOTRR",
                    "CollgCr",
                    "MeadowV",
                    "Sawyer",
                    "NridgHt",
                    "NAmes",
                    "NridgHt",
                    "NAmes",
                    "BrkSide",
                    "IDOTRR",
                    "Sawyer",
                    "CollgCr",
                    "NAmes",
                    "NridgHt",
                    "NridgHt",
                    "CollgCr",
                    "NAmes",
                    "NAmes",
                    "Edwards",
                    "NAmes",
                    "Timber",
                    "SawyerW",
                    "CollgCr",
                    "NAmes",
                    "NridgHt",
                    "Mitchel",
                    "Somerst",
                    "OldTown",
                    "Sawyer",
                    "Gilbert",
                    "BrkSide",
                    "IDOTRR",
                    "Veenker",
                    "NAmes",
                    "NAmes",
                    "Somerst",
                    "CollgCr",
                    "StoneBr",
                    "CollgCr",
                    "SawyerW",
                    "IDOTRR",
                    "NridgHt",
                    "OldTown",
                    "CollgCr",
                    "NridgHt",
                    "NAmes",
                    "CollgCr",
                    "OldTown",
                    "ClearCr",
                    "NAmes",
                    "Mitchel",
                    "Gilbert",
                    "NAmes",
                    "OldTown",
                    "MeadowV",
                    "NAmes",
                    "BrkSide",
                    "Sawyer",
                    "OldTown",
                    "NAmes",
                    "Mitchel",
                    "Somerst",
                    "NAmes",
                    "Gilbert",
                    "NoRidge",
                    "Gilbert",
                    "Somerst",
                    "IDOTRR",
                    "CollgCr",
                    "NAmes",
                    "NAmes",
                    "Crawfor",
                    "OldTown",
                    "CollgCr",
                    "Gilbert",
                    "CollgCr",
                    "Edwards",
                    "Edwards",
                    "NAmes",
                    "NWAmes",
                    "SawyerW",
                    "SawyerW",
                    "CollgCr",
                    "IDOTRR",
                    "Somerst",
                    "OldTown",
                    "OldTown",
                    "IDOTRR",
                    "NWAmes",
                    "Edwards",
                    "Gilbert",
                    "CollgCr",
                    "Crawfor",
                    "Crawfor",
                    "Somerst",
                    "Sawyer",
                    "Edwards",
                    "SawyerW",
                    "CollgCr",
                    "ClearCr",
                    "IDOTRR",
                    "NAmes",
                    "SawyerW",
                    "NWAmes",
                    "IDOTRR",
                    "NPkVill",
                    "OldTown",
                    "NAmes",
                    "NAmes",
                    "NAmes",
                    "Gilbert",
                    "NAmes",
                    "Timber",
                    "Sawyer",
                    "NWAmes",
                    "NAmes",
                    "Mitchel",
                    "CollgCr",
                    "CollgCr",
                    "NAmes",
                    "CollgCr",
                    "NAmes",
                    "CollgCr",
                    "Sawyer",
                    "Edwards",
                    "BrkSide",
                    "Gilbert",
                    "SawyerW",
                    "BrkSide",
                    "CollgCr",
                    "NridgHt",
                    "NWAmes",
                    "ClearCr",
                    "OldTown",
                    "Edwards",
                    "NAmes",
                    "Timber",
                    "Somerst",
                    "Gilbert",
                    "Veenker",
                    "NridgHt",
                    "NridgHt",
                    "OldTown",
                    "OldTown",
                    "Edwards",
                    "ClearCr",
                    "NridgHt",
                    "Gilbert",
                    "Timber",
                    "OldTown",
                    "NAmes",
                    "StoneBr",
                    "NAmes",
                    "Timber",
                    "Edwards",
                    "ClearCr",
                    "Sawyer",
                    "StoneBr",
                    "OldTown",
                    "Somerst",
                    "Crawfor",
                    "Edwards",
                    "OldTown",
                    "BrkSide",
                    "OldTown",
                    "Mitchel",
                    "OldTown",
                    "SawyerW",
                    "StoneBr",
                    "Crawfor",
                    "NAmes",
                    "CollgCr",
                    "Edwards",
                    "CollgCr",
                    "NPkVill",
                    "Somerst",
                    "NAmes",
                    "OldTown",
                    "NridgHt",
                    "Edwards",
                    "Mitchel",
                    "OldTown",
                    "CollgCr",
                    "OldTown",
                    "Gilbert",
                    "Sawyer",
                    "NAmes",
                    "SawyerW",
                    "NAmes",
                    "Edwards",
                    "Edwards",
                    "Somerst",
                    "CollgCr",
                    "CollgCr",
                    "NAmes",
                    "CollgCr",
                    "OldTown",
                    "Crawfor",
                    "Blmngtn",
                    "CollgCr",
                    "Gilbert",
                    "NWAmes",
                    "NAmes",
                    "NridgHt",
                    "BrDale",
                    "NoRidge",
                    "BrDale",
                    "Sawyer",
                    "Blmngtn",
                    "NAmes",
                    "NoRidge",
                    "BrDale",
                    "CollgCr",
                    "Gilbert",
                    "BrDale",
                    "CollgCr",
                    "SawyerW",
                    "NridgHt",
                    "Edwards",
                    "Somerst",
                    "OldTown",
                    "OldTown",
                    "SawyerW",
                    "SawyerW",
                    "NWAmes",
                    "OldTown",
                    "NAmes",
                    "CollgCr",
                    "ClearCr",
                    "BrkSide",
                    "Crawfor",
                    "SawyerW",
                    "NAmes",
                    "NAmes",
                    "Gilbert",
                    "Somerst",
                    "CollgCr",
                    "CollgCr",
                    "OldTown",
                    "NAmes",
                    "CollgCr",
                    "Sawyer",
                    "OldTown",
                    "OldTown",
                    "NWAmes",
                    "Gilbert",
                    "SWISU",
                    "IDOTRR",
                    "Edwards",
                    "Somerst",
                    "ClearCr",
                    "NoRidge",
                    "NAmes",
                    "Mitchel",
                    "BrkSide",
                    "Mitchel",
                    "Gilbert",
                    "NridgHt",
                    "ClearCr",
                    "SawyerW",
                    "Somerst",
                    "NridgHt",
                    "Somerst",
                    "SawyerW",
                    "Somerst",
                    "NAmes",
                    "NAmes",
                    "Sawyer",
                    "BrkSide",
                    "CollgCr",
                    "SWISU",
                    "Edwards",
                    "NWAmes",
                    "NAmes",
                    "Mitchel",
                    "IDOTRR",
                    "Somerst",
                    "NWAmes",
                    "Crawfor",
                    "Crawfor",
                    "CollgCr",
                    "CollgCr",
                    "CollgCr",
                    "OldTown",
                    "CollgCr",
                    "SawyerW",
                    "IDOTRR",
                    "Edwards",
                    "NridgHt",
                    "Gilbert",
                    "NAmes",
                    "OldTown",
                    "Timber",
                    "OldTown",
                    "Gilbert",
                    "NWAmes",
                    "Somerst",
                    "NoRidge",
                    "NWAmes",
                    "NridgHt",
                    "NridgHt",
                    "SawyerW",
                    "OldTown",
                    "NAmes",
                    "IDOTRR",
                    "Veenker",
                    "NAmes",
                    "BrkSide",
                    "IDOTRR",
                    "NAmes",
                    "NAmes",
                    "NridgHt",
                    "NridgHt",
                    "Gilbert",
                    "Timber",
                    "StoneBr",
                    "CollgCr",
                    "NWAmes",
                    "NAmes",
                    "Timber",
                    "SawyerW",
                    "NAmes",
                    "NridgHt",
                    "MeadowV",
                    "BrkSide",
                    "NAmes",
                    "NAmes",
                    "NridgHt",
                    "NridgHt",
                    "NridgHt",
                    "ClearCr",
                    "Edwards",
                    "OldTown",
                    "SWISU",
                    "CollgCr",
                    "Gilbert",
                    "MeadowV",
                    "ClearCr",
                    "NoRidge",
                    "Mitchel",
                    "BrkSide",
                    "Edwards",
                    "BrDale",
                    "NWAmes",
                    "IDOTRR",
                    "NAmes",
                    "NAmes",
                    "NAmes",
                    "NAmes",
                    "Gilbert",
                    "ClearCr",
                    "SawyerW",
                    "NAmes",
                    "CollgCr",
                    "Edwards",
                    "CollgCr",
                    "Somerst",
                    "StoneBr",
                    "Gilbert",
                    "SWISU",
                    "Somerst",
                    "CollgCr",
                    "SawyerW",
                    "ClearCr",
                    "Blmngtn",
                    "Edwards",
                    "Edwards",
                    "CollgCr",
                    "NridgHt",
                    "Edwards",
                    "Mitchel",
                    "NAmes",
                    "BrkSide",
                    "OldTown",
                    "Edwards",
                    "CollgCr",
                    "NAmes",
                    "IDOTRR",
                    "Somerst",
                    "Veenker",
                    "CollgCr",
                    "Sawyer",
                    "NoRidge",
                    "Gilbert",
                    "Sawyer",
                    "SWISU",
                    "Crawfor",
                    "NridgHt",
                    "Somerst",
                    "Edwards",
                    "Gilbert",
                    "Somerst",
                    "OldTown",
                    "SawyerW",
                    "Gilbert",
                    "Sawyer",
                    "Crawfor",
                    "Edwards",
                    "NAmes",
                    "Mitchel",
                    "NWAmes",
                    "Mitchel",
                    "NoRidge",
                    "NAmes",
                    "OldTown",
                    "SawyerW",
                    "NAmes",
                    "CollgCr",
                    "Timber",
                    "BrDale",
                    "OldTown",
                    "BrDale",
                    "Gilbert",
                    "MeadowV",
                    "CollgCr",
                    "OldTown",
                    "BrkSide",
                    "Crawfor",
                    "Edwards",
                    "NridgHt",
                    "Edwards",
                    "BrkSide",
                    "Blmngtn",
                    "CollgCr",
                    "Edwards",
                    "NAmes",
                    "Gilbert",
                    "IDOTRR",
                    "OldTown",
                    "OldTown",
                    "ClearCr",
                    "Timber",
                    "Somerst",
                    "Mitchel",
                    "NWAmes",
                    "OldTown",
                    "ClearCr",
                    "OldTown",
                    "BrkSide",
                    "Somerst",
                    "SWISU",
                    "Sawyer",
                    "Crawfor",
                    "CollgCr",
                    "Blmngtn",
                    "NAmes",
                    "NAmes",
                    "NridgHt",
                    "SawyerW",
                    "StoneBr",
                    "NWAmes",
                    "Edwards",
                    "NridgHt",
                    "StoneBr",
                    "Sawyer",
                    "CollgCr",
                    "NridgHt",
                    "CollgCr",
                    "OldTown",
                    "NridgHt",
                    "NridgHt",
                    "OldTown",
                    "Mitchel",
                    "Sawyer",
                    "NAmes",
                    "NAmes",
                    "NWAmes",
                    "OldTown",
                    "MeadowV",
                    "MeadowV",
                    "NAmes",
                    "Gilbert",
                    "NAmes",
                    "OldTown",
                    "IDOTRR",
                    "NoRidge",
                    "BrkSide",
                    "Sawyer",
                    "NAmes",
                    "BrDale",
                    "Somerst",
                    "Edwards",
                    "Crawfor",
                    "NPkVill",
                    "OldTown",
                    "SawyerW",
                    "Somerst",
                    "OldTown",
                    "NAmes",
                    "NAmes",
                    "NridgHt",
                    "NAmes",
                    "Mitchel",
                    "Crawfor",
                    "NridgHt",
                    "NWAmes",
                    "NoRidge",
                    "CollgCr",
                    "Crawfor",
                    "OldTown",
                    "NAmes",
                    "BrkSide",
                    "Edwards",
                    "NoRidge",
                    "Somerst",
                    "NAmes",
                    "NridgHt",
                    "Edwards",
                    "Crawfor",
                    "Timber",
                    "BrkSide",
                    "NAmes",
                    "BrkSide",
                    "Gilbert",
                    "Edwards",
                    "CollgCr",
                    "NAmes",
                    "Sawyer",
                    "CollgCr",
                    "Timber",
                    "NoRidge",
                    "NWAmes",
                    "NAmes",
                    "Gilbert",
                    "NWAmes",
                    "BrkSide",
                    "Mitchel",
                    "OldTown",
                    "Somerst",
                    "NPkVill",
                    "OldTown",
                    "NridgHt",
                    "Edwards",
                    "NridgHt",
                    "BrkSide",
                    "NAmes",
                    "IDOTRR",
                    "Gilbert",
                    "Blmngtn",
                    "Sawyer",
                    "Mitchel",
                    "Edwards",
                    "Edwards",
                    "NoRidge",
                    "SWISU",
                    "StoneBr",
                    "NridgHt",
                    "SawyerW",
                    "NAmes",
                    "NAmes",
                    "NAmes",
                    "Timber",
                    "Gilbert",
                    "NAmes",
                    "NAmes",
                    "SWISU",
                    "Sawyer",
                    "Somerst",
                    "OldTown",
                    "NAmes",
                    "NridgHt",
                    "Edwards",
                    "OldTown",
                    "BrkSide",
                    "Timber",
                    "BrkSide",
                    "Sawyer",
                    "ClearCr",
                    "BrkSide",
                    "CollgCr",
                    "NridgHt",
                    "Mitchel",
                    "CollgCr",
                    "CollgCr",
                    "StoneBr",
                    "OldTown",
                    "Blmngtn",
                    "Crawfor",
                    "Blueste",
                    "NridgHt",
                    "IDOTRR",
                    "SawyerW",
                    "Somerst",
                    "CollgCr",
                    "NAmes",
                    "CollgCr",
                    "Edwards",
                    "Crawfor",
                    "Sawyer",
                    "CollgCr",
                    "NWAmes",
                    "CollgCr",
                    "Mitchel",
                    "MeadowV",
                    "NAmes",
                    "Gilbert",
                    "NAmes",
                    "NridgHt",
                    "Timber",
                    "Edwards",
                    "NWAmes",
                    "Sawyer",
                    "Somerst",
                    "NWAmes",
                    "NAmes",
                    "NAmes",
                    "NAmes",
                    "NAmes",
                    "NAmes",
                    "OldTown",
                    "NridgHt",
                    "NWAmes",
                    "NAmes",
                    "OldTown",
                    "SWISU",
                    "BrkSide",
                    "OldTown",
                    "Edwards",
                    "Blmngtn",
                    "NridgHt",
                    "Somerst",
                    "NAmes",
                    "NWAmes",
                    "Somerst",
                    "NAmes",
                    "NAmes",
                    "Edwards",
                    "NAmes",
                    "MeadowV",
                    "Somerst",
                    "Edwards",
                    "CollgCr",
                    "IDOTRR",
                    "NoRidge",
                    "BrDale",
                    "NAmes",
                    "Crawfor",
                    "NAmes",
                    "Edwards",
                    "NWAmes",
                    "NoRidge",
                    "NAmes",
                    "Edwards",
                    "Somerst",
                    "Gilbert",
                    "NAmes",
                    "SawyerW",
                    "Sawyer",
                    "Crawfor",
                    "CollgCr",
                    "Edwards",
                    "Veenker",
                    "Crawfor",
                    "NAmes",
                    "NPkVill",
                    "OldTown",
                    "OldTown",
                    "StoneBr",
                    "Sawyer",
                    "SawyerW",
                    "SWISU",
                    "ClearCr",
                    "CollgCr",
                    "NoRidge",
                    "StoneBr",
                    "Somerst",
                    "Somerst",
                    "StoneBr",
                    "NridgHt",
                    "CollgCr",
                    "NoRidge",
                    "Timber",
                    "OldTown",
                    "BrkSide",
                    "Timber",
                    "BrkSide",
                    "Edwards",
                    "Sawyer",
                    "Somerst",
                    "Timber",
                    "NWAmes",
                    "StoneBr",
                    "OldTown",
                    "CollgCr",
                    "IDOTRR",
                    "ClearCr",
                    "NridgHt",
                    "Gilbert",
                    "Sawyer",
                    "BrkSide",
                    "IDOTRR",
                    "StoneBr",
                    "BrkSide",
                    "Sawyer",
                    "NWAmes",
                    "OldTown",
                    "NWAmes",
                    "NoRidge",
                    "CollgCr",
                    "StoneBr",
                    "CollgCr",
                    "NAmes",
                    "Edwards",
                    "Edwards",
                    "NAmes",
                    "Crawfor",
                    "CollgCr",
                    "NAmes",
                    "IDOTRR",
                    "StoneBr",
                    "Timber",
                    "CollgCr",
                    "Sawyer",
                    "Sawyer",
                    "OldTown",
                    "NAmes",
                    "Gilbert",
                    "Edwards",
                    "CollgCr",
                    "OldTown",
                    "Sawyer",
                    "SawyerW",
                    "Sawyer",
                    "StoneBr",
                    "NWAmes",
                    "Gilbert",
                    "OldTown",
                    "NoRidge",
                    "Edwards",
                    "OldTown",
                    "Gilbert",
                    "CollgCr",
                    "NridgHt",
                    "NAmes",
                    "Somerst",
                    "CollgCr",
                    "Sawyer",
                    "Somerst",
                    "NoRidge",
                    "NAmes",
                    "BrkSide",
                    "Somerst",
                    "NoRidge",
                    "Veenker",
                    "Somerst",
                    "NWAmes",
                    "Mitchel",
                    "CollgCr",
                    "StoneBr",
                    "Sawyer",
                    "Edwards",
                    "Edwards",
                    "NAmes",
                    "NridgHt",
                    "Mitchel",
                    "CollgCr",
                    "Sawyer",
                    "SawyerW",
                    "Mitchel",
                    "Gilbert",
                    "SawyerW",
                    "CollgCr",
                    "Mitchel",
                    "OldTown",
                    "NWAmes",
                    "OldTown",
                    "SawyerW",
                    "OldTown",
                    "ClearCr",
                    "Blmngtn",
                    "Mitchel",
                    "NoRidge",
                    "Somerst",
                    "Gilbert",
                    "SawyerW",
                    "Sawyer",
                    "NAmes",
                    "NridgHt",
                    "SWISU",
                    "ClearCr",
                    "IDOTRR",
                    "CollgCr",
                    "NridgHt",
                    "NAmes",
                    "Somerst",
                    "NAmes",
                    "BrkSide",
                    "NAmes",
                    "OldTown",
                    "NWAmes",
                    "CollgCr",
                    "IDOTRR",
                    "NAmes",
                    "Edwards",
                    "CollgCr",
                    "NAmes",
                    "Mitchel",
                    "ClearCr",
                    "NridgHt",
                    "CollgCr",
                    "OldTown",
                    "Gilbert",
                    "SWISU",
                    "Somerst",
                    "NridgHt",
                    "BrkSide",
                    "SawyerW",
                    "ClearCr",
                    "Somerst",
                    "NAmes",
                    "Somerst",
                    "CollgCr",
                    "NAmes",
                    "NAmes",
                    "Sawyer",
                    "OldTown",
                    "BrDale",
                    "CollgCr",
                    "Edwards",
                    "SWISU",
                    "OldTown",
                    "NAmes",
                    "NAmes",
                    "OldTown",
                    "Sawyer",
                    "SawyerW",
                    "CollgCr",
                    "ClearCr",
                    "Veenker",
                    "CollgCr",
                    "Blmngtn",
                    "Crawfor",
                    "NAmes",
                    "Sawyer",
                    "Sawyer",
                    "CollgCr",
                    "Gilbert",
                    "NWAmes",
                    "NWAmes",
                    "Crawfor",
                    "Sawyer",
                    "SawyerW",
                    "NAmes",
                    "Somerst",
                    "NAmes",
                    "Timber",
                    "Sawyer",
                    "Gilbert",
                    "SawyerW",
                    "NAmes",
                    "CollgCr",
                    "NAmes",
                    "NAmes",
                    "OldTown",
                    "Somerst",
                    "Mitchel",
                    "NridgHt",
                    "Sawyer",
                    "CollgCr",
                    "Edwards",
                    "Timber",
                    "Gilbert",
                    "SWISU",
                    "NAmes",
                    "Somerst",
                    "NAmes",
                    "Edwards",
                    "NAmes",
                    "NAmes",
                    "NAmes",
                    "Sawyer",
                    "Sawyer",
                    "Sawyer",
                    "SawyerW",
                    "NAmes",
                    "IDOTRR",
                    "SawyerW",
                    "NridgHt",
                    "Sawyer",
                    "NAmes",
                    "NAmes",
                    "Gilbert",
                    "Gilbert",
                    "Sawyer",
                    "NAmes",
                    "Somerst",
                    "Crawfor",
                    "Mitchel",
                    "Gilbert",
                    "NAmes",
                    "CollgCr",
                    "BrkSide",
                    "Crawfor",
                    "Somerst",
                    "MeadowV",
                    "IDOTRR",
                    "Edwards",
                    "SawyerW",
                    "NAmes",
                    "SawyerW",
                    "Edwards",
                    "Gilbert",
                    "SawyerW",
                    "NWAmes",
                    "NWAmes",
                    "NridgHt",
                    "NWAmes",
                    "CollgCr",
                    "Gilbert",
                    "Timber",
                    "NAmes",
                    "Somerst",
                    "CollgCr",
                    "NAmes",
                    "BrkSide",
                    "SawyerW",
                    "Somerst",
                    "CollgCr",
                    "ClearCr",
                    "Mitchel",
                    "Gilbert",
                    "Edwards",
                    "Mitchel",
                    "Timber",
                    "OldTown",
                    "NAmes",
                    "Timber",
                    "CollgCr",
                    "NWAmes",
                    "NAmes",
                    "SawyerW",
                    "CollgCr",
                    "Mitchel",
                    "Edwards",
                    "Crawfor",
                    "Blueste",
                    "Sawyer",
                    "CollgCr",
                    "Somerst",
                    "BrkSide",
                    "NWAmes",
                    "NPkVill",
                    "CollgCr",
                    "Timber",
                    "Gilbert",
                    "Crawfor",
                    "NAmes",
                    "OldTown",
                    "NAmes",
                    "NAmes",
                    "NridgHt",
                    "SawyerW",
                    "Somerst",
                    "BrkSide",
                    "Somerst",
                    "BrkSide",
                    "Somerst",
                    "Edwards",
                    "Sawyer",
                    "NAmes",
                    "NoRidge",
                    "Blmngtn",
                    "CollgCr",
                    "Mitchel",
                    "Edwards",
                    "OldTown",
                    "NridgHt",
                    "NWAmes",
                    "Somerst",
                    "NoRidge",
                    "OldTown",
                    "NAmes",
                    "CollgCr",
                    "NridgHt",
                    "BrkSide",
                    "NAmes",
                    "NWAmes",
                    "IDOTRR",
                    "CollgCr",
                    "Edwards",
                    "OldTown",
                    "Somerst",
                    "NWAmes",
                    "Blmngtn",
                    "CollgCr",
                    "NAmes",
                    "MeadowV",
                    "Mitchel",
                    "SWISU",
                    "Sawyer",
                    "Edwards",
                    "Crawfor",
                    "OldTown",
                    "NAmes",
                    "NWAmes",
                    "CollgCr",
                    "StoneBr",
                    "Gilbert",
                    "Blmngtn",
                    "Edwards",
                    "CollgCr",
                    "OldTown",
                    "Blmngtn",
                    "Timber",
                    "CollgCr",
                    "NAmes",
                    "Timber",
                    "NAmes",
                    "BrDale",
                    "SWISU",
                    "SWISU",
                    "NoRidge",
                    "CollgCr",
                    "Crawfor",
                    "Edwards",
                    "Timber",
                    "CollgCr",
                    "MeadowV",
                    "MeadowV",
                    "Sawyer",
                    "NWAmes",
                    "NridgHt",
                    "SawyerW",
                    "NWAmes",
                    "Edwards",
                    "StoneBr",
                    "CollgCr",
                    "Mitchel",
                    "Edwards",
                    "Gilbert",
                    "CollgCr",
                    "NAmes",
                    "Edwards",
                    "CollgCr",
                    "NWAmes",
                    "NridgHt",
                    "NoRidge",
                    "NridgHt",
                    "Crawfor",
                    "StoneBr",
                    "IDOTRR",
                    "OldTown",
                    "OldTown",
                    "NAmes",
                    "ClearCr",
                    "Gilbert",
                    "NAmes",
                    "MeadowV",
                    "NAmes",
                    "NAmes",
                    "NWAmes",
                    "Edwards",
                    "Edwards",
                    "CollgCr",
                    "Crawfor",
                    "OldTown",
                    "NAmes",
                    "CollgCr",
                    "CollgCr",
                    "NWAmes",
                    "Sawyer",
                    "CollgCr",
                    "NAmes",
                    "Gilbert",
                    "SawyerW",
                    "MeadowV",
                    "Somerst",
                    "Edwards",
                    "Somerst",
                    "NAmes",
                    "Somerst",
                    "SWISU",
                    "NAmes",
                    "NAmes",
                    "CollgCr",
                    "IDOTRR",
                    "StoneBr",
                    "BrkSide",
                    "NWAmes",
                    "SWISU",
                    "NAmes",
                    "NAmes",
                    "NAmes",
                    "BrDale",
                    "NoRidge",
                    "SawyerW",
                    "Gilbert",
                    "Gilbert",
                    "NridgHt",
                    "Gilbert",
                    "NWAmes",
                    "NAmes",
                    "NAmes",
                    "OldTown",
                    "NridgHt",
                    "Gilbert",
                    "Sawyer",
                    "Sawyer",
                    "NAmes",
                    "IDOTRR",
                    "CollgCr",
                    "Edwards",
                    "Edwards",
                    "Gilbert",
                    "NAmes",
                    "Blmngtn",
                    "Gilbert",
                    "Gilbert",
                    "OldTown",
                    "SWISU",
                    "Mitchel",
                    "OldTown",
                    "SawyerW",
                    "Gilbert",
                    "BrkSide",
                    "NAmes",
                    "Sawyer",
                    "Mitchel",
                    "BrkSide",
                    "NAmes",
                    "NWAmes",
                    "CollgCr",
                    "Sawyer",
                    "Edwards",
                    "BrkSide",
                    "SawyerW",
                    "Crawfor",
                    "OldTown",
                    "OldTown",
                    "NAmes",
                    "Edwards",
                    "Crawfor",
                    "IDOTRR",
                    "NAmes",
                    "Veenker",
                    "NAmes",
                    "NridgHt",
                    "Somerst",
                    "NWAmes",
                    "NPkVill",
                    "Crawfor",
                    "Sawyer",
                    "Sawyer",
                    "Veenker",
                    "NridgHt",
                    "CollgCr",
                    "Gilbert",
                    "Edwards",
                    "NoRidge",
                    "Mitchel",
                    "NAmes",
                    "Somerst",
                    "ClearCr",
                    "Crawfor",
                    "NoRidge",
                    "Mitchel",
                    "OldTown",
                    "Crawfor",
                    "Edwards",
                    "Timber",
                    "Crawfor",
                    "NoRidge",
                    "OldTown",
                    "Timber",
                    "Edwards",
                    "OldTown",
                    "NoRidge",
                    "CollgCr",
                    "Gilbert",
                    "Mitchel",
                    "Somerst",
                    "OldTown",
                    "Mitchel",
                    "Sawyer",
                    "Gilbert",
                    "Gilbert",
                    "OldTown",
                    "CollgCr",
                    "Sawyer",
                    "NAmes",
                    "CollgCr",
                    "BrkSide",
                    "CollgCr",
                    "NWAmes",
                    "SawyerW",
                    "SawyerW",
                    "CollgCr",
                    "NAmes",
                    "Somerst",
                    "SawyerW",
                    "Gilbert",
                    "Edwards",
                    "Sawyer",
                    "NAmes",
                    "Sawyer",
                    "Sawyer",
                    "Somerst",
                    "BrkSide",
                    "BrDale",
                    "NAmes",
                    "Sawyer",
                    "NAmes",
                    "NAmes",
                    "Gilbert",
                    "NAmes",
                    "Somerst",
                    "NAmes",
                    "NridgHt",
                    "NAmes",
                    "Sawyer",
                    "NAmes",
                    "NAmes",
                    "NAmes",
                    "SWISU",
                    "Crawfor",
                    "NridgHt",
                    "CollgCr",
                    "SawyerW",
                    "Timber",
                    "CollgCr",
                    "Somerst",
                    "NWAmes",
                    "NridgHt",
                    "Crawfor",
                    "NWAmes",
                    "Somerst",
                    "Mitchel",
                    "OldTown",
                    "NAmes",
                    "NAmes",
                    "NridgHt",
                    "Mitchel",
                    "Veenker",
                    "Edwards",
                    "BrkSide",
                    "NoRidge",
                    "Edwards",
                    "Gilbert",
                    "NAmes",
                    "Gilbert",
                    "NAmes",
                    "ClearCr",
                    "BrkSide",
                    "NAmes",
                    "Somerst",
                    "OldTown",
                    "Timber",
                    "Crawfor",
                    "NAmes",
                    "ClearCr",
                    "NWAmes",
                    "Sawyer",
                    "Edwards",
                    "Crawfor",
                    "NAmes",
                    "NWAmes",
                    "NWAmes",
                    "CollgCr",
                    "IDOTRR",
                    "CollgCr",
                    "Timber",
                    "CollgCr",
                    "Mitchel",
                    "SWISU",
                    "BrkSide",
                    "NWAmes",
                    "ClearCr",
                    "StoneBr",
                    "NridgHt",
                    "NAmes",
                    "BrDale",
                    "OldTown",
                    "NWAmes",
                    "Edwards",
                    "NAmes",
                    "NAmes",
                    "Edwards",
                    "Edwards",
                    "NAmes",
                    "Gilbert",
                    "Crawfor",
                    "NoRidge",
                    "Somerst",
                    "Edwards",
                    "NridgHt",
                    "NridgHt",
                    "CollgCr",
                    "OldTown",
                    "SawyerW",
                    "Crawfor",
                    "CollgCr",
                    "NoRidge",
                    "NoRidge",
                    "Edwards",
                    "NAmes",
                    "CollgCr",
                    "Somerst",
                    "CollgCr",
                    "Edwards",
                    "NAmes",
                    "BrkSide",
                    "NoRidge",
                    "BrkSide",
                    "Somerst",
                    "IDOTRR",
                    "Edwards",
                    "Mitchel",
                    "OldTown",
                    "Gilbert",
                    "Somerst",
                    "CollgCr",
                    "Edwards",
                    "IDOTRR",
                    "BrDale",
                    "NWAmes",
                    "NWAmes",
                    "OldTown",
                    "CollgCr",
                    "CollgCr",
                    "NAmes",
                    "SawyerW",
                    "CollgCr",
                    "Crawfor",
                    "CollgCr",
                    "OldTown",
                    "NWAmes",
                    "Timber",
                    "SawyerW",
                    "OldTown",
                    "NAmes",
                    "NAmes",
                    "BrkSide",
                    "NoRidge",
                    "CollgCr",
                    "NWAmes",
                    "NAmes",
                    "NAmes",
                    "Somerst",
                    "NridgHt",
                    "SWISU",
                    "StoneBr",
                    "NAmes",
                    "Gilbert",
                    "Somerst",
                    "Somerst",
                    "CollgCr",
                    "MeadowV",
                    "CollgCr",
                    "CollgCr",
                    "OldTown",
                    "NAmes",
                    "CollgCr",
                    "NoRidge",
                    "Somerst",
                    "Timber",
                    "SWISU",
                    "Edwards",
                    "BrDale",
                    "Timber",
                    "Edwards",
                    "NAmes",
                    "OldTown",
                    "Sawyer",
                    "Edwards",
                    "IDOTRR",
                    "NWAmes",
                    "OldTown",
                    "Gilbert",
                    "BrkSide",
                    "CollgCr",
                    "NAmes",
                    "NAmes",
                    "OldTown",
                    "Blmngtn",
                    "Timber",
                    "Timber",
                    "BrkSide",
                    "NAmes",
                    "SWISU",
                    "BrkSide",
                    "Gilbert",
                    "CollgCr",
                    "Somerst",
                    "OldTown",
                    "Crawfor",
                    "CollgCr",
                    "Mitchel",
                    "OldTown",
                    "NWAmes",
                    "CollgCr",
                    "NAmes",
                    "NAmes",
                    "SawyerW",
                    "BrkSide",
                    "Blmngtn",
                    "OldTown",
                    "NoRidge",
                    "NAmes",
                    "Crawfor",
                    "NWAmes",
                    "NPkVill",
                    "CollgCr",
                    "Edwards",
                    "NAmes",
                    "NAmes",
                    "NoRidge",
                    "NAmes",
                    "OldTown",
                    "NWAmes",
                    "Gilbert",
                    "NPkVill",
                    "OldTown",
                    "Gilbert",
                    "Mitchel",
                    "NAmes",
                    "NAmes",
                    "NridgHt",
                    "OldTown",
                    "NWAmes",
                    "Crawfor",
                    "CollgCr",
                    "Somerst",
                    "BrkSide",
                    "CollgCr",
                    "Sawyer",
                    "Mitchel",
                    "CollgCr",
                    "Edwards",
                    "MeadowV",
                    "NAmes",
                    "Somerst",
                    "Edwards",
                    "Mitchel",
                    "Somerst",
                    "Gilbert",
                    "NWAmes",
                    "Crawfor",
                    "NAmes",
                    "Edwards"
                  ],
                  "x0": " ",
                  "xaxis": "x",
                  "y": [
                    208500,
                    181500,
                    223500,
                    140000,
                    250000,
                    143000,
                    307000,
                    200000,
                    129900,
                    118000,
                    129500,
                    345000,
                    144000,
                    279500,
                    157000,
                    132000,
                    149000,
                    90000,
                    159000,
                    139000,
                    325300,
                    139400,
                    230000,
                    129900,
                    154000,
                    256300,
                    134800,
                    306000,
                    207500,
                    68500,
                    40000,
                    149350,
                    179900,
                    165500,
                    277500,
                    309000,
                    145000,
                    153000,
                    109000,
                    82000,
                    160000,
                    170000,
                    144000,
                    130250,
                    141000,
                    319900,
                    239686,
                    249700,
                    113000,
                    127000,
                    177000,
                    114500,
                    110000,
                    385000,
                    130000,
                    180500,
                    172500,
                    196500,
                    438780,
                    124900,
                    158000,
                    101000,
                    202500,
                    140000,
                    219500,
                    317000,
                    180000,
                    226000,
                    80000,
                    225000,
                    244000,
                    129500,
                    185000,
                    144900,
                    107400,
                    91000,
                    135750,
                    127000,
                    136500,
                    110000,
                    193500,
                    153500,
                    245000,
                    126500,
                    168500,
                    260000,
                    174000,
                    164500,
                    85000,
                    123600,
                    109900,
                    98600,
                    163500,
                    133900,
                    204750,
                    185000,
                    214000,
                    94750,
                    83000,
                    128950,
                    205000,
                    178000,
                    118964,
                    198900,
                    169500,
                    250000,
                    100000,
                    115000,
                    115000,
                    190000,
                    136900,
                    180000,
                    383970,
                    217000,
                    259500,
                    176000,
                    139000,
                    155000,
                    320000,
                    163990,
                    180000,
                    100000,
                    136000,
                    153900,
                    181000,
                    84500,
                    128000,
                    87000,
                    155000,
                    150000,
                    226000,
                    244000,
                    150750,
                    220000,
                    180000,
                    174000,
                    143000,
                    171000,
                    230000,
                    231500,
                    115000,
                    260000,
                    166000,
                    204000,
                    125000,
                    130000,
                    105000,
                    222500,
                    141000,
                    115000,
                    122000,
                    372402,
                    190000,
                    235000,
                    125000,
                    79000,
                    109500,
                    269500,
                    254900,
                    320000,
                    162500,
                    412500,
                    220000,
                    103200,
                    152000,
                    127500,
                    190000,
                    325624,
                    183500,
                    228000,
                    128500,
                    215000,
                    239000,
                    163000,
                    184000,
                    243000,
                    211000,
                    172500,
                    501837,
                    100000,
                    177000,
                    200100,
                    120000,
                    200000,
                    127000,
                    475000,
                    173000,
                    135000,
                    153337,
                    286000,
                    315000,
                    184000,
                    192000,
                    130000,
                    127000,
                    148500,
                    311872,
                    235000,
                    104000,
                    274900,
                    140000,
                    171500,
                    112000,
                    149000,
                    110000,
                    180500,
                    143900,
                    141000,
                    277000,
                    145000,
                    98000,
                    186000,
                    252678,
                    156000,
                    161750,
                    134450,
                    210000,
                    107000,
                    311500,
                    167240,
                    204900,
                    200000,
                    179900,
                    97000,
                    386250,
                    112000,
                    290000,
                    106000,
                    125000,
                    192500,
                    148000,
                    403000,
                    94500,
                    128200,
                    216500,
                    89500,
                    185500,
                    194500,
                    318000,
                    113000,
                    262500,
                    110500,
                    79000,
                    120000,
                    205000,
                    241500,
                    137000,
                    140000,
                    180000,
                    277000,
                    76500,
                    235000,
                    173000,
                    158000,
                    145000,
                    230000,
                    207500,
                    220000,
                    231500,
                    97000,
                    176000,
                    276000,
                    151000,
                    130000,
                    73000,
                    175500,
                    185000,
                    179500,
                    120500,
                    148000,
                    266000,
                    241500,
                    290000,
                    139000,
                    124500,
                    205000,
                    201000,
                    141000,
                    415298,
                    192000,
                    228500,
                    185000,
                    207500,
                    244600,
                    179200,
                    164700,
                    159000,
                    88000,
                    122000,
                    153575,
                    233230,
                    135900,
                    131000,
                    235000,
                    167000,
                    142500,
                    152000,
                    239000,
                    175000,
                    158500,
                    157000,
                    267000,
                    205000,
                    149900,
                    295000,
                    305900,
                    225000,
                    89500,
                    82500,
                    360000,
                    165600,
                    132000,
                    119900,
                    375000,
                    178000,
                    188500,
                    260000,
                    270000,
                    260000,
                    187500,
                    342643,
                    354000,
                    301000,
                    126175,
                    242000,
                    87000,
                    324000,
                    145250,
                    214500,
                    78000,
                    119000,
                    139000,
                    284000,
                    207000,
                    192000,
                    228950,
                    377426,
                    214000,
                    202500,
                    155000,
                    202900,
                    82000,
                    87500,
                    266000,
                    85000,
                    140200,
                    151500,
                    157500,
                    154000,
                    437154,
                    318061,
                    190000,
                    95000,
                    105900,
                    140000,
                    177500,
                    173000,
                    134000,
                    130000,
                    280000,
                    156000,
                    145000,
                    198500,
                    118000,
                    190000,
                    147000,
                    159000,
                    165000,
                    132000,
                    162000,
                    172400,
                    134432,
                    125000,
                    123000,
                    219500,
                    61000,
                    148000,
                    340000,
                    394432,
                    179000,
                    127000,
                    187750,
                    213500,
                    76000,
                    240000,
                    192000,
                    81000,
                    125000,
                    191000,
                    426000,
                    119000,
                    215000,
                    106500,
                    100000,
                    109000,
                    129000,
                    123000,
                    169500,
                    67000,
                    241000,
                    245500,
                    164990,
                    108000,
                    258000,
                    168000,
                    150000,
                    115000,
                    177000,
                    280000,
                    339750,
                    60000,
                    145000,
                    222000,
                    115000,
                    228000,
                    181134,
                    149500,
                    239000,
                    126000,
                    142000,
                    206300,
                    215000,
                    113000,
                    315000,
                    139000,
                    135000,
                    275000,
                    109008,
                    195400,
                    175000,
                    85400,
                    79900,
                    122500,
                    181000,
                    81000,
                    212000,
                    116000,
                    119000,
                    90350,
                    110000,
                    555000,
                    118000,
                    162900,
                    172500,
                    210000,
                    127500,
                    190000,
                    199900,
                    119500,
                    120000,
                    110000,
                    280000,
                    204000,
                    210000,
                    188000,
                    175500,
                    98000,
                    256000,
                    161000,
                    110000,
                    263435,
                    155000,
                    62383,
                    188700,
                    124000,
                    178740,
                    167000,
                    146500,
                    250000,
                    187000,
                    212000,
                    190000,
                    148000,
                    440000,
                    251000,
                    132500,
                    208900,
                    380000,
                    297000,
                    89471,
                    326000,
                    374000,
                    155000,
                    164000,
                    132500,
                    147000,
                    156000,
                    175000,
                    160000,
                    86000,
                    115000,
                    133000,
                    172785,
                    155000,
                    91300,
                    34900,
                    430000,
                    184000,
                    130000,
                    120000,
                    113000,
                    226700,
                    140000,
                    289000,
                    147000,
                    124500,
                    215000,
                    208300,
                    161000,
                    124500,
                    164900,
                    202665,
                    129900,
                    134000,
                    96500,
                    402861,
                    158000,
                    265000,
                    211000,
                    234000,
                    106250,
                    150000,
                    159000,
                    184750,
                    315750,
                    176000,
                    132000,
                    446261,
                    86000,
                    200624,
                    175000,
                    128000,
                    107500,
                    39300,
                    178000,
                    107500,
                    188000,
                    111250,
                    158000,
                    272000,
                    315000,
                    248000,
                    213250,
                    133000,
                    179665,
                    229000,
                    210000,
                    129500,
                    125000,
                    263000,
                    140000,
                    112500,
                    255500,
                    108000,
                    284000,
                    113000,
                    141000,
                    108000,
                    175000,
                    234000,
                    121500,
                    170000,
                    108000,
                    185000,
                    268000,
                    128000,
                    325000,
                    214000,
                    316600,
                    135960,
                    142600,
                    120000,
                    224500,
                    170000,
                    139000,
                    118500,
                    145000,
                    164500,
                    146000,
                    131500,
                    181900,
                    253293,
                    118500,
                    325000,
                    133000,
                    369900,
                    130000,
                    137000,
                    143000,
                    79500,
                    185900,
                    451950,
                    138000,
                    140000,
                    110000,
                    319000,
                    114504,
                    194201,
                    217500,
                    151000,
                    275000,
                    141000,
                    220000,
                    151000,
                    221000,
                    205000,
                    152000,
                    225000,
                    359100,
                    118500,
                    313000,
                    148000,
                    261500,
                    147000,
                    75500,
                    137500,
                    183200,
                    105500,
                    314813,
                    305000,
                    67000,
                    240000,
                    135000,
                    168500,
                    165150,
                    160000,
                    139900,
                    153000,
                    135000,
                    168500,
                    124000,
                    209500,
                    82500,
                    139400,
                    144000,
                    200000,
                    60000,
                    93000,
                    85000,
                    264561,
                    274000,
                    226000,
                    345000,
                    152000,
                    370878,
                    143250,
                    98300,
                    155000,
                    155000,
                    84500,
                    205950,
                    108000,
                    191000,
                    135000,
                    350000,
                    88000,
                    145500,
                    149000,
                    97500,
                    167000,
                    197900,
                    402000,
                    110000,
                    137500,
                    423000,
                    230500,
                    129000,
                    193500,
                    168000,
                    137500,
                    173500,
                    103600,
                    165000,
                    257500,
                    140000,
                    148500,
                    87000,
                    109500,
                    372500,
                    128500,
                    143000,
                    159434,
                    173000,
                    285000,
                    221000,
                    207500,
                    227875,
                    148800,
                    392000,
                    194700,
                    141000,
                    755000,
                    335000,
                    108480,
                    141500,
                    176000,
                    89000,
                    123500,
                    138500,
                    196000,
                    312500,
                    140000,
                    361919,
                    140000,
                    213000,
                    55000,
                    302000,
                    254000,
                    179540,
                    109900,
                    52000,
                    102776,
                    189000,
                    129000,
                    130500,
                    165000,
                    159500,
                    157000,
                    341000,
                    128500,
                    275000,
                    143000,
                    124500,
                    135000,
                    320000,
                    120500,
                    222000,
                    194500,
                    110000,
                    103000,
                    236500,
                    187500,
                    222500,
                    131400,
                    108000,
                    163000,
                    93500,
                    239900,
                    179000,
                    190000,
                    132000,
                    142000,
                    179000,
                    175000,
                    180000,
                    299800,
                    236000,
                    265979,
                    260400,
                    98000,
                    96500,
                    162000,
                    217000,
                    275500,
                    156000,
                    172500,
                    212000,
                    158900,
                    179400,
                    290000,
                    127500,
                    100000,
                    215200,
                    337000,
                    270000,
                    264132,
                    196500,
                    160000,
                    216837,
                    538000,
                    134900,
                    102000,
                    107000,
                    114500,
                    395000,
                    162000,
                    221500,
                    142500,
                    144000,
                    135000,
                    176000,
                    175900,
                    187100,
                    165500,
                    128000,
                    161500,
                    139000,
                    233000,
                    107900,
                    187500,
                    160200,
                    146800,
                    269790,
                    225000,
                    194500,
                    171000,
                    143500,
                    110000,
                    485000,
                    175000,
                    200000,
                    109900,
                    189000,
                    582933,
                    118000,
                    227680,
                    135500,
                    223500,
                    159950,
                    106000,
                    181000,
                    144500,
                    55993,
                    157900,
                    116000,
                    224900,
                    137000,
                    271000,
                    155000,
                    224000,
                    183000,
                    93000,
                    225000,
                    139500,
                    232600,
                    385000,
                    109500,
                    189000,
                    185000,
                    147400,
                    166000,
                    151000,
                    237000,
                    167000,
                    139950,
                    128000,
                    153500,
                    100000,
                    144000,
                    130500,
                    140000,
                    157500,
                    174900,
                    141000,
                    153900,
                    171000,
                    213000,
                    133500,
                    240000,
                    187000,
                    131500,
                    215000,
                    164000,
                    158000,
                    170000,
                    127000,
                    147000,
                    174000,
                    152000,
                    250000,
                    189950,
                    131500,
                    152000,
                    132500,
                    250580,
                    148500,
                    248900,
                    129000,
                    169000,
                    236000,
                    109500,
                    200500,
                    116000,
                    133000,
                    66500,
                    303477,
                    132250,
                    350000,
                    148000,
                    136500,
                    157000,
                    187500,
                    178000,
                    118500,
                    100000,
                    328900,
                    145000,
                    135500,
                    268000,
                    149500,
                    122900,
                    172500,
                    154500,
                    165000,
                    118858,
                    140000,
                    106500,
                    142953,
                    611657,
                    135000,
                    110000,
                    153000,
                    180000,
                    240000,
                    125500,
                    128000,
                    255000,
                    250000,
                    131000,
                    174000,
                    154300,
                    143500,
                    88000,
                    145000,
                    173733,
                    75000,
                    35311,
                    135000,
                    238000,
                    176500,
                    201000,
                    145900,
                    169990,
                    193000,
                    207500,
                    175000,
                    285000,
                    176000,
                    236500,
                    222000,
                    201000,
                    117500,
                    320000,
                    190000,
                    242000,
                    79900,
                    184900,
                    253000,
                    239799,
                    244400,
                    150900,
                    214000,
                    150000,
                    143000,
                    137500,
                    124900,
                    143000,
                    270000,
                    192500,
                    197500,
                    129000,
                    119900,
                    133900,
                    172000,
                    127500,
                    145000,
                    124000,
                    132000,
                    185000,
                    155000,
                    116500,
                    272000,
                    155000,
                    239000,
                    214900,
                    178900,
                    160000,
                    135000,
                    37900,
                    140000,
                    135000,
                    173000,
                    99500,
                    182000,
                    167500,
                    165000,
                    85500,
                    199900,
                    110000,
                    139000,
                    178400,
                    336000,
                    159895,
                    255900,
                    126000,
                    125000,
                    117000,
                    395192,
                    195000,
                    197000,
                    348000,
                    168000,
                    187000,
                    173900,
                    337500,
                    121600,
                    136500,
                    185000,
                    91000,
                    206000,
                    82000,
                    86000,
                    232000,
                    136905,
                    181000,
                    149900,
                    163500,
                    88000,
                    240000,
                    102000,
                    135000,
                    100000,
                    165000,
                    85000,
                    119200,
                    227000,
                    203000,
                    187500,
                    160000,
                    213490,
                    176000,
                    194000,
                    87000,
                    191000,
                    287000,
                    112500,
                    167500,
                    293077,
                    105000,
                    118000,
                    160000,
                    197000,
                    310000,
                    230000,
                    119750,
                    84000,
                    315500,
                    287000,
                    97000,
                    80000,
                    155000,
                    173000,
                    196000,
                    262280,
                    278000,
                    139600,
                    556581,
                    145000,
                    115000,
                    84900,
                    176485,
                    200141,
                    165000,
                    144500,
                    255000,
                    180000,
                    185850,
                    248000,
                    335000,
                    220000,
                    213500,
                    81000,
                    90000,
                    110500,
                    154000,
                    328000,
                    178000,
                    167900,
                    151400,
                    135000,
                    135000,
                    154000,
                    91500,
                    159500,
                    194000,
                    219500,
                    170000,
                    138800,
                    155900,
                    126000,
                    145000,
                    133000,
                    192000,
                    160000,
                    187500,
                    147000,
                    83500,
                    252000,
                    137500,
                    197000,
                    92900,
                    160000,
                    136500,
                    146000,
                    129000,
                    176432,
                    127000,
                    170000,
                    128000,
                    157000,
                    60000,
                    119500,
                    135000,
                    159500,
                    106000,
                    325000,
                    179900,
                    274725,
                    181000,
                    280000,
                    188000,
                    205000,
                    129900,
                    134500,
                    117000,
                    318000,
                    184100,
                    130000,
                    140000,
                    133700,
                    118400,
                    212900,
                    112000,
                    118000,
                    163900,
                    115000,
                    174000,
                    259000,
                    215000,
                    140000,
                    135000,
                    93500,
                    117500,
                    239500,
                    169000,
                    102000,
                    119000,
                    94000,
                    196000,
                    144000,
                    139000,
                    197500,
                    424870,
                    80000,
                    80000,
                    149000,
                    180000,
                    174500,
                    116900,
                    143000,
                    124000,
                    149900,
                    230000,
                    120500,
                    201800,
                    218000,
                    179900,
                    230000,
                    235128,
                    185000,
                    146000,
                    224000,
                    129000,
                    108959,
                    194000,
                    233170,
                    245350,
                    173000,
                    235000,
                    625000,
                    171000,
                    163000,
                    171900,
                    200500,
                    239000,
                    285000,
                    119500,
                    115000,
                    154900,
                    93000,
                    250000,
                    392500,
                    745000,
                    120000,
                    186700,
                    104900,
                    95000,
                    262000,
                    195000,
                    189000,
                    168000,
                    174000,
                    125000,
                    165000,
                    158000,
                    176000,
                    219210,
                    144000,
                    178000,
                    148000,
                    116050,
                    197900,
                    117000,
                    213000,
                    153500,
                    271900,
                    107000,
                    200000,
                    140000,
                    290000,
                    189000,
                    164000,
                    113000,
                    145000,
                    134500,
                    125000,
                    112000,
                    229456,
                    80500,
                    91500,
                    115000,
                    134000,
                    143000,
                    137900,
                    184000,
                    145000,
                    214000,
                    147000,
                    367294,
                    127000,
                    190000,
                    132500,
                    101800,
                    142000,
                    130000,
                    138887,
                    175500,
                    195000,
                    142500,
                    265900,
                    224900,
                    248328,
                    170000,
                    465000,
                    230000,
                    178000,
                    186500,
                    169900,
                    129500,
                    119000,
                    244000,
                    171750,
                    130000,
                    294000,
                    165400,
                    127500,
                    301500,
                    99900,
                    190000,
                    151000,
                    181000,
                    128900,
                    161500,
                    180500,
                    181000,
                    183900,
                    122000,
                    378500,
                    381000,
                    144000,
                    260000,
                    185750,
                    137000,
                    177000,
                    139000,
                    137000,
                    162000,
                    197900,
                    237000,
                    68400,
                    227000,
                    180000,
                    150500,
                    139000,
                    169000,
                    132500,
                    143000,
                    190000,
                    278000,
                    281000,
                    180500,
                    119500,
                    107500,
                    162900,
                    115000,
                    138500,
                    155000,
                    140000,
                    160000,
                    154000,
                    225000,
                    177500,
                    290000,
                    232000,
                    130000,
                    325000,
                    202500,
                    138000,
                    147000,
                    179200,
                    335000,
                    203000,
                    302000,
                    333168,
                    119000,
                    206900,
                    295493,
                    208900,
                    275000,
                    111000,
                    156500,
                    72500,
                    190000,
                    82500,
                    147000,
                    55000,
                    79000,
                    130500,
                    256000,
                    176500,
                    227000,
                    132500,
                    100000,
                    125500,
                    125000,
                    167900,
                    135000,
                    52500,
                    200000,
                    128500,
                    123000,
                    155000,
                    228500,
                    177000,
                    155835,
                    108500,
                    262500,
                    283463,
                    215000,
                    122000,
                    200000,
                    171000,
                    134900,
                    410000,
                    235000,
                    170000,
                    110000,
                    149900,
                    177500,
                    315000,
                    189000,
                    260000,
                    104900,
                    156932,
                    144152,
                    216000,
                    193000,
                    127000,
                    144000,
                    232000,
                    105000,
                    165500,
                    274300,
                    466500,
                    250000,
                    239000,
                    91000,
                    117000,
                    83000,
                    167500,
                    58500,
                    237500,
                    157000,
                    112000,
                    105000,
                    125500,
                    250000,
                    136000,
                    377500,
                    131000,
                    235000,
                    124000,
                    123000,
                    163000,
                    246578,
                    281213,
                    160000,
                    137500,
                    138000,
                    137450,
                    120000,
                    193000,
                    193879,
                    282922,
                    105000,
                    275000,
                    133000,
                    112000,
                    125500,
                    215000,
                    230000,
                    140000,
                    90000,
                    257000,
                    207000,
                    175900,
                    122500,
                    340000,
                    124000,
                    223000,
                    179900,
                    127500,
                    136500,
                    274970,
                    144000,
                    142000,
                    271000,
                    140000,
                    119000,
                    182900,
                    192140,
                    143750,
                    64500,
                    186500,
                    160000,
                    174000,
                    120500,
                    394617,
                    149700,
                    197000,
                    191000,
                    149300,
                    310000,
                    121000,
                    179600,
                    129000,
                    157900,
                    240000,
                    112000,
                    92000,
                    136000,
                    287090,
                    145000,
                    84500,
                    185000,
                    175000,
                    210000,
                    266500,
                    142125,
                    147500
                  ],
                  "y0": " ",
                  "yaxis": "y"
                }
              ],
              "layout": {
                "boxmode": "group",
                "legend": {
                  "tracegroupgap": 0
                },
                "template": {
                  "data": {
                    "bar": [
                      {
                        "error_x": {
                          "color": "#2a3f5f"
                        },
                        "error_y": {
                          "color": "#2a3f5f"
                        },
                        "marker": {
                          "line": {
                            "color": "#E5ECF6",
                            "width": 0.5
                          },
                          "pattern": {
                            "fillmode": "overlay",
                            "size": 10,
                            "solidity": 0.2
                          }
                        },
                        "type": "bar"
                      }
                    ],
                    "barpolar": [
                      {
                        "marker": {
                          "line": {
                            "color": "#E5ECF6",
                            "width": 0.5
                          },
                          "pattern": {
                            "fillmode": "overlay",
                            "size": 10,
                            "solidity": 0.2
                          }
                        },
                        "type": "barpolar"
                      }
                    ],
                    "carpet": [
                      {
                        "aaxis": {
                          "endlinecolor": "#2a3f5f",
                          "gridcolor": "white",
                          "linecolor": "white",
                          "minorgridcolor": "white",
                          "startlinecolor": "#2a3f5f"
                        },
                        "baxis": {
                          "endlinecolor": "#2a3f5f",
                          "gridcolor": "white",
                          "linecolor": "white",
                          "minorgridcolor": "white",
                          "startlinecolor": "#2a3f5f"
                        },
                        "type": "carpet"
                      }
                    ],
                    "choropleth": [
                      {
                        "colorbar": {
                          "outlinewidth": 0,
                          "ticks": ""
                        },
                        "type": "choropleth"
                      }
                    ],
                    "contour": [
                      {
                        "colorbar": {
                          "outlinewidth": 0,
                          "ticks": ""
                        },
                        "colorscale": [
                          [
                            0,
                            "#0d0887"
                          ],
                          [
                            0.1111111111111111,
                            "#46039f"
                          ],
                          [
                            0.2222222222222222,
                            "#7201a8"
                          ],
                          [
                            0.3333333333333333,
                            "#9c179e"
                          ],
                          [
                            0.4444444444444444,
                            "#bd3786"
                          ],
                          [
                            0.5555555555555556,
                            "#d8576b"
                          ],
                          [
                            0.6666666666666666,
                            "#ed7953"
                          ],
                          [
                            0.7777777777777778,
                            "#fb9f3a"
                          ],
                          [
                            0.8888888888888888,
                            "#fdca26"
                          ],
                          [
                            1,
                            "#f0f921"
                          ]
                        ],
                        "type": "contour"
                      }
                    ],
                    "contourcarpet": [
                      {
                        "colorbar": {
                          "outlinewidth": 0,
                          "ticks": ""
                        },
                        "type": "contourcarpet"
                      }
                    ],
                    "heatmap": [
                      {
                        "colorbar": {
                          "outlinewidth": 0,
                          "ticks": ""
                        },
                        "colorscale": [
                          [
                            0,
                            "#0d0887"
                          ],
                          [
                            0.1111111111111111,
                            "#46039f"
                          ],
                          [
                            0.2222222222222222,
                            "#7201a8"
                          ],
                          [
                            0.3333333333333333,
                            "#9c179e"
                          ],
                          [
                            0.4444444444444444,
                            "#bd3786"
                          ],
                          [
                            0.5555555555555556,
                            "#d8576b"
                          ],
                          [
                            0.6666666666666666,
                            "#ed7953"
                          ],
                          [
                            0.7777777777777778,
                            "#fb9f3a"
                          ],
                          [
                            0.8888888888888888,
                            "#fdca26"
                          ],
                          [
                            1,
                            "#f0f921"
                          ]
                        ],
                        "type": "heatmap"
                      }
                    ],
                    "heatmapgl": [
                      {
                        "colorbar": {
                          "outlinewidth": 0,
                          "ticks": ""
                        },
                        "colorscale": [
                          [
                            0,
                            "#0d0887"
                          ],
                          [
                            0.1111111111111111,
                            "#46039f"
                          ],
                          [
                            0.2222222222222222,
                            "#7201a8"
                          ],
                          [
                            0.3333333333333333,
                            "#9c179e"
                          ],
                          [
                            0.4444444444444444,
                            "#bd3786"
                          ],
                          [
                            0.5555555555555556,
                            "#d8576b"
                          ],
                          [
                            0.6666666666666666,
                            "#ed7953"
                          ],
                          [
                            0.7777777777777778,
                            "#fb9f3a"
                          ],
                          [
                            0.8888888888888888,
                            "#fdca26"
                          ],
                          [
                            1,
                            "#f0f921"
                          ]
                        ],
                        "type": "heatmapgl"
                      }
                    ],
                    "histogram": [
                      {
                        "marker": {
                          "pattern": {
                            "fillmode": "overlay",
                            "size": 10,
                            "solidity": 0.2
                          }
                        },
                        "type": "histogram"
                      }
                    ],
                    "histogram2d": [
                      {
                        "colorbar": {
                          "outlinewidth": 0,
                          "ticks": ""
                        },
                        "colorscale": [
                          [
                            0,
                            "#0d0887"
                          ],
                          [
                            0.1111111111111111,
                            "#46039f"
                          ],
                          [
                            0.2222222222222222,
                            "#7201a8"
                          ],
                          [
                            0.3333333333333333,
                            "#9c179e"
                          ],
                          [
                            0.4444444444444444,
                            "#bd3786"
                          ],
                          [
                            0.5555555555555556,
                            "#d8576b"
                          ],
                          [
                            0.6666666666666666,
                            "#ed7953"
                          ],
                          [
                            0.7777777777777778,
                            "#fb9f3a"
                          ],
                          [
                            0.8888888888888888,
                            "#fdca26"
                          ],
                          [
                            1,
                            "#f0f921"
                          ]
                        ],
                        "type": "histogram2d"
                      }
                    ],
                    "histogram2dcontour": [
                      {
                        "colorbar": {
                          "outlinewidth": 0,
                          "ticks": ""
                        },
                        "colorscale": [
                          [
                            0,
                            "#0d0887"
                          ],
                          [
                            0.1111111111111111,
                            "#46039f"
                          ],
                          [
                            0.2222222222222222,
                            "#7201a8"
                          ],
                          [
                            0.3333333333333333,
                            "#9c179e"
                          ],
                          [
                            0.4444444444444444,
                            "#bd3786"
                          ],
                          [
                            0.5555555555555556,
                            "#d8576b"
                          ],
                          [
                            0.6666666666666666,
                            "#ed7953"
                          ],
                          [
                            0.7777777777777778,
                            "#fb9f3a"
                          ],
                          [
                            0.8888888888888888,
                            "#fdca26"
                          ],
                          [
                            1,
                            "#f0f921"
                          ]
                        ],
                        "type": "histogram2dcontour"
                      }
                    ],
                    "mesh3d": [
                      {
                        "colorbar": {
                          "outlinewidth": 0,
                          "ticks": ""
                        },
                        "type": "mesh3d"
                      }
                    ],
                    "parcoords": [
                      {
                        "line": {
                          "colorbar": {
                            "outlinewidth": 0,
                            "ticks": ""
                          }
                        },
                        "type": "parcoords"
                      }
                    ],
                    "pie": [
                      {
                        "automargin": true,
                        "type": "pie"
                      }
                    ],
                    "scatter": [
                      {
                        "fillpattern": {
                          "fillmode": "overlay",
                          "size": 10,
                          "solidity": 0.2
                        },
                        "type": "scatter"
                      }
                    ],
                    "scatter3d": [
                      {
                        "line": {
                          "colorbar": {
                            "outlinewidth": 0,
                            "ticks": ""
                          }
                        },
                        "marker": {
                          "colorbar": {
                            "outlinewidth": 0,
                            "ticks": ""
                          }
                        },
                        "type": "scatter3d"
                      }
                    ],
                    "scattercarpet": [
                      {
                        "marker": {
                          "colorbar": {
                            "outlinewidth": 0,
                            "ticks": ""
                          }
                        },
                        "type": "scattercarpet"
                      }
                    ],
                    "scattergeo": [
                      {
                        "marker": {
                          "colorbar": {
                            "outlinewidth": 0,
                            "ticks": ""
                          }
                        },
                        "type": "scattergeo"
                      }
                    ],
                    "scattergl": [
                      {
                        "marker": {
                          "colorbar": {
                            "outlinewidth": 0,
                            "ticks": ""
                          }
                        },
                        "type": "scattergl"
                      }
                    ],
                    "scattermapbox": [
                      {
                        "marker": {
                          "colorbar": {
                            "outlinewidth": 0,
                            "ticks": ""
                          }
                        },
                        "type": "scattermapbox"
                      }
                    ],
                    "scatterpolar": [
                      {
                        "marker": {
                          "colorbar": {
                            "outlinewidth": 0,
                            "ticks": ""
                          }
                        },
                        "type": "scatterpolar"
                      }
                    ],
                    "scatterpolargl": [
                      {
                        "marker": {
                          "colorbar": {
                            "outlinewidth": 0,
                            "ticks": ""
                          }
                        },
                        "type": "scatterpolargl"
                      }
                    ],
                    "scatterternary": [
                      {
                        "marker": {
                          "colorbar": {
                            "outlinewidth": 0,
                            "ticks": ""
                          }
                        },
                        "type": "scatterternary"
                      }
                    ],
                    "surface": [
                      {
                        "colorbar": {
                          "outlinewidth": 0,
                          "ticks": ""
                        },
                        "colorscale": [
                          [
                            0,
                            "#0d0887"
                          ],
                          [
                            0.1111111111111111,
                            "#46039f"
                          ],
                          [
                            0.2222222222222222,
                            "#7201a8"
                          ],
                          [
                            0.3333333333333333,
                            "#9c179e"
                          ],
                          [
                            0.4444444444444444,
                            "#bd3786"
                          ],
                          [
                            0.5555555555555556,
                            "#d8576b"
                          ],
                          [
                            0.6666666666666666,
                            "#ed7953"
                          ],
                          [
                            0.7777777777777778,
                            "#fb9f3a"
                          ],
                          [
                            0.8888888888888888,
                            "#fdca26"
                          ],
                          [
                            1,
                            "#f0f921"
                          ]
                        ],
                        "type": "surface"
                      }
                    ],
                    "table": [
                      {
                        "cells": {
                          "fill": {
                            "color": "#EBF0F8"
                          },
                          "line": {
                            "color": "white"
                          }
                        },
                        "header": {
                          "fill": {
                            "color": "#C8D4E3"
                          },
                          "line": {
                            "color": "white"
                          }
                        },
                        "type": "table"
                      }
                    ]
                  },
                  "layout": {
                    "annotationdefaults": {
                      "arrowcolor": "#2a3f5f",
                      "arrowhead": 0,
                      "arrowwidth": 1
                    },
                    "autotypenumbers": "strict",
                    "coloraxis": {
                      "colorbar": {
                        "outlinewidth": 0,
                        "ticks": ""
                      }
                    },
                    "colorscale": {
                      "diverging": [
                        [
                          0,
                          "#8e0152"
                        ],
                        [
                          0.1,
                          "#c51b7d"
                        ],
                        [
                          0.2,
                          "#de77ae"
                        ],
                        [
                          0.3,
                          "#f1b6da"
                        ],
                        [
                          0.4,
                          "#fde0ef"
                        ],
                        [
                          0.5,
                          "#f7f7f7"
                        ],
                        [
                          0.6,
                          "#e6f5d0"
                        ],
                        [
                          0.7,
                          "#b8e186"
                        ],
                        [
                          0.8,
                          "#7fbc41"
                        ],
                        [
                          0.9,
                          "#4d9221"
                        ],
                        [
                          1,
                          "#276419"
                        ]
                      ],
                      "sequential": [
                        [
                          0,
                          "#0d0887"
                        ],
                        [
                          0.1111111111111111,
                          "#46039f"
                        ],
                        [
                          0.2222222222222222,
                          "#7201a8"
                        ],
                        [
                          0.3333333333333333,
                          "#9c179e"
                        ],
                        [
                          0.4444444444444444,
                          "#bd3786"
                        ],
                        [
                          0.5555555555555556,
                          "#d8576b"
                        ],
                        [
                          0.6666666666666666,
                          "#ed7953"
                        ],
                        [
                          0.7777777777777778,
                          "#fb9f3a"
                        ],
                        [
                          0.8888888888888888,
                          "#fdca26"
                        ],
                        [
                          1,
                          "#f0f921"
                        ]
                      ],
                      "sequentialminus": [
                        [
                          0,
                          "#0d0887"
                        ],
                        [
                          0.1111111111111111,
                          "#46039f"
                        ],
                        [
                          0.2222222222222222,
                          "#7201a8"
                        ],
                        [
                          0.3333333333333333,
                          "#9c179e"
                        ],
                        [
                          0.4444444444444444,
                          "#bd3786"
                        ],
                        [
                          0.5555555555555556,
                          "#d8576b"
                        ],
                        [
                          0.6666666666666666,
                          "#ed7953"
                        ],
                        [
                          0.7777777777777778,
                          "#fb9f3a"
                        ],
                        [
                          0.8888888888888888,
                          "#fdca26"
                        ],
                        [
                          1,
                          "#f0f921"
                        ]
                      ]
                    },
                    "colorway": [
                      "#636efa",
                      "#EF553B",
                      "#00cc96",
                      "#ab63fa",
                      "#FFA15A",
                      "#19d3f3",
                      "#FF6692",
                      "#B6E880",
                      "#FF97FF",
                      "#FECB52"
                    ],
                    "font": {
                      "color": "#2a3f5f"
                    },
                    "geo": {
                      "bgcolor": "white",
                      "lakecolor": "white",
                      "landcolor": "#E5ECF6",
                      "showlakes": true,
                      "showland": true,
                      "subunitcolor": "white"
                    },
                    "hoverlabel": {
                      "align": "left"
                    },
                    "hovermode": "closest",
                    "mapbox": {
                      "style": "light"
                    },
                    "paper_bgcolor": "white",
                    "plot_bgcolor": "#E5ECF6",
                    "polar": {
                      "angularaxis": {
                        "gridcolor": "white",
                        "linecolor": "white",
                        "ticks": ""
                      },
                      "bgcolor": "#E5ECF6",
                      "radialaxis": {
                        "gridcolor": "white",
                        "linecolor": "white",
                        "ticks": ""
                      }
                    },
                    "scene": {
                      "xaxis": {
                        "backgroundcolor": "#E5ECF6",
                        "gridcolor": "white",
                        "gridwidth": 2,
                        "linecolor": "white",
                        "showbackground": true,
                        "ticks": "",
                        "zerolinecolor": "white"
                      },
                      "yaxis": {
                        "backgroundcolor": "#E5ECF6",
                        "gridcolor": "white",
                        "gridwidth": 2,
                        "linecolor": "white",
                        "showbackground": true,
                        "ticks": "",
                        "zerolinecolor": "white"
                      },
                      "zaxis": {
                        "backgroundcolor": "#E5ECF6",
                        "gridcolor": "white",
                        "gridwidth": 2,
                        "linecolor": "white",
                        "showbackground": true,
                        "ticks": "",
                        "zerolinecolor": "white"
                      }
                    },
                    "shapedefaults": {
                      "line": {
                        "color": "#2a3f5f"
                      }
                    },
                    "ternary": {
                      "aaxis": {
                        "gridcolor": "white",
                        "linecolor": "white",
                        "ticks": ""
                      },
                      "baxis": {
                        "gridcolor": "white",
                        "linecolor": "white",
                        "ticks": ""
                      },
                      "bgcolor": "#E5ECF6",
                      "caxis": {
                        "gridcolor": "white",
                        "linecolor": "white",
                        "ticks": ""
                      }
                    },
                    "title": {
                      "x": 0.05
                    },
                    "xaxis": {
                      "automargin": true,
                      "gridcolor": "white",
                      "linecolor": "white",
                      "ticks": "",
                      "title": {
                        "standoff": 15
                      },
                      "zerolinecolor": "white",
                      "zerolinewidth": 2
                    },
                    "yaxis": {
                      "automargin": true,
                      "gridcolor": "white",
                      "linecolor": "white",
                      "ticks": "",
                      "title": {
                        "standoff": 15
                      },
                      "zerolinecolor": "white",
                      "zerolinewidth": 2
                    }
                  }
                },
                "title": {
                  "text": "Box Plot of SalePrice by Neighborhood"
                },
                "xaxis": {
                  "anchor": "y",
                  "domain": [
                    0,
                    1
                  ],
                  "title": {
                    "text": "Neighborhood"
                  }
                },
                "yaxis": {
                  "anchor": "x",
                  "domain": [
                    0,
                    1
                  ],
                  "title": {
                    "text": "SalePrice"
                  }
                }
              }
            }
          },
          "metadata": {},
          "output_type": "display_data"
        }
      ],
      "source": [
        "fig = px.box(train, x=\"Neighborhood\", y=\"SalePrice\", title = \"Box Plot of SalePrice by Neighborhood\")\n",
        "fig.show()"
      ]
    },
    {
      "cell_type": "code",
      "execution_count": 21,
      "metadata": {
        "id": "XQd4F_OxfVDN"
      },
      "outputs": [],
      "source": [
        "lotarea_neighborhood = train[\"Neighborhood\"].value_counts()\n",
        "avg_lotarea_neighborhood  = train.groupby(\"Neighborhood\")[\"LotArea\"].mean()"
      ]
    },
    {
      "cell_type": "code",
      "execution_count": 22,
      "metadata": {
        "colab": {
          "base_uri": "https://localhost:8080/",
          "height": 542
        },
        "id": "TOFSBlXFjkUY",
        "outputId": "a9668ce6-d536-4f2e-89bb-17bfeb154af3"
      },
      "outputs": [
        {
          "data": {
            "application/vnd.plotly.v1+json": {
              "config": {
                "plotlyServerURL": "https://plot.ly"
              },
              "data": [
                {
                  "alignmentgroup": "True",
                  "hovertemplate": "x=%{x}<br>y=%{y}<extra></extra>",
                  "legendgroup": "",
                  "marker": {
                    "color": "#636efa",
                    "pattern": {
                      "shape": ""
                    }
                  },
                  "name": "",
                  "offsetgroup": "",
                  "orientation": "v",
                  "showlegend": false,
                  "textposition": "auto",
                  "type": "bar",
                  "x": [
                    "NAmes",
                    "CollgCr",
                    "OldTown",
                    "Edwards",
                    "Somerst",
                    "Gilbert",
                    "NridgHt",
                    "Sawyer",
                    "NWAmes",
                    "SawyerW",
                    "BrkSide",
                    "Crawfor",
                    "Mitchel",
                    "NoRidge",
                    "Timber",
                    "IDOTRR",
                    "ClearCr",
                    "StoneBr",
                    "SWISU",
                    "MeadowV",
                    "Blmngtn",
                    "BrDale",
                    "Veenker",
                    "NPkVill",
                    "Blueste"
                  ],
                  "xaxis": "x",
                  "y": [
                    3398.176470588235,
                    1625,
                    1801,
                    7360.413793103448,
                    30875.75,
                    9619.146666666667,
                    11809.686274509804,
                    10218.65,
                    11379.151898734177,
                    8109.1621621621625,
                    2324,
                    11624.285714285714,
                    10139.915555555555,
                    3267.4444444444443,
                    11833.630136986301,
                    14218.90243902439,
                    10887.948051948051,
                    8207.061946902655,
                    8127.56,
                    10459.283783783783,
                    9923.796610169491,
                    7840.872093023256,
                    10671.92,
                    23664.236842105263,
                    15606
                  ],
                  "yaxis": "y"
                }
              ],
              "layout": {
                "barmode": "relative",
                "legend": {
                  "tracegroupgap": 0
                },
                "template": {
                  "data": {
                    "bar": [
                      {
                        "error_x": {
                          "color": "#2a3f5f"
                        },
                        "error_y": {
                          "color": "#2a3f5f"
                        },
                        "marker": {
                          "line": {
                            "color": "#E5ECF6",
                            "width": 0.5
                          },
                          "pattern": {
                            "fillmode": "overlay",
                            "size": 10,
                            "solidity": 0.2
                          }
                        },
                        "type": "bar"
                      }
                    ],
                    "barpolar": [
                      {
                        "marker": {
                          "line": {
                            "color": "#E5ECF6",
                            "width": 0.5
                          },
                          "pattern": {
                            "fillmode": "overlay",
                            "size": 10,
                            "solidity": 0.2
                          }
                        },
                        "type": "barpolar"
                      }
                    ],
                    "carpet": [
                      {
                        "aaxis": {
                          "endlinecolor": "#2a3f5f",
                          "gridcolor": "white",
                          "linecolor": "white",
                          "minorgridcolor": "white",
                          "startlinecolor": "#2a3f5f"
                        },
                        "baxis": {
                          "endlinecolor": "#2a3f5f",
                          "gridcolor": "white",
                          "linecolor": "white",
                          "minorgridcolor": "white",
                          "startlinecolor": "#2a3f5f"
                        },
                        "type": "carpet"
                      }
                    ],
                    "choropleth": [
                      {
                        "colorbar": {
                          "outlinewidth": 0,
                          "ticks": ""
                        },
                        "type": "choropleth"
                      }
                    ],
                    "contour": [
                      {
                        "colorbar": {
                          "outlinewidth": 0,
                          "ticks": ""
                        },
                        "colorscale": [
                          [
                            0,
                            "#0d0887"
                          ],
                          [
                            0.1111111111111111,
                            "#46039f"
                          ],
                          [
                            0.2222222222222222,
                            "#7201a8"
                          ],
                          [
                            0.3333333333333333,
                            "#9c179e"
                          ],
                          [
                            0.4444444444444444,
                            "#bd3786"
                          ],
                          [
                            0.5555555555555556,
                            "#d8576b"
                          ],
                          [
                            0.6666666666666666,
                            "#ed7953"
                          ],
                          [
                            0.7777777777777778,
                            "#fb9f3a"
                          ],
                          [
                            0.8888888888888888,
                            "#fdca26"
                          ],
                          [
                            1,
                            "#f0f921"
                          ]
                        ],
                        "type": "contour"
                      }
                    ],
                    "contourcarpet": [
                      {
                        "colorbar": {
                          "outlinewidth": 0,
                          "ticks": ""
                        },
                        "type": "contourcarpet"
                      }
                    ],
                    "heatmap": [
                      {
                        "colorbar": {
                          "outlinewidth": 0,
                          "ticks": ""
                        },
                        "colorscale": [
                          [
                            0,
                            "#0d0887"
                          ],
                          [
                            0.1111111111111111,
                            "#46039f"
                          ],
                          [
                            0.2222222222222222,
                            "#7201a8"
                          ],
                          [
                            0.3333333333333333,
                            "#9c179e"
                          ],
                          [
                            0.4444444444444444,
                            "#bd3786"
                          ],
                          [
                            0.5555555555555556,
                            "#d8576b"
                          ],
                          [
                            0.6666666666666666,
                            "#ed7953"
                          ],
                          [
                            0.7777777777777778,
                            "#fb9f3a"
                          ],
                          [
                            0.8888888888888888,
                            "#fdca26"
                          ],
                          [
                            1,
                            "#f0f921"
                          ]
                        ],
                        "type": "heatmap"
                      }
                    ],
                    "heatmapgl": [
                      {
                        "colorbar": {
                          "outlinewidth": 0,
                          "ticks": ""
                        },
                        "colorscale": [
                          [
                            0,
                            "#0d0887"
                          ],
                          [
                            0.1111111111111111,
                            "#46039f"
                          ],
                          [
                            0.2222222222222222,
                            "#7201a8"
                          ],
                          [
                            0.3333333333333333,
                            "#9c179e"
                          ],
                          [
                            0.4444444444444444,
                            "#bd3786"
                          ],
                          [
                            0.5555555555555556,
                            "#d8576b"
                          ],
                          [
                            0.6666666666666666,
                            "#ed7953"
                          ],
                          [
                            0.7777777777777778,
                            "#fb9f3a"
                          ],
                          [
                            0.8888888888888888,
                            "#fdca26"
                          ],
                          [
                            1,
                            "#f0f921"
                          ]
                        ],
                        "type": "heatmapgl"
                      }
                    ],
                    "histogram": [
                      {
                        "marker": {
                          "pattern": {
                            "fillmode": "overlay",
                            "size": 10,
                            "solidity": 0.2
                          }
                        },
                        "type": "histogram"
                      }
                    ],
                    "histogram2d": [
                      {
                        "colorbar": {
                          "outlinewidth": 0,
                          "ticks": ""
                        },
                        "colorscale": [
                          [
                            0,
                            "#0d0887"
                          ],
                          [
                            0.1111111111111111,
                            "#46039f"
                          ],
                          [
                            0.2222222222222222,
                            "#7201a8"
                          ],
                          [
                            0.3333333333333333,
                            "#9c179e"
                          ],
                          [
                            0.4444444444444444,
                            "#bd3786"
                          ],
                          [
                            0.5555555555555556,
                            "#d8576b"
                          ],
                          [
                            0.6666666666666666,
                            "#ed7953"
                          ],
                          [
                            0.7777777777777778,
                            "#fb9f3a"
                          ],
                          [
                            0.8888888888888888,
                            "#fdca26"
                          ],
                          [
                            1,
                            "#f0f921"
                          ]
                        ],
                        "type": "histogram2d"
                      }
                    ],
                    "histogram2dcontour": [
                      {
                        "colorbar": {
                          "outlinewidth": 0,
                          "ticks": ""
                        },
                        "colorscale": [
                          [
                            0,
                            "#0d0887"
                          ],
                          [
                            0.1111111111111111,
                            "#46039f"
                          ],
                          [
                            0.2222222222222222,
                            "#7201a8"
                          ],
                          [
                            0.3333333333333333,
                            "#9c179e"
                          ],
                          [
                            0.4444444444444444,
                            "#bd3786"
                          ],
                          [
                            0.5555555555555556,
                            "#d8576b"
                          ],
                          [
                            0.6666666666666666,
                            "#ed7953"
                          ],
                          [
                            0.7777777777777778,
                            "#fb9f3a"
                          ],
                          [
                            0.8888888888888888,
                            "#fdca26"
                          ],
                          [
                            1,
                            "#f0f921"
                          ]
                        ],
                        "type": "histogram2dcontour"
                      }
                    ],
                    "mesh3d": [
                      {
                        "colorbar": {
                          "outlinewidth": 0,
                          "ticks": ""
                        },
                        "type": "mesh3d"
                      }
                    ],
                    "parcoords": [
                      {
                        "line": {
                          "colorbar": {
                            "outlinewidth": 0,
                            "ticks": ""
                          }
                        },
                        "type": "parcoords"
                      }
                    ],
                    "pie": [
                      {
                        "automargin": true,
                        "type": "pie"
                      }
                    ],
                    "scatter": [
                      {
                        "fillpattern": {
                          "fillmode": "overlay",
                          "size": 10,
                          "solidity": 0.2
                        },
                        "type": "scatter"
                      }
                    ],
                    "scatter3d": [
                      {
                        "line": {
                          "colorbar": {
                            "outlinewidth": 0,
                            "ticks": ""
                          }
                        },
                        "marker": {
                          "colorbar": {
                            "outlinewidth": 0,
                            "ticks": ""
                          }
                        },
                        "type": "scatter3d"
                      }
                    ],
                    "scattercarpet": [
                      {
                        "marker": {
                          "colorbar": {
                            "outlinewidth": 0,
                            "ticks": ""
                          }
                        },
                        "type": "scattercarpet"
                      }
                    ],
                    "scattergeo": [
                      {
                        "marker": {
                          "colorbar": {
                            "outlinewidth": 0,
                            "ticks": ""
                          }
                        },
                        "type": "scattergeo"
                      }
                    ],
                    "scattergl": [
                      {
                        "marker": {
                          "colorbar": {
                            "outlinewidth": 0,
                            "ticks": ""
                          }
                        },
                        "type": "scattergl"
                      }
                    ],
                    "scattermapbox": [
                      {
                        "marker": {
                          "colorbar": {
                            "outlinewidth": 0,
                            "ticks": ""
                          }
                        },
                        "type": "scattermapbox"
                      }
                    ],
                    "scatterpolar": [
                      {
                        "marker": {
                          "colorbar": {
                            "outlinewidth": 0,
                            "ticks": ""
                          }
                        },
                        "type": "scatterpolar"
                      }
                    ],
                    "scatterpolargl": [
                      {
                        "marker": {
                          "colorbar": {
                            "outlinewidth": 0,
                            "ticks": ""
                          }
                        },
                        "type": "scatterpolargl"
                      }
                    ],
                    "scatterternary": [
                      {
                        "marker": {
                          "colorbar": {
                            "outlinewidth": 0,
                            "ticks": ""
                          }
                        },
                        "type": "scatterternary"
                      }
                    ],
                    "surface": [
                      {
                        "colorbar": {
                          "outlinewidth": 0,
                          "ticks": ""
                        },
                        "colorscale": [
                          [
                            0,
                            "#0d0887"
                          ],
                          [
                            0.1111111111111111,
                            "#46039f"
                          ],
                          [
                            0.2222222222222222,
                            "#7201a8"
                          ],
                          [
                            0.3333333333333333,
                            "#9c179e"
                          ],
                          [
                            0.4444444444444444,
                            "#bd3786"
                          ],
                          [
                            0.5555555555555556,
                            "#d8576b"
                          ],
                          [
                            0.6666666666666666,
                            "#ed7953"
                          ],
                          [
                            0.7777777777777778,
                            "#fb9f3a"
                          ],
                          [
                            0.8888888888888888,
                            "#fdca26"
                          ],
                          [
                            1,
                            "#f0f921"
                          ]
                        ],
                        "type": "surface"
                      }
                    ],
                    "table": [
                      {
                        "cells": {
                          "fill": {
                            "color": "#EBF0F8"
                          },
                          "line": {
                            "color": "white"
                          }
                        },
                        "header": {
                          "fill": {
                            "color": "#C8D4E3"
                          },
                          "line": {
                            "color": "white"
                          }
                        },
                        "type": "table"
                      }
                    ]
                  },
                  "layout": {
                    "annotationdefaults": {
                      "arrowcolor": "#2a3f5f",
                      "arrowhead": 0,
                      "arrowwidth": 1
                    },
                    "autotypenumbers": "strict",
                    "coloraxis": {
                      "colorbar": {
                        "outlinewidth": 0,
                        "ticks": ""
                      }
                    },
                    "colorscale": {
                      "diverging": [
                        [
                          0,
                          "#8e0152"
                        ],
                        [
                          0.1,
                          "#c51b7d"
                        ],
                        [
                          0.2,
                          "#de77ae"
                        ],
                        [
                          0.3,
                          "#f1b6da"
                        ],
                        [
                          0.4,
                          "#fde0ef"
                        ],
                        [
                          0.5,
                          "#f7f7f7"
                        ],
                        [
                          0.6,
                          "#e6f5d0"
                        ],
                        [
                          0.7,
                          "#b8e186"
                        ],
                        [
                          0.8,
                          "#7fbc41"
                        ],
                        [
                          0.9,
                          "#4d9221"
                        ],
                        [
                          1,
                          "#276419"
                        ]
                      ],
                      "sequential": [
                        [
                          0,
                          "#0d0887"
                        ],
                        [
                          0.1111111111111111,
                          "#46039f"
                        ],
                        [
                          0.2222222222222222,
                          "#7201a8"
                        ],
                        [
                          0.3333333333333333,
                          "#9c179e"
                        ],
                        [
                          0.4444444444444444,
                          "#bd3786"
                        ],
                        [
                          0.5555555555555556,
                          "#d8576b"
                        ],
                        [
                          0.6666666666666666,
                          "#ed7953"
                        ],
                        [
                          0.7777777777777778,
                          "#fb9f3a"
                        ],
                        [
                          0.8888888888888888,
                          "#fdca26"
                        ],
                        [
                          1,
                          "#f0f921"
                        ]
                      ],
                      "sequentialminus": [
                        [
                          0,
                          "#0d0887"
                        ],
                        [
                          0.1111111111111111,
                          "#46039f"
                        ],
                        [
                          0.2222222222222222,
                          "#7201a8"
                        ],
                        [
                          0.3333333333333333,
                          "#9c179e"
                        ],
                        [
                          0.4444444444444444,
                          "#bd3786"
                        ],
                        [
                          0.5555555555555556,
                          "#d8576b"
                        ],
                        [
                          0.6666666666666666,
                          "#ed7953"
                        ],
                        [
                          0.7777777777777778,
                          "#fb9f3a"
                        ],
                        [
                          0.8888888888888888,
                          "#fdca26"
                        ],
                        [
                          1,
                          "#f0f921"
                        ]
                      ]
                    },
                    "colorway": [
                      "#636efa",
                      "#EF553B",
                      "#00cc96",
                      "#ab63fa",
                      "#FFA15A",
                      "#19d3f3",
                      "#FF6692",
                      "#B6E880",
                      "#FF97FF",
                      "#FECB52"
                    ],
                    "font": {
                      "color": "#2a3f5f"
                    },
                    "geo": {
                      "bgcolor": "white",
                      "lakecolor": "white",
                      "landcolor": "#E5ECF6",
                      "showlakes": true,
                      "showland": true,
                      "subunitcolor": "white"
                    },
                    "hoverlabel": {
                      "align": "left"
                    },
                    "hovermode": "closest",
                    "mapbox": {
                      "style": "light"
                    },
                    "paper_bgcolor": "white",
                    "plot_bgcolor": "#E5ECF6",
                    "polar": {
                      "angularaxis": {
                        "gridcolor": "white",
                        "linecolor": "white",
                        "ticks": ""
                      },
                      "bgcolor": "#E5ECF6",
                      "radialaxis": {
                        "gridcolor": "white",
                        "linecolor": "white",
                        "ticks": ""
                      }
                    },
                    "scene": {
                      "xaxis": {
                        "backgroundcolor": "#E5ECF6",
                        "gridcolor": "white",
                        "gridwidth": 2,
                        "linecolor": "white",
                        "showbackground": true,
                        "ticks": "",
                        "zerolinecolor": "white"
                      },
                      "yaxis": {
                        "backgroundcolor": "#E5ECF6",
                        "gridcolor": "white",
                        "gridwidth": 2,
                        "linecolor": "white",
                        "showbackground": true,
                        "ticks": "",
                        "zerolinecolor": "white"
                      },
                      "zaxis": {
                        "backgroundcolor": "#E5ECF6",
                        "gridcolor": "white",
                        "gridwidth": 2,
                        "linecolor": "white",
                        "showbackground": true,
                        "ticks": "",
                        "zerolinecolor": "white"
                      }
                    },
                    "shapedefaults": {
                      "line": {
                        "color": "#2a3f5f"
                      }
                    },
                    "ternary": {
                      "aaxis": {
                        "gridcolor": "white",
                        "linecolor": "white",
                        "ticks": ""
                      },
                      "baxis": {
                        "gridcolor": "white",
                        "linecolor": "white",
                        "ticks": ""
                      },
                      "bgcolor": "#E5ECF6",
                      "caxis": {
                        "gridcolor": "white",
                        "linecolor": "white",
                        "ticks": ""
                      }
                    },
                    "title": {
                      "x": 0.05
                    },
                    "xaxis": {
                      "automargin": true,
                      "gridcolor": "white",
                      "linecolor": "white",
                      "ticks": "",
                      "title": {
                        "standoff": 15
                      },
                      "zerolinecolor": "white",
                      "zerolinewidth": 2
                    },
                    "yaxis": {
                      "automargin": true,
                      "gridcolor": "white",
                      "linecolor": "white",
                      "ticks": "",
                      "title": {
                        "standoff": 15
                      },
                      "zerolinecolor": "white",
                      "zerolinewidth": 2
                    }
                  }
                },
                "title": {
                  "text": "Average Lot Area by Neighborhood"
                },
                "xaxis": {
                  "anchor": "y",
                  "domain": [
                    0,
                    1
                  ],
                  "title": {
                    "text": "x"
                  }
                },
                "yaxis": {
                  "anchor": "x",
                  "domain": [
                    0,
                    1
                  ],
                  "title": {
                    "text": "y"
                  }
                }
              }
            }
          },
          "metadata": {},
          "output_type": "display_data"
        }
      ],
      "source": [
        "fig = px.bar(cat_train, x=lotarea_neighborhood.index, y=avg_lotarea_neighborhood, title='Average Lot Area by Neighborhood')\n",
        "fig.show()"
      ]
    },
    {
      "cell_type": "code",
      "execution_count": 23,
      "metadata": {
        "colab": {
          "base_uri": "https://localhost:8080/",
          "height": 542
        },
        "id": "qRF2zAJuk2VB",
        "outputId": "92b21f01-006e-4035-f331-ad1f83007d06"
      },
      "outputs": [
        {
          "data": {
            "application/vnd.plotly.v1+json": {
              "config": {
                "plotlyServerURL": "https://plot.ly"
              },
              "data": [
                {
                  "alignmentgroup": "True",
                  "hovertemplate": "Neighborhood=%{x}<br>LotArea=%{y}<extra></extra>",
                  "legendgroup": "",
                  "marker": {
                    "color": "#636efa"
                  },
                  "name": "",
                  "notched": false,
                  "offsetgroup": "",
                  "orientation": "v",
                  "showlegend": false,
                  "type": "box",
                  "x": [
                    "CollgCr",
                    "Veenker",
                    "CollgCr",
                    "Crawfor",
                    "NoRidge",
                    "Mitchel",
                    "Somerst",
                    "NWAmes",
                    "OldTown",
                    "BrkSide",
                    "Sawyer",
                    "NridgHt",
                    "Sawyer",
                    "CollgCr",
                    "NAmes",
                    "BrkSide",
                    "NAmes",
                    "Sawyer",
                    "SawyerW",
                    "NAmes",
                    "NridgHt",
                    "IDOTRR",
                    "CollgCr",
                    "MeadowV",
                    "Sawyer",
                    "NridgHt",
                    "NAmes",
                    "NridgHt",
                    "NAmes",
                    "BrkSide",
                    "IDOTRR",
                    "Sawyer",
                    "CollgCr",
                    "NAmes",
                    "NridgHt",
                    "NridgHt",
                    "CollgCr",
                    "NAmes",
                    "NAmes",
                    "Edwards",
                    "NAmes",
                    "Timber",
                    "SawyerW",
                    "CollgCr",
                    "NAmes",
                    "NridgHt",
                    "Mitchel",
                    "Somerst",
                    "OldTown",
                    "Sawyer",
                    "Gilbert",
                    "BrkSide",
                    "IDOTRR",
                    "Veenker",
                    "NAmes",
                    "NAmes",
                    "Somerst",
                    "CollgCr",
                    "StoneBr",
                    "CollgCr",
                    "SawyerW",
                    "IDOTRR",
                    "NridgHt",
                    "OldTown",
                    "CollgCr",
                    "NridgHt",
                    "NAmes",
                    "CollgCr",
                    "OldTown",
                    "ClearCr",
                    "NAmes",
                    "Mitchel",
                    "Gilbert",
                    "NAmes",
                    "OldTown",
                    "MeadowV",
                    "NAmes",
                    "BrkSide",
                    "Sawyer",
                    "OldTown",
                    "NAmes",
                    "Mitchel",
                    "Somerst",
                    "NAmes",
                    "Gilbert",
                    "NoRidge",
                    "Gilbert",
                    "Somerst",
                    "IDOTRR",
                    "CollgCr",
                    "NAmes",
                    "NAmes",
                    "Crawfor",
                    "OldTown",
                    "CollgCr",
                    "Gilbert",
                    "CollgCr",
                    "Edwards",
                    "Edwards",
                    "NAmes",
                    "NWAmes",
                    "SawyerW",
                    "SawyerW",
                    "CollgCr",
                    "IDOTRR",
                    "Somerst",
                    "OldTown",
                    "OldTown",
                    "IDOTRR",
                    "NWAmes",
                    "Edwards",
                    "Gilbert",
                    "CollgCr",
                    "Crawfor",
                    "Crawfor",
                    "Somerst",
                    "Sawyer",
                    "Edwards",
                    "SawyerW",
                    "CollgCr",
                    "ClearCr",
                    "IDOTRR",
                    "NAmes",
                    "SawyerW",
                    "NWAmes",
                    "IDOTRR",
                    "NPkVill",
                    "OldTown",
                    "NAmes",
                    "NAmes",
                    "NAmes",
                    "Gilbert",
                    "NAmes",
                    "Timber",
                    "Sawyer",
                    "NWAmes",
                    "NAmes",
                    "Mitchel",
                    "CollgCr",
                    "CollgCr",
                    "NAmes",
                    "CollgCr",
                    "NAmes",
                    "CollgCr",
                    "Sawyer",
                    "Edwards",
                    "BrkSide",
                    "Gilbert",
                    "SawyerW",
                    "BrkSide",
                    "CollgCr",
                    "NridgHt",
                    "NWAmes",
                    "ClearCr",
                    "OldTown",
                    "Edwards",
                    "NAmes",
                    "Timber",
                    "Somerst",
                    "Gilbert",
                    "Veenker",
                    "NridgHt",
                    "NridgHt",
                    "OldTown",
                    "OldTown",
                    "Edwards",
                    "ClearCr",
                    "NridgHt",
                    "Gilbert",
                    "Timber",
                    "OldTown",
                    "NAmes",
                    "StoneBr",
                    "NAmes",
                    "Timber",
                    "Edwards",
                    "ClearCr",
                    "Sawyer",
                    "StoneBr",
                    "OldTown",
                    "Somerst",
                    "Crawfor",
                    "Edwards",
                    "OldTown",
                    "BrkSide",
                    "OldTown",
                    "Mitchel",
                    "OldTown",
                    "SawyerW",
                    "StoneBr",
                    "Crawfor",
                    "NAmes",
                    "CollgCr",
                    "Edwards",
                    "CollgCr",
                    "NPkVill",
                    "Somerst",
                    "NAmes",
                    "OldTown",
                    "NridgHt",
                    "Edwards",
                    "Mitchel",
                    "OldTown",
                    "CollgCr",
                    "OldTown",
                    "Gilbert",
                    "Sawyer",
                    "NAmes",
                    "SawyerW",
                    "NAmes",
                    "Edwards",
                    "Edwards",
                    "Somerst",
                    "CollgCr",
                    "CollgCr",
                    "NAmes",
                    "CollgCr",
                    "OldTown",
                    "Crawfor",
                    "Blmngtn",
                    "CollgCr",
                    "Gilbert",
                    "NWAmes",
                    "NAmes",
                    "NridgHt",
                    "BrDale",
                    "NoRidge",
                    "BrDale",
                    "Sawyer",
                    "Blmngtn",
                    "NAmes",
                    "NoRidge",
                    "BrDale",
                    "CollgCr",
                    "Gilbert",
                    "BrDale",
                    "CollgCr",
                    "SawyerW",
                    "NridgHt",
                    "Edwards",
                    "Somerst",
                    "OldTown",
                    "OldTown",
                    "SawyerW",
                    "SawyerW",
                    "NWAmes",
                    "OldTown",
                    "NAmes",
                    "CollgCr",
                    "ClearCr",
                    "BrkSide",
                    "Crawfor",
                    "SawyerW",
                    "NAmes",
                    "NAmes",
                    "Gilbert",
                    "Somerst",
                    "CollgCr",
                    "CollgCr",
                    "OldTown",
                    "NAmes",
                    "CollgCr",
                    "Sawyer",
                    "OldTown",
                    "OldTown",
                    "NWAmes",
                    "Gilbert",
                    "SWISU",
                    "IDOTRR",
                    "Edwards",
                    "Somerst",
                    "ClearCr",
                    "NoRidge",
                    "NAmes",
                    "Mitchel",
                    "BrkSide",
                    "Mitchel",
                    "Gilbert",
                    "NridgHt",
                    "ClearCr",
                    "SawyerW",
                    "Somerst",
                    "NridgHt",
                    "Somerst",
                    "SawyerW",
                    "Somerst",
                    "NAmes",
                    "NAmes",
                    "Sawyer",
                    "BrkSide",
                    "CollgCr",
                    "SWISU",
                    "Edwards",
                    "NWAmes",
                    "NAmes",
                    "Mitchel",
                    "IDOTRR",
                    "Somerst",
                    "NWAmes",
                    "Crawfor",
                    "Crawfor",
                    "CollgCr",
                    "CollgCr",
                    "CollgCr",
                    "OldTown",
                    "CollgCr",
                    "SawyerW",
                    "IDOTRR",
                    "Edwards",
                    "NridgHt",
                    "Gilbert",
                    "NAmes",
                    "OldTown",
                    "Timber",
                    "OldTown",
                    "Gilbert",
                    "NWAmes",
                    "Somerst",
                    "NoRidge",
                    "NWAmes",
                    "NridgHt",
                    "NridgHt",
                    "SawyerW",
                    "OldTown",
                    "NAmes",
                    "IDOTRR",
                    "Veenker",
                    "NAmes",
                    "BrkSide",
                    "IDOTRR",
                    "NAmes",
                    "NAmes",
                    "NridgHt",
                    "NridgHt",
                    "Gilbert",
                    "Timber",
                    "StoneBr",
                    "CollgCr",
                    "NWAmes",
                    "NAmes",
                    "Timber",
                    "SawyerW",
                    "NAmes",
                    "NridgHt",
                    "MeadowV",
                    "BrkSide",
                    "NAmes",
                    "NAmes",
                    "NridgHt",
                    "NridgHt",
                    "NridgHt",
                    "ClearCr",
                    "Edwards",
                    "OldTown",
                    "SWISU",
                    "CollgCr",
                    "Gilbert",
                    "MeadowV",
                    "ClearCr",
                    "NoRidge",
                    "Mitchel",
                    "BrkSide",
                    "Edwards",
                    "BrDale",
                    "NWAmes",
                    "IDOTRR",
                    "NAmes",
                    "NAmes",
                    "NAmes",
                    "NAmes",
                    "Gilbert",
                    "ClearCr",
                    "SawyerW",
                    "NAmes",
                    "CollgCr",
                    "Edwards",
                    "CollgCr",
                    "Somerst",
                    "StoneBr",
                    "Gilbert",
                    "SWISU",
                    "Somerst",
                    "CollgCr",
                    "SawyerW",
                    "ClearCr",
                    "Blmngtn",
                    "Edwards",
                    "Edwards",
                    "CollgCr",
                    "NridgHt",
                    "Edwards",
                    "Mitchel",
                    "NAmes",
                    "BrkSide",
                    "OldTown",
                    "Edwards",
                    "CollgCr",
                    "NAmes",
                    "IDOTRR",
                    "Somerst",
                    "Veenker",
                    "CollgCr",
                    "Sawyer",
                    "NoRidge",
                    "Gilbert",
                    "Sawyer",
                    "SWISU",
                    "Crawfor",
                    "NridgHt",
                    "Somerst",
                    "Edwards",
                    "Gilbert",
                    "Somerst",
                    "OldTown",
                    "SawyerW",
                    "Gilbert",
                    "Sawyer",
                    "Crawfor",
                    "Edwards",
                    "NAmes",
                    "Mitchel",
                    "NWAmes",
                    "Mitchel",
                    "NoRidge",
                    "NAmes",
                    "OldTown",
                    "SawyerW",
                    "NAmes",
                    "CollgCr",
                    "Timber",
                    "BrDale",
                    "OldTown",
                    "BrDale",
                    "Gilbert",
                    "MeadowV",
                    "CollgCr",
                    "OldTown",
                    "BrkSide",
                    "Crawfor",
                    "Edwards",
                    "NridgHt",
                    "Edwards",
                    "BrkSide",
                    "Blmngtn",
                    "CollgCr",
                    "Edwards",
                    "NAmes",
                    "Gilbert",
                    "IDOTRR",
                    "OldTown",
                    "OldTown",
                    "ClearCr",
                    "Timber",
                    "Somerst",
                    "Mitchel",
                    "NWAmes",
                    "OldTown",
                    "ClearCr",
                    "OldTown",
                    "BrkSide",
                    "Somerst",
                    "SWISU",
                    "Sawyer",
                    "Crawfor",
                    "CollgCr",
                    "Blmngtn",
                    "NAmes",
                    "NAmes",
                    "NridgHt",
                    "SawyerW",
                    "StoneBr",
                    "NWAmes",
                    "Edwards",
                    "NridgHt",
                    "StoneBr",
                    "Sawyer",
                    "CollgCr",
                    "NridgHt",
                    "CollgCr",
                    "OldTown",
                    "NridgHt",
                    "NridgHt",
                    "OldTown",
                    "Mitchel",
                    "Sawyer",
                    "NAmes",
                    "NAmes",
                    "NWAmes",
                    "OldTown",
                    "MeadowV",
                    "MeadowV",
                    "NAmes",
                    "Gilbert",
                    "NAmes",
                    "OldTown",
                    "IDOTRR",
                    "NoRidge",
                    "BrkSide",
                    "Sawyer",
                    "NAmes",
                    "BrDale",
                    "Somerst",
                    "Edwards",
                    "Crawfor",
                    "NPkVill",
                    "OldTown",
                    "SawyerW",
                    "Somerst",
                    "OldTown",
                    "NAmes",
                    "NAmes",
                    "NridgHt",
                    "NAmes",
                    "Mitchel",
                    "Crawfor",
                    "NridgHt",
                    "NWAmes",
                    "NoRidge",
                    "CollgCr",
                    "Crawfor",
                    "OldTown",
                    "NAmes",
                    "BrkSide",
                    "Edwards",
                    "NoRidge",
                    "Somerst",
                    "NAmes",
                    "NridgHt",
                    "Edwards",
                    "Crawfor",
                    "Timber",
                    "BrkSide",
                    "NAmes",
                    "BrkSide",
                    "Gilbert",
                    "Edwards",
                    "CollgCr",
                    "NAmes",
                    "Sawyer",
                    "CollgCr",
                    "Timber",
                    "NoRidge",
                    "NWAmes",
                    "NAmes",
                    "Gilbert",
                    "NWAmes",
                    "BrkSide",
                    "Mitchel",
                    "OldTown",
                    "Somerst",
                    "NPkVill",
                    "OldTown",
                    "NridgHt",
                    "Edwards",
                    "NridgHt",
                    "BrkSide",
                    "NAmes",
                    "IDOTRR",
                    "Gilbert",
                    "Blmngtn",
                    "Sawyer",
                    "Mitchel",
                    "Edwards",
                    "Edwards",
                    "NoRidge",
                    "SWISU",
                    "StoneBr",
                    "NridgHt",
                    "SawyerW",
                    "NAmes",
                    "NAmes",
                    "NAmes",
                    "Timber",
                    "Gilbert",
                    "NAmes",
                    "NAmes",
                    "SWISU",
                    "Sawyer",
                    "Somerst",
                    "OldTown",
                    "NAmes",
                    "NridgHt",
                    "Edwards",
                    "OldTown",
                    "BrkSide",
                    "Timber",
                    "BrkSide",
                    "Sawyer",
                    "ClearCr",
                    "BrkSide",
                    "CollgCr",
                    "NridgHt",
                    "Mitchel",
                    "CollgCr",
                    "CollgCr",
                    "StoneBr",
                    "OldTown",
                    "Blmngtn",
                    "Crawfor",
                    "Blueste",
                    "NridgHt",
                    "IDOTRR",
                    "SawyerW",
                    "Somerst",
                    "CollgCr",
                    "NAmes",
                    "CollgCr",
                    "Edwards",
                    "Crawfor",
                    "Sawyer",
                    "CollgCr",
                    "NWAmes",
                    "CollgCr",
                    "Mitchel",
                    "MeadowV",
                    "NAmes",
                    "Gilbert",
                    "NAmes",
                    "NridgHt",
                    "Timber",
                    "Edwards",
                    "NWAmes",
                    "Sawyer",
                    "Somerst",
                    "NWAmes",
                    "NAmes",
                    "NAmes",
                    "NAmes",
                    "NAmes",
                    "NAmes",
                    "OldTown",
                    "NridgHt",
                    "NWAmes",
                    "NAmes",
                    "OldTown",
                    "SWISU",
                    "BrkSide",
                    "OldTown",
                    "Edwards",
                    "Blmngtn",
                    "NridgHt",
                    "Somerst",
                    "NAmes",
                    "NWAmes",
                    "Somerst",
                    "NAmes",
                    "NAmes",
                    "Edwards",
                    "NAmes",
                    "MeadowV",
                    "Somerst",
                    "Edwards",
                    "CollgCr",
                    "IDOTRR",
                    "NoRidge",
                    "BrDale",
                    "NAmes",
                    "Crawfor",
                    "NAmes",
                    "Edwards",
                    "NWAmes",
                    "NoRidge",
                    "NAmes",
                    "Edwards",
                    "Somerst",
                    "Gilbert",
                    "NAmes",
                    "SawyerW",
                    "Sawyer",
                    "Crawfor",
                    "CollgCr",
                    "Edwards",
                    "Veenker",
                    "Crawfor",
                    "NAmes",
                    "NPkVill",
                    "OldTown",
                    "OldTown",
                    "StoneBr",
                    "Sawyer",
                    "SawyerW",
                    "SWISU",
                    "ClearCr",
                    "CollgCr",
                    "NoRidge",
                    "StoneBr",
                    "Somerst",
                    "Somerst",
                    "StoneBr",
                    "NridgHt",
                    "CollgCr",
                    "NoRidge",
                    "Timber",
                    "OldTown",
                    "BrkSide",
                    "Timber",
                    "BrkSide",
                    "Edwards",
                    "Sawyer",
                    "Somerst",
                    "Timber",
                    "NWAmes",
                    "StoneBr",
                    "OldTown",
                    "CollgCr",
                    "IDOTRR",
                    "ClearCr",
                    "NridgHt",
                    "Gilbert",
                    "Sawyer",
                    "BrkSide",
                    "IDOTRR",
                    "StoneBr",
                    "BrkSide",
                    "Sawyer",
                    "NWAmes",
                    "OldTown",
                    "NWAmes",
                    "NoRidge",
                    "CollgCr",
                    "StoneBr",
                    "CollgCr",
                    "NAmes",
                    "Edwards",
                    "Edwards",
                    "NAmes",
                    "Crawfor",
                    "CollgCr",
                    "NAmes",
                    "IDOTRR",
                    "StoneBr",
                    "Timber",
                    "CollgCr",
                    "Sawyer",
                    "Sawyer",
                    "OldTown",
                    "NAmes",
                    "Gilbert",
                    "Edwards",
                    "CollgCr",
                    "OldTown",
                    "Sawyer",
                    "SawyerW",
                    "Sawyer",
                    "StoneBr",
                    "NWAmes",
                    "Gilbert",
                    "OldTown",
                    "NoRidge",
                    "Edwards",
                    "OldTown",
                    "Gilbert",
                    "CollgCr",
                    "NridgHt",
                    "NAmes",
                    "Somerst",
                    "CollgCr",
                    "Sawyer",
                    "Somerst",
                    "NoRidge",
                    "NAmes",
                    "BrkSide",
                    "Somerst",
                    "NoRidge",
                    "Veenker",
                    "Somerst",
                    "NWAmes",
                    "Mitchel",
                    "CollgCr",
                    "StoneBr",
                    "Sawyer",
                    "Edwards",
                    "Edwards",
                    "NAmes",
                    "NridgHt",
                    "Mitchel",
                    "CollgCr",
                    "Sawyer",
                    "SawyerW",
                    "Mitchel",
                    "Gilbert",
                    "SawyerW",
                    "CollgCr",
                    "Mitchel",
                    "OldTown",
                    "NWAmes",
                    "OldTown",
                    "SawyerW",
                    "OldTown",
                    "ClearCr",
                    "Blmngtn",
                    "Mitchel",
                    "NoRidge",
                    "Somerst",
                    "Gilbert",
                    "SawyerW",
                    "Sawyer",
                    "NAmes",
                    "NridgHt",
                    "SWISU",
                    "ClearCr",
                    "IDOTRR",
                    "CollgCr",
                    "NridgHt",
                    "NAmes",
                    "Somerst",
                    "NAmes",
                    "BrkSide",
                    "NAmes",
                    "OldTown",
                    "NWAmes",
                    "CollgCr",
                    "IDOTRR",
                    "NAmes",
                    "Edwards",
                    "CollgCr",
                    "NAmes",
                    "Mitchel",
                    "ClearCr",
                    "NridgHt",
                    "CollgCr",
                    "OldTown",
                    "Gilbert",
                    "SWISU",
                    "Somerst",
                    "NridgHt",
                    "BrkSide",
                    "SawyerW",
                    "ClearCr",
                    "Somerst",
                    "NAmes",
                    "Somerst",
                    "CollgCr",
                    "NAmes",
                    "NAmes",
                    "Sawyer",
                    "OldTown",
                    "BrDale",
                    "CollgCr",
                    "Edwards",
                    "SWISU",
                    "OldTown",
                    "NAmes",
                    "NAmes",
                    "OldTown",
                    "Sawyer",
                    "SawyerW",
                    "CollgCr",
                    "ClearCr",
                    "Veenker",
                    "CollgCr",
                    "Blmngtn",
                    "Crawfor",
                    "NAmes",
                    "Sawyer",
                    "Sawyer",
                    "CollgCr",
                    "Gilbert",
                    "NWAmes",
                    "NWAmes",
                    "Crawfor",
                    "Sawyer",
                    "SawyerW",
                    "NAmes",
                    "Somerst",
                    "NAmes",
                    "Timber",
                    "Sawyer",
                    "Gilbert",
                    "SawyerW",
                    "NAmes",
                    "CollgCr",
                    "NAmes",
                    "NAmes",
                    "OldTown",
                    "Somerst",
                    "Mitchel",
                    "NridgHt",
                    "Sawyer",
                    "CollgCr",
                    "Edwards",
                    "Timber",
                    "Gilbert",
                    "SWISU",
                    "NAmes",
                    "Somerst",
                    "NAmes",
                    "Edwards",
                    "NAmes",
                    "NAmes",
                    "NAmes",
                    "Sawyer",
                    "Sawyer",
                    "Sawyer",
                    "SawyerW",
                    "NAmes",
                    "IDOTRR",
                    "SawyerW",
                    "NridgHt",
                    "Sawyer",
                    "NAmes",
                    "NAmes",
                    "Gilbert",
                    "Gilbert",
                    "Sawyer",
                    "NAmes",
                    "Somerst",
                    "Crawfor",
                    "Mitchel",
                    "Gilbert",
                    "NAmes",
                    "CollgCr",
                    "BrkSide",
                    "Crawfor",
                    "Somerst",
                    "MeadowV",
                    "IDOTRR",
                    "Edwards",
                    "SawyerW",
                    "NAmes",
                    "SawyerW",
                    "Edwards",
                    "Gilbert",
                    "SawyerW",
                    "NWAmes",
                    "NWAmes",
                    "NridgHt",
                    "NWAmes",
                    "CollgCr",
                    "Gilbert",
                    "Timber",
                    "NAmes",
                    "Somerst",
                    "CollgCr",
                    "NAmes",
                    "BrkSide",
                    "SawyerW",
                    "Somerst",
                    "CollgCr",
                    "ClearCr",
                    "Mitchel",
                    "Gilbert",
                    "Edwards",
                    "Mitchel",
                    "Timber",
                    "OldTown",
                    "NAmes",
                    "Timber",
                    "CollgCr",
                    "NWAmes",
                    "NAmes",
                    "SawyerW",
                    "CollgCr",
                    "Mitchel",
                    "Edwards",
                    "Crawfor",
                    "Blueste",
                    "Sawyer",
                    "CollgCr",
                    "Somerst",
                    "BrkSide",
                    "NWAmes",
                    "NPkVill",
                    "CollgCr",
                    "Timber",
                    "Gilbert",
                    "Crawfor",
                    "NAmes",
                    "OldTown",
                    "NAmes",
                    "NAmes",
                    "NridgHt",
                    "SawyerW",
                    "Somerst",
                    "BrkSide",
                    "Somerst",
                    "BrkSide",
                    "Somerst",
                    "Edwards",
                    "Sawyer",
                    "NAmes",
                    "NoRidge",
                    "Blmngtn",
                    "CollgCr",
                    "Mitchel",
                    "Edwards",
                    "OldTown",
                    "NridgHt",
                    "NWAmes",
                    "Somerst",
                    "NoRidge",
                    "OldTown",
                    "NAmes",
                    "CollgCr",
                    "NridgHt",
                    "BrkSide",
                    "NAmes",
                    "NWAmes",
                    "IDOTRR",
                    "CollgCr",
                    "Edwards",
                    "OldTown",
                    "Somerst",
                    "NWAmes",
                    "Blmngtn",
                    "CollgCr",
                    "NAmes",
                    "MeadowV",
                    "Mitchel",
                    "SWISU",
                    "Sawyer",
                    "Edwards",
                    "Crawfor",
                    "OldTown",
                    "NAmes",
                    "NWAmes",
                    "CollgCr",
                    "StoneBr",
                    "Gilbert",
                    "Blmngtn",
                    "Edwards",
                    "CollgCr",
                    "OldTown",
                    "Blmngtn",
                    "Timber",
                    "CollgCr",
                    "NAmes",
                    "Timber",
                    "NAmes",
                    "BrDale",
                    "SWISU",
                    "SWISU",
                    "NoRidge",
                    "CollgCr",
                    "Crawfor",
                    "Edwards",
                    "Timber",
                    "CollgCr",
                    "MeadowV",
                    "MeadowV",
                    "Sawyer",
                    "NWAmes",
                    "NridgHt",
                    "SawyerW",
                    "NWAmes",
                    "Edwards",
                    "StoneBr",
                    "CollgCr",
                    "Mitchel",
                    "Edwards",
                    "Gilbert",
                    "CollgCr",
                    "NAmes",
                    "Edwards",
                    "CollgCr",
                    "NWAmes",
                    "NridgHt",
                    "NoRidge",
                    "NridgHt",
                    "Crawfor",
                    "StoneBr",
                    "IDOTRR",
                    "OldTown",
                    "OldTown",
                    "NAmes",
                    "ClearCr",
                    "Gilbert",
                    "NAmes",
                    "MeadowV",
                    "NAmes",
                    "NAmes",
                    "NWAmes",
                    "Edwards",
                    "Edwards",
                    "CollgCr",
                    "Crawfor",
                    "OldTown",
                    "NAmes",
                    "CollgCr",
                    "CollgCr",
                    "NWAmes",
                    "Sawyer",
                    "CollgCr",
                    "NAmes",
                    "Gilbert",
                    "SawyerW",
                    "MeadowV",
                    "Somerst",
                    "Edwards",
                    "Somerst",
                    "NAmes",
                    "Somerst",
                    "SWISU",
                    "NAmes",
                    "NAmes",
                    "CollgCr",
                    "IDOTRR",
                    "StoneBr",
                    "BrkSide",
                    "NWAmes",
                    "SWISU",
                    "NAmes",
                    "NAmes",
                    "NAmes",
                    "BrDale",
                    "NoRidge",
                    "SawyerW",
                    "Gilbert",
                    "Gilbert",
                    "NridgHt",
                    "Gilbert",
                    "NWAmes",
                    "NAmes",
                    "NAmes",
                    "OldTown",
                    "NridgHt",
                    "Gilbert",
                    "Sawyer",
                    "Sawyer",
                    "NAmes",
                    "IDOTRR",
                    "CollgCr",
                    "Edwards",
                    "Edwards",
                    "Gilbert",
                    "NAmes",
                    "Blmngtn",
                    "Gilbert",
                    "Gilbert",
                    "OldTown",
                    "SWISU",
                    "Mitchel",
                    "OldTown",
                    "SawyerW",
                    "Gilbert",
                    "BrkSide",
                    "NAmes",
                    "Sawyer",
                    "Mitchel",
                    "BrkSide",
                    "NAmes",
                    "NWAmes",
                    "CollgCr",
                    "Sawyer",
                    "Edwards",
                    "BrkSide",
                    "SawyerW",
                    "Crawfor",
                    "OldTown",
                    "OldTown",
                    "NAmes",
                    "Edwards",
                    "Crawfor",
                    "IDOTRR",
                    "NAmes",
                    "Veenker",
                    "NAmes",
                    "NridgHt",
                    "Somerst",
                    "NWAmes",
                    "NPkVill",
                    "Crawfor",
                    "Sawyer",
                    "Sawyer",
                    "Veenker",
                    "NridgHt",
                    "CollgCr",
                    "Gilbert",
                    "Edwards",
                    "NoRidge",
                    "Mitchel",
                    "NAmes",
                    "Somerst",
                    "ClearCr",
                    "Crawfor",
                    "NoRidge",
                    "Mitchel",
                    "OldTown",
                    "Crawfor",
                    "Edwards",
                    "Timber",
                    "Crawfor",
                    "NoRidge",
                    "OldTown",
                    "Timber",
                    "Edwards",
                    "OldTown",
                    "NoRidge",
                    "CollgCr",
                    "Gilbert",
                    "Mitchel",
                    "Somerst",
                    "OldTown",
                    "Mitchel",
                    "Sawyer",
                    "Gilbert",
                    "Gilbert",
                    "OldTown",
                    "CollgCr",
                    "Sawyer",
                    "NAmes",
                    "CollgCr",
                    "BrkSide",
                    "CollgCr",
                    "NWAmes",
                    "SawyerW",
                    "SawyerW",
                    "CollgCr",
                    "NAmes",
                    "Somerst",
                    "SawyerW",
                    "Gilbert",
                    "Edwards",
                    "Sawyer",
                    "NAmes",
                    "Sawyer",
                    "Sawyer",
                    "Somerst",
                    "BrkSide",
                    "BrDale",
                    "NAmes",
                    "Sawyer",
                    "NAmes",
                    "NAmes",
                    "Gilbert",
                    "NAmes",
                    "Somerst",
                    "NAmes",
                    "NridgHt",
                    "NAmes",
                    "Sawyer",
                    "NAmes",
                    "NAmes",
                    "NAmes",
                    "SWISU",
                    "Crawfor",
                    "NridgHt",
                    "CollgCr",
                    "SawyerW",
                    "Timber",
                    "CollgCr",
                    "Somerst",
                    "NWAmes",
                    "NridgHt",
                    "Crawfor",
                    "NWAmes",
                    "Somerst",
                    "Mitchel",
                    "OldTown",
                    "NAmes",
                    "NAmes",
                    "NridgHt",
                    "Mitchel",
                    "Veenker",
                    "Edwards",
                    "BrkSide",
                    "NoRidge",
                    "Edwards",
                    "Gilbert",
                    "NAmes",
                    "Gilbert",
                    "NAmes",
                    "ClearCr",
                    "BrkSide",
                    "NAmes",
                    "Somerst",
                    "OldTown",
                    "Timber",
                    "Crawfor",
                    "NAmes",
                    "ClearCr",
                    "NWAmes",
                    "Sawyer",
                    "Edwards",
                    "Crawfor",
                    "NAmes",
                    "NWAmes",
                    "NWAmes",
                    "CollgCr",
                    "IDOTRR",
                    "CollgCr",
                    "Timber",
                    "CollgCr",
                    "Mitchel",
                    "SWISU",
                    "BrkSide",
                    "NWAmes",
                    "ClearCr",
                    "StoneBr",
                    "NridgHt",
                    "NAmes",
                    "BrDale",
                    "OldTown",
                    "NWAmes",
                    "Edwards",
                    "NAmes",
                    "NAmes",
                    "Edwards",
                    "Edwards",
                    "NAmes",
                    "Gilbert",
                    "Crawfor",
                    "NoRidge",
                    "Somerst",
                    "Edwards",
                    "NridgHt",
                    "NridgHt",
                    "CollgCr",
                    "OldTown",
                    "SawyerW",
                    "Crawfor",
                    "CollgCr",
                    "NoRidge",
                    "NoRidge",
                    "Edwards",
                    "NAmes",
                    "CollgCr",
                    "Somerst",
                    "CollgCr",
                    "Edwards",
                    "NAmes",
                    "BrkSide",
                    "NoRidge",
                    "BrkSide",
                    "Somerst",
                    "IDOTRR",
                    "Edwards",
                    "Mitchel",
                    "OldTown",
                    "Gilbert",
                    "Somerst",
                    "CollgCr",
                    "Edwards",
                    "IDOTRR",
                    "BrDale",
                    "NWAmes",
                    "NWAmes",
                    "OldTown",
                    "CollgCr",
                    "CollgCr",
                    "NAmes",
                    "SawyerW",
                    "CollgCr",
                    "Crawfor",
                    "CollgCr",
                    "OldTown",
                    "NWAmes",
                    "Timber",
                    "SawyerW",
                    "OldTown",
                    "NAmes",
                    "NAmes",
                    "BrkSide",
                    "NoRidge",
                    "CollgCr",
                    "NWAmes",
                    "NAmes",
                    "NAmes",
                    "Somerst",
                    "NridgHt",
                    "SWISU",
                    "StoneBr",
                    "NAmes",
                    "Gilbert",
                    "Somerst",
                    "Somerst",
                    "CollgCr",
                    "MeadowV",
                    "CollgCr",
                    "CollgCr",
                    "OldTown",
                    "NAmes",
                    "CollgCr",
                    "NoRidge",
                    "Somerst",
                    "Timber",
                    "SWISU",
                    "Edwards",
                    "BrDale",
                    "Timber",
                    "Edwards",
                    "NAmes",
                    "OldTown",
                    "Sawyer",
                    "Edwards",
                    "IDOTRR",
                    "NWAmes",
                    "OldTown",
                    "Gilbert",
                    "BrkSide",
                    "CollgCr",
                    "NAmes",
                    "NAmes",
                    "OldTown",
                    "Blmngtn",
                    "Timber",
                    "Timber",
                    "BrkSide",
                    "NAmes",
                    "SWISU",
                    "BrkSide",
                    "Gilbert",
                    "CollgCr",
                    "Somerst",
                    "OldTown",
                    "Crawfor",
                    "CollgCr",
                    "Mitchel",
                    "OldTown",
                    "NWAmes",
                    "CollgCr",
                    "NAmes",
                    "NAmes",
                    "SawyerW",
                    "BrkSide",
                    "Blmngtn",
                    "OldTown",
                    "NoRidge",
                    "NAmes",
                    "Crawfor",
                    "NWAmes",
                    "NPkVill",
                    "CollgCr",
                    "Edwards",
                    "NAmes",
                    "NAmes",
                    "NoRidge",
                    "NAmes",
                    "OldTown",
                    "NWAmes",
                    "Gilbert",
                    "NPkVill",
                    "OldTown",
                    "Gilbert",
                    "Mitchel",
                    "NAmes",
                    "NAmes",
                    "NridgHt",
                    "OldTown",
                    "NWAmes",
                    "Crawfor",
                    "CollgCr",
                    "Somerst",
                    "BrkSide",
                    "CollgCr",
                    "Sawyer",
                    "Mitchel",
                    "CollgCr",
                    "Edwards",
                    "MeadowV",
                    "NAmes",
                    "Somerst",
                    "Edwards",
                    "Mitchel",
                    "Somerst",
                    "Gilbert",
                    "NWAmes",
                    "Crawfor",
                    "NAmes",
                    "Edwards"
                  ],
                  "x0": " ",
                  "xaxis": "x",
                  "y": [
                    8450,
                    9600,
                    11250,
                    9550,
                    14260,
                    14115,
                    10084,
                    10382,
                    6120,
                    7420,
                    11200,
                    11924,
                    12968,
                    10652,
                    10920,
                    6120,
                    11241,
                    10791,
                    13695,
                    7560,
                    14215,
                    7449,
                    9742,
                    4224,
                    8246,
                    14230,
                    7200,
                    11478,
                    16321,
                    6324,
                    8500,
                    8544,
                    11049,
                    10552,
                    7313,
                    13418,
                    10859,
                    8532,
                    7922,
                    6040,
                    8658,
                    16905,
                    9180,
                    9200,
                    7945,
                    7658,
                    12822,
                    11096,
                    4456,
                    7742,
                    13869,
                    6240,
                    8472,
                    50271,
                    7134,
                    10175,
                    2645,
                    11645,
                    13682,
                    7200,
                    13072,
                    7200,
                    6442,
                    10300,
                    9375,
                    9591,
                    19900,
                    10665,
                    4608,
                    15593,
                    13651,
                    7599,
                    10141,
                    10200,
                    5790,
                    1596,
                    8475,
                    8635,
                    10778,
                    10440,
                    13000,
                    4500,
                    10206,
                    8892,
                    8530,
                    16059,
                    11911,
                    3951,
                    8470,
                    8070,
                    7200,
                    8500,
                    13360,
                    7200,
                    9337,
                    9765,
                    10264,
                    10921,
                    10625,
                    9320,
                    10603,
                    9206,
                    7018,
                    10402,
                    7758,
                    9375,
                    10800,
                    6000,
                    8500,
                    11751,
                    9525,
                    7750,
                    9965,
                    21000,
                    7259,
                    3230,
                    11616,
                    8536,
                    12376,
                    8461,
                    21453,
                    6060,
                    9464,
                    7892,
                    17043,
                    6780,
                    4928,
                    4388,
                    7590,
                    8973,
                    14200,
                    12224,
                    7388,
                    6853,
                    10335,
                    10400,
                    10355,
                    11070,
                    9066,
                    15426,
                    10500,
                    11645,
                    8520,
                    10335,
                    9100,
                    2522,
                    6120,
                    9505,
                    7500,
                    6240,
                    10356,
                    13891,
                    14803,
                    13500,
                    11340,
                    9600,
                    7200,
                    12003,
                    12552,
                    19378,
                    11120,
                    13688,
                    12182,
                    5500,
                    5400,
                    10106,
                    10708,
                    10562,
                    8244,
                    16669,
                    12358,
                    31770,
                    5306,
                    10197,
                    12416,
                    12615,
                    10029,
                    13650,
                    17423,
                    8520,
                    2117,
                    7588,
                    9060,
                    11426,
                    7438,
                    22950,
                    9947,
                    10410,
                    7018,
                    4923,
                    10570,
                    7472,
                    9017,
                    2522,
                    7180,
                    2280,
                    9416,
                    25419,
                    5520,
                    9591,
                    8546,
                    10125,
                    7000,
                    4438,
                    3500,
                    11851,
                    13673,
                    12493,
                    14364,
                    8250,
                    5604,
                    10420,
                    8640,
                    13568,
                    10900,
                    10011,
                    8450,
                    9906,
                    15660,
                    3010,
                    8990,
                    8068,
                    11475,
                    10500,
                    13472,
                    1680,
                    9950,
                    1869,
                    8521,
                    3182,
                    8760,
                    15138,
                    1680,
                    10650,
                    7851,
                    1680,
                    8773,
                    9453,
                    12030,
                    8741,
                    9000,
                    3880,
                    5000,
                    10762,
                    8880,
                    10400,
                    9142,
                    11310,
                    11317,
                    159000,
                    5350,
                    4750,
                    8366,
                    9350,
                    8400,
                    8738,
                    8791,
                    8814,
                    12435,
                    12702,
                    19296,
                    9588,
                    8471,
                    5500,
                    5232,
                    12090,
                    11207,
                    8400,
                    6900,
                    7917,
                    10728,
                    39104,
                    11764,
                    9600,
                    8314,
                    7264,
                    9196,
                    19138,
                    14450,
                    10005,
                    11287,
                    7200,
                    5063,
                    9612,
                    8012,
                    4251,
                    9786,
                    8125,
                    9819,
                    8730,
                    15611,
                    5687,
                    11409,
                    16659,
                    9600,
                    7937,
                    13710,
                    7399,
                    11700,
                    14000,
                    15750,
                    16226,
                    13704,
                    9800,
                    18386,
                    10386,
                    13474,
                    7920,
                    12342,
                    12378,
                    7685,
                    8000,
                    7800,
                    215245,
                    9600,
                    7795,
                    13005,
                    9000,
                    9900,
                    14115,
                    16259,
                    12099,
                    10380,
                    5820,
                    11275,
                    5000,
                    10846,
                    11600,
                    11888,
                    6402,
                    10624,
                    8176,
                    10655,
                    8198,
                    9042,
                    164660,
                    14157,
                    9135,
                    14145,
                    12400,
                    14191,
                    8400,
                    8544,
                    8849,
                    2592,
                    6435,
                    12772,
                    17600,
                    2448,
                    20431,
                    7820,
                    5271,
                    9084,
                    8520,
                    8400,
                    11249,
                    9248,
                    4224,
                    6930,
                    12011,
                    7540,
                    9144,
                    7301,
                    1680,
                    18800,
                    10690,
                    9500,
                    9150,
                    7800,
                    9830,
                    8121,
                    17120,
                    7175,
                    10634,
                    8200,
                    10020,
                    8846,
                    11143,
                    11394,
                    8123,
                    5000,
                    7200,
                    9245,
                    9000,
                    53107,
                    3182,
                    8410,
                    7200,
                    9382,
                    12474,
                    8405,
                    12209,
                    8339,
                    7446,
                    10134,
                    9571,
                    7200,
                    7590,
                    8967,
                    8125,
                    14963,
                    8767,
                    10200,
                    12090,
                    10364,
                    9991,
                    10480,
                    15576,
                    14154,
                    10800,
                    9571,
                    34650,
                    4403,
                    8960,
                    11228,
                    8899,
                    7844,
                    22420,
                    8160,
                    8450,
                    7060,
                    16635,
                    21750,
                    9200,
                    9000,
                    3378,
                    12800,
                    8593,
                    6762,
                    11457,
                    1680,
                    5586,
                    1920,
                    10839,
                    1890,
                    10667,
                    4400,
                    6000,
                    4280,
                    12354,
                    15431,
                    12108,
                    6240,
                    3922,
                    8750,
                    9855,
                    16492,
                    11214,
                    8600,
                    6000,
                    5684,
                    70761,
                    9303,
                    9000,
                    9297,
                    9600,
                    4571,
                    53227,
                    5100,
                    7015,
                    8004,
                    7200,
                    8281,
                    11988,
                    8430,
                    3072,
                    10628,
                    9480,
                    11428,
                    9291,
                    6820,
                    11952,
                    3675,
                    14977,
                    5330,
                    8480,
                    13125,
                    13693,
                    10637,
                    5925,
                    16033,
                    11846,
                    2500,
                    4500,
                    7758,
                    9600,
                    10289,
                    12243,
                    10800,
                    1526,
                    2665,
                    9490,
                    15578,
                    7931,
                    5784,
                    7879,
                    12692,
                    9120,
                    7800,
                    7535,
                    1890,
                    9803,
                    9170,
                    15602,
                    2308,
                    7596,
                    9554,
                    7862,
                    9600,
                    9600,
                    14559,
                    6792,
                    9100,
                    9187,
                    10594,
                    12220,
                    10448,
                    10208,
                    9531,
                    10918,
                    10800,
                    11988,
                    5000,
                    40094,
                    11787,
                    7500,
                    13300,
                    14948,
                    9098,
                    32668,
                    10200,
                    6155,
                    7200,
                    5000,
                    9056,
                    7000,
                    8924,
                    12735,
                    11553,
                    11423,
                    14601,
                    11000,
                    10140,
                    4058,
                    17104,
                    13837,
                    8737,
                    7244,
                    8235,
                    9375,
                    4043,
                    6000,
                    11146,
                    8777,
                    10625,
                    6380,
                    14850,
                    11040,
                    21872,
                    3196,
                    11341,
                    10010,
                    13907,
                    21780,
                    13346,
                    6858,
                    11198,
                    10171,
                    12327,
                    7032,
                    13101,
                    7332,
                    13159,
                    9967,
                    10500,
                    8480,
                    6292,
                    11777,
                    3604,
                    12150,
                    14585,
                    12704,
                    11841,
                    13500,
                    6120,
                    11443,
                    10267,
                    8740,
                    25095,
                    9100,
                    8320,
                    13478,
                    6600,
                    4435,
                    7990,
                    11302,
                    3600,
                    3922,
                    12984,
                    1950,
                    10927,
                    9000,
                    10041,
                    3182,
                    12803,
                    13600,
                    12464,
                    7800,
                    12168,
                    7943,
                    11050,
                    10395,
                    11885,
                    8402,
                    1491,
                    8800,
                    7861,
                    7227,
                    11694,
                    12244,
                    8248,
                    10800,
                    7064,
                    2117,
                    10400,
                    10000,
                    12342,
                    9600,
                    11606,
                    9020,
                    9000,
                    4590,
                    11900,
                    9250,
                    6979,
                    10896,
                    6120,
                    6000,
                    8777,
                    3982,
                    12677,
                    7050,
                    13860,
                    10793,
                    9187,
                    10530,
                    7200,
                    10452,
                    7700,
                    1936,
                    8125,
                    9084,
                    8750,
                    10320,
                    10437,
                    1680,
                    10007,
                    7200,
                    17503,
                    9937,
                    12384,
                    46589,
                    13560,
                    10012,
                    20896,
                    11194,
                    18450,
                    8125,
                    14175,
                    11600,
                    8633,
                    6629,
                    11250,
                    14442,
                    9200,
                    2289,
                    9600,
                    9022,
                    11844,
                    9945,
                    8012,
                    4500,
                    2887,
                    11248,
                    16770,
                    5062,
                    10207,
                    5105,
                    8089,
                    7577,
                    4426,
                    21535,
                    26178,
                    5400,
                    6120,
                    13811,
                    6000,
                    6420,
                    8450,
                    4282,
                    14331,
                    9600,
                    12438,
                    7630,
                    8400,
                    5600,
                    115149,
                    6240,
                    9018,
                    7162,
                    4130,
                    8712,
                    4671,
                    9873,
                    13517,
                    10140,
                    10800,
                    10000,
                    10542,
                    9920,
                    6563,
                    4426,
                    8120,
                    8172,
                    13286,
                    6960,
                    21695,
                    7314,
                    11475,
                    6240,
                    5389,
                    9590,
                    11404,
                    10000,
                    8978,
                    10800,
                    8544,
                    10463,
                    10800,
                    9313,
                    9600,
                    6768,
                    8450,
                    12886,
                    5395,
                    8963,
                    8795,
                    11700,
                    10593,
                    8405,
                    8800,
                    7750,
                    9236,
                    10240,
                    7930,
                    3230,
                    10769,
                    11616,
                    2280,
                    12257,
                    9100,
                    6911,
                    8640,
                    9430,
                    9549,
                    14587,
                    10421,
                    12508,
                    9100,
                    53504,
                    7252,
                    8877,
                    7819,
                    10150,
                    14226,
                    4500,
                    11210,
                    13350,
                    8400,
                    10530,
                    7875,
                    7153,
                    16285,
                    9101,
                    6300,
                    9790,
                    10800,
                    10142,
                    6000,
                    12205,
                    3182,
                    11333,
                    9920,
                    9158,
                    10832,
                    8400,
                    8197,
                    7677,
                    13518,
                    7200,
                    12798,
                    4800,
                    8199,
                    13891,
                    9000,
                    12274,
                    9750,
                    21384,
                    13400,
                    8100,
                    10140,
                    4438,
                    8712,
                    9750,
                    8248,
                    12137,
                    11425,
                    13265,
                    8816,
                    6371,
                    7226,
                    6000,
                    12394,
                    9900,
                    11216,
                    14803,
                    6130,
                    8529,
                    28698,
                    2544,
                    11900,
                    3180,
                    9548,
                    10004,
                    7875,
                    9600,
                    8100,
                    1680,
                    9525,
                    11767,
                    12155,
                    10440,
                    9020,
                    8000,
                    12665,
                    16647,
                    9317,
                    15523,
                    45600,
                    9600,
                    4435,
                    3196,
                    7128,
                    12095,
                    17920,
                    6897,
                    10970,
                    8125,
                    10400,
                    11029,
                    7642,
                    11625,
                    9672,
                    7931,
                    8640,
                    8750,
                    10656,
                    6970,
                    14762,
                    9938,
                    6600,
                    8750,
                    8892,
                    12144,
                    5720,
                    9000,
                    25286,
                    8834,
                    11782,
                    7000,
                    7024,
                    13758,
                    9636,
                    6204,
                    7150,
                    5119,
                    8393,
                    16466,
                    15865,
                    12160,
                    8064,
                    11184,
                    8414,
                    13284,
                    7018,
                    7056,
                    8765,
                    7018,
                    12919,
                    6993,
                    7340,
                    8712,
                    7875,
                    14859,
                    6173,
                    9920,
                    13501,
                    11500,
                    8885,
                    12589,
                    11600,
                    9286,
                    6120,
                    6270,
                    3000,
                    2001,
                    9000,
                    17140,
                    13125,
                    11029,
                    8462,
                    8777,
                    10237,
                    8012,
                    10240,
                    15611,
                    11999,
                    9900,
                    11838,
                    13006,
                    8925,
                    9100,
                    11670,
                    8487,
                    27650,
                    5825,
                    10083,
                    9675,
                    8760,
                    24090,
                    12640,
                    8755,
                    7711,
                    25000,
                    14375,
                    8820,
                    8163,
                    14536,
                    14006,
                    9360,
                    7200,
                    7800,
                    7200,
                    11075,
                    9400,
                    7136,
                    1300,
                    7420,
                    8450,
                    2572,
                    7207,
                    12227,
                    2308,
                    11923,
                    11316,
                    10237,
                    9600,
                    7390,
                    5925,
                    10382,
                    10800,
                    2268,
                    7892,
                    11639,
                    11414,
                    2651,
                    5900,
                    4274,
                    9450,
                    8816,
                    12122,
                    12203,
                    3182,
                    11250,
                    10125,
                    10880,
                    5310,
                    10159,
                    12046,
                    8125,
                    9452,
                    17671,
                    9760,
                    8846,
                    12456,
                    4712,
                    10659,
                    11717,
                    9786,
                    6762,
                    10206,
                    5400,
                    11957,
                    11500,
                    3182,
                    8385,
                    12155,
                    2217,
                    12118,
                    6000,
                    21286,
                    9825,
                    10592,
                    7200,
                    11664,
                    8400,
                    11883,
                    5814,
                    10784,
                    3013,
                    7024,
                    7406,
                    9439,
                    3182,
                    15498,
                    7700,
                    9300,
                    9520,
                    9492,
                    1680,
                    7082,
                    15863,
                    14541,
                    8125,
                    6305,
                    11500,
                    12898,
                    9240,
                    1533,
                    1477,
                    13125,
                    9130,
                    5381,
                    11839,
                    9600,
                    13680,
                    16056,
                    9245,
                    21750,
                    11100,
                    8993,
                    11175,
                    9500,
                    8562,
                    11367,
                    11361,
                    7052,
                    29959,
                    11308,
                    11275,
                    4920,
                    18000,
                    13600,
                    6000,
                    11000,
                    14000,
                    7837,
                    9760,
                    3964,
                    9600,
                    10152,
                    11700,
                    7585,
                    7950,
                    8556,
                    13125,
                    10800,
                    15870,
                    4435,
                    8775,
                    11040,
                    7500,
                    8749,
                    8800,
                    13031,
                    9069,
                    1974,
                    10574,
                    2522,
                    3316,
                    8544,
                    2160,
                    8400,
                    9230,
                    5868,
                    9317,
                    6882,
                    3696,
                    6000,
                    11880,
                    8400,
                    9758,
                    7000,
                    8910,
                    2016,
                    12256,
                    10357,
                    23257,
                    8063,
                    11362,
                    8000,
                    10480,
                    7100,
                    8923,
                    5400,
                    12085,
                    7750,
                    9764,
                    13825,
                    7560,
                    8263,
                    10084,
                    8926,
                    9405,
                    9125,
                    10434,
                    3684,
                    14572,
                    11796,
                    7200,
                    7804,
                    10712,
                    9900,
                    9828,
                    8773,
                    6180,
                    9600,
                    6342,
                    9819,
                    8731,
                    7350,
                    10304,
                    9965,
                    9000,
                    12180,
                    6240,
                    11200,
                    12000,
                    5700,
                    9000,
                    8280,
                    17755,
                    14115,
                    5890,
                    13700,
                    10768,
                    9350,
                    5001,
                    11932,
                    9120,
                    2280,
                    14778,
                    8724,
                    12900,
                    16157,
                    9541,
                    10475,
                    10852,
                    13728,
                    35760,
                    9880,
                    9120,
                    4017,
                    18030,
                    16560,
                    10678,
                    6951,
                    3950,
                    7681,
                    8335,
                    11170,
                    5587,
                    15623,
                    10800,
                    35133,
                    9738,
                    10615,
                    12461,
                    8935,
                    7500,
                    32463,
                    2645,
                    9600,
                    4500,
                    9364,
                    8029,
                    14054,
                    8850,
                    9100,
                    11235,
                    9353,
                    10400,
                    6000,
                    9750,
                    10140,
                    14684,
                    8900,
                    9135,
                    7763,
                    10182,
                    11218,
                    12134,
                    9340,
                    10246,
                    10205,
                    7094,
                    8930,
                    8640,
                    6240,
                    1680,
                    7800,
                    8250,
                    10496,
                    10680,
                    15384,
                    10482,
                    14598,
                    8872,
                    8769,
                    7910,
                    18890,
                    7728,
                    9842,
                    12160,
                    8525,
                    13132,
                    2628,
                    12393,
                    13072,
                    9037,
                    8158,
                    9849,
                    10625,
                    13891,
                    11435,
                    12090,
                    8125,
                    12328,
                    9600,
                    7200,
                    11160,
                    3136,
                    9858,
                    17542,
                    6931,
                    6240,
                    14303,
                    4060,
                    9587,
                    9750,
                    24682,
                    9600,
                    11250,
                    13515,
                    4060,
                    3735,
                    10120,
                    13214,
                    14100,
                    11344,
                    23595,
                    9156,
                    13526,
                    11512,
                    5362,
                    11345,
                    12936,
                    17871,
                    9473,
                    7500,
                    9808,
                    8049,
                    8800,
                    9400,
                    9638,
                    6000,
                    9790,
                    36500,
                    5664,
                    11065,
                    14112,
                    1680,
                    6600,
                    10140,
                    8172,
                    8400,
                    8700,
                    3675,
                    63887,
                    7500,
                    10762,
                    7500,
                    10120,
                    8688,
                    3363,
                    13173,
                    6955,
                    8072,
                    12000,
                    7153,
                    17500,
                    8814,
                    9572,
                    14774,
                    8190,
                    11075,
                    10226,
                    4230,
                    14781,
                    10215,
                    8400,
                    6627,
                    10186,
                    5330,
                    9986,
                    3636,
                    4270,
                    6600,
                    10440,
                    9084,
                    10000,
                    10780,
                    8877,
                    7200,
                    2368,
                    9650,
                    9246,
                    4118,
                    13450,
                    9560,
                    8294,
                    13695,
                    9375,
                    7558,
                    11103,
                    6000,
                    20781,
                    15306,
                    16196,
                    5250,
                    11643,
                    9247,
                    6000,
                    14720,
                    10316,
                    10192,
                    9477,
                    12537,
                    2117,
                    16737,
                    9842,
                    16158,
                    12513,
                    8499,
                    3180,
                    7500,
                    9179,
                    2665,
                    4435,
                    10635,
                    5400,
                    9600,
                    9750,
                    11400,
                    10625,
                    10991,
                    6292,
                    10998,
                    1953,
                    9735,
                    8212,
                    12925,
                    7200,
                    25339,
                    9060,
                    5436,
                    16692,
                    8520,
                    14892,
                    6000,
                    9100,
                    8944,
                    7838,
                    10800,
                    4045,
                    12665,
                    57200,
                    6120,
                    7200,
                    6171,
                    6000,
                    7415,
                    6762,
                    15256,
                    10410,
                    3842,
                    8445,
                    8780,
                    7740,
                    20544,
                    12420,
                    9600,
                    7200,
                    10994,
                    13053,
                    3635,
                    11340,
                    16545,
                    9204,
                    16381,
                    11700,
                    4043,
                    4435,
                    19690,
                    9503,
                    10721,
                    10944,
                    10930,
                    7200,
                    12546,
                    21930,
                    4928,
                    10800,
                    10261,
                    17400,
                    8400,
                    9000,
                    12444,
                    7407,
                    11584,
                    11526,
                    4426,
                    11003,
                    8854,
                    8500,
                    8400,
                    26142,
                    10000,
                    11767,
                    1533,
                    9000,
                    9262,
                    3675,
                    17217,
                    7500,
                    7917,
                    13175,
                    9042,
                    9717,
                    9937
                  ],
                  "y0": " ",
                  "yaxis": "y"
                }
              ],
              "layout": {
                "boxmode": "group",
                "legend": {
                  "tracegroupgap": 0
                },
                "template": {
                  "data": {
                    "bar": [
                      {
                        "error_x": {
                          "color": "#2a3f5f"
                        },
                        "error_y": {
                          "color": "#2a3f5f"
                        },
                        "marker": {
                          "line": {
                            "color": "#E5ECF6",
                            "width": 0.5
                          },
                          "pattern": {
                            "fillmode": "overlay",
                            "size": 10,
                            "solidity": 0.2
                          }
                        },
                        "type": "bar"
                      }
                    ],
                    "barpolar": [
                      {
                        "marker": {
                          "line": {
                            "color": "#E5ECF6",
                            "width": 0.5
                          },
                          "pattern": {
                            "fillmode": "overlay",
                            "size": 10,
                            "solidity": 0.2
                          }
                        },
                        "type": "barpolar"
                      }
                    ],
                    "carpet": [
                      {
                        "aaxis": {
                          "endlinecolor": "#2a3f5f",
                          "gridcolor": "white",
                          "linecolor": "white",
                          "minorgridcolor": "white",
                          "startlinecolor": "#2a3f5f"
                        },
                        "baxis": {
                          "endlinecolor": "#2a3f5f",
                          "gridcolor": "white",
                          "linecolor": "white",
                          "minorgridcolor": "white",
                          "startlinecolor": "#2a3f5f"
                        },
                        "type": "carpet"
                      }
                    ],
                    "choropleth": [
                      {
                        "colorbar": {
                          "outlinewidth": 0,
                          "ticks": ""
                        },
                        "type": "choropleth"
                      }
                    ],
                    "contour": [
                      {
                        "colorbar": {
                          "outlinewidth": 0,
                          "ticks": ""
                        },
                        "colorscale": [
                          [
                            0,
                            "#0d0887"
                          ],
                          [
                            0.1111111111111111,
                            "#46039f"
                          ],
                          [
                            0.2222222222222222,
                            "#7201a8"
                          ],
                          [
                            0.3333333333333333,
                            "#9c179e"
                          ],
                          [
                            0.4444444444444444,
                            "#bd3786"
                          ],
                          [
                            0.5555555555555556,
                            "#d8576b"
                          ],
                          [
                            0.6666666666666666,
                            "#ed7953"
                          ],
                          [
                            0.7777777777777778,
                            "#fb9f3a"
                          ],
                          [
                            0.8888888888888888,
                            "#fdca26"
                          ],
                          [
                            1,
                            "#f0f921"
                          ]
                        ],
                        "type": "contour"
                      }
                    ],
                    "contourcarpet": [
                      {
                        "colorbar": {
                          "outlinewidth": 0,
                          "ticks": ""
                        },
                        "type": "contourcarpet"
                      }
                    ],
                    "heatmap": [
                      {
                        "colorbar": {
                          "outlinewidth": 0,
                          "ticks": ""
                        },
                        "colorscale": [
                          [
                            0,
                            "#0d0887"
                          ],
                          [
                            0.1111111111111111,
                            "#46039f"
                          ],
                          [
                            0.2222222222222222,
                            "#7201a8"
                          ],
                          [
                            0.3333333333333333,
                            "#9c179e"
                          ],
                          [
                            0.4444444444444444,
                            "#bd3786"
                          ],
                          [
                            0.5555555555555556,
                            "#d8576b"
                          ],
                          [
                            0.6666666666666666,
                            "#ed7953"
                          ],
                          [
                            0.7777777777777778,
                            "#fb9f3a"
                          ],
                          [
                            0.8888888888888888,
                            "#fdca26"
                          ],
                          [
                            1,
                            "#f0f921"
                          ]
                        ],
                        "type": "heatmap"
                      }
                    ],
                    "heatmapgl": [
                      {
                        "colorbar": {
                          "outlinewidth": 0,
                          "ticks": ""
                        },
                        "colorscale": [
                          [
                            0,
                            "#0d0887"
                          ],
                          [
                            0.1111111111111111,
                            "#46039f"
                          ],
                          [
                            0.2222222222222222,
                            "#7201a8"
                          ],
                          [
                            0.3333333333333333,
                            "#9c179e"
                          ],
                          [
                            0.4444444444444444,
                            "#bd3786"
                          ],
                          [
                            0.5555555555555556,
                            "#d8576b"
                          ],
                          [
                            0.6666666666666666,
                            "#ed7953"
                          ],
                          [
                            0.7777777777777778,
                            "#fb9f3a"
                          ],
                          [
                            0.8888888888888888,
                            "#fdca26"
                          ],
                          [
                            1,
                            "#f0f921"
                          ]
                        ],
                        "type": "heatmapgl"
                      }
                    ],
                    "histogram": [
                      {
                        "marker": {
                          "pattern": {
                            "fillmode": "overlay",
                            "size": 10,
                            "solidity": 0.2
                          }
                        },
                        "type": "histogram"
                      }
                    ],
                    "histogram2d": [
                      {
                        "colorbar": {
                          "outlinewidth": 0,
                          "ticks": ""
                        },
                        "colorscale": [
                          [
                            0,
                            "#0d0887"
                          ],
                          [
                            0.1111111111111111,
                            "#46039f"
                          ],
                          [
                            0.2222222222222222,
                            "#7201a8"
                          ],
                          [
                            0.3333333333333333,
                            "#9c179e"
                          ],
                          [
                            0.4444444444444444,
                            "#bd3786"
                          ],
                          [
                            0.5555555555555556,
                            "#d8576b"
                          ],
                          [
                            0.6666666666666666,
                            "#ed7953"
                          ],
                          [
                            0.7777777777777778,
                            "#fb9f3a"
                          ],
                          [
                            0.8888888888888888,
                            "#fdca26"
                          ],
                          [
                            1,
                            "#f0f921"
                          ]
                        ],
                        "type": "histogram2d"
                      }
                    ],
                    "histogram2dcontour": [
                      {
                        "colorbar": {
                          "outlinewidth": 0,
                          "ticks": ""
                        },
                        "colorscale": [
                          [
                            0,
                            "#0d0887"
                          ],
                          [
                            0.1111111111111111,
                            "#46039f"
                          ],
                          [
                            0.2222222222222222,
                            "#7201a8"
                          ],
                          [
                            0.3333333333333333,
                            "#9c179e"
                          ],
                          [
                            0.4444444444444444,
                            "#bd3786"
                          ],
                          [
                            0.5555555555555556,
                            "#d8576b"
                          ],
                          [
                            0.6666666666666666,
                            "#ed7953"
                          ],
                          [
                            0.7777777777777778,
                            "#fb9f3a"
                          ],
                          [
                            0.8888888888888888,
                            "#fdca26"
                          ],
                          [
                            1,
                            "#f0f921"
                          ]
                        ],
                        "type": "histogram2dcontour"
                      }
                    ],
                    "mesh3d": [
                      {
                        "colorbar": {
                          "outlinewidth": 0,
                          "ticks": ""
                        },
                        "type": "mesh3d"
                      }
                    ],
                    "parcoords": [
                      {
                        "line": {
                          "colorbar": {
                            "outlinewidth": 0,
                            "ticks": ""
                          }
                        },
                        "type": "parcoords"
                      }
                    ],
                    "pie": [
                      {
                        "automargin": true,
                        "type": "pie"
                      }
                    ],
                    "scatter": [
                      {
                        "fillpattern": {
                          "fillmode": "overlay",
                          "size": 10,
                          "solidity": 0.2
                        },
                        "type": "scatter"
                      }
                    ],
                    "scatter3d": [
                      {
                        "line": {
                          "colorbar": {
                            "outlinewidth": 0,
                            "ticks": ""
                          }
                        },
                        "marker": {
                          "colorbar": {
                            "outlinewidth": 0,
                            "ticks": ""
                          }
                        },
                        "type": "scatter3d"
                      }
                    ],
                    "scattercarpet": [
                      {
                        "marker": {
                          "colorbar": {
                            "outlinewidth": 0,
                            "ticks": ""
                          }
                        },
                        "type": "scattercarpet"
                      }
                    ],
                    "scattergeo": [
                      {
                        "marker": {
                          "colorbar": {
                            "outlinewidth": 0,
                            "ticks": ""
                          }
                        },
                        "type": "scattergeo"
                      }
                    ],
                    "scattergl": [
                      {
                        "marker": {
                          "colorbar": {
                            "outlinewidth": 0,
                            "ticks": ""
                          }
                        },
                        "type": "scattergl"
                      }
                    ],
                    "scattermapbox": [
                      {
                        "marker": {
                          "colorbar": {
                            "outlinewidth": 0,
                            "ticks": ""
                          }
                        },
                        "type": "scattermapbox"
                      }
                    ],
                    "scatterpolar": [
                      {
                        "marker": {
                          "colorbar": {
                            "outlinewidth": 0,
                            "ticks": ""
                          }
                        },
                        "type": "scatterpolar"
                      }
                    ],
                    "scatterpolargl": [
                      {
                        "marker": {
                          "colorbar": {
                            "outlinewidth": 0,
                            "ticks": ""
                          }
                        },
                        "type": "scatterpolargl"
                      }
                    ],
                    "scatterternary": [
                      {
                        "marker": {
                          "colorbar": {
                            "outlinewidth": 0,
                            "ticks": ""
                          }
                        },
                        "type": "scatterternary"
                      }
                    ],
                    "surface": [
                      {
                        "colorbar": {
                          "outlinewidth": 0,
                          "ticks": ""
                        },
                        "colorscale": [
                          [
                            0,
                            "#0d0887"
                          ],
                          [
                            0.1111111111111111,
                            "#46039f"
                          ],
                          [
                            0.2222222222222222,
                            "#7201a8"
                          ],
                          [
                            0.3333333333333333,
                            "#9c179e"
                          ],
                          [
                            0.4444444444444444,
                            "#bd3786"
                          ],
                          [
                            0.5555555555555556,
                            "#d8576b"
                          ],
                          [
                            0.6666666666666666,
                            "#ed7953"
                          ],
                          [
                            0.7777777777777778,
                            "#fb9f3a"
                          ],
                          [
                            0.8888888888888888,
                            "#fdca26"
                          ],
                          [
                            1,
                            "#f0f921"
                          ]
                        ],
                        "type": "surface"
                      }
                    ],
                    "table": [
                      {
                        "cells": {
                          "fill": {
                            "color": "#EBF0F8"
                          },
                          "line": {
                            "color": "white"
                          }
                        },
                        "header": {
                          "fill": {
                            "color": "#C8D4E3"
                          },
                          "line": {
                            "color": "white"
                          }
                        },
                        "type": "table"
                      }
                    ]
                  },
                  "layout": {
                    "annotationdefaults": {
                      "arrowcolor": "#2a3f5f",
                      "arrowhead": 0,
                      "arrowwidth": 1
                    },
                    "autotypenumbers": "strict",
                    "coloraxis": {
                      "colorbar": {
                        "outlinewidth": 0,
                        "ticks": ""
                      }
                    },
                    "colorscale": {
                      "diverging": [
                        [
                          0,
                          "#8e0152"
                        ],
                        [
                          0.1,
                          "#c51b7d"
                        ],
                        [
                          0.2,
                          "#de77ae"
                        ],
                        [
                          0.3,
                          "#f1b6da"
                        ],
                        [
                          0.4,
                          "#fde0ef"
                        ],
                        [
                          0.5,
                          "#f7f7f7"
                        ],
                        [
                          0.6,
                          "#e6f5d0"
                        ],
                        [
                          0.7,
                          "#b8e186"
                        ],
                        [
                          0.8,
                          "#7fbc41"
                        ],
                        [
                          0.9,
                          "#4d9221"
                        ],
                        [
                          1,
                          "#276419"
                        ]
                      ],
                      "sequential": [
                        [
                          0,
                          "#0d0887"
                        ],
                        [
                          0.1111111111111111,
                          "#46039f"
                        ],
                        [
                          0.2222222222222222,
                          "#7201a8"
                        ],
                        [
                          0.3333333333333333,
                          "#9c179e"
                        ],
                        [
                          0.4444444444444444,
                          "#bd3786"
                        ],
                        [
                          0.5555555555555556,
                          "#d8576b"
                        ],
                        [
                          0.6666666666666666,
                          "#ed7953"
                        ],
                        [
                          0.7777777777777778,
                          "#fb9f3a"
                        ],
                        [
                          0.8888888888888888,
                          "#fdca26"
                        ],
                        [
                          1,
                          "#f0f921"
                        ]
                      ],
                      "sequentialminus": [
                        [
                          0,
                          "#0d0887"
                        ],
                        [
                          0.1111111111111111,
                          "#46039f"
                        ],
                        [
                          0.2222222222222222,
                          "#7201a8"
                        ],
                        [
                          0.3333333333333333,
                          "#9c179e"
                        ],
                        [
                          0.4444444444444444,
                          "#bd3786"
                        ],
                        [
                          0.5555555555555556,
                          "#d8576b"
                        ],
                        [
                          0.6666666666666666,
                          "#ed7953"
                        ],
                        [
                          0.7777777777777778,
                          "#fb9f3a"
                        ],
                        [
                          0.8888888888888888,
                          "#fdca26"
                        ],
                        [
                          1,
                          "#f0f921"
                        ]
                      ]
                    },
                    "colorway": [
                      "#636efa",
                      "#EF553B",
                      "#00cc96",
                      "#ab63fa",
                      "#FFA15A",
                      "#19d3f3",
                      "#FF6692",
                      "#B6E880",
                      "#FF97FF",
                      "#FECB52"
                    ],
                    "font": {
                      "color": "#2a3f5f"
                    },
                    "geo": {
                      "bgcolor": "white",
                      "lakecolor": "white",
                      "landcolor": "#E5ECF6",
                      "showlakes": true,
                      "showland": true,
                      "subunitcolor": "white"
                    },
                    "hoverlabel": {
                      "align": "left"
                    },
                    "hovermode": "closest",
                    "mapbox": {
                      "style": "light"
                    },
                    "paper_bgcolor": "white",
                    "plot_bgcolor": "#E5ECF6",
                    "polar": {
                      "angularaxis": {
                        "gridcolor": "white",
                        "linecolor": "white",
                        "ticks": ""
                      },
                      "bgcolor": "#E5ECF6",
                      "radialaxis": {
                        "gridcolor": "white",
                        "linecolor": "white",
                        "ticks": ""
                      }
                    },
                    "scene": {
                      "xaxis": {
                        "backgroundcolor": "#E5ECF6",
                        "gridcolor": "white",
                        "gridwidth": 2,
                        "linecolor": "white",
                        "showbackground": true,
                        "ticks": "",
                        "zerolinecolor": "white"
                      },
                      "yaxis": {
                        "backgroundcolor": "#E5ECF6",
                        "gridcolor": "white",
                        "gridwidth": 2,
                        "linecolor": "white",
                        "showbackground": true,
                        "ticks": "",
                        "zerolinecolor": "white"
                      },
                      "zaxis": {
                        "backgroundcolor": "#E5ECF6",
                        "gridcolor": "white",
                        "gridwidth": 2,
                        "linecolor": "white",
                        "showbackground": true,
                        "ticks": "",
                        "zerolinecolor": "white"
                      }
                    },
                    "shapedefaults": {
                      "line": {
                        "color": "#2a3f5f"
                      }
                    },
                    "ternary": {
                      "aaxis": {
                        "gridcolor": "white",
                        "linecolor": "white",
                        "ticks": ""
                      },
                      "baxis": {
                        "gridcolor": "white",
                        "linecolor": "white",
                        "ticks": ""
                      },
                      "bgcolor": "#E5ECF6",
                      "caxis": {
                        "gridcolor": "white",
                        "linecolor": "white",
                        "ticks": ""
                      }
                    },
                    "title": {
                      "x": 0.05
                    },
                    "xaxis": {
                      "automargin": true,
                      "gridcolor": "white",
                      "linecolor": "white",
                      "ticks": "",
                      "title": {
                        "standoff": 15
                      },
                      "zerolinecolor": "white",
                      "zerolinewidth": 2
                    },
                    "yaxis": {
                      "automargin": true,
                      "gridcolor": "white",
                      "linecolor": "white",
                      "ticks": "",
                      "title": {
                        "standoff": 15
                      },
                      "zerolinecolor": "white",
                      "zerolinewidth": 2
                    }
                  }
                },
                "title": {
                  "text": "Box Plot of Lot Area by Neighborhood"
                },
                "xaxis": {
                  "anchor": "y",
                  "domain": [
                    0,
                    1
                  ],
                  "title": {
                    "text": "Neighborhood"
                  }
                },
                "yaxis": {
                  "anchor": "x",
                  "domain": [
                    0,
                    1
                  ],
                  "title": {
                    "text": "LotArea"
                  }
                }
              }
            }
          },
          "metadata": {},
          "output_type": "display_data"
        }
      ],
      "source": [
        "fig = px.box(train, x=\"Neighborhood\", y=\"LotArea\", title = \"Box Plot of Lot Area by Neighborhood\")\n",
        "fig.show()"
      ]
    },
    {
      "cell_type": "code",
      "execution_count": 24,
      "metadata": {
        "id": "o_U8c9u_a4Qn"
      },
      "outputs": [],
      "source": [
        "BldgType = cat_train['BldgType'].value_counts()\n",
        "BldgType_avgprice = cat_train.groupby('BldgType')[\"SalePrice\"].mean()"
      ]
    },
    {
      "cell_type": "code",
      "execution_count": 25,
      "metadata": {
        "colab": {
          "base_uri": "https://localhost:8080/",
          "height": 542
        },
        "id": "9oQJEC9LisO6",
        "outputId": "99e88026-663a-4de2-b3ac-40188cc3aedb"
      },
      "outputs": [
        {
          "data": {
            "application/vnd.plotly.v1+json": {
              "config": {
                "plotlyServerURL": "https://plot.ly"
              },
              "data": [
                {
                  "alignmentgroup": "True",
                  "hovertemplate": "x=%{x}<br>y=%{y}<extra></extra>",
                  "legendgroup": "",
                  "marker": {
                    "color": "#636efa",
                    "pattern": {
                      "shape": ""
                    }
                  },
                  "name": "",
                  "offsetgroup": "",
                  "orientation": "v",
                  "showlegend": false,
                  "textposition": "auto",
                  "type": "bar",
                  "x": [
                    "1Fam",
                    "TwnhsE",
                    "Duplex",
                    "Twnhs",
                    "2fmCon"
                  ],
                  "xaxis": "x",
                  "y": [
                    185763.80737704918,
                    128432.25806451614,
                    133541.07692307694,
                    135911.62790697673,
                    181959.34210526315
                  ],
                  "yaxis": "y"
                }
              ],
              "layout": {
                "barmode": "relative",
                "legend": {
                  "tracegroupgap": 0
                },
                "template": {
                  "data": {
                    "bar": [
                      {
                        "error_x": {
                          "color": "#2a3f5f"
                        },
                        "error_y": {
                          "color": "#2a3f5f"
                        },
                        "marker": {
                          "line": {
                            "color": "#E5ECF6",
                            "width": 0.5
                          },
                          "pattern": {
                            "fillmode": "overlay",
                            "size": 10,
                            "solidity": 0.2
                          }
                        },
                        "type": "bar"
                      }
                    ],
                    "barpolar": [
                      {
                        "marker": {
                          "line": {
                            "color": "#E5ECF6",
                            "width": 0.5
                          },
                          "pattern": {
                            "fillmode": "overlay",
                            "size": 10,
                            "solidity": 0.2
                          }
                        },
                        "type": "barpolar"
                      }
                    ],
                    "carpet": [
                      {
                        "aaxis": {
                          "endlinecolor": "#2a3f5f",
                          "gridcolor": "white",
                          "linecolor": "white",
                          "minorgridcolor": "white",
                          "startlinecolor": "#2a3f5f"
                        },
                        "baxis": {
                          "endlinecolor": "#2a3f5f",
                          "gridcolor": "white",
                          "linecolor": "white",
                          "minorgridcolor": "white",
                          "startlinecolor": "#2a3f5f"
                        },
                        "type": "carpet"
                      }
                    ],
                    "choropleth": [
                      {
                        "colorbar": {
                          "outlinewidth": 0,
                          "ticks": ""
                        },
                        "type": "choropleth"
                      }
                    ],
                    "contour": [
                      {
                        "colorbar": {
                          "outlinewidth": 0,
                          "ticks": ""
                        },
                        "colorscale": [
                          [
                            0,
                            "#0d0887"
                          ],
                          [
                            0.1111111111111111,
                            "#46039f"
                          ],
                          [
                            0.2222222222222222,
                            "#7201a8"
                          ],
                          [
                            0.3333333333333333,
                            "#9c179e"
                          ],
                          [
                            0.4444444444444444,
                            "#bd3786"
                          ],
                          [
                            0.5555555555555556,
                            "#d8576b"
                          ],
                          [
                            0.6666666666666666,
                            "#ed7953"
                          ],
                          [
                            0.7777777777777778,
                            "#fb9f3a"
                          ],
                          [
                            0.8888888888888888,
                            "#fdca26"
                          ],
                          [
                            1,
                            "#f0f921"
                          ]
                        ],
                        "type": "contour"
                      }
                    ],
                    "contourcarpet": [
                      {
                        "colorbar": {
                          "outlinewidth": 0,
                          "ticks": ""
                        },
                        "type": "contourcarpet"
                      }
                    ],
                    "heatmap": [
                      {
                        "colorbar": {
                          "outlinewidth": 0,
                          "ticks": ""
                        },
                        "colorscale": [
                          [
                            0,
                            "#0d0887"
                          ],
                          [
                            0.1111111111111111,
                            "#46039f"
                          ],
                          [
                            0.2222222222222222,
                            "#7201a8"
                          ],
                          [
                            0.3333333333333333,
                            "#9c179e"
                          ],
                          [
                            0.4444444444444444,
                            "#bd3786"
                          ],
                          [
                            0.5555555555555556,
                            "#d8576b"
                          ],
                          [
                            0.6666666666666666,
                            "#ed7953"
                          ],
                          [
                            0.7777777777777778,
                            "#fb9f3a"
                          ],
                          [
                            0.8888888888888888,
                            "#fdca26"
                          ],
                          [
                            1,
                            "#f0f921"
                          ]
                        ],
                        "type": "heatmap"
                      }
                    ],
                    "heatmapgl": [
                      {
                        "colorbar": {
                          "outlinewidth": 0,
                          "ticks": ""
                        },
                        "colorscale": [
                          [
                            0,
                            "#0d0887"
                          ],
                          [
                            0.1111111111111111,
                            "#46039f"
                          ],
                          [
                            0.2222222222222222,
                            "#7201a8"
                          ],
                          [
                            0.3333333333333333,
                            "#9c179e"
                          ],
                          [
                            0.4444444444444444,
                            "#bd3786"
                          ],
                          [
                            0.5555555555555556,
                            "#d8576b"
                          ],
                          [
                            0.6666666666666666,
                            "#ed7953"
                          ],
                          [
                            0.7777777777777778,
                            "#fb9f3a"
                          ],
                          [
                            0.8888888888888888,
                            "#fdca26"
                          ],
                          [
                            1,
                            "#f0f921"
                          ]
                        ],
                        "type": "heatmapgl"
                      }
                    ],
                    "histogram": [
                      {
                        "marker": {
                          "pattern": {
                            "fillmode": "overlay",
                            "size": 10,
                            "solidity": 0.2
                          }
                        },
                        "type": "histogram"
                      }
                    ],
                    "histogram2d": [
                      {
                        "colorbar": {
                          "outlinewidth": 0,
                          "ticks": ""
                        },
                        "colorscale": [
                          [
                            0,
                            "#0d0887"
                          ],
                          [
                            0.1111111111111111,
                            "#46039f"
                          ],
                          [
                            0.2222222222222222,
                            "#7201a8"
                          ],
                          [
                            0.3333333333333333,
                            "#9c179e"
                          ],
                          [
                            0.4444444444444444,
                            "#bd3786"
                          ],
                          [
                            0.5555555555555556,
                            "#d8576b"
                          ],
                          [
                            0.6666666666666666,
                            "#ed7953"
                          ],
                          [
                            0.7777777777777778,
                            "#fb9f3a"
                          ],
                          [
                            0.8888888888888888,
                            "#fdca26"
                          ],
                          [
                            1,
                            "#f0f921"
                          ]
                        ],
                        "type": "histogram2d"
                      }
                    ],
                    "histogram2dcontour": [
                      {
                        "colorbar": {
                          "outlinewidth": 0,
                          "ticks": ""
                        },
                        "colorscale": [
                          [
                            0,
                            "#0d0887"
                          ],
                          [
                            0.1111111111111111,
                            "#46039f"
                          ],
                          [
                            0.2222222222222222,
                            "#7201a8"
                          ],
                          [
                            0.3333333333333333,
                            "#9c179e"
                          ],
                          [
                            0.4444444444444444,
                            "#bd3786"
                          ],
                          [
                            0.5555555555555556,
                            "#d8576b"
                          ],
                          [
                            0.6666666666666666,
                            "#ed7953"
                          ],
                          [
                            0.7777777777777778,
                            "#fb9f3a"
                          ],
                          [
                            0.8888888888888888,
                            "#fdca26"
                          ],
                          [
                            1,
                            "#f0f921"
                          ]
                        ],
                        "type": "histogram2dcontour"
                      }
                    ],
                    "mesh3d": [
                      {
                        "colorbar": {
                          "outlinewidth": 0,
                          "ticks": ""
                        },
                        "type": "mesh3d"
                      }
                    ],
                    "parcoords": [
                      {
                        "line": {
                          "colorbar": {
                            "outlinewidth": 0,
                            "ticks": ""
                          }
                        },
                        "type": "parcoords"
                      }
                    ],
                    "pie": [
                      {
                        "automargin": true,
                        "type": "pie"
                      }
                    ],
                    "scatter": [
                      {
                        "fillpattern": {
                          "fillmode": "overlay",
                          "size": 10,
                          "solidity": 0.2
                        },
                        "type": "scatter"
                      }
                    ],
                    "scatter3d": [
                      {
                        "line": {
                          "colorbar": {
                            "outlinewidth": 0,
                            "ticks": ""
                          }
                        },
                        "marker": {
                          "colorbar": {
                            "outlinewidth": 0,
                            "ticks": ""
                          }
                        },
                        "type": "scatter3d"
                      }
                    ],
                    "scattercarpet": [
                      {
                        "marker": {
                          "colorbar": {
                            "outlinewidth": 0,
                            "ticks": ""
                          }
                        },
                        "type": "scattercarpet"
                      }
                    ],
                    "scattergeo": [
                      {
                        "marker": {
                          "colorbar": {
                            "outlinewidth": 0,
                            "ticks": ""
                          }
                        },
                        "type": "scattergeo"
                      }
                    ],
                    "scattergl": [
                      {
                        "marker": {
                          "colorbar": {
                            "outlinewidth": 0,
                            "ticks": ""
                          }
                        },
                        "type": "scattergl"
                      }
                    ],
                    "scattermapbox": [
                      {
                        "marker": {
                          "colorbar": {
                            "outlinewidth": 0,
                            "ticks": ""
                          }
                        },
                        "type": "scattermapbox"
                      }
                    ],
                    "scatterpolar": [
                      {
                        "marker": {
                          "colorbar": {
                            "outlinewidth": 0,
                            "ticks": ""
                          }
                        },
                        "type": "scatterpolar"
                      }
                    ],
                    "scatterpolargl": [
                      {
                        "marker": {
                          "colorbar": {
                            "outlinewidth": 0,
                            "ticks": ""
                          }
                        },
                        "type": "scatterpolargl"
                      }
                    ],
                    "scatterternary": [
                      {
                        "marker": {
                          "colorbar": {
                            "outlinewidth": 0,
                            "ticks": ""
                          }
                        },
                        "type": "scatterternary"
                      }
                    ],
                    "surface": [
                      {
                        "colorbar": {
                          "outlinewidth": 0,
                          "ticks": ""
                        },
                        "colorscale": [
                          [
                            0,
                            "#0d0887"
                          ],
                          [
                            0.1111111111111111,
                            "#46039f"
                          ],
                          [
                            0.2222222222222222,
                            "#7201a8"
                          ],
                          [
                            0.3333333333333333,
                            "#9c179e"
                          ],
                          [
                            0.4444444444444444,
                            "#bd3786"
                          ],
                          [
                            0.5555555555555556,
                            "#d8576b"
                          ],
                          [
                            0.6666666666666666,
                            "#ed7953"
                          ],
                          [
                            0.7777777777777778,
                            "#fb9f3a"
                          ],
                          [
                            0.8888888888888888,
                            "#fdca26"
                          ],
                          [
                            1,
                            "#f0f921"
                          ]
                        ],
                        "type": "surface"
                      }
                    ],
                    "table": [
                      {
                        "cells": {
                          "fill": {
                            "color": "#EBF0F8"
                          },
                          "line": {
                            "color": "white"
                          }
                        },
                        "header": {
                          "fill": {
                            "color": "#C8D4E3"
                          },
                          "line": {
                            "color": "white"
                          }
                        },
                        "type": "table"
                      }
                    ]
                  },
                  "layout": {
                    "annotationdefaults": {
                      "arrowcolor": "#2a3f5f",
                      "arrowhead": 0,
                      "arrowwidth": 1
                    },
                    "autotypenumbers": "strict",
                    "coloraxis": {
                      "colorbar": {
                        "outlinewidth": 0,
                        "ticks": ""
                      }
                    },
                    "colorscale": {
                      "diverging": [
                        [
                          0,
                          "#8e0152"
                        ],
                        [
                          0.1,
                          "#c51b7d"
                        ],
                        [
                          0.2,
                          "#de77ae"
                        ],
                        [
                          0.3,
                          "#f1b6da"
                        ],
                        [
                          0.4,
                          "#fde0ef"
                        ],
                        [
                          0.5,
                          "#f7f7f7"
                        ],
                        [
                          0.6,
                          "#e6f5d0"
                        ],
                        [
                          0.7,
                          "#b8e186"
                        ],
                        [
                          0.8,
                          "#7fbc41"
                        ],
                        [
                          0.9,
                          "#4d9221"
                        ],
                        [
                          1,
                          "#276419"
                        ]
                      ],
                      "sequential": [
                        [
                          0,
                          "#0d0887"
                        ],
                        [
                          0.1111111111111111,
                          "#46039f"
                        ],
                        [
                          0.2222222222222222,
                          "#7201a8"
                        ],
                        [
                          0.3333333333333333,
                          "#9c179e"
                        ],
                        [
                          0.4444444444444444,
                          "#bd3786"
                        ],
                        [
                          0.5555555555555556,
                          "#d8576b"
                        ],
                        [
                          0.6666666666666666,
                          "#ed7953"
                        ],
                        [
                          0.7777777777777778,
                          "#fb9f3a"
                        ],
                        [
                          0.8888888888888888,
                          "#fdca26"
                        ],
                        [
                          1,
                          "#f0f921"
                        ]
                      ],
                      "sequentialminus": [
                        [
                          0,
                          "#0d0887"
                        ],
                        [
                          0.1111111111111111,
                          "#46039f"
                        ],
                        [
                          0.2222222222222222,
                          "#7201a8"
                        ],
                        [
                          0.3333333333333333,
                          "#9c179e"
                        ],
                        [
                          0.4444444444444444,
                          "#bd3786"
                        ],
                        [
                          0.5555555555555556,
                          "#d8576b"
                        ],
                        [
                          0.6666666666666666,
                          "#ed7953"
                        ],
                        [
                          0.7777777777777778,
                          "#fb9f3a"
                        ],
                        [
                          0.8888888888888888,
                          "#fdca26"
                        ],
                        [
                          1,
                          "#f0f921"
                        ]
                      ]
                    },
                    "colorway": [
                      "#636efa",
                      "#EF553B",
                      "#00cc96",
                      "#ab63fa",
                      "#FFA15A",
                      "#19d3f3",
                      "#FF6692",
                      "#B6E880",
                      "#FF97FF",
                      "#FECB52"
                    ],
                    "font": {
                      "color": "#2a3f5f"
                    },
                    "geo": {
                      "bgcolor": "white",
                      "lakecolor": "white",
                      "landcolor": "#E5ECF6",
                      "showlakes": true,
                      "showland": true,
                      "subunitcolor": "white"
                    },
                    "hoverlabel": {
                      "align": "left"
                    },
                    "hovermode": "closest",
                    "mapbox": {
                      "style": "light"
                    },
                    "paper_bgcolor": "white",
                    "plot_bgcolor": "#E5ECF6",
                    "polar": {
                      "angularaxis": {
                        "gridcolor": "white",
                        "linecolor": "white",
                        "ticks": ""
                      },
                      "bgcolor": "#E5ECF6",
                      "radialaxis": {
                        "gridcolor": "white",
                        "linecolor": "white",
                        "ticks": ""
                      }
                    },
                    "scene": {
                      "xaxis": {
                        "backgroundcolor": "#E5ECF6",
                        "gridcolor": "white",
                        "gridwidth": 2,
                        "linecolor": "white",
                        "showbackground": true,
                        "ticks": "",
                        "zerolinecolor": "white"
                      },
                      "yaxis": {
                        "backgroundcolor": "#E5ECF6",
                        "gridcolor": "white",
                        "gridwidth": 2,
                        "linecolor": "white",
                        "showbackground": true,
                        "ticks": "",
                        "zerolinecolor": "white"
                      },
                      "zaxis": {
                        "backgroundcolor": "#E5ECF6",
                        "gridcolor": "white",
                        "gridwidth": 2,
                        "linecolor": "white",
                        "showbackground": true,
                        "ticks": "",
                        "zerolinecolor": "white"
                      }
                    },
                    "shapedefaults": {
                      "line": {
                        "color": "#2a3f5f"
                      }
                    },
                    "ternary": {
                      "aaxis": {
                        "gridcolor": "white",
                        "linecolor": "white",
                        "ticks": ""
                      },
                      "baxis": {
                        "gridcolor": "white",
                        "linecolor": "white",
                        "ticks": ""
                      },
                      "bgcolor": "#E5ECF6",
                      "caxis": {
                        "gridcolor": "white",
                        "linecolor": "white",
                        "ticks": ""
                      }
                    },
                    "title": {
                      "x": 0.05
                    },
                    "xaxis": {
                      "automargin": true,
                      "gridcolor": "white",
                      "linecolor": "white",
                      "ticks": "",
                      "title": {
                        "standoff": 15
                      },
                      "zerolinecolor": "white",
                      "zerolinewidth": 2
                    },
                    "yaxis": {
                      "automargin": true,
                      "gridcolor": "white",
                      "linecolor": "white",
                      "ticks": "",
                      "title": {
                        "standoff": 15
                      },
                      "zerolinecolor": "white",
                      "zerolinewidth": 2
                    }
                  }
                },
                "title": {
                  "text": "Average Sale Price by BldgType"
                },
                "xaxis": {
                  "anchor": "y",
                  "domain": [
                    0,
                    1
                  ],
                  "title": {
                    "text": "x"
                  }
                },
                "yaxis": {
                  "anchor": "x",
                  "domain": [
                    0,
                    1
                  ],
                  "title": {
                    "text": "y"
                  }
                }
              }
            }
          },
          "metadata": {},
          "output_type": "display_data"
        }
      ],
      "source": [
        "fig = px.bar(cat_train, x=BldgType .index, y=BldgType_avgprice, title='Average Sale Price by BldgType')\n",
        "fig.show()"
      ]
    },
    {
      "cell_type": "code",
      "execution_count": 26,
      "metadata": {
        "id": "m5aQGjMBb3om"
      },
      "outputs": [],
      "source": [
        "HouseStyle = cat_train[\"HouseStyle\"].value_counts()\n",
        "HouseStyle_avgprice = cat_train.groupby(\"HouseStyle\")[\"SalePrice\"].mean()"
      ]
    },
    {
      "cell_type": "code",
      "execution_count": 27,
      "metadata": {
        "colab": {
          "base_uri": "https://localhost:8080/",
          "height": 542
        },
        "id": "qVK95Ko4jBi4",
        "outputId": "e0d7338d-e266-4e01-c525-09065db87029"
      },
      "outputs": [
        {
          "data": {
            "application/vnd.plotly.v1+json": {
              "config": {
                "plotlyServerURL": "https://plot.ly"
              },
              "data": [
                {
                  "alignmentgroup": "True",
                  "hovertemplate": "x=%{x}<br>y=%{y}<extra></extra>",
                  "legendgroup": "",
                  "marker": {
                    "color": "#636efa",
                    "pattern": {
                      "shape": ""
                    }
                  },
                  "name": "",
                  "offsetgroup": "",
                  "orientation": "v",
                  "showlegend": false,
                  "textposition": "auto",
                  "type": "bar",
                  "x": [
                    "1Story",
                    "2Story",
                    "1.5Fin",
                    "SLvl",
                    "SFoyer",
                    "1.5Unf",
                    "2.5Unf",
                    "2.5Fin"
                  ],
                  "xaxis": "x",
                  "y": [
                    143116.74025974027,
                    110150,
                    175985.4779614325,
                    220000,
                    157354.54545454544,
                    210051.76404494382,
                    135074.48648648648,
                    166703.38461538462
                  ],
                  "yaxis": "y"
                }
              ],
              "layout": {
                "barmode": "relative",
                "legend": {
                  "tracegroupgap": 0
                },
                "template": {
                  "data": {
                    "bar": [
                      {
                        "error_x": {
                          "color": "#2a3f5f"
                        },
                        "error_y": {
                          "color": "#2a3f5f"
                        },
                        "marker": {
                          "line": {
                            "color": "#E5ECF6",
                            "width": 0.5
                          },
                          "pattern": {
                            "fillmode": "overlay",
                            "size": 10,
                            "solidity": 0.2
                          }
                        },
                        "type": "bar"
                      }
                    ],
                    "barpolar": [
                      {
                        "marker": {
                          "line": {
                            "color": "#E5ECF6",
                            "width": 0.5
                          },
                          "pattern": {
                            "fillmode": "overlay",
                            "size": 10,
                            "solidity": 0.2
                          }
                        },
                        "type": "barpolar"
                      }
                    ],
                    "carpet": [
                      {
                        "aaxis": {
                          "endlinecolor": "#2a3f5f",
                          "gridcolor": "white",
                          "linecolor": "white",
                          "minorgridcolor": "white",
                          "startlinecolor": "#2a3f5f"
                        },
                        "baxis": {
                          "endlinecolor": "#2a3f5f",
                          "gridcolor": "white",
                          "linecolor": "white",
                          "minorgridcolor": "white",
                          "startlinecolor": "#2a3f5f"
                        },
                        "type": "carpet"
                      }
                    ],
                    "choropleth": [
                      {
                        "colorbar": {
                          "outlinewidth": 0,
                          "ticks": ""
                        },
                        "type": "choropleth"
                      }
                    ],
                    "contour": [
                      {
                        "colorbar": {
                          "outlinewidth": 0,
                          "ticks": ""
                        },
                        "colorscale": [
                          [
                            0,
                            "#0d0887"
                          ],
                          [
                            0.1111111111111111,
                            "#46039f"
                          ],
                          [
                            0.2222222222222222,
                            "#7201a8"
                          ],
                          [
                            0.3333333333333333,
                            "#9c179e"
                          ],
                          [
                            0.4444444444444444,
                            "#bd3786"
                          ],
                          [
                            0.5555555555555556,
                            "#d8576b"
                          ],
                          [
                            0.6666666666666666,
                            "#ed7953"
                          ],
                          [
                            0.7777777777777778,
                            "#fb9f3a"
                          ],
                          [
                            0.8888888888888888,
                            "#fdca26"
                          ],
                          [
                            1,
                            "#f0f921"
                          ]
                        ],
                        "type": "contour"
                      }
                    ],
                    "contourcarpet": [
                      {
                        "colorbar": {
                          "outlinewidth": 0,
                          "ticks": ""
                        },
                        "type": "contourcarpet"
                      }
                    ],
                    "heatmap": [
                      {
                        "colorbar": {
                          "outlinewidth": 0,
                          "ticks": ""
                        },
                        "colorscale": [
                          [
                            0,
                            "#0d0887"
                          ],
                          [
                            0.1111111111111111,
                            "#46039f"
                          ],
                          [
                            0.2222222222222222,
                            "#7201a8"
                          ],
                          [
                            0.3333333333333333,
                            "#9c179e"
                          ],
                          [
                            0.4444444444444444,
                            "#bd3786"
                          ],
                          [
                            0.5555555555555556,
                            "#d8576b"
                          ],
                          [
                            0.6666666666666666,
                            "#ed7953"
                          ],
                          [
                            0.7777777777777778,
                            "#fb9f3a"
                          ],
                          [
                            0.8888888888888888,
                            "#fdca26"
                          ],
                          [
                            1,
                            "#f0f921"
                          ]
                        ],
                        "type": "heatmap"
                      }
                    ],
                    "heatmapgl": [
                      {
                        "colorbar": {
                          "outlinewidth": 0,
                          "ticks": ""
                        },
                        "colorscale": [
                          [
                            0,
                            "#0d0887"
                          ],
                          [
                            0.1111111111111111,
                            "#46039f"
                          ],
                          [
                            0.2222222222222222,
                            "#7201a8"
                          ],
                          [
                            0.3333333333333333,
                            "#9c179e"
                          ],
                          [
                            0.4444444444444444,
                            "#bd3786"
                          ],
                          [
                            0.5555555555555556,
                            "#d8576b"
                          ],
                          [
                            0.6666666666666666,
                            "#ed7953"
                          ],
                          [
                            0.7777777777777778,
                            "#fb9f3a"
                          ],
                          [
                            0.8888888888888888,
                            "#fdca26"
                          ],
                          [
                            1,
                            "#f0f921"
                          ]
                        ],
                        "type": "heatmapgl"
                      }
                    ],
                    "histogram": [
                      {
                        "marker": {
                          "pattern": {
                            "fillmode": "overlay",
                            "size": 10,
                            "solidity": 0.2
                          }
                        },
                        "type": "histogram"
                      }
                    ],
                    "histogram2d": [
                      {
                        "colorbar": {
                          "outlinewidth": 0,
                          "ticks": ""
                        },
                        "colorscale": [
                          [
                            0,
                            "#0d0887"
                          ],
                          [
                            0.1111111111111111,
                            "#46039f"
                          ],
                          [
                            0.2222222222222222,
                            "#7201a8"
                          ],
                          [
                            0.3333333333333333,
                            "#9c179e"
                          ],
                          [
                            0.4444444444444444,
                            "#bd3786"
                          ],
                          [
                            0.5555555555555556,
                            "#d8576b"
                          ],
                          [
                            0.6666666666666666,
                            "#ed7953"
                          ],
                          [
                            0.7777777777777778,
                            "#fb9f3a"
                          ],
                          [
                            0.8888888888888888,
                            "#fdca26"
                          ],
                          [
                            1,
                            "#f0f921"
                          ]
                        ],
                        "type": "histogram2d"
                      }
                    ],
                    "histogram2dcontour": [
                      {
                        "colorbar": {
                          "outlinewidth": 0,
                          "ticks": ""
                        },
                        "colorscale": [
                          [
                            0,
                            "#0d0887"
                          ],
                          [
                            0.1111111111111111,
                            "#46039f"
                          ],
                          [
                            0.2222222222222222,
                            "#7201a8"
                          ],
                          [
                            0.3333333333333333,
                            "#9c179e"
                          ],
                          [
                            0.4444444444444444,
                            "#bd3786"
                          ],
                          [
                            0.5555555555555556,
                            "#d8576b"
                          ],
                          [
                            0.6666666666666666,
                            "#ed7953"
                          ],
                          [
                            0.7777777777777778,
                            "#fb9f3a"
                          ],
                          [
                            0.8888888888888888,
                            "#fdca26"
                          ],
                          [
                            1,
                            "#f0f921"
                          ]
                        ],
                        "type": "histogram2dcontour"
                      }
                    ],
                    "mesh3d": [
                      {
                        "colorbar": {
                          "outlinewidth": 0,
                          "ticks": ""
                        },
                        "type": "mesh3d"
                      }
                    ],
                    "parcoords": [
                      {
                        "line": {
                          "colorbar": {
                            "outlinewidth": 0,
                            "ticks": ""
                          }
                        },
                        "type": "parcoords"
                      }
                    ],
                    "pie": [
                      {
                        "automargin": true,
                        "type": "pie"
                      }
                    ],
                    "scatter": [
                      {
                        "fillpattern": {
                          "fillmode": "overlay",
                          "size": 10,
                          "solidity": 0.2
                        },
                        "type": "scatter"
                      }
                    ],
                    "scatter3d": [
                      {
                        "line": {
                          "colorbar": {
                            "outlinewidth": 0,
                            "ticks": ""
                          }
                        },
                        "marker": {
                          "colorbar": {
                            "outlinewidth": 0,
                            "ticks": ""
                          }
                        },
                        "type": "scatter3d"
                      }
                    ],
                    "scattercarpet": [
                      {
                        "marker": {
                          "colorbar": {
                            "outlinewidth": 0,
                            "ticks": ""
                          }
                        },
                        "type": "scattercarpet"
                      }
                    ],
                    "scattergeo": [
                      {
                        "marker": {
                          "colorbar": {
                            "outlinewidth": 0,
                            "ticks": ""
                          }
                        },
                        "type": "scattergeo"
                      }
                    ],
                    "scattergl": [
                      {
                        "marker": {
                          "colorbar": {
                            "outlinewidth": 0,
                            "ticks": ""
                          }
                        },
                        "type": "scattergl"
                      }
                    ],
                    "scattermapbox": [
                      {
                        "marker": {
                          "colorbar": {
                            "outlinewidth": 0,
                            "ticks": ""
                          }
                        },
                        "type": "scattermapbox"
                      }
                    ],
                    "scatterpolar": [
                      {
                        "marker": {
                          "colorbar": {
                            "outlinewidth": 0,
                            "ticks": ""
                          }
                        },
                        "type": "scatterpolar"
                      }
                    ],
                    "scatterpolargl": [
                      {
                        "marker": {
                          "colorbar": {
                            "outlinewidth": 0,
                            "ticks": ""
                          }
                        },
                        "type": "scatterpolargl"
                      }
                    ],
                    "scatterternary": [
                      {
                        "marker": {
                          "colorbar": {
                            "outlinewidth": 0,
                            "ticks": ""
                          }
                        },
                        "type": "scatterternary"
                      }
                    ],
                    "surface": [
                      {
                        "colorbar": {
                          "outlinewidth": 0,
                          "ticks": ""
                        },
                        "colorscale": [
                          [
                            0,
                            "#0d0887"
                          ],
                          [
                            0.1111111111111111,
                            "#46039f"
                          ],
                          [
                            0.2222222222222222,
                            "#7201a8"
                          ],
                          [
                            0.3333333333333333,
                            "#9c179e"
                          ],
                          [
                            0.4444444444444444,
                            "#bd3786"
                          ],
                          [
                            0.5555555555555556,
                            "#d8576b"
                          ],
                          [
                            0.6666666666666666,
                            "#ed7953"
                          ],
                          [
                            0.7777777777777778,
                            "#fb9f3a"
                          ],
                          [
                            0.8888888888888888,
                            "#fdca26"
                          ],
                          [
                            1,
                            "#f0f921"
                          ]
                        ],
                        "type": "surface"
                      }
                    ],
                    "table": [
                      {
                        "cells": {
                          "fill": {
                            "color": "#EBF0F8"
                          },
                          "line": {
                            "color": "white"
                          }
                        },
                        "header": {
                          "fill": {
                            "color": "#C8D4E3"
                          },
                          "line": {
                            "color": "white"
                          }
                        },
                        "type": "table"
                      }
                    ]
                  },
                  "layout": {
                    "annotationdefaults": {
                      "arrowcolor": "#2a3f5f",
                      "arrowhead": 0,
                      "arrowwidth": 1
                    },
                    "autotypenumbers": "strict",
                    "coloraxis": {
                      "colorbar": {
                        "outlinewidth": 0,
                        "ticks": ""
                      }
                    },
                    "colorscale": {
                      "diverging": [
                        [
                          0,
                          "#8e0152"
                        ],
                        [
                          0.1,
                          "#c51b7d"
                        ],
                        [
                          0.2,
                          "#de77ae"
                        ],
                        [
                          0.3,
                          "#f1b6da"
                        ],
                        [
                          0.4,
                          "#fde0ef"
                        ],
                        [
                          0.5,
                          "#f7f7f7"
                        ],
                        [
                          0.6,
                          "#e6f5d0"
                        ],
                        [
                          0.7,
                          "#b8e186"
                        ],
                        [
                          0.8,
                          "#7fbc41"
                        ],
                        [
                          0.9,
                          "#4d9221"
                        ],
                        [
                          1,
                          "#276419"
                        ]
                      ],
                      "sequential": [
                        [
                          0,
                          "#0d0887"
                        ],
                        [
                          0.1111111111111111,
                          "#46039f"
                        ],
                        [
                          0.2222222222222222,
                          "#7201a8"
                        ],
                        [
                          0.3333333333333333,
                          "#9c179e"
                        ],
                        [
                          0.4444444444444444,
                          "#bd3786"
                        ],
                        [
                          0.5555555555555556,
                          "#d8576b"
                        ],
                        [
                          0.6666666666666666,
                          "#ed7953"
                        ],
                        [
                          0.7777777777777778,
                          "#fb9f3a"
                        ],
                        [
                          0.8888888888888888,
                          "#fdca26"
                        ],
                        [
                          1,
                          "#f0f921"
                        ]
                      ],
                      "sequentialminus": [
                        [
                          0,
                          "#0d0887"
                        ],
                        [
                          0.1111111111111111,
                          "#46039f"
                        ],
                        [
                          0.2222222222222222,
                          "#7201a8"
                        ],
                        [
                          0.3333333333333333,
                          "#9c179e"
                        ],
                        [
                          0.4444444444444444,
                          "#bd3786"
                        ],
                        [
                          0.5555555555555556,
                          "#d8576b"
                        ],
                        [
                          0.6666666666666666,
                          "#ed7953"
                        ],
                        [
                          0.7777777777777778,
                          "#fb9f3a"
                        ],
                        [
                          0.8888888888888888,
                          "#fdca26"
                        ],
                        [
                          1,
                          "#f0f921"
                        ]
                      ]
                    },
                    "colorway": [
                      "#636efa",
                      "#EF553B",
                      "#00cc96",
                      "#ab63fa",
                      "#FFA15A",
                      "#19d3f3",
                      "#FF6692",
                      "#B6E880",
                      "#FF97FF",
                      "#FECB52"
                    ],
                    "font": {
                      "color": "#2a3f5f"
                    },
                    "geo": {
                      "bgcolor": "white",
                      "lakecolor": "white",
                      "landcolor": "#E5ECF6",
                      "showlakes": true,
                      "showland": true,
                      "subunitcolor": "white"
                    },
                    "hoverlabel": {
                      "align": "left"
                    },
                    "hovermode": "closest",
                    "mapbox": {
                      "style": "light"
                    },
                    "paper_bgcolor": "white",
                    "plot_bgcolor": "#E5ECF6",
                    "polar": {
                      "angularaxis": {
                        "gridcolor": "white",
                        "linecolor": "white",
                        "ticks": ""
                      },
                      "bgcolor": "#E5ECF6",
                      "radialaxis": {
                        "gridcolor": "white",
                        "linecolor": "white",
                        "ticks": ""
                      }
                    },
                    "scene": {
                      "xaxis": {
                        "backgroundcolor": "#E5ECF6",
                        "gridcolor": "white",
                        "gridwidth": 2,
                        "linecolor": "white",
                        "showbackground": true,
                        "ticks": "",
                        "zerolinecolor": "white"
                      },
                      "yaxis": {
                        "backgroundcolor": "#E5ECF6",
                        "gridcolor": "white",
                        "gridwidth": 2,
                        "linecolor": "white",
                        "showbackground": true,
                        "ticks": "",
                        "zerolinecolor": "white"
                      },
                      "zaxis": {
                        "backgroundcolor": "#E5ECF6",
                        "gridcolor": "white",
                        "gridwidth": 2,
                        "linecolor": "white",
                        "showbackground": true,
                        "ticks": "",
                        "zerolinecolor": "white"
                      }
                    },
                    "shapedefaults": {
                      "line": {
                        "color": "#2a3f5f"
                      }
                    },
                    "ternary": {
                      "aaxis": {
                        "gridcolor": "white",
                        "linecolor": "white",
                        "ticks": ""
                      },
                      "baxis": {
                        "gridcolor": "white",
                        "linecolor": "white",
                        "ticks": ""
                      },
                      "bgcolor": "#E5ECF6",
                      "caxis": {
                        "gridcolor": "white",
                        "linecolor": "white",
                        "ticks": ""
                      }
                    },
                    "title": {
                      "x": 0.05
                    },
                    "xaxis": {
                      "automargin": true,
                      "gridcolor": "white",
                      "linecolor": "white",
                      "ticks": "",
                      "title": {
                        "standoff": 15
                      },
                      "zerolinecolor": "white",
                      "zerolinewidth": 2
                    },
                    "yaxis": {
                      "automargin": true,
                      "gridcolor": "white",
                      "linecolor": "white",
                      "ticks": "",
                      "title": {
                        "standoff": 15
                      },
                      "zerolinecolor": "white",
                      "zerolinewidth": 2
                    }
                  }
                },
                "title": {
                  "text": "Average Sale Price by HouseStyle"
                },
                "xaxis": {
                  "anchor": "y",
                  "domain": [
                    0,
                    1
                  ],
                  "title": {
                    "text": "x"
                  }
                },
                "yaxis": {
                  "anchor": "x",
                  "domain": [
                    0,
                    1
                  ],
                  "title": {
                    "text": "y"
                  }
                }
              }
            }
          },
          "metadata": {},
          "output_type": "display_data"
        }
      ],
      "source": [
        "fig = px.bar(cat_train, x=HouseStyle.index, y=HouseStyle_avgprice, title='Average Sale Price by HouseStyle')\n",
        "fig.show()"
      ]
    },
    {
      "cell_type": "code",
      "execution_count": 28,
      "metadata": {
        "id": "0gPdf13hceRW"
      },
      "outputs": [],
      "source": [
        "Foundation = cat_train[\"Foundation\"].value_counts()\n",
        "Foundation_avgprice = cat_train.groupby(\"Foundation\")[\"SalePrice\"].mean()"
      ]
    },
    {
      "cell_type": "code",
      "execution_count": 29,
      "metadata": {
        "colab": {
          "base_uri": "https://localhost:8080/",
          "height": 542
        },
        "id": "gwCeZW3ujU-J",
        "outputId": "237cc202-d326-4bc7-dc0f-22a356c84f9e"
      },
      "outputs": [
        {
          "data": {
            "application/vnd.plotly.v1+json": {
              "config": {
                "plotlyServerURL": "https://plot.ly"
              },
              "data": [
                {
                  "alignmentgroup": "True",
                  "hovertemplate": "x=%{x}<br>y=%{y}<extra></extra>",
                  "legendgroup": "",
                  "marker": {
                    "color": "#636efa",
                    "pattern": {
                      "shape": ""
                    }
                  },
                  "name": "",
                  "offsetgroup": "",
                  "orientation": "v",
                  "showlegend": false,
                  "textposition": "auto",
                  "type": "bar",
                  "x": [
                    "PConc",
                    "CBlock",
                    "BrkTil",
                    "Slab",
                    "Stone",
                    "Wood"
                  ],
                  "xaxis": "x",
                  "y": [
                    132291.07534246575,
                    149805.714511041,
                    225230.44204018547,
                    107365.625,
                    165959.16666666666,
                    185666.66666666666
                  ],
                  "yaxis": "y"
                }
              ],
              "layout": {
                "barmode": "relative",
                "legend": {
                  "tracegroupgap": 0
                },
                "template": {
                  "data": {
                    "bar": [
                      {
                        "error_x": {
                          "color": "#2a3f5f"
                        },
                        "error_y": {
                          "color": "#2a3f5f"
                        },
                        "marker": {
                          "line": {
                            "color": "#E5ECF6",
                            "width": 0.5
                          },
                          "pattern": {
                            "fillmode": "overlay",
                            "size": 10,
                            "solidity": 0.2
                          }
                        },
                        "type": "bar"
                      }
                    ],
                    "barpolar": [
                      {
                        "marker": {
                          "line": {
                            "color": "#E5ECF6",
                            "width": 0.5
                          },
                          "pattern": {
                            "fillmode": "overlay",
                            "size": 10,
                            "solidity": 0.2
                          }
                        },
                        "type": "barpolar"
                      }
                    ],
                    "carpet": [
                      {
                        "aaxis": {
                          "endlinecolor": "#2a3f5f",
                          "gridcolor": "white",
                          "linecolor": "white",
                          "minorgridcolor": "white",
                          "startlinecolor": "#2a3f5f"
                        },
                        "baxis": {
                          "endlinecolor": "#2a3f5f",
                          "gridcolor": "white",
                          "linecolor": "white",
                          "minorgridcolor": "white",
                          "startlinecolor": "#2a3f5f"
                        },
                        "type": "carpet"
                      }
                    ],
                    "choropleth": [
                      {
                        "colorbar": {
                          "outlinewidth": 0,
                          "ticks": ""
                        },
                        "type": "choropleth"
                      }
                    ],
                    "contour": [
                      {
                        "colorbar": {
                          "outlinewidth": 0,
                          "ticks": ""
                        },
                        "colorscale": [
                          [
                            0,
                            "#0d0887"
                          ],
                          [
                            0.1111111111111111,
                            "#46039f"
                          ],
                          [
                            0.2222222222222222,
                            "#7201a8"
                          ],
                          [
                            0.3333333333333333,
                            "#9c179e"
                          ],
                          [
                            0.4444444444444444,
                            "#bd3786"
                          ],
                          [
                            0.5555555555555556,
                            "#d8576b"
                          ],
                          [
                            0.6666666666666666,
                            "#ed7953"
                          ],
                          [
                            0.7777777777777778,
                            "#fb9f3a"
                          ],
                          [
                            0.8888888888888888,
                            "#fdca26"
                          ],
                          [
                            1,
                            "#f0f921"
                          ]
                        ],
                        "type": "contour"
                      }
                    ],
                    "contourcarpet": [
                      {
                        "colorbar": {
                          "outlinewidth": 0,
                          "ticks": ""
                        },
                        "type": "contourcarpet"
                      }
                    ],
                    "heatmap": [
                      {
                        "colorbar": {
                          "outlinewidth": 0,
                          "ticks": ""
                        },
                        "colorscale": [
                          [
                            0,
                            "#0d0887"
                          ],
                          [
                            0.1111111111111111,
                            "#46039f"
                          ],
                          [
                            0.2222222222222222,
                            "#7201a8"
                          ],
                          [
                            0.3333333333333333,
                            "#9c179e"
                          ],
                          [
                            0.4444444444444444,
                            "#bd3786"
                          ],
                          [
                            0.5555555555555556,
                            "#d8576b"
                          ],
                          [
                            0.6666666666666666,
                            "#ed7953"
                          ],
                          [
                            0.7777777777777778,
                            "#fb9f3a"
                          ],
                          [
                            0.8888888888888888,
                            "#fdca26"
                          ],
                          [
                            1,
                            "#f0f921"
                          ]
                        ],
                        "type": "heatmap"
                      }
                    ],
                    "heatmapgl": [
                      {
                        "colorbar": {
                          "outlinewidth": 0,
                          "ticks": ""
                        },
                        "colorscale": [
                          [
                            0,
                            "#0d0887"
                          ],
                          [
                            0.1111111111111111,
                            "#46039f"
                          ],
                          [
                            0.2222222222222222,
                            "#7201a8"
                          ],
                          [
                            0.3333333333333333,
                            "#9c179e"
                          ],
                          [
                            0.4444444444444444,
                            "#bd3786"
                          ],
                          [
                            0.5555555555555556,
                            "#d8576b"
                          ],
                          [
                            0.6666666666666666,
                            "#ed7953"
                          ],
                          [
                            0.7777777777777778,
                            "#fb9f3a"
                          ],
                          [
                            0.8888888888888888,
                            "#fdca26"
                          ],
                          [
                            1,
                            "#f0f921"
                          ]
                        ],
                        "type": "heatmapgl"
                      }
                    ],
                    "histogram": [
                      {
                        "marker": {
                          "pattern": {
                            "fillmode": "overlay",
                            "size": 10,
                            "solidity": 0.2
                          }
                        },
                        "type": "histogram"
                      }
                    ],
                    "histogram2d": [
                      {
                        "colorbar": {
                          "outlinewidth": 0,
                          "ticks": ""
                        },
                        "colorscale": [
                          [
                            0,
                            "#0d0887"
                          ],
                          [
                            0.1111111111111111,
                            "#46039f"
                          ],
                          [
                            0.2222222222222222,
                            "#7201a8"
                          ],
                          [
                            0.3333333333333333,
                            "#9c179e"
                          ],
                          [
                            0.4444444444444444,
                            "#bd3786"
                          ],
                          [
                            0.5555555555555556,
                            "#d8576b"
                          ],
                          [
                            0.6666666666666666,
                            "#ed7953"
                          ],
                          [
                            0.7777777777777778,
                            "#fb9f3a"
                          ],
                          [
                            0.8888888888888888,
                            "#fdca26"
                          ],
                          [
                            1,
                            "#f0f921"
                          ]
                        ],
                        "type": "histogram2d"
                      }
                    ],
                    "histogram2dcontour": [
                      {
                        "colorbar": {
                          "outlinewidth": 0,
                          "ticks": ""
                        },
                        "colorscale": [
                          [
                            0,
                            "#0d0887"
                          ],
                          [
                            0.1111111111111111,
                            "#46039f"
                          ],
                          [
                            0.2222222222222222,
                            "#7201a8"
                          ],
                          [
                            0.3333333333333333,
                            "#9c179e"
                          ],
                          [
                            0.4444444444444444,
                            "#bd3786"
                          ],
                          [
                            0.5555555555555556,
                            "#d8576b"
                          ],
                          [
                            0.6666666666666666,
                            "#ed7953"
                          ],
                          [
                            0.7777777777777778,
                            "#fb9f3a"
                          ],
                          [
                            0.8888888888888888,
                            "#fdca26"
                          ],
                          [
                            1,
                            "#f0f921"
                          ]
                        ],
                        "type": "histogram2dcontour"
                      }
                    ],
                    "mesh3d": [
                      {
                        "colorbar": {
                          "outlinewidth": 0,
                          "ticks": ""
                        },
                        "type": "mesh3d"
                      }
                    ],
                    "parcoords": [
                      {
                        "line": {
                          "colorbar": {
                            "outlinewidth": 0,
                            "ticks": ""
                          }
                        },
                        "type": "parcoords"
                      }
                    ],
                    "pie": [
                      {
                        "automargin": true,
                        "type": "pie"
                      }
                    ],
                    "scatter": [
                      {
                        "fillpattern": {
                          "fillmode": "overlay",
                          "size": 10,
                          "solidity": 0.2
                        },
                        "type": "scatter"
                      }
                    ],
                    "scatter3d": [
                      {
                        "line": {
                          "colorbar": {
                            "outlinewidth": 0,
                            "ticks": ""
                          }
                        },
                        "marker": {
                          "colorbar": {
                            "outlinewidth": 0,
                            "ticks": ""
                          }
                        },
                        "type": "scatter3d"
                      }
                    ],
                    "scattercarpet": [
                      {
                        "marker": {
                          "colorbar": {
                            "outlinewidth": 0,
                            "ticks": ""
                          }
                        },
                        "type": "scattercarpet"
                      }
                    ],
                    "scattergeo": [
                      {
                        "marker": {
                          "colorbar": {
                            "outlinewidth": 0,
                            "ticks": ""
                          }
                        },
                        "type": "scattergeo"
                      }
                    ],
                    "scattergl": [
                      {
                        "marker": {
                          "colorbar": {
                            "outlinewidth": 0,
                            "ticks": ""
                          }
                        },
                        "type": "scattergl"
                      }
                    ],
                    "scattermapbox": [
                      {
                        "marker": {
                          "colorbar": {
                            "outlinewidth": 0,
                            "ticks": ""
                          }
                        },
                        "type": "scattermapbox"
                      }
                    ],
                    "scatterpolar": [
                      {
                        "marker": {
                          "colorbar": {
                            "outlinewidth": 0,
                            "ticks": ""
                          }
                        },
                        "type": "scatterpolar"
                      }
                    ],
                    "scatterpolargl": [
                      {
                        "marker": {
                          "colorbar": {
                            "outlinewidth": 0,
                            "ticks": ""
                          }
                        },
                        "type": "scatterpolargl"
                      }
                    ],
                    "scatterternary": [
                      {
                        "marker": {
                          "colorbar": {
                            "outlinewidth": 0,
                            "ticks": ""
                          }
                        },
                        "type": "scatterternary"
                      }
                    ],
                    "surface": [
                      {
                        "colorbar": {
                          "outlinewidth": 0,
                          "ticks": ""
                        },
                        "colorscale": [
                          [
                            0,
                            "#0d0887"
                          ],
                          [
                            0.1111111111111111,
                            "#46039f"
                          ],
                          [
                            0.2222222222222222,
                            "#7201a8"
                          ],
                          [
                            0.3333333333333333,
                            "#9c179e"
                          ],
                          [
                            0.4444444444444444,
                            "#bd3786"
                          ],
                          [
                            0.5555555555555556,
                            "#d8576b"
                          ],
                          [
                            0.6666666666666666,
                            "#ed7953"
                          ],
                          [
                            0.7777777777777778,
                            "#fb9f3a"
                          ],
                          [
                            0.8888888888888888,
                            "#fdca26"
                          ],
                          [
                            1,
                            "#f0f921"
                          ]
                        ],
                        "type": "surface"
                      }
                    ],
                    "table": [
                      {
                        "cells": {
                          "fill": {
                            "color": "#EBF0F8"
                          },
                          "line": {
                            "color": "white"
                          }
                        },
                        "header": {
                          "fill": {
                            "color": "#C8D4E3"
                          },
                          "line": {
                            "color": "white"
                          }
                        },
                        "type": "table"
                      }
                    ]
                  },
                  "layout": {
                    "annotationdefaults": {
                      "arrowcolor": "#2a3f5f",
                      "arrowhead": 0,
                      "arrowwidth": 1
                    },
                    "autotypenumbers": "strict",
                    "coloraxis": {
                      "colorbar": {
                        "outlinewidth": 0,
                        "ticks": ""
                      }
                    },
                    "colorscale": {
                      "diverging": [
                        [
                          0,
                          "#8e0152"
                        ],
                        [
                          0.1,
                          "#c51b7d"
                        ],
                        [
                          0.2,
                          "#de77ae"
                        ],
                        [
                          0.3,
                          "#f1b6da"
                        ],
                        [
                          0.4,
                          "#fde0ef"
                        ],
                        [
                          0.5,
                          "#f7f7f7"
                        ],
                        [
                          0.6,
                          "#e6f5d0"
                        ],
                        [
                          0.7,
                          "#b8e186"
                        ],
                        [
                          0.8,
                          "#7fbc41"
                        ],
                        [
                          0.9,
                          "#4d9221"
                        ],
                        [
                          1,
                          "#276419"
                        ]
                      ],
                      "sequential": [
                        [
                          0,
                          "#0d0887"
                        ],
                        [
                          0.1111111111111111,
                          "#46039f"
                        ],
                        [
                          0.2222222222222222,
                          "#7201a8"
                        ],
                        [
                          0.3333333333333333,
                          "#9c179e"
                        ],
                        [
                          0.4444444444444444,
                          "#bd3786"
                        ],
                        [
                          0.5555555555555556,
                          "#d8576b"
                        ],
                        [
                          0.6666666666666666,
                          "#ed7953"
                        ],
                        [
                          0.7777777777777778,
                          "#fb9f3a"
                        ],
                        [
                          0.8888888888888888,
                          "#fdca26"
                        ],
                        [
                          1,
                          "#f0f921"
                        ]
                      ],
                      "sequentialminus": [
                        [
                          0,
                          "#0d0887"
                        ],
                        [
                          0.1111111111111111,
                          "#46039f"
                        ],
                        [
                          0.2222222222222222,
                          "#7201a8"
                        ],
                        [
                          0.3333333333333333,
                          "#9c179e"
                        ],
                        [
                          0.4444444444444444,
                          "#bd3786"
                        ],
                        [
                          0.5555555555555556,
                          "#d8576b"
                        ],
                        [
                          0.6666666666666666,
                          "#ed7953"
                        ],
                        [
                          0.7777777777777778,
                          "#fb9f3a"
                        ],
                        [
                          0.8888888888888888,
                          "#fdca26"
                        ],
                        [
                          1,
                          "#f0f921"
                        ]
                      ]
                    },
                    "colorway": [
                      "#636efa",
                      "#EF553B",
                      "#00cc96",
                      "#ab63fa",
                      "#FFA15A",
                      "#19d3f3",
                      "#FF6692",
                      "#B6E880",
                      "#FF97FF",
                      "#FECB52"
                    ],
                    "font": {
                      "color": "#2a3f5f"
                    },
                    "geo": {
                      "bgcolor": "white",
                      "lakecolor": "white",
                      "landcolor": "#E5ECF6",
                      "showlakes": true,
                      "showland": true,
                      "subunitcolor": "white"
                    },
                    "hoverlabel": {
                      "align": "left"
                    },
                    "hovermode": "closest",
                    "mapbox": {
                      "style": "light"
                    },
                    "paper_bgcolor": "white",
                    "plot_bgcolor": "#E5ECF6",
                    "polar": {
                      "angularaxis": {
                        "gridcolor": "white",
                        "linecolor": "white",
                        "ticks": ""
                      },
                      "bgcolor": "#E5ECF6",
                      "radialaxis": {
                        "gridcolor": "white",
                        "linecolor": "white",
                        "ticks": ""
                      }
                    },
                    "scene": {
                      "xaxis": {
                        "backgroundcolor": "#E5ECF6",
                        "gridcolor": "white",
                        "gridwidth": 2,
                        "linecolor": "white",
                        "showbackground": true,
                        "ticks": "",
                        "zerolinecolor": "white"
                      },
                      "yaxis": {
                        "backgroundcolor": "#E5ECF6",
                        "gridcolor": "white",
                        "gridwidth": 2,
                        "linecolor": "white",
                        "showbackground": true,
                        "ticks": "",
                        "zerolinecolor": "white"
                      },
                      "zaxis": {
                        "backgroundcolor": "#E5ECF6",
                        "gridcolor": "white",
                        "gridwidth": 2,
                        "linecolor": "white",
                        "showbackground": true,
                        "ticks": "",
                        "zerolinecolor": "white"
                      }
                    },
                    "shapedefaults": {
                      "line": {
                        "color": "#2a3f5f"
                      }
                    },
                    "ternary": {
                      "aaxis": {
                        "gridcolor": "white",
                        "linecolor": "white",
                        "ticks": ""
                      },
                      "baxis": {
                        "gridcolor": "white",
                        "linecolor": "white",
                        "ticks": ""
                      },
                      "bgcolor": "#E5ECF6",
                      "caxis": {
                        "gridcolor": "white",
                        "linecolor": "white",
                        "ticks": ""
                      }
                    },
                    "title": {
                      "x": 0.05
                    },
                    "xaxis": {
                      "automargin": true,
                      "gridcolor": "white",
                      "linecolor": "white",
                      "ticks": "",
                      "title": {
                        "standoff": 15
                      },
                      "zerolinecolor": "white",
                      "zerolinewidth": 2
                    },
                    "yaxis": {
                      "automargin": true,
                      "gridcolor": "white",
                      "linecolor": "white",
                      "ticks": "",
                      "title": {
                        "standoff": 15
                      },
                      "zerolinecolor": "white",
                      "zerolinewidth": 2
                    }
                  }
                },
                "title": {
                  "text": "Average Sale Price by Foundation"
                },
                "xaxis": {
                  "anchor": "y",
                  "domain": [
                    0,
                    1
                  ],
                  "title": {
                    "text": "x"
                  }
                },
                "yaxis": {
                  "anchor": "x",
                  "domain": [
                    0,
                    1
                  ],
                  "title": {
                    "text": "y"
                  }
                }
              }
            }
          },
          "metadata": {},
          "output_type": "display_data"
        }
      ],
      "source": [
        "fig = px.bar(cat_train, x=Foundation.index, y=Foundation_avgprice, title='Average Sale Price by Foundation')\n",
        "fig.show()"
      ]
    },
    {
      "cell_type": "code",
      "execution_count": 32,
      "metadata": {},
      "outputs": [],
      "source": [
        "electrical = cat_train[\"Electrical\"].value_counts()\n",
        "electrical_avgprice = cat_train.groupby(\"Electrical\")[\"SalePrice\"].mean()"
      ]
    },
    {
      "cell_type": "code",
      "execution_count": 33,
      "metadata": {},
      "outputs": [
        {
          "data": {
            "application/vnd.plotly.v1+json": {
              "config": {
                "plotlyServerURL": "https://plot.ly"
              },
              "data": [
                {
                  "alignmentgroup": "True",
                  "hovertemplate": "x=%{x}<br>y=%{y}<extra></extra>",
                  "legendgroup": "",
                  "marker": {
                    "color": "#636efa",
                    "pattern": {
                      "shape": ""
                    }
                  },
                  "name": "",
                  "offsetgroup": "",
                  "orientation": "v",
                  "showlegend": false,
                  "textposition": "auto",
                  "type": "bar",
                  "x": [
                    "SBrkr",
                    "FuseA",
                    "FuseF",
                    "FuseP",
                    "Mix"
                  ],
                  "xaxis": "x",
                  "y": [
                    122196.89361702128,
                    107675.44444444444,
                    97333.33333333333,
                    67000,
                    186825.1131934033
                  ],
                  "yaxis": "y"
                }
              ],
              "layout": {
                "barmode": "relative",
                "legend": {
                  "tracegroupgap": 0
                },
                "template": {
                  "data": {
                    "bar": [
                      {
                        "error_x": {
                          "color": "#2a3f5f"
                        },
                        "error_y": {
                          "color": "#2a3f5f"
                        },
                        "marker": {
                          "line": {
                            "color": "#E5ECF6",
                            "width": 0.5
                          },
                          "pattern": {
                            "fillmode": "overlay",
                            "size": 10,
                            "solidity": 0.2
                          }
                        },
                        "type": "bar"
                      }
                    ],
                    "barpolar": [
                      {
                        "marker": {
                          "line": {
                            "color": "#E5ECF6",
                            "width": 0.5
                          },
                          "pattern": {
                            "fillmode": "overlay",
                            "size": 10,
                            "solidity": 0.2
                          }
                        },
                        "type": "barpolar"
                      }
                    ],
                    "carpet": [
                      {
                        "aaxis": {
                          "endlinecolor": "#2a3f5f",
                          "gridcolor": "white",
                          "linecolor": "white",
                          "minorgridcolor": "white",
                          "startlinecolor": "#2a3f5f"
                        },
                        "baxis": {
                          "endlinecolor": "#2a3f5f",
                          "gridcolor": "white",
                          "linecolor": "white",
                          "minorgridcolor": "white",
                          "startlinecolor": "#2a3f5f"
                        },
                        "type": "carpet"
                      }
                    ],
                    "choropleth": [
                      {
                        "colorbar": {
                          "outlinewidth": 0,
                          "ticks": ""
                        },
                        "type": "choropleth"
                      }
                    ],
                    "contour": [
                      {
                        "colorbar": {
                          "outlinewidth": 0,
                          "ticks": ""
                        },
                        "colorscale": [
                          [
                            0,
                            "#0d0887"
                          ],
                          [
                            0.1111111111111111,
                            "#46039f"
                          ],
                          [
                            0.2222222222222222,
                            "#7201a8"
                          ],
                          [
                            0.3333333333333333,
                            "#9c179e"
                          ],
                          [
                            0.4444444444444444,
                            "#bd3786"
                          ],
                          [
                            0.5555555555555556,
                            "#d8576b"
                          ],
                          [
                            0.6666666666666666,
                            "#ed7953"
                          ],
                          [
                            0.7777777777777778,
                            "#fb9f3a"
                          ],
                          [
                            0.8888888888888888,
                            "#fdca26"
                          ],
                          [
                            1,
                            "#f0f921"
                          ]
                        ],
                        "type": "contour"
                      }
                    ],
                    "contourcarpet": [
                      {
                        "colorbar": {
                          "outlinewidth": 0,
                          "ticks": ""
                        },
                        "type": "contourcarpet"
                      }
                    ],
                    "heatmap": [
                      {
                        "colorbar": {
                          "outlinewidth": 0,
                          "ticks": ""
                        },
                        "colorscale": [
                          [
                            0,
                            "#0d0887"
                          ],
                          [
                            0.1111111111111111,
                            "#46039f"
                          ],
                          [
                            0.2222222222222222,
                            "#7201a8"
                          ],
                          [
                            0.3333333333333333,
                            "#9c179e"
                          ],
                          [
                            0.4444444444444444,
                            "#bd3786"
                          ],
                          [
                            0.5555555555555556,
                            "#d8576b"
                          ],
                          [
                            0.6666666666666666,
                            "#ed7953"
                          ],
                          [
                            0.7777777777777778,
                            "#fb9f3a"
                          ],
                          [
                            0.8888888888888888,
                            "#fdca26"
                          ],
                          [
                            1,
                            "#f0f921"
                          ]
                        ],
                        "type": "heatmap"
                      }
                    ],
                    "heatmapgl": [
                      {
                        "colorbar": {
                          "outlinewidth": 0,
                          "ticks": ""
                        },
                        "colorscale": [
                          [
                            0,
                            "#0d0887"
                          ],
                          [
                            0.1111111111111111,
                            "#46039f"
                          ],
                          [
                            0.2222222222222222,
                            "#7201a8"
                          ],
                          [
                            0.3333333333333333,
                            "#9c179e"
                          ],
                          [
                            0.4444444444444444,
                            "#bd3786"
                          ],
                          [
                            0.5555555555555556,
                            "#d8576b"
                          ],
                          [
                            0.6666666666666666,
                            "#ed7953"
                          ],
                          [
                            0.7777777777777778,
                            "#fb9f3a"
                          ],
                          [
                            0.8888888888888888,
                            "#fdca26"
                          ],
                          [
                            1,
                            "#f0f921"
                          ]
                        ],
                        "type": "heatmapgl"
                      }
                    ],
                    "histogram": [
                      {
                        "marker": {
                          "pattern": {
                            "fillmode": "overlay",
                            "size": 10,
                            "solidity": 0.2
                          }
                        },
                        "type": "histogram"
                      }
                    ],
                    "histogram2d": [
                      {
                        "colorbar": {
                          "outlinewidth": 0,
                          "ticks": ""
                        },
                        "colorscale": [
                          [
                            0,
                            "#0d0887"
                          ],
                          [
                            0.1111111111111111,
                            "#46039f"
                          ],
                          [
                            0.2222222222222222,
                            "#7201a8"
                          ],
                          [
                            0.3333333333333333,
                            "#9c179e"
                          ],
                          [
                            0.4444444444444444,
                            "#bd3786"
                          ],
                          [
                            0.5555555555555556,
                            "#d8576b"
                          ],
                          [
                            0.6666666666666666,
                            "#ed7953"
                          ],
                          [
                            0.7777777777777778,
                            "#fb9f3a"
                          ],
                          [
                            0.8888888888888888,
                            "#fdca26"
                          ],
                          [
                            1,
                            "#f0f921"
                          ]
                        ],
                        "type": "histogram2d"
                      }
                    ],
                    "histogram2dcontour": [
                      {
                        "colorbar": {
                          "outlinewidth": 0,
                          "ticks": ""
                        },
                        "colorscale": [
                          [
                            0,
                            "#0d0887"
                          ],
                          [
                            0.1111111111111111,
                            "#46039f"
                          ],
                          [
                            0.2222222222222222,
                            "#7201a8"
                          ],
                          [
                            0.3333333333333333,
                            "#9c179e"
                          ],
                          [
                            0.4444444444444444,
                            "#bd3786"
                          ],
                          [
                            0.5555555555555556,
                            "#d8576b"
                          ],
                          [
                            0.6666666666666666,
                            "#ed7953"
                          ],
                          [
                            0.7777777777777778,
                            "#fb9f3a"
                          ],
                          [
                            0.8888888888888888,
                            "#fdca26"
                          ],
                          [
                            1,
                            "#f0f921"
                          ]
                        ],
                        "type": "histogram2dcontour"
                      }
                    ],
                    "mesh3d": [
                      {
                        "colorbar": {
                          "outlinewidth": 0,
                          "ticks": ""
                        },
                        "type": "mesh3d"
                      }
                    ],
                    "parcoords": [
                      {
                        "line": {
                          "colorbar": {
                            "outlinewidth": 0,
                            "ticks": ""
                          }
                        },
                        "type": "parcoords"
                      }
                    ],
                    "pie": [
                      {
                        "automargin": true,
                        "type": "pie"
                      }
                    ],
                    "scatter": [
                      {
                        "fillpattern": {
                          "fillmode": "overlay",
                          "size": 10,
                          "solidity": 0.2
                        },
                        "type": "scatter"
                      }
                    ],
                    "scatter3d": [
                      {
                        "line": {
                          "colorbar": {
                            "outlinewidth": 0,
                            "ticks": ""
                          }
                        },
                        "marker": {
                          "colorbar": {
                            "outlinewidth": 0,
                            "ticks": ""
                          }
                        },
                        "type": "scatter3d"
                      }
                    ],
                    "scattercarpet": [
                      {
                        "marker": {
                          "colorbar": {
                            "outlinewidth": 0,
                            "ticks": ""
                          }
                        },
                        "type": "scattercarpet"
                      }
                    ],
                    "scattergeo": [
                      {
                        "marker": {
                          "colorbar": {
                            "outlinewidth": 0,
                            "ticks": ""
                          }
                        },
                        "type": "scattergeo"
                      }
                    ],
                    "scattergl": [
                      {
                        "marker": {
                          "colorbar": {
                            "outlinewidth": 0,
                            "ticks": ""
                          }
                        },
                        "type": "scattergl"
                      }
                    ],
                    "scattermapbox": [
                      {
                        "marker": {
                          "colorbar": {
                            "outlinewidth": 0,
                            "ticks": ""
                          }
                        },
                        "type": "scattermapbox"
                      }
                    ],
                    "scatterpolar": [
                      {
                        "marker": {
                          "colorbar": {
                            "outlinewidth": 0,
                            "ticks": ""
                          }
                        },
                        "type": "scatterpolar"
                      }
                    ],
                    "scatterpolargl": [
                      {
                        "marker": {
                          "colorbar": {
                            "outlinewidth": 0,
                            "ticks": ""
                          }
                        },
                        "type": "scatterpolargl"
                      }
                    ],
                    "scatterternary": [
                      {
                        "marker": {
                          "colorbar": {
                            "outlinewidth": 0,
                            "ticks": ""
                          }
                        },
                        "type": "scatterternary"
                      }
                    ],
                    "surface": [
                      {
                        "colorbar": {
                          "outlinewidth": 0,
                          "ticks": ""
                        },
                        "colorscale": [
                          [
                            0,
                            "#0d0887"
                          ],
                          [
                            0.1111111111111111,
                            "#46039f"
                          ],
                          [
                            0.2222222222222222,
                            "#7201a8"
                          ],
                          [
                            0.3333333333333333,
                            "#9c179e"
                          ],
                          [
                            0.4444444444444444,
                            "#bd3786"
                          ],
                          [
                            0.5555555555555556,
                            "#d8576b"
                          ],
                          [
                            0.6666666666666666,
                            "#ed7953"
                          ],
                          [
                            0.7777777777777778,
                            "#fb9f3a"
                          ],
                          [
                            0.8888888888888888,
                            "#fdca26"
                          ],
                          [
                            1,
                            "#f0f921"
                          ]
                        ],
                        "type": "surface"
                      }
                    ],
                    "table": [
                      {
                        "cells": {
                          "fill": {
                            "color": "#EBF0F8"
                          },
                          "line": {
                            "color": "white"
                          }
                        },
                        "header": {
                          "fill": {
                            "color": "#C8D4E3"
                          },
                          "line": {
                            "color": "white"
                          }
                        },
                        "type": "table"
                      }
                    ]
                  },
                  "layout": {
                    "annotationdefaults": {
                      "arrowcolor": "#2a3f5f",
                      "arrowhead": 0,
                      "arrowwidth": 1
                    },
                    "autotypenumbers": "strict",
                    "coloraxis": {
                      "colorbar": {
                        "outlinewidth": 0,
                        "ticks": ""
                      }
                    },
                    "colorscale": {
                      "diverging": [
                        [
                          0,
                          "#8e0152"
                        ],
                        [
                          0.1,
                          "#c51b7d"
                        ],
                        [
                          0.2,
                          "#de77ae"
                        ],
                        [
                          0.3,
                          "#f1b6da"
                        ],
                        [
                          0.4,
                          "#fde0ef"
                        ],
                        [
                          0.5,
                          "#f7f7f7"
                        ],
                        [
                          0.6,
                          "#e6f5d0"
                        ],
                        [
                          0.7,
                          "#b8e186"
                        ],
                        [
                          0.8,
                          "#7fbc41"
                        ],
                        [
                          0.9,
                          "#4d9221"
                        ],
                        [
                          1,
                          "#276419"
                        ]
                      ],
                      "sequential": [
                        [
                          0,
                          "#0d0887"
                        ],
                        [
                          0.1111111111111111,
                          "#46039f"
                        ],
                        [
                          0.2222222222222222,
                          "#7201a8"
                        ],
                        [
                          0.3333333333333333,
                          "#9c179e"
                        ],
                        [
                          0.4444444444444444,
                          "#bd3786"
                        ],
                        [
                          0.5555555555555556,
                          "#d8576b"
                        ],
                        [
                          0.6666666666666666,
                          "#ed7953"
                        ],
                        [
                          0.7777777777777778,
                          "#fb9f3a"
                        ],
                        [
                          0.8888888888888888,
                          "#fdca26"
                        ],
                        [
                          1,
                          "#f0f921"
                        ]
                      ],
                      "sequentialminus": [
                        [
                          0,
                          "#0d0887"
                        ],
                        [
                          0.1111111111111111,
                          "#46039f"
                        ],
                        [
                          0.2222222222222222,
                          "#7201a8"
                        ],
                        [
                          0.3333333333333333,
                          "#9c179e"
                        ],
                        [
                          0.4444444444444444,
                          "#bd3786"
                        ],
                        [
                          0.5555555555555556,
                          "#d8576b"
                        ],
                        [
                          0.6666666666666666,
                          "#ed7953"
                        ],
                        [
                          0.7777777777777778,
                          "#fb9f3a"
                        ],
                        [
                          0.8888888888888888,
                          "#fdca26"
                        ],
                        [
                          1,
                          "#f0f921"
                        ]
                      ]
                    },
                    "colorway": [
                      "#636efa",
                      "#EF553B",
                      "#00cc96",
                      "#ab63fa",
                      "#FFA15A",
                      "#19d3f3",
                      "#FF6692",
                      "#B6E880",
                      "#FF97FF",
                      "#FECB52"
                    ],
                    "font": {
                      "color": "#2a3f5f"
                    },
                    "geo": {
                      "bgcolor": "white",
                      "lakecolor": "white",
                      "landcolor": "#E5ECF6",
                      "showlakes": true,
                      "showland": true,
                      "subunitcolor": "white"
                    },
                    "hoverlabel": {
                      "align": "left"
                    },
                    "hovermode": "closest",
                    "mapbox": {
                      "style": "light"
                    },
                    "paper_bgcolor": "white",
                    "plot_bgcolor": "#E5ECF6",
                    "polar": {
                      "angularaxis": {
                        "gridcolor": "white",
                        "linecolor": "white",
                        "ticks": ""
                      },
                      "bgcolor": "#E5ECF6",
                      "radialaxis": {
                        "gridcolor": "white",
                        "linecolor": "white",
                        "ticks": ""
                      }
                    },
                    "scene": {
                      "xaxis": {
                        "backgroundcolor": "#E5ECF6",
                        "gridcolor": "white",
                        "gridwidth": 2,
                        "linecolor": "white",
                        "showbackground": true,
                        "ticks": "",
                        "zerolinecolor": "white"
                      },
                      "yaxis": {
                        "backgroundcolor": "#E5ECF6",
                        "gridcolor": "white",
                        "gridwidth": 2,
                        "linecolor": "white",
                        "showbackground": true,
                        "ticks": "",
                        "zerolinecolor": "white"
                      },
                      "zaxis": {
                        "backgroundcolor": "#E5ECF6",
                        "gridcolor": "white",
                        "gridwidth": 2,
                        "linecolor": "white",
                        "showbackground": true,
                        "ticks": "",
                        "zerolinecolor": "white"
                      }
                    },
                    "shapedefaults": {
                      "line": {
                        "color": "#2a3f5f"
                      }
                    },
                    "ternary": {
                      "aaxis": {
                        "gridcolor": "white",
                        "linecolor": "white",
                        "ticks": ""
                      },
                      "baxis": {
                        "gridcolor": "white",
                        "linecolor": "white",
                        "ticks": ""
                      },
                      "bgcolor": "#E5ECF6",
                      "caxis": {
                        "gridcolor": "white",
                        "linecolor": "white",
                        "ticks": ""
                      }
                    },
                    "title": {
                      "x": 0.05
                    },
                    "xaxis": {
                      "automargin": true,
                      "gridcolor": "white",
                      "linecolor": "white",
                      "ticks": "",
                      "title": {
                        "standoff": 15
                      },
                      "zerolinecolor": "white",
                      "zerolinewidth": 2
                    },
                    "yaxis": {
                      "automargin": true,
                      "gridcolor": "white",
                      "linecolor": "white",
                      "ticks": "",
                      "title": {
                        "standoff": 15
                      },
                      "zerolinecolor": "white",
                      "zerolinewidth": 2
                    }
                  }
                },
                "title": {
                  "text": "Average Sale Price by Electrical Type"
                },
                "xaxis": {
                  "anchor": "y",
                  "domain": [
                    0,
                    1
                  ],
                  "title": {
                    "text": "x"
                  }
                },
                "yaxis": {
                  "anchor": "x",
                  "domain": [
                    0,
                    1
                  ],
                  "title": {
                    "text": "y"
                  }
                }
              }
            }
          },
          "metadata": {},
          "output_type": "display_data"
        }
      ],
      "source": [
        "fig = px.bar(cat_train, x=electrical.index, y=electrical_avgprice, title='Average Sale Price by Electrical Type')\n",
        "fig.show()"
      ]
    },
    {
      "cell_type": "code",
      "execution_count": 35,
      "metadata": {},
      "outputs": [
        {
          "data": {
            "application/vnd.plotly.v1+json": {
              "config": {
                "plotlyServerURL": "https://plot.ly"
              },
              "data": [
                {
                  "alignmentgroup": "True",
                  "hovertemplate": "x=%{x}<br>y=%{y}<extra></extra>",
                  "legendgroup": "",
                  "marker": {
                    "color": "#636efa",
                    "pattern": {
                      "shape": ""
                    }
                  },
                  "name": "",
                  "offsetgroup": "",
                  "orientation": "v",
                  "showlegend": false,
                  "textposition": "auto",
                  "type": "bar",
                  "x": [
                    "GasA",
                    "GasW",
                    "Grav",
                    "Wall",
                    "OthW",
                    "Floor"
                  ],
                  "xaxis": "x",
                  "y": [
                    72500,
                    182021.19537815126,
                    166632.16666666666,
                    75271.42857142857,
                    125750,
                    92100
                  ],
                  "yaxis": "y"
                }
              ],
              "layout": {
                "barmode": "relative",
                "legend": {
                  "tracegroupgap": 0
                },
                "template": {
                  "data": {
                    "bar": [
                      {
                        "error_x": {
                          "color": "#2a3f5f"
                        },
                        "error_y": {
                          "color": "#2a3f5f"
                        },
                        "marker": {
                          "line": {
                            "color": "#E5ECF6",
                            "width": 0.5
                          },
                          "pattern": {
                            "fillmode": "overlay",
                            "size": 10,
                            "solidity": 0.2
                          }
                        },
                        "type": "bar"
                      }
                    ],
                    "barpolar": [
                      {
                        "marker": {
                          "line": {
                            "color": "#E5ECF6",
                            "width": 0.5
                          },
                          "pattern": {
                            "fillmode": "overlay",
                            "size": 10,
                            "solidity": 0.2
                          }
                        },
                        "type": "barpolar"
                      }
                    ],
                    "carpet": [
                      {
                        "aaxis": {
                          "endlinecolor": "#2a3f5f",
                          "gridcolor": "white",
                          "linecolor": "white",
                          "minorgridcolor": "white",
                          "startlinecolor": "#2a3f5f"
                        },
                        "baxis": {
                          "endlinecolor": "#2a3f5f",
                          "gridcolor": "white",
                          "linecolor": "white",
                          "minorgridcolor": "white",
                          "startlinecolor": "#2a3f5f"
                        },
                        "type": "carpet"
                      }
                    ],
                    "choropleth": [
                      {
                        "colorbar": {
                          "outlinewidth": 0,
                          "ticks": ""
                        },
                        "type": "choropleth"
                      }
                    ],
                    "contour": [
                      {
                        "colorbar": {
                          "outlinewidth": 0,
                          "ticks": ""
                        },
                        "colorscale": [
                          [
                            0,
                            "#0d0887"
                          ],
                          [
                            0.1111111111111111,
                            "#46039f"
                          ],
                          [
                            0.2222222222222222,
                            "#7201a8"
                          ],
                          [
                            0.3333333333333333,
                            "#9c179e"
                          ],
                          [
                            0.4444444444444444,
                            "#bd3786"
                          ],
                          [
                            0.5555555555555556,
                            "#d8576b"
                          ],
                          [
                            0.6666666666666666,
                            "#ed7953"
                          ],
                          [
                            0.7777777777777778,
                            "#fb9f3a"
                          ],
                          [
                            0.8888888888888888,
                            "#fdca26"
                          ],
                          [
                            1,
                            "#f0f921"
                          ]
                        ],
                        "type": "contour"
                      }
                    ],
                    "contourcarpet": [
                      {
                        "colorbar": {
                          "outlinewidth": 0,
                          "ticks": ""
                        },
                        "type": "contourcarpet"
                      }
                    ],
                    "heatmap": [
                      {
                        "colorbar": {
                          "outlinewidth": 0,
                          "ticks": ""
                        },
                        "colorscale": [
                          [
                            0,
                            "#0d0887"
                          ],
                          [
                            0.1111111111111111,
                            "#46039f"
                          ],
                          [
                            0.2222222222222222,
                            "#7201a8"
                          ],
                          [
                            0.3333333333333333,
                            "#9c179e"
                          ],
                          [
                            0.4444444444444444,
                            "#bd3786"
                          ],
                          [
                            0.5555555555555556,
                            "#d8576b"
                          ],
                          [
                            0.6666666666666666,
                            "#ed7953"
                          ],
                          [
                            0.7777777777777778,
                            "#fb9f3a"
                          ],
                          [
                            0.8888888888888888,
                            "#fdca26"
                          ],
                          [
                            1,
                            "#f0f921"
                          ]
                        ],
                        "type": "heatmap"
                      }
                    ],
                    "heatmapgl": [
                      {
                        "colorbar": {
                          "outlinewidth": 0,
                          "ticks": ""
                        },
                        "colorscale": [
                          [
                            0,
                            "#0d0887"
                          ],
                          [
                            0.1111111111111111,
                            "#46039f"
                          ],
                          [
                            0.2222222222222222,
                            "#7201a8"
                          ],
                          [
                            0.3333333333333333,
                            "#9c179e"
                          ],
                          [
                            0.4444444444444444,
                            "#bd3786"
                          ],
                          [
                            0.5555555555555556,
                            "#d8576b"
                          ],
                          [
                            0.6666666666666666,
                            "#ed7953"
                          ],
                          [
                            0.7777777777777778,
                            "#fb9f3a"
                          ],
                          [
                            0.8888888888888888,
                            "#fdca26"
                          ],
                          [
                            1,
                            "#f0f921"
                          ]
                        ],
                        "type": "heatmapgl"
                      }
                    ],
                    "histogram": [
                      {
                        "marker": {
                          "pattern": {
                            "fillmode": "overlay",
                            "size": 10,
                            "solidity": 0.2
                          }
                        },
                        "type": "histogram"
                      }
                    ],
                    "histogram2d": [
                      {
                        "colorbar": {
                          "outlinewidth": 0,
                          "ticks": ""
                        },
                        "colorscale": [
                          [
                            0,
                            "#0d0887"
                          ],
                          [
                            0.1111111111111111,
                            "#46039f"
                          ],
                          [
                            0.2222222222222222,
                            "#7201a8"
                          ],
                          [
                            0.3333333333333333,
                            "#9c179e"
                          ],
                          [
                            0.4444444444444444,
                            "#bd3786"
                          ],
                          [
                            0.5555555555555556,
                            "#d8576b"
                          ],
                          [
                            0.6666666666666666,
                            "#ed7953"
                          ],
                          [
                            0.7777777777777778,
                            "#fb9f3a"
                          ],
                          [
                            0.8888888888888888,
                            "#fdca26"
                          ],
                          [
                            1,
                            "#f0f921"
                          ]
                        ],
                        "type": "histogram2d"
                      }
                    ],
                    "histogram2dcontour": [
                      {
                        "colorbar": {
                          "outlinewidth": 0,
                          "ticks": ""
                        },
                        "colorscale": [
                          [
                            0,
                            "#0d0887"
                          ],
                          [
                            0.1111111111111111,
                            "#46039f"
                          ],
                          [
                            0.2222222222222222,
                            "#7201a8"
                          ],
                          [
                            0.3333333333333333,
                            "#9c179e"
                          ],
                          [
                            0.4444444444444444,
                            "#bd3786"
                          ],
                          [
                            0.5555555555555556,
                            "#d8576b"
                          ],
                          [
                            0.6666666666666666,
                            "#ed7953"
                          ],
                          [
                            0.7777777777777778,
                            "#fb9f3a"
                          ],
                          [
                            0.8888888888888888,
                            "#fdca26"
                          ],
                          [
                            1,
                            "#f0f921"
                          ]
                        ],
                        "type": "histogram2dcontour"
                      }
                    ],
                    "mesh3d": [
                      {
                        "colorbar": {
                          "outlinewidth": 0,
                          "ticks": ""
                        },
                        "type": "mesh3d"
                      }
                    ],
                    "parcoords": [
                      {
                        "line": {
                          "colorbar": {
                            "outlinewidth": 0,
                            "ticks": ""
                          }
                        },
                        "type": "parcoords"
                      }
                    ],
                    "pie": [
                      {
                        "automargin": true,
                        "type": "pie"
                      }
                    ],
                    "scatter": [
                      {
                        "fillpattern": {
                          "fillmode": "overlay",
                          "size": 10,
                          "solidity": 0.2
                        },
                        "type": "scatter"
                      }
                    ],
                    "scatter3d": [
                      {
                        "line": {
                          "colorbar": {
                            "outlinewidth": 0,
                            "ticks": ""
                          }
                        },
                        "marker": {
                          "colorbar": {
                            "outlinewidth": 0,
                            "ticks": ""
                          }
                        },
                        "type": "scatter3d"
                      }
                    ],
                    "scattercarpet": [
                      {
                        "marker": {
                          "colorbar": {
                            "outlinewidth": 0,
                            "ticks": ""
                          }
                        },
                        "type": "scattercarpet"
                      }
                    ],
                    "scattergeo": [
                      {
                        "marker": {
                          "colorbar": {
                            "outlinewidth": 0,
                            "ticks": ""
                          }
                        },
                        "type": "scattergeo"
                      }
                    ],
                    "scattergl": [
                      {
                        "marker": {
                          "colorbar": {
                            "outlinewidth": 0,
                            "ticks": ""
                          }
                        },
                        "type": "scattergl"
                      }
                    ],
                    "scattermapbox": [
                      {
                        "marker": {
                          "colorbar": {
                            "outlinewidth": 0,
                            "ticks": ""
                          }
                        },
                        "type": "scattermapbox"
                      }
                    ],
                    "scatterpolar": [
                      {
                        "marker": {
                          "colorbar": {
                            "outlinewidth": 0,
                            "ticks": ""
                          }
                        },
                        "type": "scatterpolar"
                      }
                    ],
                    "scatterpolargl": [
                      {
                        "marker": {
                          "colorbar": {
                            "outlinewidth": 0,
                            "ticks": ""
                          }
                        },
                        "type": "scatterpolargl"
                      }
                    ],
                    "scatterternary": [
                      {
                        "marker": {
                          "colorbar": {
                            "outlinewidth": 0,
                            "ticks": ""
                          }
                        },
                        "type": "scatterternary"
                      }
                    ],
                    "surface": [
                      {
                        "colorbar": {
                          "outlinewidth": 0,
                          "ticks": ""
                        },
                        "colorscale": [
                          [
                            0,
                            "#0d0887"
                          ],
                          [
                            0.1111111111111111,
                            "#46039f"
                          ],
                          [
                            0.2222222222222222,
                            "#7201a8"
                          ],
                          [
                            0.3333333333333333,
                            "#9c179e"
                          ],
                          [
                            0.4444444444444444,
                            "#bd3786"
                          ],
                          [
                            0.5555555555555556,
                            "#d8576b"
                          ],
                          [
                            0.6666666666666666,
                            "#ed7953"
                          ],
                          [
                            0.7777777777777778,
                            "#fb9f3a"
                          ],
                          [
                            0.8888888888888888,
                            "#fdca26"
                          ],
                          [
                            1,
                            "#f0f921"
                          ]
                        ],
                        "type": "surface"
                      }
                    ],
                    "table": [
                      {
                        "cells": {
                          "fill": {
                            "color": "#EBF0F8"
                          },
                          "line": {
                            "color": "white"
                          }
                        },
                        "header": {
                          "fill": {
                            "color": "#C8D4E3"
                          },
                          "line": {
                            "color": "white"
                          }
                        },
                        "type": "table"
                      }
                    ]
                  },
                  "layout": {
                    "annotationdefaults": {
                      "arrowcolor": "#2a3f5f",
                      "arrowhead": 0,
                      "arrowwidth": 1
                    },
                    "autotypenumbers": "strict",
                    "coloraxis": {
                      "colorbar": {
                        "outlinewidth": 0,
                        "ticks": ""
                      }
                    },
                    "colorscale": {
                      "diverging": [
                        [
                          0,
                          "#8e0152"
                        ],
                        [
                          0.1,
                          "#c51b7d"
                        ],
                        [
                          0.2,
                          "#de77ae"
                        ],
                        [
                          0.3,
                          "#f1b6da"
                        ],
                        [
                          0.4,
                          "#fde0ef"
                        ],
                        [
                          0.5,
                          "#f7f7f7"
                        ],
                        [
                          0.6,
                          "#e6f5d0"
                        ],
                        [
                          0.7,
                          "#b8e186"
                        ],
                        [
                          0.8,
                          "#7fbc41"
                        ],
                        [
                          0.9,
                          "#4d9221"
                        ],
                        [
                          1,
                          "#276419"
                        ]
                      ],
                      "sequential": [
                        [
                          0,
                          "#0d0887"
                        ],
                        [
                          0.1111111111111111,
                          "#46039f"
                        ],
                        [
                          0.2222222222222222,
                          "#7201a8"
                        ],
                        [
                          0.3333333333333333,
                          "#9c179e"
                        ],
                        [
                          0.4444444444444444,
                          "#bd3786"
                        ],
                        [
                          0.5555555555555556,
                          "#d8576b"
                        ],
                        [
                          0.6666666666666666,
                          "#ed7953"
                        ],
                        [
                          0.7777777777777778,
                          "#fb9f3a"
                        ],
                        [
                          0.8888888888888888,
                          "#fdca26"
                        ],
                        [
                          1,
                          "#f0f921"
                        ]
                      ],
                      "sequentialminus": [
                        [
                          0,
                          "#0d0887"
                        ],
                        [
                          0.1111111111111111,
                          "#46039f"
                        ],
                        [
                          0.2222222222222222,
                          "#7201a8"
                        ],
                        [
                          0.3333333333333333,
                          "#9c179e"
                        ],
                        [
                          0.4444444444444444,
                          "#bd3786"
                        ],
                        [
                          0.5555555555555556,
                          "#d8576b"
                        ],
                        [
                          0.6666666666666666,
                          "#ed7953"
                        ],
                        [
                          0.7777777777777778,
                          "#fb9f3a"
                        ],
                        [
                          0.8888888888888888,
                          "#fdca26"
                        ],
                        [
                          1,
                          "#f0f921"
                        ]
                      ]
                    },
                    "colorway": [
                      "#636efa",
                      "#EF553B",
                      "#00cc96",
                      "#ab63fa",
                      "#FFA15A",
                      "#19d3f3",
                      "#FF6692",
                      "#B6E880",
                      "#FF97FF",
                      "#FECB52"
                    ],
                    "font": {
                      "color": "#2a3f5f"
                    },
                    "geo": {
                      "bgcolor": "white",
                      "lakecolor": "white",
                      "landcolor": "#E5ECF6",
                      "showlakes": true,
                      "showland": true,
                      "subunitcolor": "white"
                    },
                    "hoverlabel": {
                      "align": "left"
                    },
                    "hovermode": "closest",
                    "mapbox": {
                      "style": "light"
                    },
                    "paper_bgcolor": "white",
                    "plot_bgcolor": "#E5ECF6",
                    "polar": {
                      "angularaxis": {
                        "gridcolor": "white",
                        "linecolor": "white",
                        "ticks": ""
                      },
                      "bgcolor": "#E5ECF6",
                      "radialaxis": {
                        "gridcolor": "white",
                        "linecolor": "white",
                        "ticks": ""
                      }
                    },
                    "scene": {
                      "xaxis": {
                        "backgroundcolor": "#E5ECF6",
                        "gridcolor": "white",
                        "gridwidth": 2,
                        "linecolor": "white",
                        "showbackground": true,
                        "ticks": "",
                        "zerolinecolor": "white"
                      },
                      "yaxis": {
                        "backgroundcolor": "#E5ECF6",
                        "gridcolor": "white",
                        "gridwidth": 2,
                        "linecolor": "white",
                        "showbackground": true,
                        "ticks": "",
                        "zerolinecolor": "white"
                      },
                      "zaxis": {
                        "backgroundcolor": "#E5ECF6",
                        "gridcolor": "white",
                        "gridwidth": 2,
                        "linecolor": "white",
                        "showbackground": true,
                        "ticks": "",
                        "zerolinecolor": "white"
                      }
                    },
                    "shapedefaults": {
                      "line": {
                        "color": "#2a3f5f"
                      }
                    },
                    "ternary": {
                      "aaxis": {
                        "gridcolor": "white",
                        "linecolor": "white",
                        "ticks": ""
                      },
                      "baxis": {
                        "gridcolor": "white",
                        "linecolor": "white",
                        "ticks": ""
                      },
                      "bgcolor": "#E5ECF6",
                      "caxis": {
                        "gridcolor": "white",
                        "linecolor": "white",
                        "ticks": ""
                      }
                    },
                    "title": {
                      "x": 0.05
                    },
                    "xaxis": {
                      "automargin": true,
                      "gridcolor": "white",
                      "linecolor": "white",
                      "ticks": "",
                      "title": {
                        "standoff": 15
                      },
                      "zerolinecolor": "white",
                      "zerolinewidth": 2
                    },
                    "yaxis": {
                      "automargin": true,
                      "gridcolor": "white",
                      "linecolor": "white",
                      "ticks": "",
                      "title": {
                        "standoff": 15
                      },
                      "zerolinecolor": "white",
                      "zerolinewidth": 2
                    }
                  }
                },
                "title": {
                  "text": "Average Sale Price by Heating Type"
                },
                "xaxis": {
                  "anchor": "y",
                  "domain": [
                    0,
                    1
                  ],
                  "title": {
                    "text": "x"
                  }
                },
                "yaxis": {
                  "anchor": "x",
                  "domain": [
                    0,
                    1
                  ],
                  "title": {
                    "text": "y"
                  }
                }
              }
            }
          },
          "metadata": {},
          "output_type": "display_data"
        }
      ],
      "source": [
        "heating = cat_train[\"Heating\"].value_counts()\n",
        "heating_avgprice = cat_train.groupby(\"Heating\")[\"SalePrice\"].mean()\n",
        "\n",
        "fig = px.bar(cat_train, x=heating.index, y=heating_avgprice, title='Average Sale Price by Heating Type')\n",
        "fig.show()"
      ]
    },
    {
      "cell_type": "code",
      "execution_count": 36,
      "metadata": {},
      "outputs": [
        {
          "data": {
            "application/vnd.plotly.v1+json": {
              "config": {
                "plotlyServerURL": "https://plot.ly"
              },
              "data": [
                {
                  "alignmentgroup": "True",
                  "hovertemplate": "x=%{x}<br>y=%{y}<extra></extra>",
                  "legendgroup": "",
                  "marker": {
                    "color": "#636efa",
                    "pattern": {
                      "shape": ""
                    }
                  },
                  "name": "",
                  "offsetgroup": "",
                  "orientation": "v",
                  "showlegend": false,
                  "textposition": "auto",
                  "type": "bar",
                  "x": [
                    "Attchd",
                    "Detchd",
                    "BuiltIn",
                    "Basment",
                    "CarPort",
                    "2Types"
                  ],
                  "xaxis": "x",
                  "y": [
                    151283.33333333334,
                    202892.65632183908,
                    160570.68421052632,
                    254751.73863636365,
                    109962.11111111111,
                    134091.16279069768
                  ],
                  "yaxis": "y"
                }
              ],
              "layout": {
                "barmode": "relative",
                "legend": {
                  "tracegroupgap": 0
                },
                "template": {
                  "data": {
                    "bar": [
                      {
                        "error_x": {
                          "color": "#2a3f5f"
                        },
                        "error_y": {
                          "color": "#2a3f5f"
                        },
                        "marker": {
                          "line": {
                            "color": "#E5ECF6",
                            "width": 0.5
                          },
                          "pattern": {
                            "fillmode": "overlay",
                            "size": 10,
                            "solidity": 0.2
                          }
                        },
                        "type": "bar"
                      }
                    ],
                    "barpolar": [
                      {
                        "marker": {
                          "line": {
                            "color": "#E5ECF6",
                            "width": 0.5
                          },
                          "pattern": {
                            "fillmode": "overlay",
                            "size": 10,
                            "solidity": 0.2
                          }
                        },
                        "type": "barpolar"
                      }
                    ],
                    "carpet": [
                      {
                        "aaxis": {
                          "endlinecolor": "#2a3f5f",
                          "gridcolor": "white",
                          "linecolor": "white",
                          "minorgridcolor": "white",
                          "startlinecolor": "#2a3f5f"
                        },
                        "baxis": {
                          "endlinecolor": "#2a3f5f",
                          "gridcolor": "white",
                          "linecolor": "white",
                          "minorgridcolor": "white",
                          "startlinecolor": "#2a3f5f"
                        },
                        "type": "carpet"
                      }
                    ],
                    "choropleth": [
                      {
                        "colorbar": {
                          "outlinewidth": 0,
                          "ticks": ""
                        },
                        "type": "choropleth"
                      }
                    ],
                    "contour": [
                      {
                        "colorbar": {
                          "outlinewidth": 0,
                          "ticks": ""
                        },
                        "colorscale": [
                          [
                            0,
                            "#0d0887"
                          ],
                          [
                            0.1111111111111111,
                            "#46039f"
                          ],
                          [
                            0.2222222222222222,
                            "#7201a8"
                          ],
                          [
                            0.3333333333333333,
                            "#9c179e"
                          ],
                          [
                            0.4444444444444444,
                            "#bd3786"
                          ],
                          [
                            0.5555555555555556,
                            "#d8576b"
                          ],
                          [
                            0.6666666666666666,
                            "#ed7953"
                          ],
                          [
                            0.7777777777777778,
                            "#fb9f3a"
                          ],
                          [
                            0.8888888888888888,
                            "#fdca26"
                          ],
                          [
                            1,
                            "#f0f921"
                          ]
                        ],
                        "type": "contour"
                      }
                    ],
                    "contourcarpet": [
                      {
                        "colorbar": {
                          "outlinewidth": 0,
                          "ticks": ""
                        },
                        "type": "contourcarpet"
                      }
                    ],
                    "heatmap": [
                      {
                        "colorbar": {
                          "outlinewidth": 0,
                          "ticks": ""
                        },
                        "colorscale": [
                          [
                            0,
                            "#0d0887"
                          ],
                          [
                            0.1111111111111111,
                            "#46039f"
                          ],
                          [
                            0.2222222222222222,
                            "#7201a8"
                          ],
                          [
                            0.3333333333333333,
                            "#9c179e"
                          ],
                          [
                            0.4444444444444444,
                            "#bd3786"
                          ],
                          [
                            0.5555555555555556,
                            "#d8576b"
                          ],
                          [
                            0.6666666666666666,
                            "#ed7953"
                          ],
                          [
                            0.7777777777777778,
                            "#fb9f3a"
                          ],
                          [
                            0.8888888888888888,
                            "#fdca26"
                          ],
                          [
                            1,
                            "#f0f921"
                          ]
                        ],
                        "type": "heatmap"
                      }
                    ],
                    "heatmapgl": [
                      {
                        "colorbar": {
                          "outlinewidth": 0,
                          "ticks": ""
                        },
                        "colorscale": [
                          [
                            0,
                            "#0d0887"
                          ],
                          [
                            0.1111111111111111,
                            "#46039f"
                          ],
                          [
                            0.2222222222222222,
                            "#7201a8"
                          ],
                          [
                            0.3333333333333333,
                            "#9c179e"
                          ],
                          [
                            0.4444444444444444,
                            "#bd3786"
                          ],
                          [
                            0.5555555555555556,
                            "#d8576b"
                          ],
                          [
                            0.6666666666666666,
                            "#ed7953"
                          ],
                          [
                            0.7777777777777778,
                            "#fb9f3a"
                          ],
                          [
                            0.8888888888888888,
                            "#fdca26"
                          ],
                          [
                            1,
                            "#f0f921"
                          ]
                        ],
                        "type": "heatmapgl"
                      }
                    ],
                    "histogram": [
                      {
                        "marker": {
                          "pattern": {
                            "fillmode": "overlay",
                            "size": 10,
                            "solidity": 0.2
                          }
                        },
                        "type": "histogram"
                      }
                    ],
                    "histogram2d": [
                      {
                        "colorbar": {
                          "outlinewidth": 0,
                          "ticks": ""
                        },
                        "colorscale": [
                          [
                            0,
                            "#0d0887"
                          ],
                          [
                            0.1111111111111111,
                            "#46039f"
                          ],
                          [
                            0.2222222222222222,
                            "#7201a8"
                          ],
                          [
                            0.3333333333333333,
                            "#9c179e"
                          ],
                          [
                            0.4444444444444444,
                            "#bd3786"
                          ],
                          [
                            0.5555555555555556,
                            "#d8576b"
                          ],
                          [
                            0.6666666666666666,
                            "#ed7953"
                          ],
                          [
                            0.7777777777777778,
                            "#fb9f3a"
                          ],
                          [
                            0.8888888888888888,
                            "#fdca26"
                          ],
                          [
                            1,
                            "#f0f921"
                          ]
                        ],
                        "type": "histogram2d"
                      }
                    ],
                    "histogram2dcontour": [
                      {
                        "colorbar": {
                          "outlinewidth": 0,
                          "ticks": ""
                        },
                        "colorscale": [
                          [
                            0,
                            "#0d0887"
                          ],
                          [
                            0.1111111111111111,
                            "#46039f"
                          ],
                          [
                            0.2222222222222222,
                            "#7201a8"
                          ],
                          [
                            0.3333333333333333,
                            "#9c179e"
                          ],
                          [
                            0.4444444444444444,
                            "#bd3786"
                          ],
                          [
                            0.5555555555555556,
                            "#d8576b"
                          ],
                          [
                            0.6666666666666666,
                            "#ed7953"
                          ],
                          [
                            0.7777777777777778,
                            "#fb9f3a"
                          ],
                          [
                            0.8888888888888888,
                            "#fdca26"
                          ],
                          [
                            1,
                            "#f0f921"
                          ]
                        ],
                        "type": "histogram2dcontour"
                      }
                    ],
                    "mesh3d": [
                      {
                        "colorbar": {
                          "outlinewidth": 0,
                          "ticks": ""
                        },
                        "type": "mesh3d"
                      }
                    ],
                    "parcoords": [
                      {
                        "line": {
                          "colorbar": {
                            "outlinewidth": 0,
                            "ticks": ""
                          }
                        },
                        "type": "parcoords"
                      }
                    ],
                    "pie": [
                      {
                        "automargin": true,
                        "type": "pie"
                      }
                    ],
                    "scatter": [
                      {
                        "fillpattern": {
                          "fillmode": "overlay",
                          "size": 10,
                          "solidity": 0.2
                        },
                        "type": "scatter"
                      }
                    ],
                    "scatter3d": [
                      {
                        "line": {
                          "colorbar": {
                            "outlinewidth": 0,
                            "ticks": ""
                          }
                        },
                        "marker": {
                          "colorbar": {
                            "outlinewidth": 0,
                            "ticks": ""
                          }
                        },
                        "type": "scatter3d"
                      }
                    ],
                    "scattercarpet": [
                      {
                        "marker": {
                          "colorbar": {
                            "outlinewidth": 0,
                            "ticks": ""
                          }
                        },
                        "type": "scattercarpet"
                      }
                    ],
                    "scattergeo": [
                      {
                        "marker": {
                          "colorbar": {
                            "outlinewidth": 0,
                            "ticks": ""
                          }
                        },
                        "type": "scattergeo"
                      }
                    ],
                    "scattergl": [
                      {
                        "marker": {
                          "colorbar": {
                            "outlinewidth": 0,
                            "ticks": ""
                          }
                        },
                        "type": "scattergl"
                      }
                    ],
                    "scattermapbox": [
                      {
                        "marker": {
                          "colorbar": {
                            "outlinewidth": 0,
                            "ticks": ""
                          }
                        },
                        "type": "scattermapbox"
                      }
                    ],
                    "scatterpolar": [
                      {
                        "marker": {
                          "colorbar": {
                            "outlinewidth": 0,
                            "ticks": ""
                          }
                        },
                        "type": "scatterpolar"
                      }
                    ],
                    "scatterpolargl": [
                      {
                        "marker": {
                          "colorbar": {
                            "outlinewidth": 0,
                            "ticks": ""
                          }
                        },
                        "type": "scatterpolargl"
                      }
                    ],
                    "scatterternary": [
                      {
                        "marker": {
                          "colorbar": {
                            "outlinewidth": 0,
                            "ticks": ""
                          }
                        },
                        "type": "scatterternary"
                      }
                    ],
                    "surface": [
                      {
                        "colorbar": {
                          "outlinewidth": 0,
                          "ticks": ""
                        },
                        "colorscale": [
                          [
                            0,
                            "#0d0887"
                          ],
                          [
                            0.1111111111111111,
                            "#46039f"
                          ],
                          [
                            0.2222222222222222,
                            "#7201a8"
                          ],
                          [
                            0.3333333333333333,
                            "#9c179e"
                          ],
                          [
                            0.4444444444444444,
                            "#bd3786"
                          ],
                          [
                            0.5555555555555556,
                            "#d8576b"
                          ],
                          [
                            0.6666666666666666,
                            "#ed7953"
                          ],
                          [
                            0.7777777777777778,
                            "#fb9f3a"
                          ],
                          [
                            0.8888888888888888,
                            "#fdca26"
                          ],
                          [
                            1,
                            "#f0f921"
                          ]
                        ],
                        "type": "surface"
                      }
                    ],
                    "table": [
                      {
                        "cells": {
                          "fill": {
                            "color": "#EBF0F8"
                          },
                          "line": {
                            "color": "white"
                          }
                        },
                        "header": {
                          "fill": {
                            "color": "#C8D4E3"
                          },
                          "line": {
                            "color": "white"
                          }
                        },
                        "type": "table"
                      }
                    ]
                  },
                  "layout": {
                    "annotationdefaults": {
                      "arrowcolor": "#2a3f5f",
                      "arrowhead": 0,
                      "arrowwidth": 1
                    },
                    "autotypenumbers": "strict",
                    "coloraxis": {
                      "colorbar": {
                        "outlinewidth": 0,
                        "ticks": ""
                      }
                    },
                    "colorscale": {
                      "diverging": [
                        [
                          0,
                          "#8e0152"
                        ],
                        [
                          0.1,
                          "#c51b7d"
                        ],
                        [
                          0.2,
                          "#de77ae"
                        ],
                        [
                          0.3,
                          "#f1b6da"
                        ],
                        [
                          0.4,
                          "#fde0ef"
                        ],
                        [
                          0.5,
                          "#f7f7f7"
                        ],
                        [
                          0.6,
                          "#e6f5d0"
                        ],
                        [
                          0.7,
                          "#b8e186"
                        ],
                        [
                          0.8,
                          "#7fbc41"
                        ],
                        [
                          0.9,
                          "#4d9221"
                        ],
                        [
                          1,
                          "#276419"
                        ]
                      ],
                      "sequential": [
                        [
                          0,
                          "#0d0887"
                        ],
                        [
                          0.1111111111111111,
                          "#46039f"
                        ],
                        [
                          0.2222222222222222,
                          "#7201a8"
                        ],
                        [
                          0.3333333333333333,
                          "#9c179e"
                        ],
                        [
                          0.4444444444444444,
                          "#bd3786"
                        ],
                        [
                          0.5555555555555556,
                          "#d8576b"
                        ],
                        [
                          0.6666666666666666,
                          "#ed7953"
                        ],
                        [
                          0.7777777777777778,
                          "#fb9f3a"
                        ],
                        [
                          0.8888888888888888,
                          "#fdca26"
                        ],
                        [
                          1,
                          "#f0f921"
                        ]
                      ],
                      "sequentialminus": [
                        [
                          0,
                          "#0d0887"
                        ],
                        [
                          0.1111111111111111,
                          "#46039f"
                        ],
                        [
                          0.2222222222222222,
                          "#7201a8"
                        ],
                        [
                          0.3333333333333333,
                          "#9c179e"
                        ],
                        [
                          0.4444444444444444,
                          "#bd3786"
                        ],
                        [
                          0.5555555555555556,
                          "#d8576b"
                        ],
                        [
                          0.6666666666666666,
                          "#ed7953"
                        ],
                        [
                          0.7777777777777778,
                          "#fb9f3a"
                        ],
                        [
                          0.8888888888888888,
                          "#fdca26"
                        ],
                        [
                          1,
                          "#f0f921"
                        ]
                      ]
                    },
                    "colorway": [
                      "#636efa",
                      "#EF553B",
                      "#00cc96",
                      "#ab63fa",
                      "#FFA15A",
                      "#19d3f3",
                      "#FF6692",
                      "#B6E880",
                      "#FF97FF",
                      "#FECB52"
                    ],
                    "font": {
                      "color": "#2a3f5f"
                    },
                    "geo": {
                      "bgcolor": "white",
                      "lakecolor": "white",
                      "landcolor": "#E5ECF6",
                      "showlakes": true,
                      "showland": true,
                      "subunitcolor": "white"
                    },
                    "hoverlabel": {
                      "align": "left"
                    },
                    "hovermode": "closest",
                    "mapbox": {
                      "style": "light"
                    },
                    "paper_bgcolor": "white",
                    "plot_bgcolor": "#E5ECF6",
                    "polar": {
                      "angularaxis": {
                        "gridcolor": "white",
                        "linecolor": "white",
                        "ticks": ""
                      },
                      "bgcolor": "#E5ECF6",
                      "radialaxis": {
                        "gridcolor": "white",
                        "linecolor": "white",
                        "ticks": ""
                      }
                    },
                    "scene": {
                      "xaxis": {
                        "backgroundcolor": "#E5ECF6",
                        "gridcolor": "white",
                        "gridwidth": 2,
                        "linecolor": "white",
                        "showbackground": true,
                        "ticks": "",
                        "zerolinecolor": "white"
                      },
                      "yaxis": {
                        "backgroundcolor": "#E5ECF6",
                        "gridcolor": "white",
                        "gridwidth": 2,
                        "linecolor": "white",
                        "showbackground": true,
                        "ticks": "",
                        "zerolinecolor": "white"
                      },
                      "zaxis": {
                        "backgroundcolor": "#E5ECF6",
                        "gridcolor": "white",
                        "gridwidth": 2,
                        "linecolor": "white",
                        "showbackground": true,
                        "ticks": "",
                        "zerolinecolor": "white"
                      }
                    },
                    "shapedefaults": {
                      "line": {
                        "color": "#2a3f5f"
                      }
                    },
                    "ternary": {
                      "aaxis": {
                        "gridcolor": "white",
                        "linecolor": "white",
                        "ticks": ""
                      },
                      "baxis": {
                        "gridcolor": "white",
                        "linecolor": "white",
                        "ticks": ""
                      },
                      "bgcolor": "#E5ECF6",
                      "caxis": {
                        "gridcolor": "white",
                        "linecolor": "white",
                        "ticks": ""
                      }
                    },
                    "title": {
                      "x": 0.05
                    },
                    "xaxis": {
                      "automargin": true,
                      "gridcolor": "white",
                      "linecolor": "white",
                      "ticks": "",
                      "title": {
                        "standoff": 15
                      },
                      "zerolinecolor": "white",
                      "zerolinewidth": 2
                    },
                    "yaxis": {
                      "automargin": true,
                      "gridcolor": "white",
                      "linecolor": "white",
                      "ticks": "",
                      "title": {
                        "standoff": 15
                      },
                      "zerolinecolor": "white",
                      "zerolinewidth": 2
                    }
                  }
                },
                "title": {
                  "text": "Average Sale Price by Garage Type"
                },
                "xaxis": {
                  "anchor": "y",
                  "domain": [
                    0,
                    1
                  ],
                  "title": {
                    "text": "x"
                  }
                },
                "yaxis": {
                  "anchor": "x",
                  "domain": [
                    0,
                    1
                  ],
                  "title": {
                    "text": "y"
                  }
                }
              }
            }
          },
          "metadata": {},
          "output_type": "display_data"
        }
      ],
      "source": [
        "garage= cat_train[\"GarageType\"].value_counts()\n",
        "garage_avgprice = cat_train.groupby(\"GarageType\")[\"SalePrice\"].mean()\n",
        "\n",
        "fig = px.bar(cat_train, x=garage.index, y=garage_avgprice, title='Average Sale Price by Garage Type')\n",
        "fig.show()"
      ]
    },
    {
      "cell_type": "code",
      "execution_count": null,
      "metadata": {},
      "outputs": [],
      "source": []
    }
  ],
  "metadata": {
    "accelerator": "GPU",
    "colab": {
      "gpuType": "T4",
      "provenance": []
    },
    "kernelspec": {
      "display_name": "Python (GPU)",
      "language": "python",
      "name": "gpu_env"
    },
    "language_info": {
      "codemirror_mode": {
        "name": "ipython",
        "version": 3
      },
      "file_extension": ".py",
      "mimetype": "text/x-python",
      "name": "python",
      "nbconvert_exporter": "python",
      "pygments_lexer": "ipython3",
      "version": "3.10.4"
    }
  },
  "nbformat": 4,
  "nbformat_minor": 0
}
